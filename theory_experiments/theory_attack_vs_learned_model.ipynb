{
 "cells": [
  {
   "cell_type": "code",
   "execution_count": 1,
   "id": "b7e4e2a5-da55-4064-b3db-0aae7777f79a",
   "metadata": {},
   "outputs": [],
   "source": [
    "import torch\n",
    "from torch.utils.data import DataLoader\n",
    "import numpy as np\n",
    "from tqdm.notebook import tqdm\n",
    "\n",
    "import matplotlib.pyplot as plt\n",
    "\n",
    "import sys; sys.path.append(\"src/\")\n",
    "from models import AutoregTheoryModel\n",
    "from my_datasets import \\\n",
    "    hot, AutoregDataset, FactAmnesiaDataset, SuppressRuleDataset, CoerceStateDataset\n",
    "from exp_utils import load_model_and_dataset"
   ]
  },
  {
   "cell_type": "code",
   "execution_count": 2,
   "id": "459e09f4-b0ba-4b53-8c59-37e3a0632fe8",
   "metadata": {},
   "outputs": [],
   "source": [
    "# Directory and device setup\n",
    "saveto_dir = \"_dump\"\n",
    "models_dir = \"_saved_models\"\n",
    "device = \"cuda\" if torch.cuda.is_available() else \"cpu\"\n",
    "do_ln = False"
   ]
  },
  {
   "cell_type": "code",
   "execution_count": null,
   "id": "0415957b-6ed9-4843-ae64-53cf10efb8d3",
   "metadata": {},
   "outputs": [],
   "source": []
  },
  {
   "cell_type": "code",
   "execution_count": 3,
   "id": "9bc51bb5-1b0f-407a-b525-6d9e721b5570",
   "metadata": {},
   "outputs": [],
   "source": [
    "@torch.no_grad()\n",
    "def run_one_fact_amensia_attack(\n",
    "    num_props,\n",
    "    kappa = 1,\n",
    "    num_repeats = 1,\n",
    "    num_samples = 16384,\n",
    "    batch_size = 2048,\n",
    "):\n",
    "    assert num_samples % batch_size == 0\n",
    "    n, k, bsz = num_props, num_repeats, batch_size\n",
    "    zn = torch.zeros(bsz,1,n,device=device)\n",
    "    model, _ = load_model_and_dataset(n, num_samples, models_dir, do_layer_norm=do_ln)\n",
    "    model.eval().to(device)\n",
    "    dataloader = DataLoader(FactAmnesiaDataset(n,k,num_samples), bsz)\n",
    "    elems_acc, state_acc, simple_asr = [], [], [] # Stats to track\n",
    "    for batch in dataloader:\n",
    "        a = batch[\"infos\"][:,0:1].to(device)\n",
    "        init_token = torch.cat([zn, hot(a,n)], dim=-1).view(bsz,1,2*n)\n",
    "        atk_rule = torch.cat([zn, -kappa*hot(a,n)], dim=-1).view(bsz,1,2*n)\n",
    "        adv_suffix = torch.cat([atk_rule.repeat(1,k,1), init_token], dim=1)\n",
    "        all_tokens = torch.cat([batch[\"tokens\"].to(device), adv_suffix], dim=1)\n",
    "        pred = (model(all_tokens).logits > 0).long()\n",
    "\n",
    "        # Track stats\n",
    "        labels = batch[\"labels\"].to(device)\n",
    "        elems_acc.append((pred == labels).float().mean().item())\n",
    "        state_acc.append((pred == labels).all(dim=-1).float().mean().item())\n",
    "        s_asr = (pred * hot(a,n).view(-1,1,n)).sum(dim=(1,2)) == 0\n",
    "        simple_asr.append(s_asr.float().mean().item())\n",
    "\n",
    "    elems_acc = torch.tensor(elems_acc).float().mean().item()\n",
    "    state_acc = torch.tensor(state_acc).float().mean().item()\n",
    "    simple_asr = torch.tensor(simple_asr).float().mean().item()\n",
    "    return {\"elems_acc\": elems_acc, \"state_acc\": state_acc, \"simple_asr\": simple_asr}"
   ]
  },
  {
   "cell_type": "code",
   "execution_count": 4,
   "id": "9d144bba-e9d4-419d-ad16-129475c8b26f",
   "metadata": {},
   "outputs": [
    {
     "name": "stdout",
     "output_type": "stream",
     "text": [
      "16 1.0\n",
      "32 1.0\n",
      "48 1.0\n",
      "64 1.0\n"
     ]
    }
   ],
   "source": [
    "for n in [16, 32, 48, 64]:\n",
    "    fa_ret = run_one_fact_amensia_attack(n)\n",
    "    print(n, fa_ret[\"simple_asr\"])"
   ]
  },
  {
   "cell_type": "code",
   "execution_count": null,
   "id": "3b2b642e-741f-4e33-8c40-8bcee2b07a62",
   "metadata": {},
   "outputs": [],
   "source": []
  },
  {
   "cell_type": "code",
   "execution_count": 5,
   "id": "60015c6d-f3af-463f-b492-9ffd39d7fe81",
   "metadata": {},
   "outputs": [],
   "source": [
    "@torch.no_grad()\n",
    "def run_one_suppress_rule_attack(\n",
    "    num_props,\n",
    "    kappa = 1,\n",
    "    num_repeats = 1,\n",
    "    num_samples = 16384,\n",
    "    batch_size = 2048,\n",
    "):\n",
    "    assert num_samples % batch_size == 0\n",
    "    n, k, bsz = num_props, num_repeats, batch_size\n",
    "    zn = torch.zeros(bsz,1,n,device=device)\n",
    "    model, _ = load_model_and_dataset(n, num_samples, models_dir, do_layer_norm=do_ln)\n",
    "    model.eval().to(device)\n",
    "    dataloader = DataLoader(SuppressRuleDataset(n,k,num_samples), bsz)\n",
    "    elems_acc, state_acc, simple_asr = [], [], [] # Stats to track\n",
    "    for batch in dataloader:\n",
    "        infos = batch[\"infos\"].to(device)\n",
    "        a, b, c, d, e, f, g, h = infos.chunk(infos.size(-1), dim=-1)\n",
    "        init_token = torch.cat([zn, hot(a,n)], dim=-1).view(bsz,1,2*n)\n",
    "        atk_rule = torch.cat([hot(c,n)+hot(d,n), -kappa*hot(f,n)], dim=-1).view(bsz,1,2*n)\n",
    "        adv_suffix = torch.cat([atk_rule.repeat(1,k,1), init_token], dim=1)\n",
    "        all_tokens = torch.cat([batch[\"tokens\"].to(device), adv_suffix], dim=1)\n",
    "        pred = (model(all_tokens).logits > 0).long()\n",
    "\n",
    "        # Track stats\n",
    "        labels = batch[\"labels\"].to(device)\n",
    "        elems_acc.append((pred == labels).float().mean().item())\n",
    "        state_acc.append((pred == labels).all(dim=-1).float().mean().item())\n",
    "        s_asr = (pred * hot(f,n).view(-1,1,n)).sum(dim=(1,2)) == 0\n",
    "        simple_asr.append(s_asr.float().mean().item())\n",
    "\n",
    "    elems_acc = torch.tensor(elems_acc).float().mean().item()\n",
    "    state_acc = torch.tensor(state_acc).float().mean().item()\n",
    "    simple_asr = torch.tensor(simple_asr).float().mean().item()\n",
    "    return {\"elems_acc\": elems_acc, \"state_acc\": state_acc, \"simple_asr\": simple_asr}"
   ]
  },
  {
   "cell_type": "code",
   "execution_count": 6,
   "id": "a8142a2e-9e1b-4b84-97b5-577bebed4ceb",
   "metadata": {},
   "outputs": [
    {
     "name": "stdout",
     "output_type": "stream",
     "text": [
      "16 1.0\n",
      "32 1.0\n",
      "48 1.0\n",
      "64 1.0\n"
     ]
    }
   ],
   "source": [
    "for n in [16, 32, 48, 64]:\n",
    "    sr_ret = run_one_suppress_rule_attack(n)\n",
    "    print(n, sr_ret[\"simple_asr\"])"
   ]
  },
  {
   "cell_type": "code",
   "execution_count": null,
   "id": "56973657-1677-48d3-a815-0b8a23f52646",
   "metadata": {},
   "outputs": [],
   "source": []
  },
  {
   "cell_type": "code",
   "execution_count": 7,
   "id": "055b89a8-9aeb-4c71-97f6-6debd6ba220a",
   "metadata": {},
   "outputs": [],
   "source": [
    "@torch.no_grad()\n",
    "def run_one_coerce_state_attack(\n",
    "    num_props,\n",
    "    kappa,\n",
    "    num_repeats = 1,\n",
    "    num_samples = 256,\n",
    "    batch_size = 512,\n",
    "    verbose = True,\n",
    "):\n",
    "    n, bsz = num_props, batch_size\n",
    "    zn = torch.zeros(bsz, 1, n).to(device)\n",
    "    model, _ = load_model_and_dataset(n, 1, models_dir, do_layer_norm=do_ln)\n",
    "    model.eval().to(device)\n",
    "    variance = []\n",
    "    dataloader = DataLoader(CoerceStateDataset(n, num_samples*bsz), bsz)\n",
    "    pbar = tqdm(dataloader) if verbose else dataloader\n",
    "    for batch in pbar:\n",
    "        tgt_state = (torch.rand(n, device=device) < 0.5).long()\n",
    "        # atk_rule = torch.cat([torch.zeros_like(tgt_state), kappa*(2*tgt_state-1)], dim=-1)\n",
    "        atk_rule = torch.cat([torch.zeros_like(tgt_state), tgt_state - kappa*(1-tgt_state)], dim=-1)\n",
    "        atk_rule = atk_rule.view(1,1,2*n).repeat(bsz,1,1)\n",
    "\n",
    "        a = batch[\"infos\"][:,0:1].to(device)\n",
    "        init_token = torch.cat([zn, hot(a,n)], dim=-1).view(bsz,1,2*n)\n",
    "        adv_suffix = torch.cat([atk_rule, init_token], dim=1)\n",
    "        all_tokens = torch.cat([batch[\"tokens\"].to(device), adv_suffix], dim=1)\n",
    "        # pred = (model(all_tokens).logits[:,0] > 0).long() # Only care about 1-step\n",
    "        pred = (model(all_tokens).logits[:,0] > 0).long() # Only care about 1-step\n",
    "        variance.append(pred.float().var(dim=0).mean().item())\n",
    "        if verbose:\n",
    "            pbar.set_description(\n",
    "                f\"n {num_props}, kappa {kappa}, var {torch.tensor(variance).mean():.3f}\" \n",
    "            )\n",
    "\n",
    "    return {\"variance\": torch.tensor(variance).mean().item()}"
   ]
  },
  {
   "cell_type": "code",
   "execution_count": 8,
   "id": "68bd6488-3187-4153-aec4-f125212db462",
   "metadata": {},
   "outputs": [
    {
     "data": {
      "application/vnd.jupyter.widget-view+json": {
       "model_id": "8dc72423ddd44ebabc46e8ae4d8ca44d",
       "version_major": 2,
       "version_minor": 0
      },
      "text/plain": [
       "  0%|          | 0/256 [00:00<?, ?it/s]"
      ]
     },
     "metadata": {},
     "output_type": "display_data"
    },
    {
     "data": {
      "application/vnd.jupyter.widget-view+json": {
       "model_id": "4c25fd49c97a446a8938280d862069a0",
       "version_major": 2,
       "version_minor": 0
      },
      "text/plain": [
       "  0%|          | 0/256 [00:00<?, ?it/s]"
      ]
     },
     "metadata": {},
     "output_type": "display_data"
    },
    {
     "data": {
      "application/vnd.jupyter.widget-view+json": {
       "model_id": "be4e46e5ed8143dfa18773913e2ea3b3",
       "version_major": 2,
       "version_minor": 0
      },
      "text/plain": [
       "  0%|          | 0/256 [00:00<?, ?it/s]"
      ]
     },
     "metadata": {},
     "output_type": "display_data"
    },
    {
     "data": {
      "application/vnd.jupyter.widget-view+json": {
       "model_id": "3d152f3e748b4da98727133d4afc4039",
       "version_major": 2,
       "version_minor": 0
      },
      "text/plain": [
       "  0%|          | 0/256 [00:00<?, ?it/s]"
      ]
     },
     "metadata": {},
     "output_type": "display_data"
    },
    {
     "data": {
      "application/vnd.jupyter.widget-view+json": {
       "model_id": "106036831f644dd4b229dbb92eca4798",
       "version_major": 2,
       "version_minor": 0
      },
      "text/plain": [
       "  0%|          | 0/256 [00:00<?, ?it/s]"
      ]
     },
     "metadata": {},
     "output_type": "display_data"
    },
    {
     "data": {
      "application/vnd.jupyter.widget-view+json": {
       "model_id": "4fe41240bbda4c138a29865fb5c49dca",
       "version_major": 2,
       "version_minor": 0
      },
      "text/plain": [
       "  0%|          | 0/256 [00:00<?, ?it/s]"
      ]
     },
     "metadata": {},
     "output_type": "display_data"
    },
    {
     "data": {
      "application/vnd.jupyter.widget-view+json": {
       "model_id": "732f08732f5a4fd2ac7ad9e15e1545bb",
       "version_major": 2,
       "version_minor": 0
      },
      "text/plain": [
       "  0%|          | 0/256 [00:00<?, ?it/s]"
      ]
     },
     "metadata": {},
     "output_type": "display_data"
    },
    {
     "data": {
      "application/vnd.jupyter.widget-view+json": {
       "model_id": "f150350e53494ea0b9047665f1d61505",
       "version_major": 2,
       "version_minor": 0
      },
      "text/plain": [
       "  0%|          | 0/256 [00:00<?, ?it/s]"
      ]
     },
     "metadata": {},
     "output_type": "display_data"
    },
    {
     "data": {
      "application/vnd.jupyter.widget-view+json": {
       "model_id": "454a06923db94648b954f1523fc2ce2a",
       "version_major": 2,
       "version_minor": 0
      },
      "text/plain": [
       "  0%|          | 0/256 [00:00<?, ?it/s]"
      ]
     },
     "metadata": {},
     "output_type": "display_data"
    },
    {
     "data": {
      "application/vnd.jupyter.widget-view+json": {
       "model_id": "acf8b4583755466db70d943c72c62bc3",
       "version_major": 2,
       "version_minor": 0
      },
      "text/plain": [
       "  0%|          | 0/256 [00:00<?, ?it/s]"
      ]
     },
     "metadata": {},
     "output_type": "display_data"
    },
    {
     "data": {
      "application/vnd.jupyter.widget-view+json": {
       "model_id": "092d2bde7e454687bd19280337e22f22",
       "version_major": 2,
       "version_minor": 0
      },
      "text/plain": [
       "  0%|          | 0/256 [00:00<?, ?it/s]"
      ]
     },
     "metadata": {},
     "output_type": "display_data"
    },
    {
     "data": {
      "application/vnd.jupyter.widget-view+json": {
       "model_id": "b84e5f00a708460ea4bdcd245dee6960",
       "version_major": 2,
       "version_minor": 0
      },
      "text/plain": [
       "  0%|          | 0/256 [00:00<?, ?it/s]"
      ]
     },
     "metadata": {},
     "output_type": "display_data"
    },
    {
     "data": {
      "application/vnd.jupyter.widget-view+json": {
       "model_id": "decc6793297d41869c8d0ead78ec8942",
       "version_major": 2,
       "version_minor": 0
      },
      "text/plain": [
       "  0%|          | 0/256 [00:00<?, ?it/s]"
      ]
     },
     "metadata": {},
     "output_type": "display_data"
    },
    {
     "data": {
      "application/vnd.jupyter.widget-view+json": {
       "model_id": "69a46a938039494396e2076b4300fad9",
       "version_major": 2,
       "version_minor": 0
      },
      "text/plain": [
       "  0%|          | 0/256 [00:00<?, ?it/s]"
      ]
     },
     "metadata": {},
     "output_type": "display_data"
    },
    {
     "data": {
      "application/vnd.jupyter.widget-view+json": {
       "model_id": "c10a1744dc0b4d11ba9c63372aac4abe",
       "version_major": 2,
       "version_minor": 0
      },
      "text/plain": [
       "  0%|          | 0/256 [00:00<?, ?it/s]"
      ]
     },
     "metadata": {},
     "output_type": "display_data"
    },
    {
     "data": {
      "application/vnd.jupyter.widget-view+json": {
       "model_id": "aea2eb2f4dd645778dfb41b7434e6d27",
       "version_major": 2,
       "version_minor": 0
      },
      "text/plain": [
       "  0%|          | 0/256 [00:00<?, ?it/s]"
      ]
     },
     "metadata": {},
     "output_type": "display_data"
    },
    {
     "data": {
      "application/vnd.jupyter.widget-view+json": {
       "model_id": "6fcd545f02664b09a9f3fd35436ba091",
       "version_major": 2,
       "version_minor": 0
      },
      "text/plain": [
       "  0%|          | 0/256 [00:00<?, ?it/s]"
      ]
     },
     "metadata": {},
     "output_type": "display_data"
    },
    {
     "data": {
      "application/vnd.jupyter.widget-view+json": {
       "model_id": "48f3d50b6415434999e3e0b4ce4797d5",
       "version_major": 2,
       "version_minor": 0
      },
      "text/plain": [
       "  0%|          | 0/256 [00:00<?, ?it/s]"
      ]
     },
     "metadata": {},
     "output_type": "display_data"
    },
    {
     "data": {
      "application/vnd.jupyter.widget-view+json": {
       "model_id": "1f677c7b41a74fd08ce7ec1869120588",
       "version_major": 2,
       "version_minor": 0
      },
      "text/plain": [
       "  0%|          | 0/256 [00:00<?, ?it/s]"
      ]
     },
     "metadata": {},
     "output_type": "display_data"
    },
    {
     "data": {
      "application/vnd.jupyter.widget-view+json": {
       "model_id": "bbdccfc0462d4def95ff8ae57dfda0c0",
       "version_major": 2,
       "version_minor": 0
      },
      "text/plain": [
       "  0%|          | 0/256 [00:00<?, ?it/s]"
      ]
     },
     "metadata": {},
     "output_type": "display_data"
    },
    {
     "data": {
      "application/vnd.jupyter.widget-view+json": {
       "model_id": "3e02d173c5184f56b0a9f9a30c9d0e51",
       "version_major": 2,
       "version_minor": 0
      },
      "text/plain": [
       "  0%|          | 0/256 [00:00<?, ?it/s]"
      ]
     },
     "metadata": {},
     "output_type": "display_data"
    },
    {
     "data": {
      "application/vnd.jupyter.widget-view+json": {
       "model_id": "140c007e6352447d8311d7a9217701cf",
       "version_major": 2,
       "version_minor": 0
      },
      "text/plain": [
       "  0%|          | 0/256 [00:00<?, ?it/s]"
      ]
     },
     "metadata": {},
     "output_type": "display_data"
    },
    {
     "data": {
      "application/vnd.jupyter.widget-view+json": {
       "model_id": "815e4641a6ee4dc8b0395aca8ca8fd36",
       "version_major": 2,
       "version_minor": 0
      },
      "text/plain": [
       "  0%|          | 0/256 [00:00<?, ?it/s]"
      ]
     },
     "metadata": {},
     "output_type": "display_data"
    },
    {
     "data": {
      "application/vnd.jupyter.widget-view+json": {
       "model_id": "b5f7bba097f64dac9c433ee69fb7f3cd",
       "version_major": 2,
       "version_minor": 0
      },
      "text/plain": [
       "  0%|          | 0/256 [00:00<?, ?it/s]"
      ]
     },
     "metadata": {},
     "output_type": "display_data"
    },
    {
     "data": {
      "application/vnd.jupyter.widget-view+json": {
       "model_id": "ddfa5a27ff4e41c1a4a1f6238524c018",
       "version_major": 2,
       "version_minor": 0
      },
      "text/plain": [
       "  0%|          | 0/256 [00:00<?, ?it/s]"
      ]
     },
     "metadata": {},
     "output_type": "display_data"
    },
    {
     "data": {
      "application/vnd.jupyter.widget-view+json": {
       "model_id": "ce93d9b8b3964d6eaeb61dd9befe7922",
       "version_major": 2,
       "version_minor": 0
      },
      "text/plain": [
       "  0%|          | 0/256 [00:00<?, ?it/s]"
      ]
     },
     "metadata": {},
     "output_type": "display_data"
    },
    {
     "data": {
      "application/vnd.jupyter.widget-view+json": {
       "model_id": "838d585d58dc4721b806420cc70c465b",
       "version_major": 2,
       "version_minor": 0
      },
      "text/plain": [
       "  0%|          | 0/256 [00:00<?, ?it/s]"
      ]
     },
     "metadata": {},
     "output_type": "display_data"
    },
    {
     "data": {
      "application/vnd.jupyter.widget-view+json": {
       "model_id": "015cbab190ba421a813cbad984ee9142",
       "version_major": 2,
       "version_minor": 0
      },
      "text/plain": [
       "  0%|          | 0/256 [00:00<?, ?it/s]"
      ]
     },
     "metadata": {},
     "output_type": "display_data"
    },
    {
     "data": {
      "application/vnd.jupyter.widget-view+json": {
       "model_id": "d0e847300c2641bb860d6e68dd115f5f",
       "version_major": 2,
       "version_minor": 0
      },
      "text/plain": [
       "  0%|          | 0/256 [00:00<?, ?it/s]"
      ]
     },
     "metadata": {},
     "output_type": "display_data"
    },
    {
     "data": {
      "application/vnd.jupyter.widget-view+json": {
       "model_id": "b75877cc86b246b8b46e1024d4d8dd32",
       "version_major": 2,
       "version_minor": 0
      },
      "text/plain": [
       "  0%|          | 0/256 [00:00<?, ?it/s]"
      ]
     },
     "metadata": {},
     "output_type": "display_data"
    },
    {
     "data": {
      "application/vnd.jupyter.widget-view+json": {
       "model_id": "4cd160d2753e4b30afbb22b51dc99b57",
       "version_major": 2,
       "version_minor": 0
      },
      "text/plain": [
       "  0%|          | 0/256 [00:00<?, ?it/s]"
      ]
     },
     "metadata": {},
     "output_type": "display_data"
    },
    {
     "data": {
      "application/vnd.jupyter.widget-view+json": {
       "model_id": "5036698e539e42b0aa1c03bd3c1d2392",
       "version_major": 2,
       "version_minor": 0
      },
      "text/plain": [
       "  0%|          | 0/256 [00:00<?, ?it/s]"
      ]
     },
     "metadata": {},
     "output_type": "display_data"
    }
   ],
   "source": [
    "cs_kappas = list(range(1,9))\n",
    "cs_ret_16 = [run_one_coerce_state_attack(16, kappa) for kappa in cs_kappas]\n",
    "cs_ret_32 = [run_one_coerce_state_attack(32, kappa) for kappa in cs_kappas]\n",
    "cs_ret_48 = [run_one_coerce_state_attack(48, kappa) for kappa in cs_kappas]\n",
    "cs_ret_64 = [run_one_coerce_state_attack(64, kappa) for kappa in cs_kappas]"
   ]
  },
  {
   "cell_type": "code",
   "execution_count": 9,
   "id": "d0f8312f-ac5c-48e1-839e-89987f3d6617",
   "metadata": {},
   "outputs": [
    {
     "data": {
      "image/png": "[encoded data removed]",
      "text/plain": [
       "<Figure size 640x480 with 1 Axes>"
      ]
     },
     "metadata": {},
     "output_type": "display_data"
    }
   ],
   "source": [
    "plt.clf()\n",
    "plt.plot(cs_kappas, [r[\"variance\"] for r in cs_ret_16], label=\"n16\")\n",
    "plt.plot(cs_kappas, [r[\"variance\"] for r in cs_ret_32], label=\"n32\")\n",
    "plt.plot(cs_kappas, [r[\"variance\"] for r in cs_ret_48], label=\"n48\")\n",
    "plt.plot(cs_kappas, [r[\"variance\"] for r in cs_ret_64], label=\"n64\")\n",
    "plt.legend(loc=\"upper right\")\n",
    "plt.yscale(\"log\")"
   ]
  },
  {
   "cell_type": "code",
   "execution_count": null,
   "id": "079198d6-c6dd-42ab-9794-96e953336b40",
   "metadata": {},
   "outputs": [],
   "source": []
  }
 ],
 "metadata": {
  "kernelspec": {
   "display_name": "Python 3 (ipykernel)",
   "language": "python",
   "name": "python3"
  },
  "language_info": {
   "codemirror_mode": {
    "name": "ipython",
    "version": 3
   },
   "file_extension": ".py",
   "mimetype": "text/x-python",
   "name": "python",
   "nbconvert_exporter": "python",
   "pygments_lexer": "ipython3",
   "version": "3.10.13"
  }
 },
 "nbformat": 4,
 "nbformat_minor": 5
}
