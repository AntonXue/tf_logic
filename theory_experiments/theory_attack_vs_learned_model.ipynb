{
 "cells": [
  {
   "cell_type": "code",
   "execution_count": 1,
   "id": "b7e4e2a5-da55-4064-b3db-0aae7777f79a",
   "metadata": {},
   "outputs": [],
   "source": [
    "import torch\n",
    "from torch.utils.data import DataLoader\n",
    "from tqdm.notebook import tqdm\n",
    "\n",
    "import sys; sys.path.append(\"src/\")\n",
    "from models import MyAutoregTheoryModel\n",
    "from my_datasets import AutoregCustomTokensDataset\n",
    "from exp_utils import load_model_and_dataset"
   ]
  },
  {
   "cell_type": "code",
   "execution_count": 2,
   "id": "459e09f4-b0ba-4b53-8c59-37e3a0632fe8",
   "metadata": {},
   "outputs": [],
   "source": [
    "# Directory and device setup\n",
    "saveto_dir = \"_dump\"\n",
    "models_dir = \"_saved_models\"\n",
    "device = \"cuda\" if torch.cuda.is_available() else \"cpu\""
   ]
  },
  {
   "cell_type": "code",
   "execution_count": null,
   "id": "539029a0-da6c-423f-a48c-12ab5e3ba046",
   "metadata": {},
   "outputs": [],
   "source": []
  },
  {
   "cell_type": "code",
   "execution_count": 17,
   "id": "9bc51bb5-1b0f-407a-b525-6d9e721b5570",
   "metadata": {},
   "outputs": [],
   "source": [
    "def run_fact_amensia_attacks(\n",
    "    num_props,\n",
    "    num_attack_tokens = list(range(2,18)),\n",
    "    num_samples = 16384,\n",
    "    batch_size = 256\n",
    "):\n",
    "    assert num_samples % batch_size == 0\n",
    "    model, dataset = load_model_and_dataset(num_props, num_samples, models_dir=models_dir)\n",
    "    model.eval().to(device)\n",
    "    dataloader = DataLoader(dataset, batch_size=batch_size)\n",
    "    pbar = tqdm(dataloader)\n",
    "    for item in pbar:\n",
    "        tokens = item[\"tokens\"].to(device)\n",
    "        labels = item[\"labels\"].to(device)\n",
    "        out = model(tokens)\n",
    "        pred = out.logits > 0\n",
    "\n",
    "        print((pred == labels).all(dim=-1).float().mean())"
   ]
  },
  {
   "cell_type": "code",
   "execution_count": 20,
   "id": "fe15cab9-3a2d-4ffe-bb4e-031bfcd32e20",
   "metadata": {},
   "outputs": [
    {
     "data": {
      "application/vnd.jupyter.widget-view+json": {
       "model_id": "f5b0d867d4f244fca25b74c4a459a409",
       "version_major": 2,
       "version_minor": 0
      },
      "text/plain": [
       "  0%|          | 0/64 [00:00<?, ?it/s]"
      ]
     },
     "metadata": {},
     "output_type": "display_data"
    },
    {
     "name": "stdout",
     "output_type": "stream",
     "text": [
      "tensor(1., device='cuda:0')\n",
      "tensor(1., device='cuda:0')\n",
      "tensor(1., device='cuda:0')\n",
      "tensor(1., device='cuda:0')\n",
      "tensor(1., device='cuda:0')\n",
      "tensor(1., device='cuda:0')\n",
      "tensor(1., device='cuda:0')\n",
      "tensor(0.9961, device='cuda:0')\n",
      "tensor(1., device='cuda:0')\n",
      "tensor(1., device='cuda:0')\n",
      "tensor(1., device='cuda:0')\n",
      "tensor(1., device='cuda:0')\n",
      "tensor(1., device='cuda:0')\n",
      "tensor(1., device='cuda:0')\n",
      "tensor(1., device='cuda:0')\n",
      "tensor(1., device='cuda:0')\n",
      "tensor(1., device='cuda:0')\n",
      "tensor(1., device='cuda:0')\n",
      "tensor(1., device='cuda:0')\n",
      "tensor(1., device='cuda:0')\n",
      "tensor(1., device='cuda:0')\n",
      "tensor(1., device='cuda:0')\n",
      "tensor(1., device='cuda:0')\n",
      "tensor(1., device='cuda:0')\n",
      "tensor(1., device='cuda:0')\n",
      "tensor(1., device='cuda:0')\n",
      "tensor(1., device='cuda:0')\n",
      "tensor(1., device='cuda:0')\n",
      "tensor(1., device='cuda:0')\n",
      "tensor(1., device='cuda:0')\n",
      "tensor(1., device='cuda:0')\n",
      "tensor(1., device='cuda:0')\n",
      "tensor(1., device='cuda:0')\n",
      "tensor(1., device='cuda:0')\n",
      "tensor(1., device='cuda:0')\n",
      "tensor(1., device='cuda:0')\n",
      "tensor(1., device='cuda:0')\n",
      "tensor(1., device='cuda:0')\n",
      "tensor(1., device='cuda:0')\n",
      "tensor(1., device='cuda:0')\n",
      "tensor(1., device='cuda:0')\n",
      "tensor(1., device='cuda:0')\n",
      "tensor(1., device='cuda:0')\n",
      "tensor(1., device='cuda:0')\n",
      "tensor(1., device='cuda:0')\n",
      "tensor(1., device='cuda:0')\n",
      "tensor(1., device='cuda:0')\n",
      "tensor(1., device='cuda:0')\n",
      "tensor(1., device='cuda:0')\n",
      "tensor(1., device='cuda:0')\n",
      "tensor(1., device='cuda:0')\n",
      "tensor(1., device='cuda:0')\n",
      "tensor(1., device='cuda:0')\n",
      "tensor(1., device='cuda:0')\n",
      "tensor(1., device='cuda:0')\n",
      "tensor(1., device='cuda:0')\n",
      "tensor(1., device='cuda:0')\n",
      "tensor(1., device='cuda:0')\n",
      "tensor(1., device='cuda:0')\n",
      "tensor(1., device='cuda:0')\n",
      "tensor(1., device='cuda:0')\n",
      "tensor(1., device='cuda:0')\n",
      "tensor(0.9961, device='cuda:0')\n",
      "tensor(1., device='cuda:0')\n"
     ]
    }
   ],
   "source": [
    "run_fact_amensia_attacks(16)"
   ]
  },
  {
   "cell_type": "code",
   "execution_count": 6,
   "id": "b1d7812f-cb24-436f-a74a-14025ca97f75",
   "metadata": {},
   "outputs": [],
   "source": [
    "model, dataset = load_model_and_dataset(32, 1024, \"_saved_models\")"
   ]
  },
  {
   "cell_type": "code",
   "execution_count": null,
   "id": "f6e3fc0f-68c1-4d7a-ac27-d1a4b9607dee",
   "metadata": {},
   "outputs": [],
   "source": []
  },
  {
   "cell_type": "code",
   "execution_count": null,
   "id": "efa63892-035f-4fd6-9bcb-7fb34fc33709",
   "metadata": {},
   "outputs": [],
   "source": []
  }
 ],
 "metadata": {
  "kernelspec": {
   "display_name": "Python 3 (ipykernel)",
   "language": "python",
   "name": "python3"
  },
  "language_info": {
   "codemirror_mode": {
    "name": "ipython",
    "version": 3
   },
   "file_extension": ".py",
   "mimetype": "text/x-python",
   "name": "python",
   "nbconvert_exporter": "python",
   "pygments_lexer": "ipython3",
   "version": "3.10.13"
  }
 },
 "nbformat": 4,
 "nbformat_minor": 5
}
