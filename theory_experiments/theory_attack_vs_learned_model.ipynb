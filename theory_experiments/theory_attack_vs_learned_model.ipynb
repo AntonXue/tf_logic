{
 "cells": [
  {
   "cell_type": "code",
   "execution_count": 1,
   "id": "b7e4e2a5-da55-4064-b3db-0aae7777f79a",
   "metadata": {},
   "outputs": [],
   "source": [
    "import torch\n",
    "from torch.utils.data import DataLoader\n",
    "import numpy as np\n",
    "from tqdm.notebook import tqdm\n",
    "\n",
    "import matplotlib.pyplot as plt\n",
    "\n",
    "import sys; sys.path.append(\"src/\")\n",
    "from models import AutoregTheoryModel\n",
    "from my_datasets import \\\n",
    "    hot, AutoregDataset, FactAmnesiaDataset, SuppressRuleDataset, CoerceStateDataset\n",
    "from exp_utils import load_model_and_dataset"
   ]
  },
  {
   "cell_type": "code",
   "execution_count": 2,
   "id": "459e09f4-b0ba-4b53-8c59-37e3a0632fe8",
   "metadata": {},
   "outputs": [],
   "source": [
    "# Directory and device setup\n",
    "saveto_dir = \"_dump\"\n",
    "models_dir = \"_saved_models\"\n",
    "device = \"cuda\" if torch.cuda.is_available() else \"cpu\"\n",
    "do_ln = False"
   ]
  },
  {
   "cell_type": "code",
   "execution_count": null,
   "id": "0415957b-6ed9-4843-ae64-53cf10efb8d3",
   "metadata": {},
   "outputs": [],
   "source": []
  },
  {
   "cell_type": "code",
   "execution_count": 3,
   "id": "9bc51bb5-1b0f-407a-b525-6d9e721b5570",
   "metadata": {},
   "outputs": [],
   "source": [
    "@torch.no_grad()\n",
    "def run_one_fact_amensia_attack(\n",
    "    num_props,\n",
    "    kappa = 1,\n",
    "    num_repeats = 1,\n",
    "    num_samples = 16384,\n",
    "    batch_size = 4096,\n",
    "    verbose = True,\n",
    "):\n",
    "    assert num_samples % batch_size == 0\n",
    "    n, k, bsz = num_props, num_repeats, batch_size\n",
    "    zn = torch.zeros(bsz,1,n,device=device)\n",
    "    model, _ = load_model_and_dataset(n, 2*n, num_samples, models_dir)\n",
    "    model.eval().to(device)\n",
    "    dataloader = DataLoader(FactAmnesiaDataset(n,k,num_samples), bsz)\n",
    "    elems_acc, state_acc, simple_ssr = [], [], [] # Stats to track\n",
    "    pbar = tqdm(dataloader) if verbose else dataloader\n",
    "    for batch in pbar:\n",
    "        a = batch[\"infos\"][:,0:1].to(device)\n",
    "        init_token = torch.cat([zn, hot(a,n)], dim=-1).view(bsz,1,2*n)\n",
    "        atk_rule = torch.cat([zn, -kappa*hot(a,n)], dim=-1).view(bsz,1,2*n)\n",
    "        adv_suffix = torch.cat([atk_rule.repeat(1,k,1), init_token], dim=1)\n",
    "        all_tokens = torch.cat([batch[\"tokens\"].to(device), adv_suffix], dim=1)\n",
    "        pred = (model(all_tokens).logits > 0).long()\n",
    "        s_asr = (pred * hot(a,n).view(-1,1,n)).sum(dim=(1,2)) == 0\n",
    "        simple_ssr.append(s_asr.float().mean().item())\n",
    "        if verbose:\n",
    "            pbar.set_description(f\"n {num_props}, kappa {kappa}, ssr {torch.tensor(simple_ssr).mean():.3f}\")\n",
    "\n",
    "    simple_ssr = torch.tensor(simple_ssr).float().mean().item()\n",
    "    return {\"simple_ssr\": simple_ssr}"
   ]
  },
  {
   "cell_type": "code",
   "execution_count": 4,
   "id": "511b362d-6259-4c39-9d4f-901e31e08c9b",
   "metadata": {
    "scrolled": true
   },
   "outputs": [
    {
     "data": {
      "application/vnd.jupyter.widget-view+json": {
       "model_id": "dc7fa828033a47a18eefceb0359d9541",
       "version_major": 2,
       "version_minor": 0
      },
      "text/plain": [
       "  0%|          | 0/4 [00:00<?, ?it/s]"
      ]
     },
     "metadata": {},
     "output_type": "display_data"
    },
    {
     "data": {
      "application/vnd.jupyter.widget-view+json": {
       "model_id": "facc5352632e4c8a9d93e401ce71ee93",
       "version_major": 2,
       "version_minor": 0
      },
      "text/plain": [
       "  0%|          | 0/4 [00:00<?, ?it/s]"
      ]
     },
     "metadata": {},
     "output_type": "display_data"
    },
    {
     "data": {
      "application/vnd.jupyter.widget-view+json": {
       "model_id": "423c9b45bfdc4252abe57aa30572da2c",
       "version_major": 2,
       "version_minor": 0
      },
      "text/plain": [
       "  0%|          | 0/4 [00:00<?, ?it/s]"
      ]
     },
     "metadata": {},
     "output_type": "display_data"
    },
    {
     "data": {
      "application/vnd.jupyter.widget-view+json": {
       "model_id": "9704108be4c4471b899fd7330e4326c6",
       "version_major": 2,
       "version_minor": 0
      },
      "text/plain": [
       "  0%|          | 0/4 [00:00<?, ?it/s]"
      ]
     },
     "metadata": {},
     "output_type": "display_data"
    },
    {
     "data": {
      "application/vnd.jupyter.widget-view+json": {
       "model_id": "387204f070f74a309e9c38d6530cae67",
       "version_major": 2,
       "version_minor": 0
      },
      "text/plain": [
       "  0%|          | 0/4 [00:00<?, ?it/s]"
      ]
     },
     "metadata": {},
     "output_type": "display_data"
    },
    {
     "data": {
      "application/vnd.jupyter.widget-view+json": {
       "model_id": "7197d3871d77491fa3423e274945088d",
       "version_major": 2,
       "version_minor": 0
      },
      "text/plain": [
       "  0%|          | 0/4 [00:00<?, ?it/s]"
      ]
     },
     "metadata": {},
     "output_type": "display_data"
    },
    {
     "data": {
      "application/vnd.jupyter.widget-view+json": {
       "model_id": "cbc8c8124a284719838fe0ef4c90692a",
       "version_major": 2,
       "version_minor": 0
      },
      "text/plain": [
       "  0%|          | 0/4 [00:00<?, ?it/s]"
      ]
     },
     "metadata": {},
     "output_type": "display_data"
    },
    {
     "data": {
      "application/vnd.jupyter.widget-view+json": {
       "model_id": "64988620b91a47f8ac673d02e073b183",
       "version_major": 2,
       "version_minor": 0
      },
      "text/plain": [
       "  0%|          | 0/4 [00:00<?, ?it/s]"
      ]
     },
     "metadata": {},
     "output_type": "display_data"
    },
    {
     "data": {
      "application/vnd.jupyter.widget-view+json": {
       "model_id": "9420ddabf9084007a3818d19ea5a09d8",
       "version_major": 2,
       "version_minor": 0
      },
      "text/plain": [
       "  0%|          | 0/4 [00:00<?, ?it/s]"
      ]
     },
     "metadata": {},
     "output_type": "display_data"
    },
    {
     "data": {
      "application/vnd.jupyter.widget-view+json": {
       "model_id": "00cc813307b0436283f68919b02ecd5c",
       "version_major": 2,
       "version_minor": 0
      },
      "text/plain": [
       "  0%|          | 0/4 [00:00<?, ?it/s]"
      ]
     },
     "metadata": {},
     "output_type": "display_data"
    },
    {
     "data": {
      "application/vnd.jupyter.widget-view+json": {
       "model_id": "8f0285ecd4d44b278f93436be211ed29",
       "version_major": 2,
       "version_minor": 0
      },
      "text/plain": [
       "  0%|          | 0/4 [00:00<?, ?it/s]"
      ]
     },
     "metadata": {},
     "output_type": "display_data"
    },
    {
     "data": {
      "application/vnd.jupyter.widget-view+json": {
       "model_id": "3eb82be1038a4b75b1dc2c34c9df81e9",
       "version_major": 2,
       "version_minor": 0
      },
      "text/plain": [
       "  0%|          | 0/4 [00:00<?, ?it/s]"
      ]
     },
     "metadata": {},
     "output_type": "display_data"
    },
    {
     "data": {
      "application/vnd.jupyter.widget-view+json": {
       "model_id": "81c597fbf1384d0ca02d441c37c51fcc",
       "version_major": 2,
       "version_minor": 0
      },
      "text/plain": [
       "  0%|          | 0/4 [00:00<?, ?it/s]"
      ]
     },
     "metadata": {},
     "output_type": "display_data"
    },
    {
     "data": {
      "application/vnd.jupyter.widget-view+json": {
       "model_id": "6e15f0cdf1f24cb9a4b697e882dc74d2",
       "version_major": 2,
       "version_minor": 0
      },
      "text/plain": [
       "  0%|          | 0/4 [00:00<?, ?it/s]"
      ]
     },
     "metadata": {},
     "output_type": "display_data"
    },
    {
     "data": {
      "application/vnd.jupyter.widget-view+json": {
       "model_id": "ced489b0517e4038908a4c80a3ba7d48",
       "version_major": 2,
       "version_minor": 0
      },
      "text/plain": [
       "  0%|          | 0/4 [00:00<?, ?it/s]"
      ]
     },
     "metadata": {},
     "output_type": "display_data"
    },
    {
     "data": {
      "application/vnd.jupyter.widget-view+json": {
       "model_id": "0e7b2d7eb70f443695f1479e6eceec3c",
       "version_major": 2,
       "version_minor": 0
      },
      "text/plain": [
       "  0%|          | 0/4 [00:00<?, ?it/s]"
      ]
     },
     "metadata": {},
     "output_type": "display_data"
    },
    {
     "data": {
      "application/vnd.jupyter.widget-view+json": {
       "model_id": "3bbc71983b2d4f56ba725fbe31f726e4",
       "version_major": 2,
       "version_minor": 0
      },
      "text/plain": [
       "  0%|          | 0/4 [00:00<?, ?it/s]"
      ]
     },
     "metadata": {},
     "output_type": "display_data"
    },
    {
     "data": {
      "application/vnd.jupyter.widget-view+json": {
       "model_id": "62694e19f7094c39bc472e47f75c40ef",
       "version_major": 2,
       "version_minor": 0
      },
      "text/plain": [
       "  0%|          | 0/4 [00:00<?, ?it/s]"
      ]
     },
     "metadata": {},
     "output_type": "display_data"
    },
    {
     "data": {
      "application/vnd.jupyter.widget-view+json": {
       "model_id": "1dfa2c5d89cc4a50a66b8e1a1545c99d",
       "version_major": 2,
       "version_minor": 0
      },
      "text/plain": [
       "  0%|          | 0/4 [00:00<?, ?it/s]"
      ]
     },
     "metadata": {},
     "output_type": "display_data"
    },
    {
     "data": {
      "application/vnd.jupyter.widget-view+json": {
       "model_id": "2270698aab0a44db97f52762f19c981b",
       "version_major": 2,
       "version_minor": 0
      },
      "text/plain": [
       "  0%|          | 0/4 [00:00<?, ?it/s]"
      ]
     },
     "metadata": {},
     "output_type": "display_data"
    },
    {
     "data": {
      "application/vnd.jupyter.widget-view+json": {
       "model_id": "a37df31318f545f1bbceec264ec5feab",
       "version_major": 2,
       "version_minor": 0
      },
      "text/plain": [
       "  0%|          | 0/4 [00:00<?, ?it/s]"
      ]
     },
     "metadata": {},
     "output_type": "display_data"
    },
    {
     "data": {
      "application/vnd.jupyter.widget-view+json": {
       "model_id": "5aea91c5c1cb42eead402356229b9ffe",
       "version_major": 2,
       "version_minor": 0
      },
      "text/plain": [
       "  0%|          | 0/4 [00:00<?, ?it/s]"
      ]
     },
     "metadata": {},
     "output_type": "display_data"
    },
    {
     "data": {
      "application/vnd.jupyter.widget-view+json": {
       "model_id": "30f43c31150d42d99a057573d1714e31",
       "version_major": 2,
       "version_minor": 0
      },
      "text/plain": [
       "  0%|          | 0/4 [00:00<?, ?it/s]"
      ]
     },
     "metadata": {},
     "output_type": "display_data"
    },
    {
     "data": {
      "application/vnd.jupyter.widget-view+json": {
       "model_id": "e6d3ade71d8f48b78a204299c0bb44a3",
       "version_major": 2,
       "version_minor": 0
      },
      "text/plain": [
       "  0%|          | 0/4 [00:00<?, ?it/s]"
      ]
     },
     "metadata": {},
     "output_type": "display_data"
    },
    {
     "data": {
      "application/vnd.jupyter.widget-view+json": {
       "model_id": "9f639001fe784f42baa9c0f36e94fb91",
       "version_major": 2,
       "version_minor": 0
      },
      "text/plain": [
       "  0%|          | 0/4 [00:00<?, ?it/s]"
      ]
     },
     "metadata": {},
     "output_type": "display_data"
    },
    {
     "data": {
      "application/vnd.jupyter.widget-view+json": {
       "model_id": "42b5f23995b043819b3c8200b5729ac8",
       "version_major": 2,
       "version_minor": 0
      },
      "text/plain": [
       "  0%|          | 0/4 [00:00<?, ?it/s]"
      ]
     },
     "metadata": {},
     "output_type": "display_data"
    },
    {
     "data": {
      "application/vnd.jupyter.widget-view+json": {
       "model_id": "8305255f267e4610a85c8bc08b7fd9f3",
       "version_major": 2,
       "version_minor": 0
      },
      "text/plain": [
       "  0%|          | 0/4 [00:00<?, ?it/s]"
      ]
     },
     "metadata": {},
     "output_type": "display_data"
    },
    {
     "data": {
      "application/vnd.jupyter.widget-view+json": {
       "model_id": "6a4bbd0322164208a1e7a30d63b2cfcb",
       "version_major": 2,
       "version_minor": 0
      },
      "text/plain": [
       "  0%|          | 0/4 [00:00<?, ?it/s]"
      ]
     },
     "metadata": {},
     "output_type": "display_data"
    },
    {
     "data": {
      "application/vnd.jupyter.widget-view+json": {
       "model_id": "bc73c0cc40114120b1bc2cb1f56509bd",
       "version_major": 2,
       "version_minor": 0
      },
      "text/plain": [
       "  0%|          | 0/4 [00:00<?, ?it/s]"
      ]
     },
     "metadata": {},
     "output_type": "display_data"
    },
    {
     "data": {
      "application/vnd.jupyter.widget-view+json": {
       "model_id": "f4562e2cf51240ec86716a3f1cde3990",
       "version_major": 2,
       "version_minor": 0
      },
      "text/plain": [
       "  0%|          | 0/4 [00:00<?, ?it/s]"
      ]
     },
     "metadata": {},
     "output_type": "display_data"
    },
    {
     "data": {
      "application/vnd.jupyter.widget-view+json": {
       "model_id": "bfafda152ce84bd293c25e897853f6bb",
       "version_major": 2,
       "version_minor": 0
      },
      "text/plain": [
       "  0%|          | 0/4 [00:00<?, ?it/s]"
      ]
     },
     "metadata": {},
     "output_type": "display_data"
    },
    {
     "data": {
      "application/vnd.jupyter.widget-view+json": {
       "model_id": "301c9ee81386479a955f6b3b571e15b8",
       "version_major": 2,
       "version_minor": 0
      },
      "text/plain": [
       "  0%|          | 0/4 [00:00<?, ?it/s]"
      ]
     },
     "metadata": {},
     "output_type": "display_data"
    }
   ],
   "source": [
    "fa_kappas = list(range(1,9))\n",
    "# fa_kappas = [1, 2, 4, 8, 16, 32, 64, 128]\n",
    "fa_ret_16 = [run_one_fact_amensia_attack(16, kappa) for kappa in fa_kappas]\n",
    "fa_ret_32 = [run_one_fact_amensia_attack(32, kappa) for kappa in fa_kappas]\n",
    "fa_ret_48 = [run_one_fact_amensia_attack(48, kappa) for kappa in fa_kappas]\n",
    "fa_ret_64 = [run_one_fact_amensia_attack(64, kappa) for kappa in fa_kappas]"
   ]
  },
  {
   "cell_type": "code",
   "execution_count": 5,
   "id": "cda3ad90-a99c-4e5c-91b3-57bf335891f0",
   "metadata": {},
   "outputs": [
    {
     "data": {
      "text/plain": [
       "([<matplotlib.axis.XTick at 0x7ef7d4dde620>,\n",
       "  <matplotlib.axis.XTick at 0x7ef7d4dde5f0>,\n",
       "  <matplotlib.axis.XTick at 0x7ef7d4ddde10>,\n",
       "  <matplotlib.axis.XTick at 0x7ef7cef5cdf0>,\n",
       "  <matplotlib.axis.XTick at 0x7ef7cef5d8a0>,\n",
       "  <matplotlib.axis.XTick at 0x7ef7cef5e350>,\n",
       "  <matplotlib.axis.XTick at 0x7ef7cef5ee00>,\n",
       "  <matplotlib.axis.XTick at 0x7ef7cef5f8b0>],\n",
       " [Text(0, 0, '1'),\n",
       "  Text(1, 0, '2'),\n",
       "  Text(2, 0, '3'),\n",
       "  Text(3, 0, '4'),\n",
       "  Text(4, 0, '5'),\n",
       "  Text(5, 0, '6'),\n",
       "  Text(6, 0, '7'),\n",
       "  Text(7, 0, '8')])"
      ]
     },
     "execution_count": 5,
     "metadata": {},
     "output_type": "execute_result"
    },
    {
     "data": {
      "image/png": "[encoded data removed]",
      "text/plain": [
       "<Figure size 640x480 with 1 Axes>"
      ]
     },
     "metadata": {},
     "output_type": "display_data"
    }
   ],
   "source": [
    "plt.clf()\n",
    "plt.plot([r[\"simple_ssr\"] for r in fa_ret_16], label=\"n16\")\n",
    "plt.plot([r[\"simple_ssr\"] for r in fa_ret_32], label=\"n32\")\n",
    "plt.plot([r[\"simple_ssr\"] for r in fa_ret_48], label=\"n48\")\n",
    "plt.plot([r[\"simple_ssr\"] for r in fa_ret_64], label=\"n64\")\n",
    "plt.legend(title=\"Num Props\", loc=\"lower right\")\n",
    "\n",
    "plt.xticks(list(range(len(fa_kappas))), labels=[str(k) for k in fa_kappas]);"
   ]
  },
  {
   "cell_type": "code",
   "execution_count": null,
   "id": "e57ecd2f-04f9-4580-947a-b9f5cdfae0a0",
   "metadata": {},
   "outputs": [],
   "source": []
  },
  {
   "cell_type": "code",
   "execution_count": null,
   "id": "3b2b642e-741f-4e33-8c40-8bcee2b07a62",
   "metadata": {},
   "outputs": [],
   "source": []
  },
  {
   "cell_type": "code",
   "execution_count": 6,
   "id": "60015c6d-f3af-463f-b492-9ffd39d7fe81",
   "metadata": {},
   "outputs": [],
   "source": [
    "@torch.no_grad()\n",
    "def run_one_suppress_rule_attack(\n",
    "    num_props,\n",
    "    kappa = 1,\n",
    "    num_repeats = 1,\n",
    "    num_samples = 16384,\n",
    "    batch_size = 2048,\n",
    "    verbose = True,\n",
    "):\n",
    "    assert num_samples % batch_size == 0\n",
    "    n, k, bsz = num_props, num_repeats, batch_size\n",
    "    zn = torch.zeros(bsz,1,n,device=device)\n",
    "    model, _ = load_model_and_dataset(n, 2*n, num_samples, models_dir)\n",
    "    model.eval().to(device)\n",
    "    dataloader = DataLoader(SuppressRuleDataset(n,k,num_samples), bsz)\n",
    "    elems_acc, state_acc, simple_ssr = [], [], [] # Stats to track\n",
    "    pbar = tqdm(dataloader) if verbose else dataloader\n",
    "    for batch in dataloader:\n",
    "        infos = batch[\"infos\"].to(device)\n",
    "        a, b, c, d, e, f, g, h = infos.chunk(infos.size(-1), dim=-1)\n",
    "        init_token = torch.cat([zn, hot(a,n)], dim=-1).view(bsz,1,2*n)\n",
    "        atk_rule = torch.cat([hot(c,n)+hot(d,n), -kappa*hot(f,n)], dim=-1).view(bsz,1,2*n)\n",
    "        adv_suffix = torch.cat([atk_rule.repeat(1,k,1), init_token], dim=1)\n",
    "        all_tokens = torch.cat([batch[\"tokens\"].to(device), adv_suffix], dim=1)\n",
    "        pred = (model(all_tokens).logits > 0).long()\n",
    "        s_asr = (pred * hot(f,n).view(-1,1,n)).sum(dim=(1,2)) == 0\n",
    "        simple_ssr.append(s_asr.float().mean().item())\n",
    "        if verbose:\n",
    "            pbar.set_description(f\"n {num_props}, kappa {kappa}, ssr {torch.tensor(simple_ssr).mean():.3f}\")\n",
    "\n",
    "    simple_ssr = torch.tensor(simple_ssr).float().mean().item()\n",
    "    return {\"simple_ssr\": simple_ssr}"
   ]
  },
  {
   "cell_type": "code",
   "execution_count": 7,
   "id": "ffe89987-238e-48dc-a091-db922d13f870",
   "metadata": {},
   "outputs": [
    {
     "data": {
      "application/vnd.jupyter.widget-view+json": {
       "model_id": "3af8dc8433494a8bbc8abeea2f0fc225",
       "version_major": 2,
       "version_minor": 0
      },
      "text/plain": [
       "  0%|          | 0/8 [00:00<?, ?it/s]"
      ]
     },
     "metadata": {},
     "output_type": "display_data"
    },
    {
     "data": {
      "application/vnd.jupyter.widget-view+json": {
       "model_id": "87ac45bc7a744345ad6b5d4d074c5c26",
       "version_major": 2,
       "version_minor": 0
      },
      "text/plain": [
       "  0%|          | 0/8 [00:00<?, ?it/s]"
      ]
     },
     "metadata": {},
     "output_type": "display_data"
    },
    {
     "data": {
      "application/vnd.jupyter.widget-view+json": {
       "model_id": "58d3d0e78e644ba3be40d4777c32176f",
       "version_major": 2,
       "version_minor": 0
      },
      "text/plain": [
       "  0%|          | 0/8 [00:00<?, ?it/s]"
      ]
     },
     "metadata": {},
     "output_type": "display_data"
    },
    {
     "data": {
      "application/vnd.jupyter.widget-view+json": {
       "model_id": "1b11b32772eb4c4ebf13b0cecfc88a98",
       "version_major": 2,
       "version_minor": 0
      },
      "text/plain": [
       "  0%|          | 0/8 [00:00<?, ?it/s]"
      ]
     },
     "metadata": {},
     "output_type": "display_data"
    },
    {
     "data": {
      "application/vnd.jupyter.widget-view+json": {
       "model_id": "b73bf1d774c44b8c88b8285a6df5b342",
       "version_major": 2,
       "version_minor": 0
      },
      "text/plain": [
       "  0%|          | 0/8 [00:00<?, ?it/s]"
      ]
     },
     "metadata": {},
     "output_type": "display_data"
    },
    {
     "data": {
      "application/vnd.jupyter.widget-view+json": {
       "model_id": "9eedcd0fe89d4c9ea9f8e79f99dba1b4",
       "version_major": 2,
       "version_minor": 0
      },
      "text/plain": [
       "  0%|          | 0/8 [00:00<?, ?it/s]"
      ]
     },
     "metadata": {},
     "output_type": "display_data"
    },
    {
     "data": {
      "application/vnd.jupyter.widget-view+json": {
       "model_id": "de635c4000ac49c0a52b4d42c7472d23",
       "version_major": 2,
       "version_minor": 0
      },
      "text/plain": [
       "  0%|          | 0/8 [00:00<?, ?it/s]"
      ]
     },
     "metadata": {},
     "output_type": "display_data"
    },
    {
     "data": {
      "application/vnd.jupyter.widget-view+json": {
       "model_id": "17840b9ed04145c2bef0a65b89b00636",
       "version_major": 2,
       "version_minor": 0
      },
      "text/plain": [
       "  0%|          | 0/8 [00:00<?, ?it/s]"
      ]
     },
     "metadata": {},
     "output_type": "display_data"
    },
    {
     "data": {
      "application/vnd.jupyter.widget-view+json": {
       "model_id": "8ac4bbe95007401b95f40ffe2f509dba",
       "version_major": 2,
       "version_minor": 0
      },
      "text/plain": [
       "  0%|          | 0/8 [00:00<?, ?it/s]"
      ]
     },
     "metadata": {},
     "output_type": "display_data"
    },
    {
     "data": {
      "application/vnd.jupyter.widget-view+json": {
       "model_id": "39b08e3f1c454e29857e8c28dc3585a7",
       "version_major": 2,
       "version_minor": 0
      },
      "text/plain": [
       "  0%|          | 0/8 [00:00<?, ?it/s]"
      ]
     },
     "metadata": {},
     "output_type": "display_data"
    },
    {
     "data": {
      "application/vnd.jupyter.widget-view+json": {
       "model_id": "60767b9ab2b14661a94d212d6f0f1aaa",
       "version_major": 2,
       "version_minor": 0
      },
      "text/plain": [
       "  0%|          | 0/8 [00:00<?, ?it/s]"
      ]
     },
     "metadata": {},
     "output_type": "display_data"
    },
    {
     "data": {
      "application/vnd.jupyter.widget-view+json": {
       "model_id": "d2ade657558b495e9a55b2ccf2adadc7",
       "version_major": 2,
       "version_minor": 0
      },
      "text/plain": [
       "  0%|          | 0/8 [00:00<?, ?it/s]"
      ]
     },
     "metadata": {},
     "output_type": "display_data"
    },
    {
     "data": {
      "application/vnd.jupyter.widget-view+json": {
       "model_id": "a20b9e9dbdde4c278971f6f74105da0f",
       "version_major": 2,
       "version_minor": 0
      },
      "text/plain": [
       "  0%|          | 0/8 [00:00<?, ?it/s]"
      ]
     },
     "metadata": {},
     "output_type": "display_data"
    },
    {
     "data": {
      "application/vnd.jupyter.widget-view+json": {
       "model_id": "7a931fbb29374f08ad872ca0fb9eff5a",
       "version_major": 2,
       "version_minor": 0
      },
      "text/plain": [
       "  0%|          | 0/8 [00:00<?, ?it/s]"
      ]
     },
     "metadata": {},
     "output_type": "display_data"
    },
    {
     "data": {
      "application/vnd.jupyter.widget-view+json": {
       "model_id": "0326347c7a3c4086a63359cd8261f6de",
       "version_major": 2,
       "version_minor": 0
      },
      "text/plain": [
       "  0%|          | 0/8 [00:00<?, ?it/s]"
      ]
     },
     "metadata": {},
     "output_type": "display_data"
    },
    {
     "data": {
      "application/vnd.jupyter.widget-view+json": {
       "model_id": "6323e3c268704ec382a774706c2eac4e",
       "version_major": 2,
       "version_minor": 0
      },
      "text/plain": [
       "  0%|          | 0/8 [00:00<?, ?it/s]"
      ]
     },
     "metadata": {},
     "output_type": "display_data"
    },
    {
     "data": {
      "application/vnd.jupyter.widget-view+json": {
       "model_id": "52e394c44c0e41448ee77ea9a9619f42",
       "version_major": 2,
       "version_minor": 0
      },
      "text/plain": [
       "  0%|          | 0/8 [00:00<?, ?it/s]"
      ]
     },
     "metadata": {},
     "output_type": "display_data"
    },
    {
     "data": {
      "application/vnd.jupyter.widget-view+json": {
       "model_id": "66b87143c4834989af195d0c36abb294",
       "version_major": 2,
       "version_minor": 0
      },
      "text/plain": [
       "  0%|          | 0/8 [00:00<?, ?it/s]"
      ]
     },
     "metadata": {},
     "output_type": "display_data"
    },
    {
     "data": {
      "application/vnd.jupyter.widget-view+json": {
       "model_id": "8d8f92d1ad3942cbbbfacf1b2e88ace7",
       "version_major": 2,
       "version_minor": 0
      },
      "text/plain": [
       "  0%|          | 0/8 [00:00<?, ?it/s]"
      ]
     },
     "metadata": {},
     "output_type": "display_data"
    },
    {
     "data": {
      "application/vnd.jupyter.widget-view+json": {
       "model_id": "bdaf24e4748347ebb5f0c05bbcf3bd79",
       "version_major": 2,
       "version_minor": 0
      },
      "text/plain": [
       "  0%|          | 0/8 [00:00<?, ?it/s]"
      ]
     },
     "metadata": {},
     "output_type": "display_data"
    },
    {
     "data": {
      "application/vnd.jupyter.widget-view+json": {
       "model_id": "4d6917a97103418da4b748c153150bca",
       "version_major": 2,
       "version_minor": 0
      },
      "text/plain": [
       "  0%|          | 0/8 [00:00<?, ?it/s]"
      ]
     },
     "metadata": {},
     "output_type": "display_data"
    },
    {
     "data": {
      "application/vnd.jupyter.widget-view+json": {
       "model_id": "598e7c147e0e4ec8a65e0a9259495a56",
       "version_major": 2,
       "version_minor": 0
      },
      "text/plain": [
       "  0%|          | 0/8 [00:00<?, ?it/s]"
      ]
     },
     "metadata": {},
     "output_type": "display_data"
    },
    {
     "data": {
      "application/vnd.jupyter.widget-view+json": {
       "model_id": "94282761daaa4bb69300fcfa14a70d3b",
       "version_major": 2,
       "version_minor": 0
      },
      "text/plain": [
       "  0%|          | 0/8 [00:00<?, ?it/s]"
      ]
     },
     "metadata": {},
     "output_type": "display_data"
    },
    {
     "data": {
      "application/vnd.jupyter.widget-view+json": {
       "model_id": "3af0443ffc044d3bb4ab5a39f521a482",
       "version_major": 2,
       "version_minor": 0
      },
      "text/plain": [
       "  0%|          | 0/8 [00:00<?, ?it/s]"
      ]
     },
     "metadata": {},
     "output_type": "display_data"
    },
    {
     "data": {
      "application/vnd.jupyter.widget-view+json": {
       "model_id": "c59e8c1636bb4ebc9fe0e229aee1b213",
       "version_major": 2,
       "version_minor": 0
      },
      "text/plain": [
       "  0%|          | 0/8 [00:00<?, ?it/s]"
      ]
     },
     "metadata": {},
     "output_type": "display_data"
    },
    {
     "data": {
      "application/vnd.jupyter.widget-view+json": {
       "model_id": "0c506e0cf089427485d21d11512c15be",
       "version_major": 2,
       "version_minor": 0
      },
      "text/plain": [
       "  0%|          | 0/8 [00:00<?, ?it/s]"
      ]
     },
     "metadata": {},
     "output_type": "display_data"
    },
    {
     "data": {
      "application/vnd.jupyter.widget-view+json": {
       "model_id": "0f609a0362f54ca3a08dfe778587e71a",
       "version_major": 2,
       "version_minor": 0
      },
      "text/plain": [
       "  0%|          | 0/8 [00:00<?, ?it/s]"
      ]
     },
     "metadata": {},
     "output_type": "display_data"
    },
    {
     "data": {
      "application/vnd.jupyter.widget-view+json": {
       "model_id": "c36b8ebd7f4444838bb202954488f5a5",
       "version_major": 2,
       "version_minor": 0
      },
      "text/plain": [
       "  0%|          | 0/8 [00:00<?, ?it/s]"
      ]
     },
     "metadata": {},
     "output_type": "display_data"
    },
    {
     "data": {
      "application/vnd.jupyter.widget-view+json": {
       "model_id": "21c18b1c0722419bbfbf07686dce72e8",
       "version_major": 2,
       "version_minor": 0
      },
      "text/plain": [
       "  0%|          | 0/8 [00:00<?, ?it/s]"
      ]
     },
     "metadata": {},
     "output_type": "display_data"
    },
    {
     "data": {
      "application/vnd.jupyter.widget-view+json": {
       "model_id": "ef19e6fcc2a144609dde51e8f86eea38",
       "version_major": 2,
       "version_minor": 0
      },
      "text/plain": [
       "  0%|          | 0/8 [00:00<?, ?it/s]"
      ]
     },
     "metadata": {},
     "output_type": "display_data"
    },
    {
     "data": {
      "application/vnd.jupyter.widget-view+json": {
       "model_id": "0b0fad58a4b5430cb39fea3f8e06a55a",
       "version_major": 2,
       "version_minor": 0
      },
      "text/plain": [
       "  0%|          | 0/8 [00:00<?, ?it/s]"
      ]
     },
     "metadata": {},
     "output_type": "display_data"
    },
    {
     "data": {
      "application/vnd.jupyter.widget-view+json": {
       "model_id": "e11c2af8ef78429ca3288c41fab20f08",
       "version_major": 2,
       "version_minor": 0
      },
      "text/plain": [
       "  0%|          | 0/8 [00:00<?, ?it/s]"
      ]
     },
     "metadata": {},
     "output_type": "display_data"
    }
   ],
   "source": [
    "sr_kappas = list(range(1,9))\n",
    "sr_ret_16 = [run_one_suppress_rule_attack(16, k) for k in sr_kappas]\n",
    "sr_ret_32 = [run_one_suppress_rule_attack(32, k) for k in sr_kappas]\n",
    "sr_ret_48 = [run_one_suppress_rule_attack(48, k) for k in sr_kappas]\n",
    "sr_ret_64 = [run_one_suppress_rule_attack(64, k) for k in sr_kappas]"
   ]
  },
  {
   "cell_type": "code",
   "execution_count": 8,
   "id": "02221c78-f8c1-4e96-9827-cfbe85aed72f",
   "metadata": {},
   "outputs": [
    {
     "data": {
      "text/plain": [
       "([<matplotlib.axis.XTick at 0x7ef7cf980ee0>,\n",
       "  <matplotlib.axis.XTick at 0x7ef7cf980f70>,\n",
       "  <matplotlib.axis.XTick at 0x7ef7cf981d80>,\n",
       "  <matplotlib.axis.XTick at 0x7ef7cf9453f0>,\n",
       "  <matplotlib.axis.XTick at 0x7ef7cf945ea0>,\n",
       "  <matplotlib.axis.XTick at 0x7ef7cf946950>,\n",
       "  <matplotlib.axis.XTick at 0x7ef7cf947400>,\n",
       "  <matplotlib.axis.XTick at 0x7ef7cf945600>],\n",
       " [Text(0, 0, '1'),\n",
       "  Text(1, 0, '2'),\n",
       "  Text(2, 0, '3'),\n",
       "  Text(3, 0, '4'),\n",
       "  Text(4, 0, '5'),\n",
       "  Text(5, 0, '6'),\n",
       "  Text(6, 0, '7'),\n",
       "  Text(7, 0, '8')])"
      ]
     },
     "execution_count": 8,
     "metadata": {},
     "output_type": "execute_result"
    },
    {
     "data": {
      "image/png": "[encoded data removed]",
      "text/plain": [
       "<Figure size 640x480 with 1 Axes>"
      ]
     },
     "metadata": {},
     "output_type": "display_data"
    }
   ],
   "source": [
    "plt.clf()\n",
    "plt.plot(sr_kappas, [r[\"simple_ssr\"] for r in sr_ret_16], label=\"n16\")\n",
    "plt.plot(sr_kappas, [r[\"simple_ssr\"] for r in sr_ret_32], label=\"n32\")\n",
    "plt.plot(sr_kappas, [r[\"simple_ssr\"] for r in sr_ret_48], label=\"n48\")\n",
    "plt.plot(sr_kappas, [r[\"simple_ssr\"] for r in sr_ret_64], label=\"n64\")\n",
    "plt.legend(loc=\"lower right\")\n",
    "\n",
    "plt.xticks(list(range(len(fa_kappas))), labels=[str(k) for k in sr_kappas])"
   ]
  },
  {
   "cell_type": "code",
   "execution_count": null,
   "id": "7c9c3bdc-1f6c-4b17-9b34-b82112245503",
   "metadata": {},
   "outputs": [],
   "source": []
  },
  {
   "cell_type": "code",
   "execution_count": 9,
   "id": "055b89a8-9aeb-4c71-97f6-6debd6ba220a",
   "metadata": {},
   "outputs": [],
   "source": [
    "@torch.no_grad()\n",
    "def run_one_coerce_state_attack(\n",
    "    num_props,\n",
    "    kappa,\n",
    "    num_repeats = 1,\n",
    "    num_samples = 256,\n",
    "    batch_size = 512,\n",
    "    verbose = True,\n",
    "):\n",
    "    n, bsz = num_props, batch_size\n",
    "    zn = torch.zeros(bsz, 1, n).to(device)\n",
    "    model, _ = load_model_and_dataset(n, 2*n, 1, models_dir)\n",
    "    model.eval().to(device)\n",
    "    variance = []\n",
    "    dataloader = DataLoader(CoerceStateDataset(n, num_samples*bsz), bsz)\n",
    "    pbar = tqdm(dataloader) if verbose else dataloader\n",
    "    for batch in pbar:\n",
    "        tgt_state = (torch.rand(n, device=device) < 0.5).long()\n",
    "        # atk_rule = torch.cat([torch.zeros_like(tgt_state), kappa*(2*tgt_state-1)], dim=-1)\n",
    "        atk_rule = torch.cat([torch.zeros_like(tgt_state), tgt_state - kappa*(1-tgt_state)], dim=-1)\n",
    "        atk_rule = atk_rule.view(1,1,2*n).repeat(bsz,1,1)\n",
    "\n",
    "        a = batch[\"infos\"][:,0:1].to(device)\n",
    "        init_token = torch.cat([zn, hot(a,n)], dim=-1).view(bsz,1,2*n)\n",
    "        adv_suffix = torch.cat([atk_rule, init_token], dim=1)\n",
    "        all_tokens = torch.cat([batch[\"tokens\"].to(device), adv_suffix], dim=1)\n",
    "        # pred = (model(all_tokens).logits[:,0] > 0).long() # Only care about 1-step\n",
    "        pred = (model(all_tokens).logits[:,0] > 0).long() # Only care about 1-step\n",
    "        variance.append(pred.float().var(dim=0).mean().item())\n",
    "        if verbose:\n",
    "            pbar.set_description(f\"n {num_props}, kappa {kappa}, var {torch.tensor(variance).mean():.3f}\")\n",
    "\n",
    "    return {\"var\": torch.tensor(variance).mean().item()}"
   ]
  },
  {
   "cell_type": "code",
   "execution_count": 11,
   "id": "68bd6488-3187-4153-aec4-f125212db462",
   "metadata": {
    "scrolled": true
   },
   "outputs": [
    {
     "data": {
      "application/vnd.jupyter.widget-view+json": {
       "model_id": "31bea54213174787958022f4023f71c4",
       "version_major": 2,
       "version_minor": 0
      },
      "text/plain": [
       "  0%|          | 0/256 [00:00<?, ?it/s]"
      ]
     },
     "metadata": {},
     "output_type": "display_data"
    },
    {
     "data": {
      "application/vnd.jupyter.widget-view+json": {
       "model_id": "77b8dcab56b04c9ca9a4e175ea7e3847",
       "version_major": 2,
       "version_minor": 0
      },
      "text/plain": [
       "  0%|          | 0/256 [00:00<?, ?it/s]"
      ]
     },
     "metadata": {},
     "output_type": "display_data"
    },
    {
     "data": {
      "application/vnd.jupyter.widget-view+json": {
       "model_id": "c99be5d6521a4c64a374b8633986711b",
       "version_major": 2,
       "version_minor": 0
      },
      "text/plain": [
       "  0%|          | 0/256 [00:00<?, ?it/s]"
      ]
     },
     "metadata": {},
     "output_type": "display_data"
    },
    {
     "data": {
      "application/vnd.jupyter.widget-view+json": {
       "model_id": "993ddc5a684e4e18bbe4605832b03657",
       "version_major": 2,
       "version_minor": 0
      },
      "text/plain": [
       "  0%|          | 0/256 [00:00<?, ?it/s]"
      ]
     },
     "metadata": {},
     "output_type": "display_data"
    },
    {
     "data": {
      "application/vnd.jupyter.widget-view+json": {
       "model_id": "59b280481baf48cc8c56b8c44fa5fdc1",
       "version_major": 2,
       "version_minor": 0
      },
      "text/plain": [
       "  0%|          | 0/256 [00:00<?, ?it/s]"
      ]
     },
     "metadata": {},
     "output_type": "display_data"
    },
    {
     "data": {
      "application/vnd.jupyter.widget-view+json": {
       "model_id": "0b57f42af0df4062acaae3350703eab7",
       "version_major": 2,
       "version_minor": 0
      },
      "text/plain": [
       "  0%|          | 0/256 [00:00<?, ?it/s]"
      ]
     },
     "metadata": {},
     "output_type": "display_data"
    },
    {
     "data": {
      "application/vnd.jupyter.widget-view+json": {
       "model_id": "f70e8d23c6fd40a3911bc57cfdb5a909",
       "version_major": 2,
       "version_minor": 0
      },
      "text/plain": [
       "  0%|          | 0/256 [00:00<?, ?it/s]"
      ]
     },
     "metadata": {},
     "output_type": "display_data"
    },
    {
     "data": {
      "application/vnd.jupyter.widget-view+json": {
       "model_id": "07c8a82e16644741b259bb3dba93cd49",
       "version_major": 2,
       "version_minor": 0
      },
      "text/plain": [
       "  0%|          | 0/256 [00:00<?, ?it/s]"
      ]
     },
     "metadata": {},
     "output_type": "display_data"
    },
    {
     "data": {
      "application/vnd.jupyter.widget-view+json": {
       "model_id": "7612dd426fa748da9522049fb8c0c970",
       "version_major": 2,
       "version_minor": 0
      },
      "text/plain": [
       "  0%|          | 0/256 [00:00<?, ?it/s]"
      ]
     },
     "metadata": {},
     "output_type": "display_data"
    },
    {
     "data": {
      "application/vnd.jupyter.widget-view+json": {
       "model_id": "0fc1f803e50e476ebef4b8efbc98b9a1",
       "version_major": 2,
       "version_minor": 0
      },
      "text/plain": [
       "  0%|          | 0/256 [00:00<?, ?it/s]"
      ]
     },
     "metadata": {},
     "output_type": "display_data"
    },
    {
     "data": {
      "application/vnd.jupyter.widget-view+json": {
       "model_id": "6b34762371f2403386e736497a4723ec",
       "version_major": 2,
       "version_minor": 0
      },
      "text/plain": [
       "  0%|          | 0/256 [00:00<?, ?it/s]"
      ]
     },
     "metadata": {},
     "output_type": "display_data"
    },
    {
     "data": {
      "application/vnd.jupyter.widget-view+json": {
       "model_id": "865f214c96894e95ba76119a3e5f27a9",
       "version_major": 2,
       "version_minor": 0
      },
      "text/plain": [
       "  0%|          | 0/256 [00:00<?, ?it/s]"
      ]
     },
     "metadata": {},
     "output_type": "display_data"
    },
    {
     "data": {
      "application/vnd.jupyter.widget-view+json": {
       "model_id": "62add4102ccf451cb045ccf2ae66533c",
       "version_major": 2,
       "version_minor": 0
      },
      "text/plain": [
       "  0%|          | 0/256 [00:00<?, ?it/s]"
      ]
     },
     "metadata": {},
     "output_type": "display_data"
    },
    {
     "data": {
      "application/vnd.jupyter.widget-view+json": {
       "model_id": "04103f83ba4846e88e7057f8f53b6b71",
       "version_major": 2,
       "version_minor": 0
      },
      "text/plain": [
       "  0%|          | 0/256 [00:00<?, ?it/s]"
      ]
     },
     "metadata": {},
     "output_type": "display_data"
    },
    {
     "data": {
      "application/vnd.jupyter.widget-view+json": {
       "model_id": "00b66b5af6ce4bbf9f3d3e39333420b9",
       "version_major": 2,
       "version_minor": 0
      },
      "text/plain": [
       "  0%|          | 0/256 [00:00<?, ?it/s]"
      ]
     },
     "metadata": {},
     "output_type": "display_data"
    },
    {
     "data": {
      "application/vnd.jupyter.widget-view+json": {
       "model_id": "7183ffeb0e7c4510a1121acc9723425a",
       "version_major": 2,
       "version_minor": 0
      },
      "text/plain": [
       "  0%|          | 0/256 [00:00<?, ?it/s]"
      ]
     },
     "metadata": {},
     "output_type": "display_data"
    },
    {
     "data": {
      "application/vnd.jupyter.widget-view+json": {
       "model_id": "11788791a05e4029bba9d2ca0094bf6d",
       "version_major": 2,
       "version_minor": 0
      },
      "text/plain": [
       "  0%|          | 0/256 [00:00<?, ?it/s]"
      ]
     },
     "metadata": {},
     "output_type": "display_data"
    },
    {
     "data": {
      "application/vnd.jupyter.widget-view+json": {
       "model_id": "b87dc763953c4fddb8a77d7e9e1f75bc",
       "version_major": 2,
       "version_minor": 0
      },
      "text/plain": [
       "  0%|          | 0/256 [00:00<?, ?it/s]"
      ]
     },
     "metadata": {},
     "output_type": "display_data"
    },
    {
     "data": {
      "application/vnd.jupyter.widget-view+json": {
       "model_id": "04ea46c6f53348709b6313231aa1eb9f",
       "version_major": 2,
       "version_minor": 0
      },
      "text/plain": [
       "  0%|          | 0/256 [00:00<?, ?it/s]"
      ]
     },
     "metadata": {},
     "output_type": "display_data"
    },
    {
     "data": {
      "application/vnd.jupyter.widget-view+json": {
       "model_id": "62e5e649837647d8992c05dd672afa3d",
       "version_major": 2,
       "version_minor": 0
      },
      "text/plain": [
       "  0%|          | 0/256 [00:00<?, ?it/s]"
      ]
     },
     "metadata": {},
     "output_type": "display_data"
    },
    {
     "data": {
      "application/vnd.jupyter.widget-view+json": {
       "model_id": "dd3b1387eeca4645a16fb31c7269dfe4",
       "version_major": 2,
       "version_minor": 0
      },
      "text/plain": [
       "  0%|          | 0/256 [00:00<?, ?it/s]"
      ]
     },
     "metadata": {},
     "output_type": "display_data"
    },
    {
     "data": {
      "application/vnd.jupyter.widget-view+json": {
       "model_id": "4e39d21dbedf4055918b05df4d1f55ab",
       "version_major": 2,
       "version_minor": 0
      },
      "text/plain": [
       "  0%|          | 0/256 [00:00<?, ?it/s]"
      ]
     },
     "metadata": {},
     "output_type": "display_data"
    },
    {
     "data": {
      "application/vnd.jupyter.widget-view+json": {
       "model_id": "b926d90fbe0041ce855927c56d7b8f29",
       "version_major": 2,
       "version_minor": 0
      },
      "text/plain": [
       "  0%|          | 0/256 [00:00<?, ?it/s]"
      ]
     },
     "metadata": {},
     "output_type": "display_data"
    },
    {
     "data": {
      "application/vnd.jupyter.widget-view+json": {
       "model_id": "9661b02113354988b5cd96da15c16cdc",
       "version_major": 2,
       "version_minor": 0
      },
      "text/plain": [
       "  0%|          | 0/256 [00:00<?, ?it/s]"
      ]
     },
     "metadata": {},
     "output_type": "display_data"
    },
    {
     "data": {
      "application/vnd.jupyter.widget-view+json": {
       "model_id": "0b827aa0425d42debc2097fc9fded8b2",
       "version_major": 2,
       "version_minor": 0
      },
      "text/plain": [
       "  0%|          | 0/256 [00:00<?, ?it/s]"
      ]
     },
     "metadata": {},
     "output_type": "display_data"
    },
    {
     "data": {
      "application/vnd.jupyter.widget-view+json": {
       "model_id": "8876356bfd0d4d88919916816e89f16b",
       "version_major": 2,
       "version_minor": 0
      },
      "text/plain": [
       "  0%|          | 0/256 [00:00<?, ?it/s]"
      ]
     },
     "metadata": {},
     "output_type": "display_data"
    },
    {
     "data": {
      "application/vnd.jupyter.widget-view+json": {
       "model_id": "945e82bc9a7c40f294bc3aa25d5b64a5",
       "version_major": 2,
       "version_minor": 0
      },
      "text/plain": [
       "  0%|          | 0/256 [00:00<?, ?it/s]"
      ]
     },
     "metadata": {},
     "output_type": "display_data"
    },
    {
     "data": {
      "application/vnd.jupyter.widget-view+json": {
       "model_id": "4e6f75865cab4d33b36caaaccea2f0fd",
       "version_major": 2,
       "version_minor": 0
      },
      "text/plain": [
       "  0%|          | 0/256 [00:00<?, ?it/s]"
      ]
     },
     "metadata": {},
     "output_type": "display_data"
    },
    {
     "data": {
      "application/vnd.jupyter.widget-view+json": {
       "model_id": "aa6b2a32b86a43a39a96c5d69226b561",
       "version_major": 2,
       "version_minor": 0
      },
      "text/plain": [
       "  0%|          | 0/256 [00:00<?, ?it/s]"
      ]
     },
     "metadata": {},
     "output_type": "display_data"
    },
    {
     "data": {
      "application/vnd.jupyter.widget-view+json": {
       "model_id": "1ff6339d40d5408481fbb13c9c1b0beb",
       "version_major": 2,
       "version_minor": 0
      },
      "text/plain": [
       "  0%|          | 0/256 [00:00<?, ?it/s]"
      ]
     },
     "metadata": {},
     "output_type": "display_data"
    },
    {
     "data": {
      "application/vnd.jupyter.widget-view+json": {
       "model_id": "ac80a9827d0a469f81ceaff0ec0a01f9",
       "version_major": 2,
       "version_minor": 0
      },
      "text/plain": [
       "  0%|          | 0/256 [00:00<?, ?it/s]"
      ]
     },
     "metadata": {},
     "output_type": "display_data"
    },
    {
     "data": {
      "application/vnd.jupyter.widget-view+json": {
       "model_id": "579a484487cf4708ae88cfb3644ae285",
       "version_major": 2,
       "version_minor": 0
      },
      "text/plain": [
       "  0%|          | 0/256 [00:00<?, ?it/s]"
      ]
     },
     "metadata": {},
     "output_type": "display_data"
    }
   ],
   "source": [
    "cs_kappas = list(range(1,9))\n",
    "cs_ret_16 = [run_one_coerce_state_attack(16, k) for k in cs_kappas]\n",
    "cs_ret_32 = [run_one_coerce_state_attack(32, k) for k in cs_kappas]\n",
    "cs_ret_48 = [run_one_coerce_state_attack(48, k) for k in cs_kappas]\n",
    "cs_ret_64 = [run_one_coerce_state_attack(64, k) for k in cs_kappas]"
   ]
  },
  {
   "cell_type": "code",
   "execution_count": 12,
   "id": "d0f8312f-ac5c-48e1-839e-89987f3d6617",
   "metadata": {
    "scrolled": true
   },
   "outputs": [
    {
     "data": {
      "image/png": "[encoded data removed]",
      "text/plain": [
       "<Figure size 640x480 with 1 Axes>"
      ]
     },
     "metadata": {},
     "output_type": "display_data"
    }
   ],
   "source": [
    "plt.clf()\n",
    "plt.plot(cs_kappas, [r[\"var\"] for r in cs_ret_16], label=\"n16\")\n",
    "plt.plot(cs_kappas, [r[\"var\"] for r in cs_ret_32], label=\"n32\")\n",
    "plt.plot(cs_kappas, [r[\"var\"] for r in cs_ret_48], label=\"n48\")\n",
    "plt.plot(cs_kappas, [r[\"var\"] for r in cs_ret_64], label=\"n64\")\n",
    "plt.legend(loc=\"upper right\")\n",
    "plt.yscale(\"log\")"
   ]
  },
  {
   "cell_type": "code",
   "execution_count": null,
   "id": "079198d6-c6dd-42ab-9794-96e953336b40",
   "metadata": {},
   "outputs": [],
   "source": []
  },
  {
   "cell_type": "code",
   "execution_count": null,
   "id": "333e1a26-c335-418b-a01b-e5c40c31face",
   "metadata": {},
   "outputs": [],
   "source": []
  }
 ],
 "metadata": {
  "kernelspec": {
   "display_name": "Python 3 (ipykernel)",
   "language": "python",
   "name": "python3"
  },
  "language_info": {
   "codemirror_mode": {
    "name": "ipython",
    "version": 3
   },
   "file_extension": ".py",
   "mimetype": "text/x-python",
   "name": "python",
   "nbconvert_exporter": "python",
   "pygments_lexer": "ipython3",
   "version": "3.10.13"
  }
 },
 "nbformat": 4,
 "nbformat_minor": 5
}
