{
 "cells": [
  {
   "cell_type": "code",
   "execution_count": 1,
   "id": "2a683381",
   "metadata": {},
   "outputs": [
    {
     "name": "stderr",
     "output_type": "stream",
     "text": [
      "/home/akhare/miniconda3/envs/tfl/lib/python3.11/site-packages/tqdm/auto.py:21: TqdmWarning: IProgress not found. Please update jupyter and ipywidgets. See https://ipywidgets.readthedocs.io/en/stable/user_install.html\n",
      "  from .autonotebook import tqdm as notebook_tqdm\n",
      "/home/akhare/miniconda3/envs/tfl/lib/python3.11/site-packages/transformers/deepspeed.py:23: FutureWarning: transformers.deepspeed module is deprecated and will be removed in a future version. Please import deepspeed modules directly from transformers.integrations\n",
      "  warnings.warn(\n",
      "/home/akhare/miniconda3/envs/tfl/lib/python3.11/site-packages/transformers/generation_utils.py:24: FutureWarning: Importing `GenerationMixin` from `src/transformers/generation_utils.py` is deprecated and will be removed in Transformers v5. Import as `from transformers import GenerationMixin` instead.\n",
      "  warnings.warn(\n"
     ]
    }
   ],
   "source": [
    "import copy\n",
    "import torch\n",
    "from torch.utils.data import *\n",
    "from transformers import *\n",
    "import inspect\n",
    "import sys\n",
    "sys.path.insert(0, \"..\")\n",
    "\n",
    "from models import *\n",
    "from logic import *\n",
    "from my_datasets import *\n",
    "\n",
    "from utils import *\n",
    "\n",
    "import numpy as np\n",
    "\n",
    "from tqdm.auto import tqdm"
   ]
  },
  {
   "cell_type": "code",
   "execution_count": 29,
   "id": "dd59af34-9ef4-4d58-a75b-03d4b7e6335f",
   "metadata": {},
   "outputs": [],
   "source": [
    "n, r = 5, 8\n",
    "ap, bp, tp = 0.2, 0.2, 0.4\n",
    "\n",
    "qed_train_dataset_config = OneShotQedDatasetConfig(r, n, ap, bp, tp, num_items=1000, base_seed=1234)\n",
    "qed_test_dataset_config = OneShotQedDatasetConfig(r, n, ap, bp, tp, num_items=1000, base_seed=2345)\n",
    "qed_train_dataset = OneShotQedDataset(qed_train_dataset_config)\n",
    "qed_test_dataset = OneShotQedDataset(qed_test_dataset_config)\n",
    "\n",
    "succ_train_dataset_config = PredictSuccDatasetConfig(r, n, ap, bp, tp, num_items=1000, base_seed=1234)\n",
    "succ_test_dataset_config = PredictSuccDatasetConfig(r, n, ap, bp, tp, num_items=500, base_seed=2345)\n",
    "succ_train_dataset = PredictSuccDataset(succ_train_dataset_config)\n",
    "succ_test_dataset = PredictSuccDataset(succ_test_dataset_config)"
   ]
  },
  {
   "cell_type": "code",
   "execution_count": 30,
   "id": "9e9bdceb-8b3d-46ca-8dd3-5372dc8fc0b4",
   "metadata": {},
   "outputs": [],
   "source": [
    "train_batch_size = 24\n",
    "eval_batch_size = 24\n",
    "\n",
    "qed_train_dataloader = DataLoader(\n",
    "    qed_train_dataset, shuffle=True, batch_size=train_batch_size\n",
    ")\n",
    "\n",
    "qed_eval_dataloader = DataLoader(\n",
    "    qed_train_dataset, batch_size=eval_batch_size\n",
    ")"
   ]
  },
  {
   "cell_type": "code",
   "execution_count": 4,
   "id": "603cb1e9",
   "metadata": {},
   "outputs": [
    {
     "data": {
      "text/plain": [
       "{'rules': torch.Size([24, 8, 10]),\n",
       " 'theorem': torch.Size([24, 5]),\n",
       " 'labels': torch.Size([24])}"
      ]
     },
     "execution_count": 4,
     "metadata": {},
     "output_type": "execute_result"
    }
   ],
   "source": [
    "for batch in qed_train_dataloader:\n",
    "    break\n",
    "{k: v.shape for k, v in batch.items()}"
   ]
  },
  {
   "cell_type": "code",
   "execution_count": 31,
   "id": "4cfeab7e-e7fd-408c-bd92-2614d3c9cfce",
   "metadata": {
    "scrolled": true
   },
   "outputs": [
    {
     "name": "stderr",
     "output_type": "stream",
     "text": [
      "loading configuration file config.json from cache at /home/akhare/.cache/huggingface/hub/models--gpt2/snapshots/11c5a3d5811f50298f278a704980280950aedb10/config.json\n",
      "Model config GPT2Config {\n",
      "  \"activation_function\": \"gelu_new\",\n",
      "  \"architectures\": [\n",
      "    \"GPT2LMHeadModel\"\n",
      "  ],\n",
      "  \"attn_pdrop\": 0.1,\n",
      "  \"bos_token_id\": 50256,\n",
      "  \"embd_pdrop\": 0.1,\n",
      "  \"eos_token_id\": 50256,\n",
      "  \"initializer_range\": 0.02,\n",
      "  \"layer_norm_epsilon\": 1e-05,\n",
      "  \"model_type\": \"gpt2\",\n",
      "  \"n_ctx\": 1024,\n",
      "  \"n_embd\": 768,\n",
      "  \"n_head\": 12,\n",
      "  \"n_inner\": null,\n",
      "  \"n_layer\": 12,\n",
      "  \"n_positions\": 1024,\n",
      "  \"reorder_and_upcast_attn\": false,\n",
      "  \"resid_pdrop\": 0.1,\n",
      "  \"scale_attn_by_inverse_layer_idx\": false,\n",
      "  \"scale_attn_weights\": true,\n",
      "  \"summary_activation\": null,\n",
      "  \"summary_first_dropout\": 0.1,\n",
      "  \"summary_proj_to_labels\": true,\n",
      "  \"summary_type\": \"cls_index\",\n",
      "  \"summary_use_proj\": true,\n",
      "  \"task_specific_params\": {\n",
      "    \"text-generation\": {\n",
      "      \"do_sample\": true,\n",
      "      \"max_length\": 50\n",
      "    }\n",
      "  },\n",
      "  \"transformers_version\": \"4.34.1\",\n",
      "  \"use_cache\": true,\n",
      "  \"vocab_size\": 50257\n",
      "}\n",
      "\n",
      "loading weights file model.safetensors from cache at /home/akhare/.cache/huggingface/hub/models--gpt2/snapshots/11c5a3d5811f50298f278a704980280950aedb10/model.safetensors\n",
      "All model checkpoint weights were used when initializing GPT2Model.\n",
      "\n",
      "All the weights of GPT2Model were initialized from the model checkpoint at gpt2.\n",
      "If your task is similar to the task the model of the checkpoint was trained on, you can already use GPT2Model for predictions without further training.\n"
     ]
    }
   ],
   "source": [
    "mytf_config = MyTfConfig(embed_dim=768, ffwd_width=1024, ffwd_depth=4, num_heads=2, num_layers=8)\n",
    "mytf_model = get_seq2seq_model(\"mytf\", config=mytf_config)\n",
    "mytf_qed_model = OneShotQedTaskModel(OneShotQedTaskConfig(r, n, copy.deepcopy(mytf_model)))\n",
    "mytf_succ_model = PredictSuccTaskModel(PredictSuccTaskConfig(r, n, copy.deepcopy(mytf_model)))\n",
    "\n",
    "mygpt2_model = get_seq2seq_model(\"gpt2\", use_pretrained=True)\n",
    "mygpt2_qed_model = OneShotQedTaskModel(OneShotQedTaskConfig(r, n, copy.deepcopy(mygpt2_model)))\n",
    "mygpt2_succ_model = PredictSuccTaskModel(PredictSuccTaskConfig(r, n, copy.deepcopy(mygpt2_model)))"
   ]
  },
  {
   "cell_type": "code",
   "execution_count": 6,
   "id": "aa07d164",
   "metadata": {},
   "outputs": [
    {
     "name": "stdout",
     "output_type": "stream",
     "text": [
      "tensor(0.7517, grad_fn=<BinaryCrossEntropyWithLogitsBackward0>) torch.Size([24])\n"
     ]
    }
   ],
   "source": [
    "outputs = mygpt2_qed_model(**batch)\n",
    "print(outputs.loss, outputs.logits.shape)"
   ]
  },
  {
   "cell_type": "code",
   "execution_count": 7,
   "id": "b98a8e18-88c5-4c1a-971b-39a46a5ad6a8",
   "metadata": {},
   "outputs": [
    {
     "name": "stderr",
     "output_type": "stream",
     "text": [
      "Found safetensors installation, but --save_safetensors=False. Safetensors should be a preferred weights saving format due to security and performance reasons. If your model cannot be saved by safetensors please feel free to open an issue at https://github.com/huggingface/safetensors!\n",
      "PyTorch: setting up devices\n",
      "The default value for the training argument `--report_to` will change in v5 (from all installed integrations to none). In v5, you will need to use `--report_to all` to get the same behavior as now. You should start updating your code and make this info disappear :-).\n"
     ]
    }
   ],
   "source": [
    "qed_training_args = TrainingArguments(\n",
    "    \"test-trainer\",\n",
    "    evaluation_strategy = \"epoch\",\n",
    "    num_train_epochs = 100,\n",
    "    per_device_train_batch_size = 24,\n",
    "    per_device_eval_batch_size = 24,\n",
    "    logging_steps = 5\n",
    ")\n",
    "\n",
    "succ_training_args = qed_training_args"
   ]
  },
  {
   "cell_type": "code",
   "execution_count": 8,
   "id": "83e21757",
   "metadata": {},
   "outputs": [
    {
     "data": {
      "text/plain": [
       "TrainingArguments(\n",
       "_n_gpu=4,\n",
       "adafactor=False,\n",
       "adam_beta1=0.9,\n",
       "adam_beta2=0.999,\n",
       "adam_epsilon=1e-08,\n",
       "auto_find_batch_size=False,\n",
       "bf16=False,\n",
       "bf16_full_eval=False,\n",
       "data_seed=None,\n",
       "dataloader_drop_last=False,\n",
       "dataloader_num_workers=0,\n",
       "dataloader_pin_memory=True,\n",
       "ddp_backend=None,\n",
       "ddp_broadcast_buffers=None,\n",
       "ddp_bucket_cap_mb=None,\n",
       "ddp_find_unused_parameters=None,\n",
       "ddp_timeout=1800,\n",
       "debug=[],\n",
       "deepspeed=None,\n",
       "disable_tqdm=False,\n",
       "dispatch_batches=None,\n",
       "do_eval=True,\n",
       "do_predict=False,\n",
       "do_train=False,\n",
       "eval_accumulation_steps=None,\n",
       "eval_delay=0,\n",
       "eval_steps=None,\n",
       "evaluation_strategy=IntervalStrategy.EPOCH,\n",
       "fp16=False,\n",
       "fp16_backend=auto,\n",
       "fp16_full_eval=False,\n",
       "fp16_opt_level=O1,\n",
       "fsdp=[],\n",
       "fsdp_config={'min_num_params': 0, 'xla': False, 'xla_fsdp_grad_ckpt': False},\n",
       "fsdp_min_num_params=0,\n",
       "fsdp_transformer_layer_cls_to_wrap=None,\n",
       "full_determinism=False,\n",
       "gradient_accumulation_steps=1,\n",
       "gradient_checkpointing=False,\n",
       "greater_is_better=None,\n",
       "group_by_length=False,\n",
       "half_precision_backend=auto,\n",
       "hub_always_push=False,\n",
       "hub_model_id=None,\n",
       "hub_private_repo=False,\n",
       "hub_strategy=HubStrategy.EVERY_SAVE,\n",
       "hub_token=<HUB_TOKEN>,\n",
       "ignore_data_skip=False,\n",
       "include_inputs_for_metrics=False,\n",
       "include_tokens_per_second=False,\n",
       "jit_mode_eval=False,\n",
       "label_names=None,\n",
       "label_smoothing_factor=0.0,\n",
       "learning_rate=5e-05,\n",
       "length_column_name=length,\n",
       "load_best_model_at_end=False,\n",
       "local_rank=0,\n",
       "log_level=passive,\n",
       "log_level_replica=warning,\n",
       "log_on_each_node=True,\n",
       "logging_dir=test-trainer/runs/Nov02_23-40-47_ash05,\n",
       "logging_first_step=False,\n",
       "logging_nan_inf_filter=True,\n",
       "logging_steps=5,\n",
       "logging_strategy=IntervalStrategy.STEPS,\n",
       "lr_scheduler_type=SchedulerType.LINEAR,\n",
       "max_grad_norm=1.0,\n",
       "max_steps=-1,\n",
       "metric_for_best_model=None,\n",
       "mp_parameters=,\n",
       "no_cuda=False,\n",
       "num_train_epochs=100,\n",
       "optim=OptimizerNames.ADAMW_TORCH,\n",
       "optim_args=None,\n",
       "output_dir=test-trainer,\n",
       "overwrite_output_dir=False,\n",
       "past_index=-1,\n",
       "per_device_eval_batch_size=24,\n",
       "per_device_train_batch_size=24,\n",
       "prediction_loss_only=False,\n",
       "push_to_hub=False,\n",
       "push_to_hub_model_id=None,\n",
       "push_to_hub_organization=None,\n",
       "push_to_hub_token=<PUSH_TO_HUB_TOKEN>,\n",
       "ray_scope=last,\n",
       "remove_unused_columns=True,\n",
       "report_to=[],\n",
       "resume_from_checkpoint=None,\n",
       "run_name=test-trainer,\n",
       "save_on_each_node=False,\n",
       "save_safetensors=False,\n",
       "save_steps=500,\n",
       "save_strategy=IntervalStrategy.STEPS,\n",
       "save_total_limit=None,\n",
       "seed=42,\n",
       "sharded_ddp=[],\n",
       "skip_memory_metrics=True,\n",
       "tf32=None,\n",
       "torch_compile=False,\n",
       "torch_compile_backend=None,\n",
       "torch_compile_mode=None,\n",
       "torchdynamo=None,\n",
       "tpu_metrics_debug=False,\n",
       "tpu_num_cores=None,\n",
       "use_cpu=False,\n",
       "use_ipex=False,\n",
       "use_legacy_prediction_loop=False,\n",
       "use_mps_device=False,\n",
       "warmup_ratio=0.0,\n",
       "warmup_steps=0,\n",
       "weight_decay=0.0,\n",
       ")"
      ]
     },
     "execution_count": 8,
     "metadata": {},
     "output_type": "execute_result"
    }
   ],
   "source": [
    "qed_training_args"
   ]
  },
  {
   "cell_type": "code",
   "execution_count": 32,
   "id": "8a7b65e5",
   "metadata": {},
   "outputs": [],
   "source": [
    "class EvalObject:\n",
    "    def __init__(self, predictions, labels, losses=None):\n",
    "        self.predictions = predictions\n",
    "        self.label_ids = labels\n",
    "        self.losses = losses\n",
    "\n",
    "def evaluate(model, eval_dataloader, compute_metrics):\n",
    "    device = torch.device(\"cuda\") if torch.cuda.is_available() else torch.device(\"cpu\")\n",
    "    model.eval()\n",
    "    all_predictions = []\n",
    "    all_labels = []\n",
    "    all_losses = []\n",
    "    for batch in eval_dataloader:\n",
    "        batch = {k: v.to(device) for k, v in batch.items()}\n",
    "        with torch.no_grad():\n",
    "            outputs = model(**batch)\n",
    "        loss = outputs.loss\n",
    "        logits = outputs.logits\n",
    "        # Predictions are logits for BCELoss tasks\n",
    "        predictions = logits\n",
    "        all_predictions.extend(predictions.cpu().detach().tolist())\n",
    "        all_labels.extend(batch['labels'].cpu().tolist())\n",
    "        all_losses.append(loss.cpu().detach())\n",
    "\n",
    "    return compute_metrics(EvalObject(\n",
    "        np.asarray(all_predictions, dtype=object), \n",
    "        np.asarray(all_labels, dtype=object), \n",
    "        np.asarray(all_losses)))"
   ]
  },
  {
   "cell_type": "code",
   "execution_count": 33,
   "id": "a418a9a9",
   "metadata": {},
   "outputs": [],
   "source": [
    "def train(model, num_epochs, train_dataloader, eval_dataloader=None, compute_metrics=None):\n",
    "    optimizer = torch.optim.AdamW(model.parameters(), lr=3e-5)\n",
    "\n",
    "    device = torch.device(\"cuda\") if torch.cuda.is_available() else torch.device(\"cpu\")\n",
    "    model.to(device)\n",
    "\n",
    "    num_training_steps = num_epochs * len(train_dataloader)\n",
    "    lr_scheduler = get_scheduler(\n",
    "        \"linear\",\n",
    "        optimizer=optimizer,\n",
    "        num_warmup_steps=0,\n",
    "        num_training_steps=num_training_steps,\n",
    "    )\n",
    "\n",
    "    progress_bar = tqdm(range(num_training_steps))\n",
    "\n",
    "    model.train()\n",
    "    train_losses_list = []\n",
    "    val_metrics_list = []\n",
    "    for epoch in range(num_epochs):\n",
    "        epoch_loss_list = []\n",
    "        print(f\"============Training metrics for epoch {epoch}=========\")\n",
    "        for batch_id, batch in enumerate(train_dataloader):\n",
    "            batch = {k: v.to(device) for k, v in batch.items()}\n",
    "            outputs = model(**batch)\n",
    "            loss = outputs.loss\n",
    "            epoch_loss_list.append(loss.cpu().detach())\n",
    "            \n",
    "            loss.backward()\n",
    "\n",
    "            optimizer.step()\n",
    "            lr_scheduler.step()\n",
    "            optimizer.zero_grad()\n",
    "            progress_bar.update(1)\n",
    "\n",
    "            # print(f\"Batch {batch_id}: Loss: {loss}\")\n",
    "\n",
    "        print(f\"Epoch loss: {np.array(epoch_loss_list).mean()}\")\n",
    "        train_losses_list.append(np.array(epoch_loss_list).mean())\n",
    "\n",
    "        # Evaluate after every epoch\n",
    "        if eval_dataloader is not None and compute_metrics is not None:\n",
    "            eval_metrics = evaluate(model, eval_dataloader, compute_metrics)\n",
    "            print(f\"============Validation metrics for epoch {epoch}=========\")\n",
    "            print(eval_metrics)\n",
    "            val_metrics_list.append(eval_metrics)\n",
    "\n",
    "    return train_losses_list, val_metrics_list"
   ]
  },
  {
   "cell_type": "code",
   "execution_count": 34,
   "id": "5efcbc4f",
   "metadata": {},
   "outputs": [
    {
     "name": "stderr",
     "output_type": "stream",
     "text": [
      "  0%|          | 2/840 [00:00<00:54, 15.52it/s]"
     ]
    },
    {
     "name": "stdout",
     "output_type": "stream",
     "text": [
      "============Training metrics for epoch 0=========\n"
     ]
    },
    {
     "name": "stderr",
     "output_type": "stream",
     "text": [
      "  5%|▌         | 42/840 [00:02<00:47, 16.66it/s]"
     ]
    },
    {
     "name": "stdout",
     "output_type": "stream",
     "text": [
      "Epoch loss: 0.7036917805671692\n"
     ]
    },
    {
     "name": "stderr",
     "output_type": "stream",
     "text": [
      "  5%|▌         | 44/840 [00:03<02:44,  4.84it/s]"
     ]
    },
    {
     "name": "stdout",
     "output_type": "stream",
     "text": [
      "============Validation metrics for epoch 0=========\n",
      "{'Accuracy': 0.568, 'Avg Ones': 1.0, 'Loss': 0.6856713}\n",
      "============Training metrics for epoch 1=========\n"
     ]
    },
    {
     "name": "stderr",
     "output_type": "stream",
     "text": [
      " 10%|▉         | 83/840 [00:05<00:35, 21.37it/s]"
     ]
    },
    {
     "name": "stdout",
     "output_type": "stream",
     "text": [
      "Epoch loss: 0.6890601515769958\n"
     ]
    },
    {
     "name": "stderr",
     "output_type": "stream",
     "text": [
      " 10%|█         | 86/840 [00:06<01:39,  7.57it/s]"
     ]
    },
    {
     "name": "stdout",
     "output_type": "stream",
     "text": [
      "============Validation metrics for epoch 1=========\n",
      "{'Accuracy': 0.568, 'Avg Ones': 1.0, 'Loss': 0.6850947}\n",
      "============Training metrics for epoch 2=========\n"
     ]
    },
    {
     "name": "stderr",
     "output_type": "stream",
     "text": [
      " 15%|█▍        | 125/840 [00:08<00:33, 21.54it/s]"
     ]
    },
    {
     "name": "stdout",
     "output_type": "stream",
     "text": [
      "Epoch loss: 0.6871573328971863\n"
     ]
    },
    {
     "name": "stderr",
     "output_type": "stream",
     "text": [
      " 15%|█▌        | 128/840 [00:09<01:33,  7.60it/s]"
     ]
    },
    {
     "name": "stdout",
     "output_type": "stream",
     "text": [
      "============Validation metrics for epoch 2=========\n",
      "{'Accuracy': 0.568, 'Avg Ones': 1.0, 'Loss': 0.6841769}\n",
      "============Training metrics for epoch 3=========\n"
     ]
    },
    {
     "name": "stderr",
     "output_type": "stream",
     "text": [
      " 20%|█▉        | 167/840 [00:10<00:31, 21.55it/s]"
     ]
    },
    {
     "name": "stdout",
     "output_type": "stream",
     "text": [
      "Epoch loss: 0.686660885810852\n"
     ]
    },
    {
     "name": "stderr",
     "output_type": "stream",
     "text": [
      " 20%|██        | 170/840 [00:11<01:28,  7.57it/s]"
     ]
    },
    {
     "name": "stdout",
     "output_type": "stream",
     "text": [
      "============Validation metrics for epoch 3=========\n",
      "{'Accuracy': 0.568, 'Avg Ones': 1.0, 'Loss': 0.68403345}\n",
      "============Training metrics for epoch 4=========\n"
     ]
    },
    {
     "name": "stderr",
     "output_type": "stream",
     "text": [
      " 25%|██▍       | 209/840 [00:13<00:29, 21.47it/s]"
     ]
    },
    {
     "name": "stdout",
     "output_type": "stream",
     "text": [
      "Epoch loss: 0.6864696145057678\n"
     ]
    },
    {
     "name": "stderr",
     "output_type": "stream",
     "text": [
      " 25%|██▌       | 212/840 [00:14<01:22,  7.62it/s]"
     ]
    },
    {
     "name": "stdout",
     "output_type": "stream",
     "text": [
      "============Validation metrics for epoch 4=========\n",
      "{'Accuracy': 0.568, 'Avg Ones': 1.0, 'Loss': 0.68403435}\n",
      "============Training metrics for epoch 5=========\n"
     ]
    },
    {
     "name": "stderr",
     "output_type": "stream",
     "text": [
      " 30%|██▉       | 251/840 [00:16<00:27, 21.58it/s]"
     ]
    },
    {
     "name": "stdout",
     "output_type": "stream",
     "text": [
      "Epoch loss: 0.6861869692802429\n"
     ]
    },
    {
     "name": "stderr",
     "output_type": "stream",
     "text": [
      " 30%|███       | 254/840 [00:17<01:15,  7.72it/s]"
     ]
    },
    {
     "name": "stdout",
     "output_type": "stream",
     "text": [
      "============Validation metrics for epoch 5=========\n",
      "{'Accuracy': 0.568, 'Avg Ones': 1.0, 'Loss': 0.6840291}\n",
      "============Training metrics for epoch 6=========\n"
     ]
    },
    {
     "name": "stderr",
     "output_type": "stream",
     "text": [
      " 35%|███▍      | 292/840 [00:19<00:25, 21.47it/s]"
     ]
    },
    {
     "name": "stdout",
     "output_type": "stream",
     "text": [
      "Epoch loss: 0.6857951283454895\n"
     ]
    },
    {
     "name": "stderr",
     "output_type": "stream",
     "text": [
      " 35%|███▌      | 298/840 [00:20<00:57,  9.47it/s]"
     ]
    },
    {
     "name": "stdout",
     "output_type": "stream",
     "text": [
      "============Validation metrics for epoch 6=========\n",
      "{'Accuracy': 0.568, 'Avg Ones': 1.0, 'Loss': 0.68402916}\n",
      "============Training metrics for epoch 7=========\n"
     ]
    },
    {
     "name": "stderr",
     "output_type": "stream",
     "text": [
      " 40%|███▉      | 334/840 [00:22<00:23, 21.55it/s]"
     ]
    },
    {
     "name": "stdout",
     "output_type": "stream",
     "text": [
      "Epoch loss: 0.6856781244277954\n"
     ]
    },
    {
     "name": "stderr",
     "output_type": "stream",
     "text": [
      " 40%|████      | 340/840 [00:23<00:52,  9.45it/s]"
     ]
    },
    {
     "name": "stdout",
     "output_type": "stream",
     "text": [
      "============Validation metrics for epoch 7=========\n",
      "{'Accuracy': 0.568, 'Avg Ones': 1.0, 'Loss': 0.68403065}\n",
      "============Training metrics for epoch 8=========\n"
     ]
    },
    {
     "name": "stderr",
     "output_type": "stream",
     "text": [
      " 45%|████▌     | 378/840 [00:24<00:21, 21.78it/s]"
     ]
    },
    {
     "name": "stdout",
     "output_type": "stream",
     "text": [
      "Epoch loss: 0.6855252981185913\n"
     ]
    },
    {
     "name": "stderr",
     "output_type": "stream",
     "text": [
      " 45%|████▌     | 381/840 [00:25<00:59,  7.66it/s]"
     ]
    },
    {
     "name": "stdout",
     "output_type": "stream",
     "text": [
      "============Validation metrics for epoch 8=========\n",
      "{'Accuracy': 0.568, 'Avg Ones': 1.0, 'Loss': 0.68403465}\n",
      "============Training metrics for epoch 9=========\n"
     ]
    },
    {
     "name": "stderr",
     "output_type": "stream",
     "text": [
      " 50%|█████     | 420/840 [00:27<00:19, 21.61it/s]"
     ]
    },
    {
     "name": "stdout",
     "output_type": "stream",
     "text": [
      "Epoch loss: 0.6853387355804443\n"
     ]
    },
    {
     "name": "stderr",
     "output_type": "stream",
     "text": [
      " 50%|█████     | 423/840 [00:28<00:54,  7.62it/s]"
     ]
    },
    {
     "name": "stdout",
     "output_type": "stream",
     "text": [
      "============Validation metrics for epoch 9=========\n",
      "{'Accuracy': 0.568, 'Avg Ones': 1.0, 'Loss': 0.68402904}\n",
      "============Training metrics for epoch 10=========\n"
     ]
    },
    {
     "name": "stderr",
     "output_type": "stream",
     "text": [
      " 55%|█████▌    | 462/840 [00:30<00:17, 21.67it/s]"
     ]
    },
    {
     "name": "stdout",
     "output_type": "stream",
     "text": [
      "Epoch loss: 0.6851621866226196\n"
     ]
    },
    {
     "name": "stderr",
     "output_type": "stream",
     "text": [
      " 55%|█████▌    | 465/840 [00:31<00:49,  7.61it/s]"
     ]
    },
    {
     "name": "stdout",
     "output_type": "stream",
     "text": [
      "============Validation metrics for epoch 10=========\n",
      "{'Accuracy': 0.568, 'Avg Ones': 1.0, 'Loss': 0.6840267}\n",
      "============Training metrics for epoch 11=========\n"
     ]
    },
    {
     "name": "stderr",
     "output_type": "stream",
     "text": [
      " 60%|██████    | 504/840 [00:33<00:15, 21.67it/s]"
     ]
    },
    {
     "name": "stdout",
     "output_type": "stream",
     "text": [
      "Epoch loss: 0.6850393414497375\n"
     ]
    },
    {
     "name": "stderr",
     "output_type": "stream",
     "text": [
      " 60%|██████    | 507/840 [00:34<00:43,  7.61it/s]"
     ]
    },
    {
     "name": "stdout",
     "output_type": "stream",
     "text": [
      "============Validation metrics for epoch 11=========\n",
      "{'Accuracy': 0.568, 'Avg Ones': 1.0, 'Loss': 0.6840245}\n",
      "============Training metrics for epoch 12=========\n"
     ]
    },
    {
     "name": "stderr",
     "output_type": "stream",
     "text": [
      " 65%|██████▌   | 546/840 [00:35<00:13, 21.75it/s]"
     ]
    },
    {
     "name": "stdout",
     "output_type": "stream",
     "text": [
      "Epoch loss: 0.6849284172058105\n"
     ]
    },
    {
     "name": "stderr",
     "output_type": "stream",
     "text": [
      " 65%|██████▌   | 549/840 [00:36<00:38,  7.62it/s]"
     ]
    },
    {
     "name": "stdout",
     "output_type": "stream",
     "text": [
      "============Validation metrics for epoch 12=========\n",
      "{'Accuracy': 0.568, 'Avg Ones': 1.0, 'Loss': 0.6840222}\n",
      "============Training metrics for epoch 13=========\n"
     ]
    },
    {
     "name": "stderr",
     "output_type": "stream",
     "text": [
      " 70%|███████   | 588/840 [00:38<00:11, 21.73it/s]"
     ]
    },
    {
     "name": "stdout",
     "output_type": "stream",
     "text": [
      "Epoch loss: 0.6848154067993164\n"
     ]
    },
    {
     "name": "stderr",
     "output_type": "stream",
     "text": [
      " 70%|███████   | 591/840 [00:39<00:32,  7.69it/s]"
     ]
    },
    {
     "name": "stdout",
     "output_type": "stream",
     "text": [
      "============Validation metrics for epoch 13=========\n",
      "{'Accuracy': 0.568, 'Avg Ones': 1.0, 'Loss': 0.6840205}\n",
      "============Training metrics for epoch 14=========\n"
     ]
    },
    {
     "name": "stderr",
     "output_type": "stream",
     "text": [
      " 75%|███████▌  | 630/840 [00:41<00:09, 21.76it/s]"
     ]
    },
    {
     "name": "stdout",
     "output_type": "stream",
     "text": [
      "Epoch loss: 0.6847101449966431\n"
     ]
    },
    {
     "name": "stderr",
     "output_type": "stream",
     "text": [
      " 75%|███████▌  | 633/840 [00:42<00:27,  7.62it/s]"
     ]
    },
    {
     "name": "stdout",
     "output_type": "stream",
     "text": [
      "============Validation metrics for epoch 14=========\n",
      "{'Accuracy': 0.568, 'Avg Ones': 1.0, 'Loss': 0.6840184}\n",
      "============Training metrics for epoch 15=========\n"
     ]
    },
    {
     "name": "stderr",
     "output_type": "stream",
     "text": [
      " 80%|███████▉  | 671/840 [00:44<00:07, 21.62it/s]"
     ]
    },
    {
     "name": "stdout",
     "output_type": "stream",
     "text": [
      "Epoch loss: 0.6846144795417786\n"
     ]
    },
    {
     "name": "stderr",
     "output_type": "stream",
     "text": [
      " 80%|████████  | 674/840 [00:45<00:21,  7.56it/s]"
     ]
    },
    {
     "name": "stdout",
     "output_type": "stream",
     "text": [
      "============Validation metrics for epoch 15=========\n",
      "{'Accuracy': 0.568, 'Avg Ones': 1.0, 'Loss': 0.68401843}\n",
      "============Training metrics for epoch 16=========\n"
     ]
    },
    {
     "name": "stderr",
     "output_type": "stream",
     "text": [
      " 85%|████████▍ | 713/840 [00:47<00:05, 21.63it/s]"
     ]
    },
    {
     "name": "stdout",
     "output_type": "stream",
     "text": [
      "Epoch loss: 0.684508740901947\n"
     ]
    },
    {
     "name": "stderr",
     "output_type": "stream",
     "text": [
      " 85%|████████▌ | 716/840 [00:47<00:16,  7.69it/s]"
     ]
    },
    {
     "name": "stdout",
     "output_type": "stream",
     "text": [
      "============Validation metrics for epoch 16=========\n",
      "{'Accuracy': 0.568, 'Avg Ones': 1.0, 'Loss': 0.6840177}\n",
      "============Training metrics for epoch 17=========\n"
     ]
    },
    {
     "name": "stderr",
     "output_type": "stream",
     "text": [
      " 90%|████████▉ | 755/840 [00:49<00:03, 21.67it/s]"
     ]
    },
    {
     "name": "stdout",
     "output_type": "stream",
     "text": [
      "Epoch loss: 0.6844069361686707\n"
     ]
    },
    {
     "name": "stderr",
     "output_type": "stream",
     "text": [
      " 90%|█████████ | 758/840 [00:50<00:10,  7.67it/s]"
     ]
    },
    {
     "name": "stdout",
     "output_type": "stream",
     "text": [
      "============Validation metrics for epoch 17=========\n",
      "{'Accuracy': 0.568, 'Avg Ones': 1.0, 'Loss': 0.68401766}\n",
      "============Training metrics for epoch 18=========\n"
     ]
    },
    {
     "name": "stderr",
     "output_type": "stream",
     "text": [
      " 95%|█████████▍| 797/840 [00:52<00:01, 21.52it/s]"
     ]
    },
    {
     "name": "stdout",
     "output_type": "stream",
     "text": [
      "Epoch loss: 0.6843061447143555\n"
     ]
    },
    {
     "name": "stderr",
     "output_type": "stream",
     "text": [
      " 95%|█████████▌| 800/840 [00:53<00:05,  7.59it/s]"
     ]
    },
    {
     "name": "stdout",
     "output_type": "stream",
     "text": [
      "============Validation metrics for epoch 18=========\n",
      "{'Accuracy': 0.568, 'Avg Ones': 1.0, 'Loss': 0.68401766}\n",
      "============Training metrics for epoch 19=========\n"
     ]
    },
    {
     "name": "stderr",
     "output_type": "stream",
     "text": [
      "100%|█████████▉| 839/840 [00:55<00:00, 21.50it/s]"
     ]
    },
    {
     "name": "stdout",
     "output_type": "stream",
     "text": [
      "Epoch loss: 0.6842058897018433\n"
     ]
    },
    {
     "name": "stderr",
     "output_type": "stream",
     "text": [
      "100%|██████████| 840/840 [00:56<00:00, 14.95it/s]"
     ]
    },
    {
     "name": "stdout",
     "output_type": "stream",
     "text": [
      "============Validation metrics for epoch 19=========\n",
      "{'Accuracy': 0.568, 'Avg Ones': 1.0, 'Loss': 0.6840182}\n"
     ]
    },
    {
     "name": "stderr",
     "output_type": "stream",
     "text": [
      "\n"
     ]
    }
   ],
   "source": [
    "n_epochs = 20\n",
    "\n",
    "train_losses_list, val_metrics_list = train(mygpt2_qed_model, n_epochs, qed_train_dataloader, qed_eval_dataloader, qed_compute_metrics)"
   ]
  },
  {
   "cell_type": "code",
   "execution_count": 35,
   "id": "e9374fb0",
   "metadata": {},
   "outputs": [],
   "source": [
    "from matplotlib.pylab import plt\n",
    "\n",
    "def plot_metric(epochs, metrics_dict, title, metrics_label):\n",
    "    \"\"\"\n",
    "    Plot metrics per epoch\n",
    "    \"\"\"\n",
    "\n",
    "    for label, metric in metrics_dict.items():\n",
    "        plt.plot(epochs, metric, label=label)\n",
    "    plt.title(title)\n",
    "    plt.xlabel('Epochs')\n",
    "    plt.ylabel(metrics_label)\n",
    "    plt.xticks(range(0, len(epochs), 1))\n",
    "    plt.legend(loc='best')\n",
    "    plt.show()"
   ]
  },
  {
   "cell_type": "code",
   "execution_count": 36,
   "id": "f6fa6cec",
   "metadata": {},
   "outputs": [
    {
     "data": {
      "image/png": "[encoded data removed]",
      "text/plain": [
       "<Figure size 640x480 with 1 Axes>"
      ]
     },
     "metadata": {},
     "output_type": "display_data"
    }
   ],
   "source": [
    "loss_dict = {\n",
    "    \"Train Loss\": train_losses_list,\n",
    "    \"Val Loss\": [x[\"Loss\"] for x in val_metrics_list]\n",
    "}\n",
    "\n",
    "plot_metric(list(range(n_epochs)), loss_dict, \"Training and Validation Loss\", \"loss\")"
   ]
  },
  {
   "cell_type": "code",
   "execution_count": 5,
   "id": "6973e790-3dc9-430e-b620-8cc936fb5752",
   "metadata": {
    "scrolled": true
   },
   "outputs": [],
   "source": [
    "### QED GPT2\n",
    "mygpt2_qed_trainer = Trainer(mygpt2_qed_model, qed_training_args,\n",
    "    train_dataset = qed_train_dataset,\n",
    "    eval_dataset = qed_test_dataset,\n",
    "    compute_metrics = qed_compute_metrics)\n",
    "# mygpt2_qed_trainer.train()"
   ]
  },
  {
   "cell_type": "code",
   "execution_count": 6,
   "id": "087439c1-e512-4fdf-96c2-578aae85a7ec",
   "metadata": {},
   "outputs": [],
   "source": [
    "### QED MyTf\n",
    "mytf_qed_trainer = Trainer(mytf_qed_model, qed_training_args,\n",
    "    train_dataset = qed_train_dataset,\n",
    "    eval_dataset = qed_test_dataset,\n",
    "    compute_metrics = qed_compute_metrics)\n",
    "# mytf_qed_trainer.train()"
   ]
  },
  {
   "cell_type": "code",
   "execution_count": null,
   "id": "9193d5ab-6de1-4158-822c-1206b629383b",
   "metadata": {},
   "outputs": [],
   "source": []
  },
  {
   "cell_type": "code",
   "execution_count": null,
   "id": "df1969a6-15fd-4941-9312-d60ebc8b9dbd",
   "metadata": {},
   "outputs": [
    {
     "name": "stderr",
     "output_type": "stream",
     "text": [
      "***** Running training *****\n",
      "  Num examples = 1,000\n",
      "  Num Epochs = 100\n",
      "  Instantaneous batch size per device = 24\n",
      "  Total train batch size (w. parallel, distributed & accumulation) = 24\n",
      "  Gradient Accumulation steps = 1\n",
      "  Total optimization steps = 4,200\n",
      "  Number of trainable parameters = 126,424,325\n"
     ]
    },
    {
     "data": {
      "text/html": [
       "\n",
       "    <div>\n",
       "      \n",
       "      <progress value='3907' max='4200' style='width:300px; height:20px; vertical-align: middle;'></progress>\n",
       "      [3907/4200 10:31 < 00:47, 6.18 it/s, Epoch 93/100]\n",
       "    </div>\n",
       "    <table border=\"1\" class=\"dataframe\">\n",
       "  <thead>\n",
       " <tr style=\"text-align: left;\">\n",
       "      <th>Epoch</th>\n",
       "      <th>Training Loss</th>\n",
       "      <th>Validation Loss</th>\n",
       "      <th>Accuracy</th>\n",
       "      <th>Avg ones</th>\n",
       "    </tr>\n",
       "  </thead>\n",
       "  <tbody>\n",
       "    <tr>\n",
       "      <td>1</td>\n",
       "      <td>0.533100</td>\n",
       "      <td>0.538160</td>\n",
       "      <td>0.779200</td>\n",
       "      <td>1.000000</td>\n",
       "    </tr>\n",
       "    <tr>\n",
       "      <td>2</td>\n",
       "      <td>0.547400</td>\n",
       "      <td>0.531928</td>\n",
       "      <td>0.779200</td>\n",
       "      <td>1.000000</td>\n",
       "    </tr>\n",
       "    <tr>\n",
       "      <td>3</td>\n",
       "      <td>0.528100</td>\n",
       "      <td>0.540472</td>\n",
       "      <td>0.779200</td>\n",
       "      <td>1.000000</td>\n",
       "    </tr>\n",
       "    <tr>\n",
       "      <td>4</td>\n",
       "      <td>0.523000</td>\n",
       "      <td>0.535523</td>\n",
       "      <td>0.779200</td>\n",
       "      <td>1.000000</td>\n",
       "    </tr>\n",
       "    <tr>\n",
       "      <td>5</td>\n",
       "      <td>0.459200</td>\n",
       "      <td>0.562002</td>\n",
       "      <td>0.779200</td>\n",
       "      <td>1.000000</td>\n",
       "    </tr>\n",
       "    <tr>\n",
       "      <td>6</td>\n",
       "      <td>0.444900</td>\n",
       "      <td>0.567684</td>\n",
       "      <td>0.779200</td>\n",
       "      <td>1.000000</td>\n",
       "    </tr>\n",
       "    <tr>\n",
       "      <td>7</td>\n",
       "      <td>0.373100</td>\n",
       "      <td>0.550001</td>\n",
       "      <td>0.779200</td>\n",
       "      <td>1.000000</td>\n",
       "    </tr>\n",
       "    <tr>\n",
       "      <td>8</td>\n",
       "      <td>0.325000</td>\n",
       "      <td>0.719572</td>\n",
       "      <td>0.779200</td>\n",
       "      <td>1.000000</td>\n",
       "    </tr>\n",
       "    <tr>\n",
       "      <td>9</td>\n",
       "      <td>0.256400</td>\n",
       "      <td>0.817121</td>\n",
       "      <td>0.779200</td>\n",
       "      <td>1.000000</td>\n",
       "    </tr>\n",
       "    <tr>\n",
       "      <td>10</td>\n",
       "      <td>0.297800</td>\n",
       "      <td>1.107274</td>\n",
       "      <td>0.779200</td>\n",
       "      <td>1.000000</td>\n",
       "    </tr>\n",
       "    <tr>\n",
       "      <td>11</td>\n",
       "      <td>0.176600</td>\n",
       "      <td>1.245744</td>\n",
       "      <td>0.779200</td>\n",
       "      <td>1.000000</td>\n",
       "    </tr>\n",
       "    <tr>\n",
       "      <td>12</td>\n",
       "      <td>0.090500</td>\n",
       "      <td>1.325143</td>\n",
       "      <td>0.566400</td>\n",
       "      <td>0.600000</td>\n",
       "    </tr>\n",
       "    <tr>\n",
       "      <td>13</td>\n",
       "      <td>0.104100</td>\n",
       "      <td>1.484622</td>\n",
       "      <td>0.682400</td>\n",
       "      <td>0.800000</td>\n",
       "    </tr>\n",
       "    <tr>\n",
       "      <td>14</td>\n",
       "      <td>0.121700</td>\n",
       "      <td>0.937791</td>\n",
       "      <td>0.663200</td>\n",
       "      <td>0.800000</td>\n",
       "    </tr>\n",
       "    <tr>\n",
       "      <td>15</td>\n",
       "      <td>0.056000</td>\n",
       "      <td>1.608047</td>\n",
       "      <td>0.536800</td>\n",
       "      <td>0.600000</td>\n",
       "    </tr>\n",
       "    <tr>\n",
       "      <td>16</td>\n",
       "      <td>0.090200</td>\n",
       "      <td>2.035453</td>\n",
       "      <td>0.536800</td>\n",
       "      <td>0.600000</td>\n",
       "    </tr>\n",
       "    <tr>\n",
       "      <td>17</td>\n",
       "      <td>0.033400</td>\n",
       "      <td>1.811863</td>\n",
       "      <td>0.540000</td>\n",
       "      <td>0.600000</td>\n",
       "    </tr>\n",
       "    <tr>\n",
       "      <td>18</td>\n",
       "      <td>0.014800</td>\n",
       "      <td>1.463182</td>\n",
       "      <td>0.779200</td>\n",
       "      <td>1.000000</td>\n",
       "    </tr>\n",
       "    <tr>\n",
       "      <td>19</td>\n",
       "      <td>0.013900</td>\n",
       "      <td>1.705347</td>\n",
       "      <td>0.656000</td>\n",
       "      <td>0.800000</td>\n",
       "    </tr>\n",
       "    <tr>\n",
       "      <td>20</td>\n",
       "      <td>0.025800</td>\n",
       "      <td>1.783778</td>\n",
       "      <td>0.663200</td>\n",
       "      <td>0.800000</td>\n",
       "    </tr>\n",
       "    <tr>\n",
       "      <td>21</td>\n",
       "      <td>0.016400</td>\n",
       "      <td>5.212228</td>\n",
       "      <td>0.540000</td>\n",
       "      <td>0.600000</td>\n",
       "    </tr>\n",
       "    <tr>\n",
       "      <td>22</td>\n",
       "      <td>0.003100</td>\n",
       "      <td>5.312618</td>\n",
       "      <td>0.779200</td>\n",
       "      <td>1.000000</td>\n",
       "    </tr>\n",
       "    <tr>\n",
       "      <td>23</td>\n",
       "      <td>0.003500</td>\n",
       "      <td>5.530915</td>\n",
       "      <td>0.656000</td>\n",
       "      <td>0.800000</td>\n",
       "    </tr>\n",
       "    <tr>\n",
       "      <td>24</td>\n",
       "      <td>0.001500</td>\n",
       "      <td>2.147890</td>\n",
       "      <td>0.779200</td>\n",
       "      <td>1.000000</td>\n",
       "    </tr>\n",
       "    <tr>\n",
       "      <td>25</td>\n",
       "      <td>0.000600</td>\n",
       "      <td>2.408249</td>\n",
       "      <td>0.779200</td>\n",
       "      <td>1.000000</td>\n",
       "    </tr>\n",
       "    <tr>\n",
       "      <td>26</td>\n",
       "      <td>0.000900</td>\n",
       "      <td>2.357039</td>\n",
       "      <td>0.779200</td>\n",
       "      <td>1.000000</td>\n",
       "    </tr>\n",
       "    <tr>\n",
       "      <td>27</td>\n",
       "      <td>0.000600</td>\n",
       "      <td>2.356028</td>\n",
       "      <td>0.779200</td>\n",
       "      <td>1.000000</td>\n",
       "    </tr>\n",
       "    <tr>\n",
       "      <td>28</td>\n",
       "      <td>0.000600</td>\n",
       "      <td>5.856761</td>\n",
       "      <td>0.779200</td>\n",
       "      <td>1.000000</td>\n",
       "    </tr>\n",
       "    <tr>\n",
       "      <td>29</td>\n",
       "      <td>0.000400</td>\n",
       "      <td>5.862208</td>\n",
       "      <td>0.779200</td>\n",
       "      <td>1.000000</td>\n",
       "    </tr>\n",
       "    <tr>\n",
       "      <td>30</td>\n",
       "      <td>0.000300</td>\n",
       "      <td>2.391222</td>\n",
       "      <td>0.779200</td>\n",
       "      <td>1.000000</td>\n",
       "    </tr>\n",
       "    <tr>\n",
       "      <td>31</td>\n",
       "      <td>0.000300</td>\n",
       "      <td>2.402852</td>\n",
       "      <td>0.779200</td>\n",
       "      <td>1.000000</td>\n",
       "    </tr>\n",
       "    <tr>\n",
       "      <td>32</td>\n",
       "      <td>0.000300</td>\n",
       "      <td>2.416231</td>\n",
       "      <td>0.779200</td>\n",
       "      <td>1.000000</td>\n",
       "    </tr>\n",
       "    <tr>\n",
       "      <td>33</td>\n",
       "      <td>0.000200</td>\n",
       "      <td>2.429330</td>\n",
       "      <td>0.779200</td>\n",
       "      <td>1.000000</td>\n",
       "    </tr>\n",
       "    <tr>\n",
       "      <td>34</td>\n",
       "      <td>0.000200</td>\n",
       "      <td>2.438496</td>\n",
       "      <td>0.779200</td>\n",
       "      <td>1.000000</td>\n",
       "    </tr>\n",
       "    <tr>\n",
       "      <td>35</td>\n",
       "      <td>0.000200</td>\n",
       "      <td>2.447646</td>\n",
       "      <td>0.779200</td>\n",
       "      <td>1.000000</td>\n",
       "    </tr>\n",
       "    <tr>\n",
       "      <td>36</td>\n",
       "      <td>0.000200</td>\n",
       "      <td>2.454325</td>\n",
       "      <td>0.779200</td>\n",
       "      <td>1.000000</td>\n",
       "    </tr>\n",
       "    <tr>\n",
       "      <td>37</td>\n",
       "      <td>0.000200</td>\n",
       "      <td>2.460700</td>\n",
       "      <td>0.779200</td>\n",
       "      <td>1.000000</td>\n",
       "    </tr>\n",
       "    <tr>\n",
       "      <td>38</td>\n",
       "      <td>0.000200</td>\n",
       "      <td>2.466673</td>\n",
       "      <td>0.779200</td>\n",
       "      <td>1.000000</td>\n",
       "    </tr>\n",
       "    <tr>\n",
       "      <td>39</td>\n",
       "      <td>0.000200</td>\n",
       "      <td>2.471555</td>\n",
       "      <td>0.779200</td>\n",
       "      <td>1.000000</td>\n",
       "    </tr>\n",
       "    <tr>\n",
       "      <td>40</td>\n",
       "      <td>0.000100</td>\n",
       "      <td>2.477307</td>\n",
       "      <td>0.779200</td>\n",
       "      <td>1.000000</td>\n",
       "    </tr>\n",
       "    <tr>\n",
       "      <td>41</td>\n",
       "      <td>0.000200</td>\n",
       "      <td>2.484222</td>\n",
       "      <td>0.779200</td>\n",
       "      <td>1.000000</td>\n",
       "    </tr>\n",
       "    <tr>\n",
       "      <td>42</td>\n",
       "      <td>0.000100</td>\n",
       "      <td>2.488211</td>\n",
       "      <td>0.779200</td>\n",
       "      <td>1.000000</td>\n",
       "    </tr>\n",
       "    <tr>\n",
       "      <td>43</td>\n",
       "      <td>0.000100</td>\n",
       "      <td>2.492499</td>\n",
       "      <td>0.779200</td>\n",
       "      <td>1.000000</td>\n",
       "    </tr>\n",
       "    <tr>\n",
       "      <td>44</td>\n",
       "      <td>0.000100</td>\n",
       "      <td>2.496842</td>\n",
       "      <td>0.779200</td>\n",
       "      <td>1.000000</td>\n",
       "    </tr>\n",
       "    <tr>\n",
       "      <td>45</td>\n",
       "      <td>0.000100</td>\n",
       "      <td>2.502855</td>\n",
       "      <td>0.779200</td>\n",
       "      <td>1.000000</td>\n",
       "    </tr>\n",
       "    <tr>\n",
       "      <td>46</td>\n",
       "      <td>0.000100</td>\n",
       "      <td>2.505090</td>\n",
       "      <td>0.779200</td>\n",
       "      <td>1.000000</td>\n",
       "    </tr>\n",
       "    <tr>\n",
       "      <td>47</td>\n",
       "      <td>0.000100</td>\n",
       "      <td>2.511508</td>\n",
       "      <td>0.779200</td>\n",
       "      <td>1.000000</td>\n",
       "    </tr>\n",
       "    <tr>\n",
       "      <td>48</td>\n",
       "      <td>0.000100</td>\n",
       "      <td>2.514202</td>\n",
       "      <td>0.779200</td>\n",
       "      <td>1.000000</td>\n",
       "    </tr>\n",
       "    <tr>\n",
       "      <td>49</td>\n",
       "      <td>0.000100</td>\n",
       "      <td>2.516758</td>\n",
       "      <td>0.779200</td>\n",
       "      <td>1.000000</td>\n",
       "    </tr>\n",
       "    <tr>\n",
       "      <td>50</td>\n",
       "      <td>0.000100</td>\n",
       "      <td>2.523776</td>\n",
       "      <td>0.779200</td>\n",
       "      <td>1.000000</td>\n",
       "    </tr>\n",
       "    <tr>\n",
       "      <td>51</td>\n",
       "      <td>0.000100</td>\n",
       "      <td>2.525197</td>\n",
       "      <td>0.779200</td>\n",
       "      <td>1.000000</td>\n",
       "    </tr>\n",
       "    <tr>\n",
       "      <td>52</td>\n",
       "      <td>0.000100</td>\n",
       "      <td>2.528247</td>\n",
       "      <td>0.779200</td>\n",
       "      <td>1.000000</td>\n",
       "    </tr>\n",
       "    <tr>\n",
       "      <td>53</td>\n",
       "      <td>0.000100</td>\n",
       "      <td>2.535896</td>\n",
       "      <td>0.779200</td>\n",
       "      <td>1.000000</td>\n",
       "    </tr>\n",
       "    <tr>\n",
       "      <td>54</td>\n",
       "      <td>0.000100</td>\n",
       "      <td>2.537508</td>\n",
       "      <td>0.779200</td>\n",
       "      <td>1.000000</td>\n",
       "    </tr>\n",
       "    <tr>\n",
       "      <td>55</td>\n",
       "      <td>0.000100</td>\n",
       "      <td>2.540899</td>\n",
       "      <td>0.779200</td>\n",
       "      <td>1.000000</td>\n",
       "    </tr>\n",
       "    <tr>\n",
       "      <td>56</td>\n",
       "      <td>0.000100</td>\n",
       "      <td>2.542626</td>\n",
       "      <td>0.779200</td>\n",
       "      <td>1.000000</td>\n",
       "    </tr>\n",
       "    <tr>\n",
       "      <td>57</td>\n",
       "      <td>0.000100</td>\n",
       "      <td>2.549337</td>\n",
       "      <td>0.779200</td>\n",
       "      <td>1.000000</td>\n",
       "    </tr>\n",
       "    <tr>\n",
       "      <td>58</td>\n",
       "      <td>0.000100</td>\n",
       "      <td>2.580306</td>\n",
       "      <td>0.779200</td>\n",
       "      <td>1.000000</td>\n",
       "    </tr>\n",
       "    <tr>\n",
       "      <td>59</td>\n",
       "      <td>0.000100</td>\n",
       "      <td>2.582233</td>\n",
       "      <td>0.779200</td>\n",
       "      <td>1.000000</td>\n",
       "    </tr>\n",
       "    <tr>\n",
       "      <td>60</td>\n",
       "      <td>0.000100</td>\n",
       "      <td>2.586120</td>\n",
       "      <td>0.779200</td>\n",
       "      <td>1.000000</td>\n",
       "    </tr>\n",
       "    <tr>\n",
       "      <td>61</td>\n",
       "      <td>0.000100</td>\n",
       "      <td>2.586159</td>\n",
       "      <td>0.779200</td>\n",
       "      <td>1.000000</td>\n",
       "    </tr>\n",
       "    <tr>\n",
       "      <td>62</td>\n",
       "      <td>0.000100</td>\n",
       "      <td>2.593551</td>\n",
       "      <td>0.779200</td>\n",
       "      <td>1.000000</td>\n",
       "    </tr>\n",
       "    <tr>\n",
       "      <td>63</td>\n",
       "      <td>0.000100</td>\n",
       "      <td>2.595737</td>\n",
       "      <td>0.779200</td>\n",
       "      <td>1.000000</td>\n",
       "    </tr>\n",
       "    <tr>\n",
       "      <td>64</td>\n",
       "      <td>0.000100</td>\n",
       "      <td>2.598021</td>\n",
       "      <td>0.779200</td>\n",
       "      <td>1.000000</td>\n",
       "    </tr>\n",
       "    <tr>\n",
       "      <td>65</td>\n",
       "      <td>0.000100</td>\n",
       "      <td>2.600121</td>\n",
       "      <td>0.779200</td>\n",
       "      <td>1.000000</td>\n",
       "    </tr>\n",
       "    <tr>\n",
       "      <td>66</td>\n",
       "      <td>0.000100</td>\n",
       "      <td>2.602514</td>\n",
       "      <td>0.779200</td>\n",
       "      <td>1.000000</td>\n",
       "    </tr>\n",
       "    <tr>\n",
       "      <td>67</td>\n",
       "      <td>0.000100</td>\n",
       "      <td>2.606102</td>\n",
       "      <td>0.779200</td>\n",
       "      <td>1.000000</td>\n",
       "    </tr>\n",
       "    <tr>\n",
       "      <td>68</td>\n",
       "      <td>0.000100</td>\n",
       "      <td>2.610797</td>\n",
       "      <td>0.779200</td>\n",
       "      <td>1.000000</td>\n",
       "    </tr>\n",
       "    <tr>\n",
       "      <td>69</td>\n",
       "      <td>0.000100</td>\n",
       "      <td>2.610815</td>\n",
       "      <td>0.779200</td>\n",
       "      <td>1.000000</td>\n",
       "    </tr>\n",
       "    <tr>\n",
       "      <td>70</td>\n",
       "      <td>0.000100</td>\n",
       "      <td>2.613453</td>\n",
       "      <td>0.779200</td>\n",
       "      <td>1.000000</td>\n",
       "    </tr>\n",
       "    <tr>\n",
       "      <td>71</td>\n",
       "      <td>0.000100</td>\n",
       "      <td>2.615785</td>\n",
       "      <td>0.779200</td>\n",
       "      <td>1.000000</td>\n",
       "    </tr>\n",
       "    <tr>\n",
       "      <td>72</td>\n",
       "      <td>0.000100</td>\n",
       "      <td>2.618572</td>\n",
       "      <td>0.779200</td>\n",
       "      <td>1.000000</td>\n",
       "    </tr>\n",
       "    <tr>\n",
       "      <td>73</td>\n",
       "      <td>0.000100</td>\n",
       "      <td>2.622415</td>\n",
       "      <td>0.779200</td>\n",
       "      <td>1.000000</td>\n",
       "    </tr>\n",
       "    <tr>\n",
       "      <td>74</td>\n",
       "      <td>0.000100</td>\n",
       "      <td>2.625370</td>\n",
       "      <td>0.779200</td>\n",
       "      <td>1.000000</td>\n",
       "    </tr>\n",
       "    <tr>\n",
       "      <td>75</td>\n",
       "      <td>0.000000</td>\n",
       "      <td>2.627834</td>\n",
       "      <td>0.779200</td>\n",
       "      <td>1.000000</td>\n",
       "    </tr>\n",
       "    <tr>\n",
       "      <td>76</td>\n",
       "      <td>0.000100</td>\n",
       "      <td>2.627848</td>\n",
       "      <td>0.779200</td>\n",
       "      <td>1.000000</td>\n",
       "    </tr>\n",
       "    <tr>\n",
       "      <td>77</td>\n",
       "      <td>0.000100</td>\n",
       "      <td>2.630986</td>\n",
       "      <td>0.779200</td>\n",
       "      <td>1.000000</td>\n",
       "    </tr>\n",
       "    <tr>\n",
       "      <td>78</td>\n",
       "      <td>0.000100</td>\n",
       "      <td>2.631000</td>\n",
       "      <td>0.779200</td>\n",
       "      <td>1.000000</td>\n",
       "    </tr>\n",
       "    <tr>\n",
       "      <td>79</td>\n",
       "      <td>0.000100</td>\n",
       "      <td>2.633620</td>\n",
       "      <td>0.779200</td>\n",
       "      <td>1.000000</td>\n",
       "    </tr>\n",
       "    <tr>\n",
       "      <td>80</td>\n",
       "      <td>0.000000</td>\n",
       "      <td>2.636967</td>\n",
       "      <td>0.779200</td>\n",
       "      <td>1.000000</td>\n",
       "    </tr>\n",
       "    <tr>\n",
       "      <td>81</td>\n",
       "      <td>0.000100</td>\n",
       "      <td>2.636977</td>\n",
       "      <td>0.779200</td>\n",
       "      <td>1.000000</td>\n",
       "    </tr>\n",
       "    <tr>\n",
       "      <td>82</td>\n",
       "      <td>0.000100</td>\n",
       "      <td>2.641118</td>\n",
       "      <td>0.779200</td>\n",
       "      <td>1.000000</td>\n",
       "    </tr>\n",
       "    <tr>\n",
       "      <td>83</td>\n",
       "      <td>0.000100</td>\n",
       "      <td>2.641124</td>\n",
       "      <td>0.779200</td>\n",
       "      <td>1.000000</td>\n",
       "    </tr>\n",
       "    <tr>\n",
       "      <td>84</td>\n",
       "      <td>0.000100</td>\n",
       "      <td>2.647504</td>\n",
       "      <td>0.779200</td>\n",
       "      <td>1.000000</td>\n",
       "    </tr>\n",
       "    <tr>\n",
       "      <td>85</td>\n",
       "      <td>0.000000</td>\n",
       "      <td>2.647508</td>\n",
       "      <td>0.779200</td>\n",
       "      <td>1.000000</td>\n",
       "    </tr>\n",
       "    <tr>\n",
       "      <td>86</td>\n",
       "      <td>0.000100</td>\n",
       "      <td>2.647512</td>\n",
       "      <td>0.779200</td>\n",
       "      <td>1.000000</td>\n",
       "    </tr>\n",
       "    <tr>\n",
       "      <td>87</td>\n",
       "      <td>0.000000</td>\n",
       "      <td>2.647515</td>\n",
       "      <td>0.779200</td>\n",
       "      <td>1.000000</td>\n",
       "    </tr>\n",
       "    <tr>\n",
       "      <td>88</td>\n",
       "      <td>0.000000</td>\n",
       "      <td>2.647514</td>\n",
       "      <td>0.779200</td>\n",
       "      <td>1.000000</td>\n",
       "    </tr>\n",
       "    <tr>\n",
       "      <td>89</td>\n",
       "      <td>0.000000</td>\n",
       "      <td>2.651387</td>\n",
       "      <td>0.779200</td>\n",
       "      <td>1.000000</td>\n",
       "    </tr>\n",
       "    <tr>\n",
       "      <td>90</td>\n",
       "      <td>0.000000</td>\n",
       "      <td>2.651385</td>\n",
       "      <td>0.779200</td>\n",
       "      <td>1.000000</td>\n",
       "    </tr>\n",
       "    <tr>\n",
       "      <td>91</td>\n",
       "      <td>0.000100</td>\n",
       "      <td>2.651379</td>\n",
       "      <td>0.779200</td>\n",
       "      <td>1.000000</td>\n",
       "    </tr>\n",
       "    <tr>\n",
       "      <td>92</td>\n",
       "      <td>0.000000</td>\n",
       "      <td>2.654367</td>\n",
       "      <td>0.779200</td>\n",
       "      <td>1.000000</td>\n",
       "    </tr>\n",
       "  </tbody>\n",
       "</table><p>\n",
       "    <div>\n",
       "      \n",
       "      <progress value='20' max='21' style='width:300px; height:20px; vertical-align: middle;'></progress>\n",
       "      [20/21 00:02 < 00:00, 8.68 it/s]\n",
       "    </div>\n",
       "    "
      ],
      "text/plain": [
       "<IPython.core.display.HTML object>"
      ]
     },
     "metadata": {},
     "output_type": "display_data"
    },
    {
     "name": "stderr",
     "output_type": "stream",
     "text": [
      "***** Running Evaluation *****\n",
      "  Num examples = 500\n",
      "  Batch size = 24\n",
      "***** Running Evaluation *****\n",
      "  Num examples = 500\n",
      "  Batch size = 24\n",
      "***** Running Evaluation *****\n",
      "  Num examples = 500\n",
      "  Batch size = 24\n",
      "***** Running Evaluation *****\n",
      "  Num examples = 500\n",
      "  Batch size = 24\n",
      "***** Running Evaluation *****\n",
      "  Num examples = 500\n",
      "  Batch size = 24\n",
      "***** Running Evaluation *****\n",
      "  Num examples = 500\n",
      "  Batch size = 24\n",
      "***** Running Evaluation *****\n",
      "  Num examples = 500\n",
      "  Batch size = 24\n",
      "***** Running Evaluation *****\n",
      "  Num examples = 500\n",
      "  Batch size = 24\n",
      "***** Running Evaluation *****\n",
      "  Num examples = 500\n",
      "  Batch size = 24\n",
      "***** Running Evaluation *****\n",
      "  Num examples = 500\n",
      "  Batch size = 24\n",
      "***** Running Evaluation *****\n",
      "  Num examples = 500\n",
      "  Batch size = 24\n",
      "Saving model checkpoint to test-trainer/checkpoint-500\n",
      "Trainer.model is not a `PreTrainedModel`, only saving its state dict.\n",
      "***** Running Evaluation *****\n",
      "  Num examples = 500\n",
      "  Batch size = 24\n",
      "***** Running Evaluation *****\n",
      "  Num examples = 500\n",
      "  Batch size = 24\n",
      "***** Running Evaluation *****\n",
      "  Num examples = 500\n",
      "  Batch size = 24\n",
      "***** Running Evaluation *****\n",
      "  Num examples = 500\n",
      "  Batch size = 24\n",
      "***** Running Evaluation *****\n",
      "  Num examples = 500\n",
      "  Batch size = 24\n",
      "***** Running Evaluation *****\n",
      "  Num examples = 500\n",
      "  Batch size = 24\n",
      "***** Running Evaluation *****\n",
      "  Num examples = 500\n",
      "  Batch size = 24\n",
      "***** Running Evaluation *****\n",
      "  Num examples = 500\n",
      "  Batch size = 24\n",
      "***** Running Evaluation *****\n",
      "  Num examples = 500\n",
      "  Batch size = 24\n",
      "***** Running Evaluation *****\n",
      "  Num examples = 500\n",
      "  Batch size = 24\n",
      "***** Running Evaluation *****\n",
      "  Num examples = 500\n",
      "  Batch size = 24\n",
      "***** Running Evaluation *****\n",
      "  Num examples = 500\n",
      "  Batch size = 24\n",
      "Saving model checkpoint to test-trainer/checkpoint-1000\n",
      "Trainer.model is not a `PreTrainedModel`, only saving its state dict.\n",
      "***** Running Evaluation *****\n",
      "  Num examples = 500\n",
      "  Batch size = 24\n",
      "***** Running Evaluation *****\n",
      "  Num examples = 500\n",
      "  Batch size = 24\n",
      "***** Running Evaluation *****\n",
      "  Num examples = 500\n",
      "  Batch size = 24\n",
      "***** Running Evaluation *****\n",
      "  Num examples = 500\n",
      "  Batch size = 24\n",
      "***** Running Evaluation *****\n",
      "  Num examples = 500\n",
      "  Batch size = 24\n",
      "***** Running Evaluation *****\n",
      "  Num examples = 500\n",
      "  Batch size = 24\n",
      "***** Running Evaluation *****\n",
      "  Num examples = 500\n",
      "  Batch size = 24\n",
      "***** Running Evaluation *****\n",
      "  Num examples = 500\n",
      "  Batch size = 24\n",
      "***** Running Evaluation *****\n",
      "  Num examples = 500\n",
      "  Batch size = 24\n",
      "***** Running Evaluation *****\n",
      "  Num examples = 500\n",
      "  Batch size = 24\n",
      "***** Running Evaluation *****\n",
      "  Num examples = 500\n",
      "  Batch size = 24\n",
      "***** Running Evaluation *****\n",
      "  Num examples = 500\n",
      "  Batch size = 24\n",
      "Saving model checkpoint to test-trainer/checkpoint-1500\n",
      "Trainer.model is not a `PreTrainedModel`, only saving its state dict.\n",
      "***** Running Evaluation *****\n",
      "  Num examples = 500\n",
      "  Batch size = 24\n",
      "***** Running Evaluation *****\n",
      "  Num examples = 500\n",
      "  Batch size = 24\n",
      "***** Running Evaluation *****\n",
      "  Num examples = 500\n",
      "  Batch size = 24\n",
      "***** Running Evaluation *****\n",
      "  Num examples = 500\n",
      "  Batch size = 24\n",
      "***** Running Evaluation *****\n",
      "  Num examples = 500\n",
      "  Batch size = 24\n",
      "***** Running Evaluation *****\n",
      "  Num examples = 500\n",
      "  Batch size = 24\n",
      "***** Running Evaluation *****\n",
      "  Num examples = 500\n",
      "  Batch size = 24\n",
      "***** Running Evaluation *****\n",
      "  Num examples = 500\n",
      "  Batch size = 24\n",
      "***** Running Evaluation *****\n",
      "  Num examples = 500\n",
      "  Batch size = 24\n",
      "***** Running Evaluation *****\n",
      "  Num examples = 500\n",
      "  Batch size = 24\n",
      "***** Running Evaluation *****\n",
      "  Num examples = 500\n",
      "  Batch size = 24\n",
      "***** Running Evaluation *****\n",
      "  Num examples = 500\n",
      "  Batch size = 24\n",
      "Saving model checkpoint to test-trainer/checkpoint-2000\n",
      "Trainer.model is not a `PreTrainedModel`, only saving its state dict.\n",
      "***** Running Evaluation *****\n",
      "  Num examples = 500\n",
      "  Batch size = 24\n",
      "***** Running Evaluation *****\n",
      "  Num examples = 500\n",
      "  Batch size = 24\n",
      "***** Running Evaluation *****\n",
      "  Num examples = 500\n",
      "  Batch size = 24\n",
      "***** Running Evaluation *****\n",
      "  Num examples = 500\n",
      "  Batch size = 24\n",
      "***** Running Evaluation *****\n",
      "  Num examples = 500\n",
      "  Batch size = 24\n",
      "***** Running Evaluation *****\n",
      "  Num examples = 500\n",
      "  Batch size = 24\n",
      "***** Running Evaluation *****\n",
      "  Num examples = 500\n",
      "  Batch size = 24\n",
      "***** Running Evaluation *****\n",
      "  Num examples = 500\n",
      "  Batch size = 24\n",
      "***** Running Evaluation *****\n",
      "  Num examples = 500\n",
      "  Batch size = 24\n",
      "***** Running Evaluation *****\n",
      "  Num examples = 500\n",
      "  Batch size = 24\n",
      "***** Running Evaluation *****\n",
      "  Num examples = 500\n",
      "  Batch size = 24\n",
      "***** Running Evaluation *****\n",
      "  Num examples = 500\n",
      "  Batch size = 24\n",
      "Saving model checkpoint to test-trainer/checkpoint-2500\n",
      "Trainer.model is not a `PreTrainedModel`, only saving its state dict.\n",
      "***** Running Evaluation *****\n",
      "  Num examples = 500\n",
      "  Batch size = 24\n",
      "***** Running Evaluation *****\n",
      "  Num examples = 500\n",
      "  Batch size = 24\n",
      "***** Running Evaluation *****\n",
      "  Num examples = 500\n",
      "  Batch size = 24\n",
      "***** Running Evaluation *****\n",
      "  Num examples = 500\n",
      "  Batch size = 24\n",
      "***** Running Evaluation *****\n",
      "  Num examples = 500\n",
      "  Batch size = 24\n",
      "***** Running Evaluation *****\n",
      "  Num examples = 500\n",
      "  Batch size = 24\n",
      "***** Running Evaluation *****\n",
      "  Num examples = 500\n",
      "  Batch size = 24\n",
      "***** Running Evaluation *****\n",
      "  Num examples = 500\n",
      "  Batch size = 24\n",
      "***** Running Evaluation *****\n",
      "  Num examples = 500\n",
      "  Batch size = 24\n",
      "***** Running Evaluation *****\n",
      "  Num examples = 500\n",
      "  Batch size = 24\n",
      "***** Running Evaluation *****\n",
      "  Num examples = 500\n",
      "  Batch size = 24\n",
      "***** Running Evaluation *****\n",
      "  Num examples = 500\n",
      "  Batch size = 24\n",
      "Saving model checkpoint to test-trainer/checkpoint-3000\n",
      "Trainer.model is not a `PreTrainedModel`, only saving its state dict.\n",
      "***** Running Evaluation *****\n",
      "  Num examples = 500\n",
      "  Batch size = 24\n",
      "***** Running Evaluation *****\n",
      "  Num examples = 500\n",
      "  Batch size = 24\n",
      "***** Running Evaluation *****\n",
      "  Num examples = 500\n",
      "  Batch size = 24\n",
      "***** Running Evaluation *****\n",
      "  Num examples = 500\n",
      "  Batch size = 24\n",
      "***** Running Evaluation *****\n",
      "  Num examples = 500\n",
      "  Batch size = 24\n",
      "***** Running Evaluation *****\n",
      "  Num examples = 500\n",
      "  Batch size = 24\n",
      "***** Running Evaluation *****\n",
      "  Num examples = 500\n",
      "  Batch size = 24\n",
      "***** Running Evaluation *****\n",
      "  Num examples = 500\n",
      "  Batch size = 24\n",
      "***** Running Evaluation *****\n",
      "  Num examples = 500\n",
      "  Batch size = 24\n",
      "***** Running Evaluation *****\n",
      "  Num examples = 500\n",
      "  Batch size = 24\n",
      "***** Running Evaluation *****\n",
      "  Num examples = 500\n",
      "  Batch size = 24\n",
      "***** Running Evaluation *****\n",
      "  Num examples = 500\n",
      "  Batch size = 24\n",
      "Saving model checkpoint to test-trainer/checkpoint-3500\n",
      "Trainer.model is not a `PreTrainedModel`, only saving its state dict.\n",
      "***** Running Evaluation *****\n",
      "  Num examples = 500\n",
      "  Batch size = 24\n",
      "***** Running Evaluation *****\n",
      "  Num examples = 500\n",
      "  Batch size = 24\n",
      "***** Running Evaluation *****\n",
      "  Num examples = 500\n",
      "  Batch size = 24\n",
      "***** Running Evaluation *****\n",
      "  Num examples = 500\n",
      "  Batch size = 24\n",
      "***** Running Evaluation *****\n",
      "  Num examples = 500\n",
      "  Batch size = 24\n",
      "***** Running Evaluation *****\n",
      "  Num examples = 500\n",
      "  Batch size = 24\n",
      "***** Running Evaluation *****\n",
      "  Num examples = 500\n",
      "  Batch size = 24\n",
      "***** Running Evaluation *****\n",
      "  Num examples = 500\n",
      "  Batch size = 24\n",
      "***** Running Evaluation *****\n",
      "  Num examples = 500\n",
      "  Batch size = 24\n",
      "***** Running Evaluation *****\n",
      "  Num examples = 500\n",
      "  Batch size = 24\n"
     ]
    }
   ],
   "source": [
    "### SUCC GPT2\n",
    "mygpt2_succ_trainer = Trainer(mygpt2_succ_model, succ_training_args,\n",
    "    train_dataset = succ_train_dataset,\n",
    "    eval_dataset = succ_test_dataset,\n",
    "    compute_metrics = succ_compute_metrics)\n",
    "mygpt2_succ_trainer.train()"
   ]
  },
  {
   "cell_type": "code",
   "execution_count": null,
   "id": "a6e3abe4-9702-4d2a-80ab-e6cf6288c8e6",
   "metadata": {},
   "outputs": [],
   "source": []
  },
  {
   "cell_type": "code",
   "execution_count": null,
   "id": "91cc72fb-230f-4d7b-b8da-ef222ba02124",
   "metadata": {},
   "outputs": [],
   "source": []
  },
  {
   "cell_type": "code",
   "execution_count": null,
   "id": "2c22439a-e5bd-4454-bbf4-21989d0cc7eb",
   "metadata": {},
   "outputs": [],
   "source": []
  },
  {
   "cell_type": "code",
   "execution_count": null,
   "id": "e8a2a08f-dc15-4d91-8800-fb7cc56b4d18",
   "metadata": {},
   "outputs": [],
   "source": [
    "# batch = next(iter(DataLoader(train_qed_dataset, batch_size=8)))\n",
    "# mygpt2_qed_model.cpu().eval()\n",
    "# print(f\"training? {mygpt2_qed_model.training}\")\n",
    "# out = mygpt2_qed_model(**batch)"
   ]
  },
  {
   "cell_type": "code",
   "execution_count": null,
   "id": "4764ed18-f68b-4565-8d98-97b782b45b79",
   "metadata": {},
   "outputs": [],
   "source": []
  },
  {
   "cell_type": "code",
   "execution_count": null,
   "id": "d45ffccd-f33f-4b1f-b3ad-195404fedcef",
   "metadata": {},
   "outputs": [],
   "source": [
    "mytf_trainer = Trainer(\n",
    "    mytf_qed_model,\n",
    "    training_args,\n",
    "    train_dataset = train_qed_dataset,\n",
    "    eval_dataset = test_qed_dataset,\n",
    "    compute_metrics = compute_metrics)\n",
    "\n",
    "mytf_trainer.train()"
   ]
  },
  {
   "cell_type": "code",
   "execution_count": null,
   "id": "e1b89dd0-50d2-4bc8-b290-e0a23d99a336",
   "metadata": {},
   "outputs": [],
   "source": []
  },
  {
   "cell_type": "code",
   "execution_count": null,
   "id": "8dfe58ef-b42c-4b02-b7b5-12fffda4b3ef",
   "metadata": {},
   "outputs": [],
   "source": []
  },
  {
   "cell_type": "code",
   "execution_count": null,
   "id": "86ffe5c0-f35f-460c-acc0-6a6c84890ad6",
   "metadata": {},
   "outputs": [],
   "source": [
    "inspect.getfile(mygpt2_trainer.predict)"
   ]
  },
  {
   "cell_type": "code",
   "execution_count": null,
   "id": "1c555076-4b99-4faa-b4c3-4bb56909156b",
   "metadata": {},
   "outputs": [],
   "source": [
    "bce_loss = nn.BCELoss()"
   ]
  },
  {
   "cell_type": "code",
   "execution_count": null,
   "id": "003a9d90-0923-440d-bbde-56c43fcaaf3f",
   "metadata": {},
   "outputs": [],
   "source": [
    "bce_loss(torch.rand(3,4,5), torch.rand(3,4,5))"
   ]
  },
  {
   "cell_type": "code",
   "execution_count": null,
   "id": "9c0bd22e-096b-4608-a4c1-b6e4de3fc049",
   "metadata": {},
   "outputs": [],
   "source": []
  }
 ],
 "metadata": {
  "kernelspec": {
   "display_name": "Python 3 (ipykernel)",
   "language": "python",
   "name": "python3"
  },
  "language_info": {
   "codemirror_mode": {
    "name": "ipython",
    "version": 3
   },
   "file_extension": ".py",
   "mimetype": "text/x-python",
   "name": "python",
   "nbconvert_exporter": "python",
   "pygments_lexer": "ipython3",
   "version": "3.10.13"
  }
 },
 "nbformat": 4,
 "nbformat_minor": 5
}
