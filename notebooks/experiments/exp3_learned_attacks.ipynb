{
 "cells": [
  {
   "cell_type": "code",
   "execution_count": 1,
   "id": "01f3553a-9721-44ff-bc26-b1eed58f2bb4",
   "metadata": {},
   "outputs": [],
   "source": [
    "import os\n",
    "import sys\n",
    "sys.path.insert(0, \"..\")\n",
    "import pandas as pd\n",
    "import numpy as np\n",
    "\n",
    "import matplotlib.pyplot as plt"
   ]
  },
  {
   "cell_type": "code",
   "execution_count": 2,
   "id": "9bffb6dc-1d98-439b-a0c9-bad71214f8be",
   "metadata": {},
   "outputs": [],
   "source": [
    "# Load dataframes\n",
    "suppress_rule_df = pd.read_csv(\"../../_dump/learned_attacks/learned_suppress_rule.csv\")\n",
    "knowledge_amnesia_df = pd.read_csv(\"../../_dump/learned_attacks/learned_knowledge_amnesia.csv\")\n",
    "coerce_state_df = pd.read_csv(\"../../_dump/learned_attacks/learned_coerce_state.csv\")"
   ]
  },
  {
   "cell_type": "code",
   "execution_count": 3,
   "id": "600d159b-5e24-49c0-9e09-878475596361",
   "metadata": {},
   "outputs": [
    {
     "data": {
      "text/plain": [
       "array(['reasoner_type', 'reasoner_seed', 'attacker_seed', 'num_vars',\n",
       "       'embed_dim', 'num_attack_tokens', 'raw_state_acc',\n",
       "       'adv_ns0_state_acc', 'adv_ns1_state_acc', 'adv_ns2_state_acc',\n",
       "       'adv_ns3_state_acc', 'adv_ns1_atk_wts', 'adv_ns2_atk_wts',\n",
       "       'adv_ns3_atk_wts', 'adv_suffix_conseq_amnesia_avg',\n",
       "       'adv_suffix_conseq_others_avg'], dtype=object)"
      ]
     },
     "execution_count": 3,
     "metadata": {},
     "output_type": "execute_result"
    }
   ],
   "source": [
    "knowledge_amnesia_df.columns.values"
   ]
  },
  {
   "cell_type": "code",
   "execution_count": 4,
   "id": "4e77833e-202c-4eb9-a408-822799ec6199",
   "metadata": {},
   "outputs": [],
   "source": [
    "def get_col_as_np(df, tgt_col_name, filter_kvs = [], sort_by=\"num_attack_tokens\"):\n",
    "    for k, v in filter_kvs:\n",
    "        df = df[df[k].eq(v)]\n",
    "    df = df.sort_values(by=[sort_by])\n",
    "    x = df[sort_by].to_numpy()\n",
    "    y = df[tgt_col_name].to_numpy()\n",
    "    return x, y"
   ]
  },
  {
   "cell_type": "code",
   "execution_count": null,
   "id": "a23f2bd9-2377-4f4c-9b85-e2fa7ea363e3",
   "metadata": {},
   "outputs": [],
   "source": []
  },
  {
   "cell_type": "code",
   "execution_count": 5,
   "id": "8020c3fa-b5eb-4c54-8f6a-2cb7856bbe1b",
   "metadata": {},
   "outputs": [
    {
     "data": {
      "text/html": [
       "<div>\n",
       "<style scoped>\n",
       "    .dataframe tbody tr th:only-of-type {\n",
       "        vertical-align: middle;\n",
       "    }\n",
       "\n",
       "    .dataframe tbody tr th {\n",
       "        vertical-align: top;\n",
       "    }\n",
       "\n",
       "    .dataframe thead th {\n",
       "        text-align: right;\n",
       "    }\n",
       "</style>\n",
       "<table border=\"1\" class=\"dataframe\">\n",
       "  <thead>\n",
       "    <tr style=\"text-align: right;\">\n",
       "      <th></th>\n",
       "      <th>num_vars</th>\n",
       "      <th>embed_dim</th>\n",
       "      <th>adv_ns3_state_acc</th>\n",
       "      <th>raw_ns2_suppd_wts</th>\n",
       "      <th>raw_ns2_other_wts</th>\n",
       "      <th>adv_ns2_suppd_wts</th>\n",
       "      <th>adv_ns2_other_wts</th>\n",
       "    </tr>\n",
       "  </thead>\n",
       "  <tbody>\n",
       "    <tr>\n",
       "      <th>0</th>\n",
       "      <td>64</td>\n",
       "      <td>128</td>\n",
       "      <td>0.97</td>\n",
       "      <td>0.29</td>\n",
       "      <td>0.29</td>\n",
       "      <td>0.18</td>\n",
       "      <td>0.18</td>\n",
       "    </tr>\n",
       "    <tr>\n",
       "      <th>1</th>\n",
       "      <td>48</td>\n",
       "      <td>96</td>\n",
       "      <td>0.97</td>\n",
       "      <td>0.28</td>\n",
       "      <td>0.28</td>\n",
       "      <td>0.18</td>\n",
       "      <td>0.18</td>\n",
       "    </tr>\n",
       "    <tr>\n",
       "      <th>2</th>\n",
       "      <td>32</td>\n",
       "      <td>64</td>\n",
       "      <td>0.99</td>\n",
       "      <td>0.27</td>\n",
       "      <td>0.27</td>\n",
       "      <td>0.17</td>\n",
       "      <td>0.17</td>\n",
       "    </tr>\n",
       "    <tr>\n",
       "      <th>3</th>\n",
       "      <td>16</td>\n",
       "      <td>32</td>\n",
       "      <td>0.96</td>\n",
       "      <td>0.25</td>\n",
       "      <td>0.25</td>\n",
       "      <td>0.16</td>\n",
       "      <td>0.16</td>\n",
       "    </tr>\n",
       "  </tbody>\n",
       "</table>\n",
       "</div>"
      ],
      "text/plain": [
       "   num_vars  embed_dim  adv_ns3_state_acc  raw_ns2_suppd_wts  \\\n",
       "0        64        128               0.97               0.29   \n",
       "1        48         96               0.97               0.28   \n",
       "2        32         64               0.99               0.27   \n",
       "3        16         32               0.96               0.25   \n",
       "\n",
       "   raw_ns2_other_wts  adv_ns2_suppd_wts  adv_ns2_other_wts  \n",
       "0               0.29               0.18               0.18  \n",
       "1               0.28               0.18               0.18  \n",
       "2               0.27               0.17               0.17  \n",
       "3               0.25               0.16               0.16  "
      ]
     },
     "execution_count": 5,
     "metadata": {},
     "output_type": "execute_result"
    }
   ],
   "source": [
    "pd.set_option('display.precision', 2)\n",
    "suppress_rule_df[[\n",
    "    \"num_vars\",\n",
    "    \"embed_dim\",\n",
    "    \"adv_ns3_state_acc\",\n",
    "    \"raw_ns2_suppd_wts\",\n",
    "    \"raw_ns2_other_wts\",\n",
    "    \"adv_ns2_suppd_wts\",\n",
    "    \"adv_ns2_other_wts\",\n",
    "]]"
   ]
  },
  {
   "cell_type": "code",
   "execution_count": null,
   "id": "5d911bef-7e2a-4ebc-81aa-dee48c678d4f",
   "metadata": {},
   "outputs": [],
   "source": []
  },
  {
   "cell_type": "code",
   "execution_count": 6,
   "id": "565ab112-c163-4644-b901-633e0db025e6",
   "metadata": {},
   "outputs": [
    {
     "data": {
      "text/html": [
       "<div>\n",
       "<style scoped>\n",
       "    .dataframe tbody tr th:only-of-type {\n",
       "        vertical-align: middle;\n",
       "    }\n",
       "\n",
       "    .dataframe tbody tr th {\n",
       "        vertical-align: top;\n",
       "    }\n",
       "\n",
       "    .dataframe thead th {\n",
       "        text-align: right;\n",
       "    }\n",
       "</style>\n",
       "<table border=\"1\" class=\"dataframe\">\n",
       "  <thead>\n",
       "    <tr style=\"text-align: right;\">\n",
       "      <th></th>\n",
       "      <th>num_vars</th>\n",
       "      <th>embed_dim</th>\n",
       "      <th>adv_suffix_conseq_amnesia_avg</th>\n",
       "      <th>adv_suffix_conseq_others_avg</th>\n",
       "    </tr>\n",
       "  </thead>\n",
       "  <tbody>\n",
       "    <tr>\n",
       "      <th>0</th>\n",
       "      <td>64</td>\n",
       "      <td>128</td>\n",
       "      <td>0.860</td>\n",
       "      <td>0.105</td>\n",
       "    </tr>\n",
       "    <tr>\n",
       "      <th>1</th>\n",
       "      <td>48</td>\n",
       "      <td>96</td>\n",
       "      <td>1.009</td>\n",
       "      <td>0.114</td>\n",
       "    </tr>\n",
       "    <tr>\n",
       "      <th>2</th>\n",
       "      <td>32</td>\n",
       "      <td>64</td>\n",
       "      <td>0.666</td>\n",
       "      <td>0.077</td>\n",
       "    </tr>\n",
       "    <tr>\n",
       "      <th>3</th>\n",
       "      <td>16</td>\n",
       "      <td>32</td>\n",
       "      <td>1.262</td>\n",
       "      <td>0.102</td>\n",
       "    </tr>\n",
       "  </tbody>\n",
       "</table>\n",
       "</div>"
      ],
      "text/plain": [
       "   num_vars  embed_dim  adv_suffix_conseq_amnesia_avg  \\\n",
       "0        64        128                          0.860   \n",
       "1        48         96                          1.009   \n",
       "2        32         64                          0.666   \n",
       "3        16         32                          1.262   \n",
       "\n",
       "   adv_suffix_conseq_others_avg  \n",
       "0                         0.105  \n",
       "1                         0.114  \n",
       "2                         0.077  \n",
       "3                         0.102  "
      ]
     },
     "execution_count": 6,
     "metadata": {},
     "output_type": "execute_result"
    }
   ],
   "source": [
    "pd.set_option('display.precision', 3)\n",
    "knowledge_amnesia_df[[\n",
    "    \"num_vars\",\n",
    "    \"embed_dim\",\n",
    "    \"adv_suffix_conseq_amnesia_avg\",\n",
    "    \"adv_suffix_conseq_others_avg\",\n",
    "]]"
   ]
  },
  {
   "cell_type": "code",
   "execution_count": null,
   "id": "5acc612a-1432-4076-b914-95d4e4545289",
   "metadata": {},
   "outputs": [],
   "source": []
  },
  {
   "cell_type": "code",
   "execution_count": 7,
   "id": "a78b24d4-bad7-4e62-b14a-a4ffa1116493",
   "metadata": {},
   "outputs": [
    {
     "data": {
      "text/plain": [
       "array(['reasoner_type', 'reasoner_seed', 'attacker_seed', 'num_vars',\n",
       "       'embed_dim', 'num_attack_tokens', 'raw_state_acc',\n",
       "       'adv_ns0_state_acc', 'adv_ns1_state_acc', 'adv_ns2_state_acc',\n",
       "       'adv_ns3_state_acc', 'adv_ns1_atk_wts', 'adv_ns2_atk_wts',\n",
       "       'adv_ns3_atk_wts', 'adv_suffix_size_avg', 'raw_tokens_size_avg'],\n",
       "      dtype=object)"
      ]
     },
     "execution_count": 7,
     "metadata": {},
     "output_type": "execute_result"
    }
   ],
   "source": [
    "coerce_state_df.columns.values"
   ]
  },
  {
   "cell_type": "code",
   "execution_count": 9,
   "id": "d2d545da-b7e1-4080-9a23-490e2188eb1c",
   "metadata": {},
   "outputs": [
    {
     "data": {
      "text/html": [
       "<div>\n",
       "<style scoped>\n",
       "    .dataframe tbody tr th:only-of-type {\n",
       "        vertical-align: middle;\n",
       "    }\n",
       "\n",
       "    .dataframe tbody tr th {\n",
       "        vertical-align: top;\n",
       "    }\n",
       "\n",
       "    .dataframe thead th {\n",
       "        text-align: right;\n",
       "    }\n",
       "</style>\n",
       "<table border=\"1\" class=\"dataframe\">\n",
       "  <thead>\n",
       "    <tr style=\"text-align: right;\">\n",
       "      <th></th>\n",
       "      <th>num_vars</th>\n",
       "      <th>embed_dim</th>\n",
       "      <th>adv_ns3_state_acc</th>\n",
       "      <th>adv_suffix_size_avg</th>\n",
       "      <th>raw_tokens_size_avg</th>\n",
       "    </tr>\n",
       "  </thead>\n",
       "  <tbody>\n",
       "    <tr>\n",
       "      <th>0</th>\n",
       "      <td>64</td>\n",
       "      <td>128</td>\n",
       "      <td>0.49</td>\n",
       "      <td>374.46</td>\n",
       "      <td>5.90</td>\n",
       "    </tr>\n",
       "    <tr>\n",
       "      <th>1</th>\n",
       "      <td>48</td>\n",
       "      <td>96</td>\n",
       "      <td>0.59</td>\n",
       "      <td>148.19</td>\n",
       "      <td>5.89</td>\n",
       "    </tr>\n",
       "    <tr>\n",
       "      <th>2</th>\n",
       "      <td>32</td>\n",
       "      <td>64</td>\n",
       "      <td>0.48</td>\n",
       "      <td>105.73</td>\n",
       "      <td>5.86</td>\n",
       "    </tr>\n",
       "    <tr>\n",
       "      <th>3</th>\n",
       "      <td>16</td>\n",
       "      <td>32</td>\n",
       "      <td>0.39</td>\n",
       "      <td>66.34</td>\n",
       "      <td>5.79</td>\n",
       "    </tr>\n",
       "  </tbody>\n",
       "</table>\n",
       "</div>"
      ],
      "text/plain": [
       "   num_vars  embed_dim  adv_ns3_state_acc  adv_suffix_size_avg  \\\n",
       "0        64        128               0.49               374.46   \n",
       "1        48         96               0.59               148.19   \n",
       "2        32         64               0.48               105.73   \n",
       "3        16         32               0.39                66.34   \n",
       "\n",
       "   raw_tokens_size_avg  \n",
       "0                 5.90  \n",
       "1                 5.89  \n",
       "2                 5.86  \n",
       "3                 5.79  "
      ]
     },
     "execution_count": 9,
     "metadata": {},
     "output_type": "execute_result"
    }
   ],
   "source": [
    "pd.set_option('display.precision', 2)\n",
    "coerce_state_df[[\n",
    "    \"num_vars\",\n",
    "    \"embed_dim\",\n",
    "    \"adv_ns3_state_acc\",\n",
    "    \"adv_suffix_size_avg\",\n",
    "    \"raw_tokens_size_avg\"\n",
    "]]"
   ]
  },
  {
   "cell_type": "code",
   "execution_count": null,
   "id": "97bee384-c59b-49ac-ac4f-3f52bb1ff7ff",
   "metadata": {},
   "outputs": [],
   "source": []
  },
  {
   "cell_type": "code",
   "execution_count": null,
   "id": "5758e3ab-188c-4e77-a696-f02efaf583ea",
   "metadata": {},
   "outputs": [],
   "source": []
  }
 ],
 "metadata": {
  "kernelspec": {
   "display_name": "Python 3 (ipykernel)",
   "language": "python",
   "name": "python3"
  },
  "language_info": {
   "codemirror_mode": {
    "name": "ipython",
    "version": 3
   },
   "file_extension": ".py",
   "mimetype": "text/x-python",
   "name": "python",
   "nbconvert_exporter": "python",
   "pygments_lexer": "ipython3",
   "version": "3.10.13"
  }
 },
 "nbformat": 4,
 "nbformat_minor": 5
}
