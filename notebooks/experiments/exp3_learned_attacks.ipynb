{
 "cells": [
  {
   "cell_type": "code",
   "execution_count": 27,
   "id": "01f3553a-9721-44ff-bc26-b1eed58f2bb4",
   "metadata": {},
   "outputs": [],
   "source": [
    "import os\n",
    "import sys\n",
    "sys.path.insert(0, \"..\")\n",
    "import pandas as pd\n",
    "import numpy as np\n",
    "\n",
    "import matplotlib.pyplot as plt"
   ]
  },
  {
   "cell_type": "code",
   "execution_count": 28,
   "id": "9bffb6dc-1d98-439b-a0c9-bad71214f8be",
   "metadata": {},
   "outputs": [],
   "source": [
    "# Load dataframes\n",
    "suppress_rule_df = pd.read_csv(\"../../_dump/learned_attacks/learned_suppress_rule.csv\")\n",
    "knowledge_amnesia_df = pd.read_csv(\"../../_dump/learned_attacks/learned_knowledge_amnesia.csv\")"
   ]
  },
  {
   "cell_type": "code",
   "execution_count": 29,
   "id": "600d159b-5e24-49c0-9e09-878475596361",
   "metadata": {},
   "outputs": [
    {
     "data": {
      "text/plain": [
       "array(['reasoner_type', 'reasoner_seed', 'num_vars', 'embed_dim',\n",
       "       'num_repeats', 'raw_state_acc', 'adv_ns1_state_acc',\n",
       "       'adv_ns2_state_acc', 'adv_ns3_state_acc', 'adv_ns1_attn_wts',\n",
       "       'adv_ns2_attn_wts', 'adv_ns3_attn_wts', 'atk_ante_align',\n",
       "       'atk_ante_rel', 'atk_conseq_align', 'atk_conseq_rel',\n",
       "       'adv_ns1_attn_ratio', 'adv_ns2_attn_ratio', 'adv_ns3_attn_ratio'],\n",
       "      dtype=object)"
      ]
     },
     "execution_count": 29,
     "metadata": {},
     "output_type": "execute_result"
    }
   ],
   "source": [
    "suppress_rule_df.columns.values"
   ]
  },
  {
   "cell_type": "code",
   "execution_count": 30,
   "id": "4e77833e-202c-4eb9-a408-822799ec6199",
   "metadata": {},
   "outputs": [],
   "source": [
    "def get_col_as_np(df, tgt_col_name, filter_kvs = [], sort_by=\"num_repeats\"):\n",
    "    for k, v in filter_kvs:\n",
    "        df = df[df[k].eq(v)]\n",
    "    df = df.sort_values(by=[sort_by])\n",
    "    x = df[sort_by].to_numpy()\n",
    "    y = df[tgt_col_name].to_numpy()\n",
    "    return x, y"
   ]
  },
  {
   "cell_type": "code",
   "execution_count": 42,
   "id": "a23f2bd9-2377-4f4c-9b85-e2fa7ea363e3",
   "metadata": {},
   "outputs": [],
   "source": [
    "\n",
    "pd.set_option('display.precision', 2)"
   ]
  },
  {
   "cell_type": "code",
   "execution_count": 43,
   "id": "8020c3fa-b5eb-4c54-8f6a-2cb7856bbe1b",
   "metadata": {},
   "outputs": [
    {
     "data": {
      "text/html": [
       "<div>\n",
       "<style scoped>\n",
       "    .dataframe tbody tr th:only-of-type {\n",
       "        vertical-align: middle;\n",
       "    }\n",
       "\n",
       "    .dataframe tbody tr th {\n",
       "        vertical-align: top;\n",
       "    }\n",
       "\n",
       "    .dataframe thead th {\n",
       "        text-align: right;\n",
       "    }\n",
       "</style>\n",
       "<table border=\"1\" class=\"dataframe\">\n",
       "  <thead>\n",
       "    <tr style=\"text-align: right;\">\n",
       "      <th></th>\n",
       "      <th>num_vars</th>\n",
       "      <th>embed_dim</th>\n",
       "      <th>adv_ns3_state_acc</th>\n",
       "      <th>adv_ns1_attn_wts</th>\n",
       "      <th>atk_ante_align</th>\n",
       "      <th>atk_conseq_align</th>\n",
       "      <th>atk_ante_rel</th>\n",
       "      <th>atk_conseq_rel</th>\n",
       "    </tr>\n",
       "  </thead>\n",
       "  <tbody>\n",
       "    <tr>\n",
       "      <th>0</th>\n",
       "      <td>64</td>\n",
       "      <td>128</td>\n",
       "      <td>1.0</td>\n",
       "      <td>0.26</td>\n",
       "      <td>0.22</td>\n",
       "      <td>0.54</td>\n",
       "      <td>1.50</td>\n",
       "      <td>3.03</td>\n",
       "    </tr>\n",
       "    <tr>\n",
       "      <th>1</th>\n",
       "      <td>48</td>\n",
       "      <td>96</td>\n",
       "      <td>1.0</td>\n",
       "      <td>0.29</td>\n",
       "      <td>0.97</td>\n",
       "      <td>1.00</td>\n",
       "      <td>3.86</td>\n",
       "      <td>5.13</td>\n",
       "    </tr>\n",
       "    <tr>\n",
       "      <th>2</th>\n",
       "      <td>32</td>\n",
       "      <td>64</td>\n",
       "      <td>1.0</td>\n",
       "      <td>0.32</td>\n",
       "      <td>1.00</td>\n",
       "      <td>0.99</td>\n",
       "      <td>5.94</td>\n",
       "      <td>3.40</td>\n",
       "    </tr>\n",
       "    <tr>\n",
       "      <th>3</th>\n",
       "      <td>16</td>\n",
       "      <td>32</td>\n",
       "      <td>1.0</td>\n",
       "      <td>0.33</td>\n",
       "      <td>1.00</td>\n",
       "      <td>1.00</td>\n",
       "      <td>3.90</td>\n",
       "      <td>3.88</td>\n",
       "    </tr>\n",
       "  </tbody>\n",
       "</table>\n",
       "</div>"
      ],
      "text/plain": [
       "   num_vars  embed_dim  adv_ns3_state_acc  adv_ns1_attn_wts  atk_ante_align  \\\n",
       "0        64        128                1.0              0.26            0.22   \n",
       "1        48         96                1.0              0.29            0.97   \n",
       "2        32         64                1.0              0.32            1.00   \n",
       "3        16         32                1.0              0.33            1.00   \n",
       "\n",
       "   atk_conseq_align  atk_ante_rel  atk_conseq_rel  \n",
       "0              0.54          1.50            3.03  \n",
       "1              1.00          3.86            5.13  \n",
       "2              0.99          5.94            3.40  \n",
       "3              1.00          3.90            3.88  "
      ]
     },
     "execution_count": 43,
     "metadata": {},
     "output_type": "execute_result"
    }
   ],
   "source": [
    "suppress_rule_df[[\n",
    "    \"num_vars\",\n",
    "    \"embed_dim\",\n",
    "    \"adv_ns3_state_acc\",\n",
    "    \"adv_ns1_attn_wts\",\n",
    "    \"atk_ante_align\",\n",
    "    \"atk_conseq_align\",\n",
    "    \"atk_ante_rel\",\n",
    "    \"atk_conseq_rel\",\n",
    "]]"
   ]
  },
  {
   "cell_type": "code",
   "execution_count": null,
   "id": "5d911bef-7e2a-4ebc-81aa-dee48c678d4f",
   "metadata": {},
   "outputs": [],
   "source": []
  },
  {
   "cell_type": "code",
   "execution_count": 44,
   "id": "565ab112-c163-4644-b901-633e0db025e6",
   "metadata": {},
   "outputs": [
    {
     "data": {
      "text/html": [
       "<div>\n",
       "<style scoped>\n",
       "    .dataframe tbody tr th:only-of-type {\n",
       "        vertical-align: middle;\n",
       "    }\n",
       "\n",
       "    .dataframe tbody tr th {\n",
       "        vertical-align: top;\n",
       "    }\n",
       "\n",
       "    .dataframe thead th {\n",
       "        text-align: right;\n",
       "    }\n",
       "</style>\n",
       "<table border=\"1\" class=\"dataframe\">\n",
       "  <thead>\n",
       "    <tr style=\"text-align: right;\">\n",
       "      <th></th>\n",
       "      <th>num_vars</th>\n",
       "      <th>embed_dim</th>\n",
       "      <th>adv_ns1_state_acc</th>\n",
       "      <th>adv_ns1_attn_wts</th>\n",
       "      <th>atk_ante_align</th>\n",
       "      <th>atk_conseq_align</th>\n",
       "      <th>atk_ante_rel</th>\n",
       "      <th>atk_conseq_rel</th>\n",
       "    </tr>\n",
       "  </thead>\n",
       "  <tbody>\n",
       "    <tr>\n",
       "      <th>0</th>\n",
       "      <td>64</td>\n",
       "      <td>128</td>\n",
       "      <td>1.0</td>\n",
       "      <td>0.41</td>\n",
       "      <td>0.80</td>\n",
       "      <td>1.0</td>\n",
       "      <td>3.60</td>\n",
       "      <td>6.70</td>\n",
       "    </tr>\n",
       "    <tr>\n",
       "      <th>1</th>\n",
       "      <td>48</td>\n",
       "      <td>96</td>\n",
       "      <td>1.0</td>\n",
       "      <td>0.43</td>\n",
       "      <td>1.00</td>\n",
       "      <td>1.0</td>\n",
       "      <td>5.91</td>\n",
       "      <td>6.56</td>\n",
       "    </tr>\n",
       "    <tr>\n",
       "      <th>2</th>\n",
       "      <td>32</td>\n",
       "      <td>64</td>\n",
       "      <td>1.0</td>\n",
       "      <td>0.37</td>\n",
       "      <td>0.98</td>\n",
       "      <td>1.0</td>\n",
       "      <td>4.97</td>\n",
       "      <td>5.34</td>\n",
       "    </tr>\n",
       "    <tr>\n",
       "      <th>3</th>\n",
       "      <td>16</td>\n",
       "      <td>32</td>\n",
       "      <td>1.0</td>\n",
       "      <td>0.37</td>\n",
       "      <td>0.81</td>\n",
       "      <td>1.0</td>\n",
       "      <td>2.63</td>\n",
       "      <td>5.42</td>\n",
       "    </tr>\n",
       "  </tbody>\n",
       "</table>\n",
       "</div>"
      ],
      "text/plain": [
       "   num_vars  embed_dim  adv_ns1_state_acc  adv_ns1_attn_wts  atk_ante_align  \\\n",
       "0        64        128                1.0              0.41            0.80   \n",
       "1        48         96                1.0              0.43            1.00   \n",
       "2        32         64                1.0              0.37            0.98   \n",
       "3        16         32                1.0              0.37            0.81   \n",
       "\n",
       "   atk_conseq_align  atk_ante_rel  atk_conseq_rel  \n",
       "0               1.0          3.60            6.70  \n",
       "1               1.0          5.91            6.56  \n",
       "2               1.0          4.97            5.34  \n",
       "3               1.0          2.63            5.42  "
      ]
     },
     "execution_count": 44,
     "metadata": {},
     "output_type": "execute_result"
    }
   ],
   "source": [
    "knowledge_amnesia_df[[\n",
    "    \"num_vars\",\n",
    "    \"embed_dim\",\n",
    "    \"adv_ns1_state_acc\",\n",
    "    \"adv_ns1_attn_wts\",\n",
    "    \"atk_ante_align\",\n",
    "    \"atk_conseq_align\",\n",
    "    \"atk_ante_rel\",\n",
    "    \"atk_conseq_rel\",\n",
    "]]"
   ]
  },
  {
   "cell_type": "code",
   "execution_count": null,
   "id": "5acc612a-1432-4076-b914-95d4e4545289",
   "metadata": {},
   "outputs": [],
   "source": []
  },
  {
   "cell_type": "code",
   "execution_count": null,
   "id": "a78b24d4-bad7-4e62-b14a-a4ffa1116493",
   "metadata": {},
   "outputs": [],
   "source": []
  },
  {
   "cell_type": "code",
   "execution_count": null,
   "id": "d2d545da-b7e1-4080-9a23-490e2188eb1c",
   "metadata": {},
   "outputs": [],
   "source": []
  },
  {
   "cell_type": "code",
   "execution_count": null,
   "id": "97bee384-c59b-49ac-ac4f-3f52bb1ff7ff",
   "metadata": {},
   "outputs": [],
   "source": []
  }
 ],
 "metadata": {
  "kernelspec": {
   "display_name": "Python 3 (ipykernel)",
   "language": "python",
   "name": "python3"
  },
  "language_info": {
   "codemirror_mode": {
    "name": "ipython",
    "version": 3
   },
   "file_extension": ".py",
   "mimetype": "text/x-python",
   "name": "python",
   "nbconvert_exporter": "python",
   "pygments_lexer": "ipython3",
   "version": "3.10.13"
  }
 },
 "nbformat": 4,
 "nbformat_minor": 5
}
