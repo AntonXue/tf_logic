{
 "cells": [
  {
   "cell_type": "code",
   "execution_count": 1,
   "id": "58866ef0-1872-439e-85e8-fdf72c3f88f0",
   "metadata": {},
   "outputs": [],
   "source": [
    "import os\n",
    "import sys\n",
    "sys.path.insert(0, \"..\")\n",
    "\n",
    "import inspect\n",
    "import torch\n",
    "import wandb\n",
    "\n",
    "from notebook_utils import *\n",
    "\n",
    "from safetensors import safe_open\n",
    "\n",
    "from models import *\n",
    "from my_datasets import *\n",
    "from experiments import *"
   ]
  },
  {
   "cell_type": "code",
   "execution_count": 2,
   "id": "4423b758-ffe8-4576-b62d-1b6cb2d526e0",
   "metadata": {},
   "outputs": [
    {
     "name": "stderr",
     "output_type": "stream",
     "text": [
      "\u001b[34m\u001b[1mwandb\u001b[0m: Downloading large artifact model-SynNS_gpt2_d1024_L2_H4__nv128_nr16-64_ns8-32_ap0.30-0.50_bp0.20-0.30_sp0.50-0.50_ntr32768_ntt8192:v0, 297.94MB. 2 files... \n",
      "\u001b[34m\u001b[1mwandb\u001b[0m:   2 of 2 files downloaded.  \n",
      "Done. 0:0:0.5\n"
     ]
    }
   ],
   "source": [
    "torch.manual_seed(1234)\n",
    "ns_model, dataset = quickload_next_state_model_and_dataset()"
   ]
  },
  {
   "cell_type": "code",
   "execution_count": 3,
   "id": "1867198d-bb3d-44d9-992d-b8c84263fdc7",
   "metadata": {},
   "outputs": [],
   "source": [
    "atk_model = ForceOutputAttackerModel(\n",
    "    input_dim = ns_model.input_dim,\n",
    "    output_dim = ns_model.num_labels,\n",
    "    num_outputs = 3)"
   ]
  },
  {
   "cell_type": "code",
   "execution_count": 4,
   "id": "1d4d3dfa-0099-45ab-a2ba-7842326eb055",
   "metadata": {},
   "outputs": [],
   "source": [
    "batch_size = 16\n",
    "vtgt = torch.randint(0,2, (batch_size, dataset.num_vars))\n",
    "u = torch.stack([dataset[i][\"tokens\"] for i in range(batch_size)])"
   ]
  },
  {
   "cell_type": "code",
   "execution_count": 5,
   "id": "976cdbd8-61ac-4580-bd0f-b3fa96042d00",
   "metadata": {},
   "outputs": [
    {
     "data": {
      "text/plain": [
       "(torch.Size([16, 128]), torch.Size([16, 96, 257]))"
      ]
     },
     "execution_count": 5,
     "metadata": {},
     "output_type": "execute_result"
    }
   ],
   "source": [
    "vtgt.shape, u.shape"
   ]
  },
  {
   "cell_type": "code",
   "execution_count": 6,
   "id": "7e20e89b-ce21-4c87-a599-565e587238f9",
   "metadata": {},
   "outputs": [
    {
     "name": "stdout",
     "output_type": "stream",
     "text": [
      "x: torch.Size([16, 97, 768])\n"
     ]
    }
   ],
   "source": [
    "atk_out = atk_model(u, vtgt)"
   ]
  },
  {
   "cell_type": "code",
   "execution_count": null,
   "id": "74f229fa-6b1b-4045-8f26-364252d6b478",
   "metadata": {},
   "outputs": [],
   "source": []
  },
  {
   "cell_type": "code",
   "execution_count": null,
   "id": "73c4e842-79b2-4c7d-90d1-ebab6ef796fc",
   "metadata": {},
   "outputs": [],
   "source": []
  }
 ],
 "metadata": {
  "kernelspec": {
   "display_name": "Python 3 (ipykernel)",
   "language": "python",
   "name": "python3"
  },
  "language_info": {
   "codemirror_mode": {
    "name": "ipython",
    "version": 3
   },
   "file_extension": ".py",
   "mimetype": "text/x-python",
   "name": "python",
   "nbconvert_exporter": "python",
   "pygments_lexer": "ipython3",
   "version": "3.10.13"
  }
 },
 "nbformat": 4,
 "nbformat_minor": 5
}
