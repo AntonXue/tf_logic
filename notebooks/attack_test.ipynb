{
 "cells": [
  {
   "cell_type": "code",
   "execution_count": 1,
   "id": "58866ef0-1872-439e-85e8-fdf72c3f88f0",
   "metadata": {},
   "outputs": [],
   "source": [
    "import os\n",
    "import sys\n",
    "sys.path.insert(0, \"..\")\n",
    "import inspect\n",
    "import torch\n",
    "import torch.optim as optim\n",
    "from torch.utils.data import DataLoader\n",
    "\n",
    "import wandb\n",
    "from safetensors import safe_open\n",
    "from tqdm import tqdm\n",
    "\n",
    "import matplotlib.pyplot as plt\n",
    "# from notebook_utils import *\n",
    "\n",
    "from models import *\n",
    "from my_datasets import *\n",
    "from experiments import *\n",
    "from experiments.utils.model_loader_utils import *"
   ]
  },
  {
   "cell_type": "code",
   "execution_count": null,
   "id": "faf9e063-2cc8-42fc-8995-8dae5dd3226a",
   "metadata": {},
   "outputs": [],
   "source": []
  },
  {
   "cell_type": "code",
   "execution_count": null,
   "id": "d8f91e10-6d99-4c91-bf81-bbb5685f9854",
   "metadata": {},
   "outputs": [],
   "source": []
  },
  {
   "cell_type": "code",
   "execution_count": 8,
   "id": "b44297b2-83d0-457c-94b4-abe1996b76a0",
   "metadata": {},
   "outputs": [],
   "source": [
    "model = TheoryAutoregKStepsModel(8, 3)"
   ]
  },
  {
   "cell_type": "code",
   "execution_count": 9,
   "id": "709da271-9513-4ae2-a8a7-4d7cb0e91ac8",
   "metadata": {},
   "outputs": [],
   "source": [
    "dataset = AutoregDiamondTokensDataset(8, 32, 4.0, 10000)\n",
    "dataloader = DataLoader(dataset, batch_size=4)"
   ]
  },
  {
   "cell_type": "code",
   "execution_count": 10,
   "id": "68ef2482-13c7-4e24-a81e-c8618b1015de",
   "metadata": {},
   "outputs": [
    {
     "name": "stderr",
     "output_type": "stream",
     "text": [
      "acc 1.000: 100%|██████████| 2500/2500 [00:06<00:00, 404.32it/s]\n"
     ]
    }
   ],
   "source": [
    "num_dones, num_hits = 0, 0\n",
    "pbar = tqdm(dataloader)\n",
    "for batch in pbar:\n",
    "    tokens, labels = batch[\"tokens\"], batch[\"labels\"]\n",
    "    out = model(tokens=tokens, labels=labels)\n",
    "    pred = (out.logits > 0).long()\n",
    "    num_dones += tokens.size(0)\n",
    "    num_hits += (labels == pred).float().mean(dim=(1,2)).sum()\n",
    "    acc = num_hits / num_dones\n",
    "    desc = f\"acc {acc:.3f}\"\n",
    "    pbar.set_description(desc)"
   ]
  },
  {
   "cell_type": "code",
   "execution_count": null,
   "id": "7bfff762-fc27-4943-8283-88fda7baced6",
   "metadata": {},
   "outputs": [],
   "source": []
  },
  {
   "cell_type": "code",
   "execution_count": 12,
   "id": "78a92e88-7316-4c5c-aa06-9f9f829d7d97",
   "metadata": {},
   "outputs": [
    {
     "data": {
      "text/plain": [
       "tensor([[3, 5, 4, 0, 2, 1, 6, 7],\n",
       "        [5, 4, 2, 6, 1, 3, 0, 7],\n",
       "        [6, 7, 0, 1, 5, 3, 4, 2],\n",
       "        [0, 3, 2, 1, 7, 4, 5, 6]])"
      ]
     },
     "execution_count": 12,
     "metadata": {},
     "output_type": "execute_result"
    }
   ],
   "source": [
    "batch[\"abcdefgh\"]"
   ]
  },
  {
   "cell_type": "code",
   "execution_count": 21,
   "id": "a62d66ab-82ad-4bde-aa2e-51792de3effa",
   "metadata": {},
   "outputs": [
    {
     "data": {
      "text/plain": [
       "tensor(26)"
      ]
     },
     "execution_count": 21,
     "metadata": {},
     "output_type": "execute_result"
    }
   ],
   "source": [
    "(tokens[0][:,7] == 1).sum()"
   ]
  },
  {
   "cell_type": "code",
   "execution_count": null,
   "id": "c897788d-f6d1-44c1-8121-3d87691a45df",
   "metadata": {},
   "outputs": [],
   "source": [
    "n = 16\n",
    "_, res_dataset = load_model_and_dataset_from_big_grid(2*n, n)\n",
    "model = TheoryAutoregKStepsModel(num_vars=n, num_steps=3)"
   ]
  },
  {
   "cell_type": "code",
   "execution_count": null,
   "id": "bba90c60-143c-4cfa-942e-39c94080e166",
   "metadata": {},
   "outputs": [],
   "source": [
    "atk_dataset = KnowledgeAmnesiaDataset(res_dataset, dataset_len = 1024)\n",
    "dataloader = DataLoader(atk_dataset, batch_size=3)"
   ]
  },
  {
   "cell_type": "code",
   "execution_count": null,
   "id": "299e3706-a8eb-4cdd-9122-4c28faa1f2c1",
   "metadata": {},
   "outputs": [],
   "source": [
    "for batch in dataloader:\n",
    "    tokens = batch[\"tokens\"]\n",
    "    abcde = batch[\"abcde\"]\n",
    "    adv_labels = batch[\"labels\"]\n",
    "    break"
   ]
  },
  {
   "cell_type": "code",
   "execution_count": null,
   "id": "ebc73f31-458d-47c4-8d50-9d89659519b1",
   "metadata": {},
   "outputs": [],
   "source": [
    "a, b, c, d, e = abcde.chunk(5, dim=-1)"
   ]
  },
  {
   "cell_type": "code",
   "execution_count": null,
   "id": "6321c5cc-acc8-47b3-af1a-db09a7e27792",
   "metadata": {},
   "outputs": [],
   "source": [
    "atk_rule = torch.cat([F.one_hot(a,n), -1000*F.one_hot(a,n)], dim=-1).view(-1,1,2*n)"
   ]
  },
  {
   "cell_type": "code",
   "execution_count": null,
   "id": "b068a291-673a-44b9-a777-d42f689ab92d",
   "metadata": {},
   "outputs": [],
   "source": [
    "adv_tokens = torch.cat([atk_rule, tokens], dim=1)"
   ]
  },
  {
   "cell_type": "code",
   "execution_count": null,
   "id": "5d96e305-3fd6-4ec6-aecc-7f928008fb8f",
   "metadata": {},
   "outputs": [],
   "source": [
    "adv_out = model(tokens=adv_tokens)"
   ]
  },
  {
   "cell_type": "code",
   "execution_count": null,
   "id": "7ba5fa65-ab8c-4ef3-9ed9-883af97c4a34",
   "metadata": {},
   "outputs": [],
   "source": [
    "adv_pred = (adv_out.logits > 0).long()"
   ]
  },
  {
   "cell_type": "code",
   "execution_count": null,
   "id": "df7109ce-fe84-4138-9759-3c6c4baf0b84",
   "metadata": {},
   "outputs": [],
   "source": [
    "adv_pred"
   ]
  },
  {
   "cell_type": "code",
   "execution_count": null,
   "id": "e83d5174-ba72-4827-b175-715df05300ca",
   "metadata": {},
   "outputs": [],
   "source": []
  },
  {
   "cell_type": "code",
   "execution_count": null,
   "id": "0cb39579-5a07-44d8-9639-7e8006e21315",
   "metadata": {},
   "outputs": [],
   "source": []
  },
  {
   "cell_type": "code",
   "execution_count": null,
   "id": "4ea55c4e-7a9a-4d89-b4d3-e41f225a85f4",
   "metadata": {},
   "outputs": [],
   "source": [
    "adv_labels = batch[\"labels\"]"
   ]
  },
  {
   "cell_type": "code",
   "execution_count": null,
   "id": "ba72381d-29ff-4675-9628-ba14c2484d73",
   "metadata": {},
   "outputs": [],
   "source": [
    "atk_rule = "
   ]
  },
  {
   "cell_type": "code",
   "execution_count": null,
   "id": "e5930a44-bc80-4e45-9d21-a8b7adc354cc",
   "metadata": {},
   "outputs": [],
   "source": []
  },
  {
   "cell_type": "code",
   "execution_count": null,
   "id": "cf4529fe-f654-4a6a-a1ce-02b78af7bc23",
   "metadata": {},
   "outputs": [],
   "source": []
  }
 ],
 "metadata": {
  "kernelspec": {
   "display_name": "Python 3 (ipykernel)",
   "language": "python",
   "name": "python3"
  },
  "language_info": {
   "codemirror_mode": {
    "name": "ipython",
    "version": 3
   },
   "file_extension": ".py",
   "mimetype": "text/x-python",
   "name": "python",
   "nbconvert_exporter": "python",
   "pygments_lexer": "ipython3",
   "version": "3.10.13"
  }
 },
 "nbformat": 4,
 "nbformat_minor": 5
}
