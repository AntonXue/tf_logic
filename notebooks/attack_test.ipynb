{
 "cells": [
  {
   "cell_type": "code",
   "execution_count": 1,
   "id": "58866ef0-1872-439e-85e8-fdf72c3f88f0",
   "metadata": {},
   "outputs": [
    {
     "name": "stderr",
     "output_type": "stream",
     "text": [
      "/home/antonxue/lib/miniconda3/envs/tfl/lib/python3.10/site-packages/tqdm/auto.py:21: TqdmWarning: IProgress not found. Please update jupyter and ipywidgets. See https://ipywidgets.readthedocs.io/en/stable/user_install.html\n",
      "  from .autonotebook import tqdm as notebook_tqdm\n"
     ]
    }
   ],
   "source": [
    "import os\n",
    "import sys\n",
    "sys.path.insert(0, \"..\")\n",
    "import inspect\n",
    "import torch\n",
    "import torch.nn as nn\n",
    "import torch.nn.functional as F\n",
    "from torch.utils.data import DataLoader\n",
    "\n",
    "from tqdm import tqdm\n",
    "\n",
    "import matplotlib.pyplot as plt\n",
    "\n",
    "from models import *\n",
    "from my_datasets import *\n",
    "from experiments import *\n",
    "from experiments.utils.model_loader_utils import *\n",
    "\n",
    "torch.set_printoptions(sci_mode=False, precision=2, linewidth=120)"
   ]
  },
  {
   "cell_type": "code",
   "execution_count": 11,
   "id": "c287a9ee-b47a-4c53-9494-661766138096",
   "metadata": {},
   "outputs": [],
   "source": [
    "n, d = 16,32\n",
    "def hot(i,p):\n",
    "    return F.one_hot(i,p)"
   ]
  },
  {
   "cell_type": "code",
   "execution_count": 12,
   "id": "de7d8778-2f13-4c04-a4c6-fc011865fdc5",
   "metadata": {},
   "outputs": [
    {
     "name": "stdout",
     "output_type": "stream",
     "text": [
      "Querying id: model-SynSAR_gpt2_d32_L1_H1__DMY_nv16_nr32_exph3.000__ntr262144_ntt65536_bsz512_steps8192_lr0.00050_seed601:v0\n",
      "Downloading: <Artifact QXJ0aWZhY3Q6ODI5NzQzMjYx>\n"
     ]
    },
    {
     "name": "stderr",
     "output_type": "stream",
     "text": [
      "\u001b[34m\u001b[1mwandb\u001b[0m:   2 of 2 files downloaded.  \n"
     ]
    }
   ],
   "source": [
    "_, res_dataset = load_model_and_dataset_from_big_grid(embed_dim=d, num_vars=n, seed=601)\n",
    "res_model = TheoryAutoregKStepsModel(num_vars=n, num_steps=3)\n",
    "res_model.eval()\n",
    "atk_dataset = CoerceStateDataset(res_dataset, 4, 1024)"
   ]
  },
  {
   "cell_type": "code",
   "execution_count": 26,
   "id": "6593d795-eef8-4529-9b3d-791c8e92dd6a",
   "metadata": {},
   "outputs": [],
   "source": [
    "torch.manual_seed(102)\n",
    "dataloader = DataLoader(atk_dataset, batch_size=1)\n",
    "for batch in dataloader:\n",
    "    tokens = batch[\"tokens\"]\n",
    "    labels = batch[\"labels\"]\n",
    "    infos = batch[\"infos\"]\n",
    "    hints = batch[\"hints\"]\n",
    "    a = infos[:,0]\n",
    "    break"
   ]
  },
  {
   "cell_type": "code",
   "execution_count": 27,
   "id": "3d44a346-feda-4e2d-84ff-5e18bf1dcc01",
   "metadata": {},
   "outputs": [
    {
     "data": {
      "text/plain": [
       "tensor([[[0, 0, 0, 0, 0, 0, 0, 0, 1, 0, 1, 1, 0, 1, 1, 0],\n",
       "         [0, 0, 0, 0, 0, 1, 0, 0, 1, 0, 0, 1, 0, 0, 1, 0],\n",
       "         [1, 0, 0, 1, 0, 0, 0, 1, 0, 0, 1, 0, 0, 0, 0, 0]]])"
      ]
     },
     "execution_count": 27,
     "metadata": {},
     "output_type": "execute_result"
    }
   ],
   "source": [
    "hints"
   ]
  },
  {
   "cell_type": "code",
   "execution_count": 79,
   "id": "3ee57f82-14b6-4e5d-8a33-2117b2be1956",
   "metadata": {},
   "outputs": [],
   "source": [
    "tgt1, tgt2, tgt3 = hints.chunk(3, dim=1)\n",
    "atk_rule1 = torch.cat([hot(a,n).view(-1,1,n), 10*(2*tgt1 - 1)], dim=-1)\n",
    "atk_rule2 = torch.cat([tgt1, 1000*(2*tgt2 - 1)], dim=-1)\n",
    "atk_rule3 = torch.cat([tgt2, 1000*(2*tgt3 - 1)], dim=-1)\n",
    "init_token = torch.cat([torch.zeros(a.size(0),1,n), hot(a,n).view(-1,1,n)], dim=-1)\n",
    "atk_tokens = torch.cat([atk_rule1, atk_rule2, atk_rule3, init_token], dim=1)\n",
    "adv_tokens = atk_tokens"
   ]
  },
  {
   "cell_type": "code",
   "execution_count": 80,
   "id": "faf9e063-2cc8-42fc-8995-8dae5dd3226a",
   "metadata": {},
   "outputs": [],
   "source": [
    "adv_out = res_model(tokens=adv_tokens, output_attentions=True)\n",
    "adv_pred = (adv_out.logits > 0).long()"
   ]
  },
  {
   "cell_type": "code",
   "execution_count": 81,
   "id": "fcedfbc9-bd45-4f6a-bea9-d29b75fedf8c",
   "metadata": {},
   "outputs": [
    {
     "data": {
      "text/plain": [
       "tensor(False)"
      ]
     },
     "execution_count": 81,
     "metadata": {},
     "output_type": "execute_result"
    }
   ],
   "source": [
    "(adv_pred == labels[:,1:]).float().mean() < 1 - 1e-5"
   ]
  },
  {
   "cell_type": "code",
   "execution_count": 82,
   "id": "a73cf70a-d760-4e66-8edd-eadebd1c4829",
   "metadata": {},
   "outputs": [
    {
     "data": {
      "text/plain": [
       "tensor([[[0, 0, 0, 0, 0, 0, 0, 0, 0, 0, 0, 0, 0, 0, 0, 0],\n",
       "         [0, 0, 0, 0, 0, 0, 0, 0, 0, 0, 0, 0, 0, 0, 0, 0],\n",
       "         [0, 0, 0, 0, 0, 0, 0, 0, 0, 0, 0, 0, 0, 0, 0, 0]]])"
      ]
     },
     "execution_count": 82,
     "metadata": {},
     "output_type": "execute_result"
    }
   ],
   "source": [
    "adv_pred - labels[:,1:]"
   ]
  },
  {
   "cell_type": "code",
   "execution_count": 83,
   "id": "6c4ca47e-f1c3-4cc5-8792-7f4ff7648173",
   "metadata": {},
   "outputs": [
    {
     "data": {
      "text/plain": [
       "tensor([[[    0,     0,     0,     0,     0,     0,     0,     0,     0,     0,     0,     0,     0,     0,     1,\n",
       "              0,   -10,   -10,   -10,   -10,   -10,   -10,   -10,   -10,    10,   -10,    10,    10,   -10,    10,\n",
       "             10,   -10],\n",
       "         [    0,     0,     0,     0,     0,     0,     0,     0,     1,     0,     1,     1,     0,     1,     1,\n",
       "              0, -1000, -1000, -1000, -1000, -1000,  1000, -1000, -1000,  1000, -1000, -1000,  1000, -1000, -1000,\n",
       "           1000, -1000],\n",
       "         [    0,     0,     0,     0,     0,     1,     0,     0,     1,     0,     0,     1,     0,     0,     1,\n",
       "              0,  1000, -1000, -1000,  1000, -1000, -1000, -1000,  1000, -1000, -1000,  1000, -1000, -1000, -1000,\n",
       "          -1000, -1000],\n",
       "         [    0,     0,     0,     0,     0,     0,     0,     0,     0,     0,     0,     0,     0,     0,     0,\n",
       "              0,     0,     0,     0,     0,     0,     0,     0,     0,     0,     0,     0,     0,     0,     0,\n",
       "              1,     0]]])"
      ]
     },
     "execution_count": 83,
     "metadata": {},
     "output_type": "execute_result"
    }
   ],
   "source": [
    "adv_tokens.long()"
   ]
  },
  {
   "cell_type": "code",
   "execution_count": 84,
   "id": "ab4322f6-3a1f-49bf-9ef3-40167e9581a2",
   "metadata": {},
   "outputs": [
    {
     "data": {
      "text/plain": [
       "tensor([[[True, True, True, True, True, True, True, True, True, True, True, True, True, True, True, True],\n",
       "         [True, True, True, True, True, True, True, True, True, True, True, True, True, True, True, True],\n",
       "         [True, True, True, True, True, True, True, True, True, True, True, True, True, True, True, True]]])"
      ]
     },
     "execution_count": 84,
     "metadata": {},
     "output_type": "execute_result"
    }
   ],
   "source": [
    "(adv_tokens[:,0:3,n:] > 0).long() == labels[:,1:]"
   ]
  },
  {
   "cell_type": "code",
   "execution_count": 85,
   "id": "d9c2d666-3e02-48e6-a1eb-48be6455ebfb",
   "metadata": {},
   "outputs": [
    {
     "data": {
      "text/plain": [
       "tensor([[[0, 0, 0, 0, 0, 0, 0, 0, 1, 0, 1, 1, 0, 1, 1, 0],\n",
       "         [0, 0, 0, 0, 0, 1, 0, 0, 1, 0, 0, 1, 0, 0, 1, 0],\n",
       "         [1, 0, 0, 1, 0, 0, 0, 1, 0, 0, 1, 0, 0, 0, 0, 0]]])"
      ]
     },
     "execution_count": 85,
     "metadata": {},
     "output_type": "execute_result"
    }
   ],
   "source": [
    "labels[:,1:]"
   ]
  },
  {
   "cell_type": "code",
   "execution_count": 86,
   "id": "933f206f-e914-448e-be04-811e79840855",
   "metadata": {},
   "outputs": [
    {
     "data": {
      "text/plain": [
       "tensor([[[0, 0, 0, 0, 0, 0, 0, 0, 1, 0, 1, 1, 0, 1, 1, 0],\n",
       "         [0, 0, 0, 0, 0, 1, 0, 0, 1, 0, 0, 1, 0, 0, 1, 0],\n",
       "         [1, 0, 0, 1, 0, 0, 0, 1, 0, 0, 1, 0, 0, 0, 0, 0]]])"
      ]
     },
     "execution_count": 86,
     "metadata": {},
     "output_type": "execute_result"
    }
   ],
   "source": [
    "adv_pred"
   ]
  },
  {
   "cell_type": "code",
   "execution_count": 87,
   "id": "04136716-0482-42f2-aacd-0441dd597f1a",
   "metadata": {},
   "outputs": [
    {
     "data": {
      "text/plain": [
       "tensor([[[0, 0, 0, 0, 0, 0, 0, 0, 0, 0, 0, 0, 0, 0, 0, 0],\n",
       "         [0, 0, 0, 0, 0, 0, 0, 0, 0, 0, 0, 0, 0, 0, 0, 0],\n",
       "         [0, 0, 0, 0, 0, 0, 0, 0, 0, 0, 0, 0, 0, 0, 0, 0]]])"
      ]
     },
     "execution_count": 87,
     "metadata": {},
     "output_type": "execute_result"
    }
   ],
   "source": [
    "adv_pred - labels[:,1:]"
   ]
  },
  {
   "cell_type": "code",
   "execution_count": null,
   "id": "8c17c5f3-1a35-4e9d-aea4-b02cd1f762bc",
   "metadata": {},
   "outputs": [],
   "source": []
  },
  {
   "cell_type": "code",
   "execution_count": 69,
   "id": "147465b1-c7de-4b13-96a1-aec3411fadab",
   "metadata": {},
   "outputs": [
    {
     "data": {
      "text/plain": [
       "(torch.Size([1, 4, 4]), torch.Size([1, 5, 5]), torch.Size([1, 6, 6]))"
      ]
     },
     "execution_count": 69,
     "metadata": {},
     "output_type": "execute_result"
    }
   ],
   "source": [
    "A1, A2, A3 = adv_out.attentions\n",
    "A1.shape, A2.shape, A3.shape"
   ]
  },
  {
   "cell_type": "code",
   "execution_count": 70,
   "id": "0510ebf6-dd71-419b-8113-9651710ab2ec",
   "metadata": {},
   "outputs": [
    {
     "data": {
      "text/plain": [
       "tensor([[[0.00, 1.00, 0.00, 0.00],\n",
       "         [0.00, 0.00, 1.00, 0.00],\n",
       "         [0.00, 0.00, 0.00, 1.00],\n",
       "         [0.50, 0.00, 0.00, 0.50]]])"
      ]
     },
     "execution_count": 70,
     "metadata": {},
     "output_type": "execute_result"
    }
   ],
   "source": [
    "A1"
   ]
  },
  {
   "cell_type": "code",
   "execution_count": 71,
   "id": "b7fd4d7c-7542-4759-9428-c3eff0d57f98",
   "metadata": {},
   "outputs": [
    {
     "data": {
      "text/plain": [
       "tensor([[[0.00, 1.00, 0.00, 0.00, 0.00],\n",
       "         [0.00, 0.00, 1.00, 0.00, 0.00],\n",
       "         [0.00, 0.00, 0.00, 0.50, 0.50],\n",
       "         [0.33, 0.00, 0.00, 0.33, 0.33],\n",
       "         [0.25, 0.25, 0.00, 0.25, 0.25]]])"
      ]
     },
     "execution_count": 71,
     "metadata": {},
     "output_type": "execute_result"
    }
   ],
   "source": [
    "A2"
   ]
  },
  {
   "cell_type": "code",
   "execution_count": 72,
   "id": "f2081e9d-fd3e-461c-abab-a18e7ef0e7f5",
   "metadata": {},
   "outputs": [
    {
     "data": {
      "text/plain": [
       "tensor([[[0.00, 1.00, 0.00, 0.00, 0.00, 0.00],\n",
       "         [0.00, 0.00, 1.00, 0.00, 0.00, 0.00],\n",
       "         [0.00, 0.00, 0.00, 0.33, 0.33, 0.33],\n",
       "         [0.25, 0.00, 0.00, 0.25, 0.25, 0.25],\n",
       "         [0.20, 0.20, 0.00, 0.20, 0.20, 0.20],\n",
       "         [0.20, 0.20, 0.00, 0.20, 0.20, 0.20]]])"
      ]
     },
     "execution_count": 72,
     "metadata": {},
     "output_type": "execute_result"
    }
   ],
   "source": [
    "A3"
   ]
  },
  {
   "cell_type": "code",
   "execution_count": 73,
   "id": "5f1659ee-e088-4698-aece-10838e722974",
   "metadata": {},
   "outputs": [
    {
     "data": {
      "text/plain": [
       "tensor([[[ 0,  0,  0,  0,  0, -1,  0,  0,  0,  0,  1,  0,  0,  1,  0,  0]]])"
      ]
     },
     "execution_count": 73,
     "metadata": {},
     "output_type": "execute_result"
    }
   ],
   "source": [
    "tgt1 - tgt2"
   ]
  },
  {
   "cell_type": "code",
   "execution_count": 75,
   "id": "de142928-adda-41d8-8a02-73f41bd8b748",
   "metadata": {},
   "outputs": [
    {
     "data": {
      "text/plain": [
       "tensor([[[-1,  0,  0, -1,  0,  1,  0, -1,  0,  0, -2,  0,  0, -1,  0,  0]]])"
      ]
     },
     "execution_count": 75,
     "metadata": {},
     "output_type": "execute_result"
    }
   ],
   "source": [
    "tgt2 - (tgt1 + tgt3)"
   ]
  },
  {
   "cell_type": "code",
   "execution_count": 77,
   "id": "9fc5f3b4-55ff-49ad-96e3-87a6bf9d20af",
   "metadata": {},
   "outputs": [
    {
     "data": {
      "text/plain": [
       "tensor([[[0, 0, 0, 0, 0, 0, 0, 0, 1, 0, 1, 1, 0, 1, 1, 0],\n",
       "         [0, 0, 0, 0, 0, 0, 0, 0, 1, 0, 1, 1, 0, 1, 1, 0],\n",
       "         [0, 0, 0, 0, 0, 0, 0, 0, 1, 0, 1, 1, 0, 1, 1, 0]]])"
      ]
     },
     "execution_count": 77,
     "metadata": {},
     "output_type": "execute_result"
    }
   ],
   "source": [
    "adv_out.logits.long()"
   ]
  },
  {
   "cell_type": "code",
   "execution_count": 78,
   "id": "1305a95e-5177-4854-927f-5f557a704cfa",
   "metadata": {},
   "outputs": [
    {
     "data": {
      "text/plain": [
       "tensor([[[0, 0, 0, 0, 0, 0, 0, 0, 0, 0, 0, 0, 0, 0, 1, 0],\n",
       "         [0, 0, 0, 0, 0, 0, 0, 0, 1, 0, 1, 1, 0, 1, 1, 0],\n",
       "         [0, 0, 0, 0, 0, 1, 0, 0, 1, 0, 0, 1, 0, 0, 1, 0],\n",
       "         [1, 0, 0, 1, 0, 0, 0, 1, 0, 0, 1, 0, 0, 0, 0, 0]]])"
      ]
     },
     "execution_count": 78,
     "metadata": {},
     "output_type": "execute_result"
    }
   ],
   "source": [
    "labels"
   ]
  },
  {
   "cell_type": "code",
   "execution_count": null,
   "id": "82b4292c-9ba0-4091-be35-e7deadd7d3a0",
   "metadata": {},
   "outputs": [],
   "source": []
  }
 ],
 "metadata": {
  "kernelspec": {
   "display_name": "Python 3 (ipykernel)",
   "language": "python",
   "name": "python3"
  },
  "language_info": {
   "codemirror_mode": {
    "name": "ipython",
    "version": 3
   },
   "file_extension": ".py",
   "mimetype": "text/x-python",
   "name": "python",
   "nbconvert_exporter": "python",
   "pygments_lexer": "ipython3",
   "version": "3.10.13"
  }
 },
 "nbformat": 4,
 "nbformat_minor": 5
}
