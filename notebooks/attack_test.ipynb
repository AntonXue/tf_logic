{
 "cells": [
  {
   "cell_type": "code",
   "execution_count": 1,
   "id": "58866ef0-1872-439e-85e8-fdf72c3f88f0",
   "metadata": {},
   "outputs": [],
   "source": [
    "import os\n",
    "import sys\n",
    "sys.path.insert(0, \"..\")\n",
    "import inspect\n",
    "import torch\n",
    "import torch.nn as nn\n",
    "import torch.nn.functional as F\n",
    "from torch.utils.data import DataLoader\n",
    "\n",
    "from tqdm import tqdm\n",
    "\n",
    "import matplotlib.pyplot as plt\n",
    "\n",
    "from models import *\n",
    "from my_datasets import *\n",
    "from experiments import *\n",
    "from experiments.utils.model_loader_utils import *\n",
    "\n",
    "torch.set_printoptions(sci_mode=False, precision=2, linewidth=120)"
   ]
  },
  {
   "cell_type": "code",
   "execution_count": null,
   "id": "faf9e063-2cc8-42fc-8995-8dae5dd3226a",
   "metadata": {},
   "outputs": [],
   "source": []
  },
  {
   "cell_type": "code",
   "execution_count": 2,
   "id": "07759f40-4d92-4ab5-b9e0-7e061e1e7c36",
   "metadata": {},
   "outputs": [],
   "source": [
    "n, d, k = 48, 96, 3\n",
    "path = f\"/home/antonxue/foo/tf_logic/_dump/learned_attacks/suppress_rules_learned_n{n}_d{d}_k{k}_repeat_best.pt\"\n",
    "state_dict = torch.load(path)[\"model_state_dict\"]"
   ]
  },
  {
   "cell_type": "code",
   "execution_count": 3,
   "id": "2ba5864d-c315-4c6b-8a47-e3121b5adf08",
   "metadata": {},
   "outputs": [
    {
     "name": "stdout",
     "output_type": "stream",
     "text": [
      "Querying id: model-SynSAR_gpt2_d96_L1_H1__DMY_nv48_nr32_exph3.000__ntr262144_ntt65536_bsz512_steps8192_lr0.00050_seed601:v0\n",
      "Downloading: <Artifact QXJ0aWZhY3Q6ODI4ODExOTMz>\n"
     ]
    },
    {
     "name": "stderr",
     "output_type": "stream",
     "text": [
      "\u001b[34m\u001b[1mwandb\u001b[0m:   2 of 2 files downloaded.  \n"
     ]
    },
    {
     "data": {
      "text/plain": [
       "<All keys matched successfully>"
      ]
     },
     "execution_count": 3,
     "metadata": {},
     "output_type": "execute_result"
    }
   ],
   "source": [
    "res_model, res_dataset = load_model_and_dataset_from_big_grid(embed_dim=d, num_vars=n, seed=601)\n",
    "atk_model = SuppressRuleWrapperModel(res_model, num_attack_tokens=k)\n",
    "atk_model.load_state_dict(state_dict)"
   ]
  },
  {
   "cell_type": "code",
   "execution_count": 4,
   "id": "d8f91e10-6d99-4c91-bf81-bbb5685f9854",
   "metadata": {},
   "outputs": [],
   "source": [
    "supp_dataset = SuppressRuleDataset(res_dataset, 1024)\n",
    "dataloader = DataLoader(supp_dataset, batch_size=3)\n",
    "for batch in dataloader:\n",
    "    tokens = batch[\"tokens\"]\n",
    "    labels = batch[\"labels\"]\n",
    "    infos = batch[\"infos\"]\n",
    "    supp_idx = batch[\"supp_idx\"]\n",
    "    a, b = infos[:,0], infos[:,1]\n",
    "\n",
    "    to_supp_rule = torch.cat([F.one_hot(a,n), F.one_hot(b,n)], dim=-1)    \n",
    "    to_supp_ind = (tokens == to_supp_rule.view(-1,1,2*n)).all(dim=-1)\n",
    "    break\n",
    "\n",
    "with torch.no_grad():\n",
    "    atk_out = atk_model(tokens=tokens, infos=infos, labels=labels)\n",
    "    atk_rules = atk_out.logits\n",
    "    adv_tokens = torch.cat([atk_rules, tokens], dim=1)\n",
    "    adv_out = atk_model.reasoner_model(tokens=adv_tokens, output_attentions=True)\n",
    "    adv_pred = adv_out.logits > 0"
   ]
  },
  {
   "cell_type": "code",
   "execution_count": 5,
   "id": "d24afd5a-25f9-418a-b180-ea017f2e0d79",
   "metadata": {},
   "outputs": [
    {
     "data": {
      "text/plain": [
       "tensor([25, 27,  5])"
      ]
     },
     "execution_count": 5,
     "metadata": {},
     "output_type": "execute_result"
    }
   ],
   "source": [
    "supp_idx"
   ]
  },
  {
   "cell_type": "code",
   "execution_count": 6,
   "id": "b7446c5b-bf5b-4a68-bebb-a44a11923f34",
   "metadata": {},
   "outputs": [
    {
     "data": {
      "text/plain": [
       "tensor([False, False, False, False, False, False, False, False,  True, False, False, False, False,  True, False, False,\n",
       "        False, False, False, False, False, False, False, False, False,  True, False, False, False, False, False, False])"
      ]
     },
     "execution_count": 6,
     "metadata": {},
     "output_type": "execute_result"
    }
   ],
   "source": [
    "tokens[0].sum(dim=-1) == 2"
   ]
  },
  {
   "cell_type": "code",
   "execution_count": 7,
   "id": "7c7a63e4-59ab-4cec-9012-a57df5be1bb2",
   "metadata": {},
   "outputs": [
    {
     "data": {
      "text/plain": [
       "torch.Size([3, 32, 96])"
      ]
     },
     "execution_count": 7,
     "metadata": {},
     "output_type": "execute_result"
    }
   ],
   "source": [
    "tokens.shape"
   ]
  },
  {
   "cell_type": "code",
   "execution_count": 8,
   "id": "b9153418-229d-45fd-bfdb-c043b22706d6",
   "metadata": {},
   "outputs": [
    {
     "data": {
      "text/plain": [
       "torch.Size([3, 32, 96])"
      ]
     },
     "execution_count": 8,
     "metadata": {},
     "output_type": "execute_result"
    }
   ],
   "source": [
    "tokens.size()"
   ]
  },
  {
   "cell_type": "code",
   "execution_count": 9,
   "id": "3cc0c4af-d1a8-4969-89c0-5b46693eaa82",
   "metadata": {},
   "outputs": [
    {
     "data": {
      "text/plain": [
       "tensor([0., 0., 0., 0., 1., 0., 0., 0., 0., 0., 0., 0., 0., 0., 0., 0., 0., 0., 0., 0., 0., 0., 0., 0., 0., 0., 0., 0.,\n",
       "        0., 0., 1., 0., 0., 0., 0., 0., 0., 0., 0., 0., 0., 0., 0., 0., 0., 0., 0., 0., 0., 0., 0., 0., 0., 0., 0., 0.,\n",
       "        0., 0., 0., 0., 0., 0., 0., 0., 0., 0., 0., 0., 0., 0., 0., 0., 0., 0., 0., 0., 0., 0., 0., 0., 0., 0., 0., 0.,\n",
       "        0., 0., 0., 0., 0., 0., 0., 0., 0., 0., 0., 0.])"
      ]
     },
     "execution_count": 9,
     "metadata": {},
     "output_type": "execute_result"
    }
   ],
   "source": [
    "tokens[-1,1]"
   ]
  },
  {
   "cell_type": "code",
   "execution_count": 10,
   "id": "9edf7f2f-e7d6-4210-9ae2-1593846aa2b1",
   "metadata": {},
   "outputs": [
    {
     "data": {
      "text/plain": [
       "tensor([[False, False, False, False, False, False, False, False, False, False, False, False, False, False, False, False,\n",
       "         False, False, False, False, False, False, False, False, False,  True, False, False, False, False, False, False],\n",
       "        [False, False, False, False, False, False, False, False, False, False, False, False, False, False, False, False,\n",
       "         False, False, False, False, False, False, False, False, False, False, False,  True, False, False, False, False],\n",
       "        [False, False, False, False, False,  True, False, False, False, False, False, False, False, False, False, False,\n",
       "         False, False, False, False, False, False, False, False, False, False, False, False, False, False, False, False]])"
      ]
     },
     "execution_count": 10,
     "metadata": {},
     "output_type": "execute_result"
    }
   ],
   "source": [
    "to_supp_ind"
   ]
  },
  {
   "cell_type": "code",
   "execution_count": null,
   "id": "6cad6be1-75df-4fba-9bf5-3e42ceec456a",
   "metadata": {},
   "outputs": [],
   "source": []
  },
  {
   "cell_type": "code",
   "execution_count": 11,
   "id": "b6e63b4b-d991-4079-9ffb-4d66e54be911",
   "metadata": {},
   "outputs": [
    {
     "data": {
      "text/plain": [
       "tensor([25, 27,  5])"
      ]
     },
     "execution_count": 11,
     "metadata": {},
     "output_type": "execute_result"
    }
   ],
   "source": [
    "supp_idx"
   ]
  },
  {
   "cell_type": "code",
   "execution_count": 12,
   "id": "1f8ac605-f8f8-4f93-ab98-8863814db831",
   "metadata": {},
   "outputs": [
    {
     "data": {
      "text/plain": [
       "tensor([[ 0, 25],\n",
       "        [ 1, 27],\n",
       "        [ 2,  5]])"
      ]
     },
     "execution_count": 12,
     "metadata": {},
     "output_type": "execute_result"
    }
   ],
   "source": [
    "to_supp_ind.nonzero()"
   ]
  },
  {
   "cell_type": "code",
   "execution_count": 13,
   "id": "d893f62c-8514-4d8e-b6f4-30cbf6a0296a",
   "metadata": {},
   "outputs": [
    {
     "data": {
      "text/plain": [
       "(tensor([47,  6, 32]), tensor([33,  1, 36]))"
      ]
     },
     "execution_count": 13,
     "metadata": {},
     "output_type": "execute_result"
    }
   ],
   "source": [
    "a, b"
   ]
  },
  {
   "cell_type": "code",
   "execution_count": 14,
   "id": "d70ce9c9-529b-4f6e-bfe6-d6a76774098f",
   "metadata": {},
   "outputs": [
    {
     "data": {
      "text/plain": [
       "tensor([[ 0],\n",
       "        [11],\n",
       "        [14],\n",
       "        [16],\n",
       "        [47],\n",
       "        [72],\n",
       "        [95]])"
      ]
     },
     "execution_count": 14,
     "metadata": {},
     "output_type": "execute_result"
    }
   ],
   "source": [
    "tokens[0,15].nonzero()"
   ]
  },
  {
   "cell_type": "code",
   "execution_count": null,
   "id": "2f78106b-58a1-432c-a6d8-f60ef8e9e890",
   "metadata": {},
   "outputs": [],
   "source": []
  },
  {
   "cell_type": "code",
   "execution_count": 15,
   "id": "8ea38684-0cd9-480e-9b7c-fa381bad1e26",
   "metadata": {},
   "outputs": [
    {
     "data": {
      "text/plain": [
       "torch.Size([3, 3, 48])"
      ]
     },
     "execution_count": 15,
     "metadata": {},
     "output_type": "execute_result"
    }
   ],
   "source": [
    "adv_out.logits.shape"
   ]
  },
  {
   "cell_type": "code",
   "execution_count": 16,
   "id": "b5fbd10b-fcb5-4819-b901-2e1a4c2f4990",
   "metadata": {},
   "outputs": [],
   "source": [
    "out1, out2, out3 = adv_out.all_seqcls_outputs"
   ]
  },
  {
   "cell_type": "code",
   "execution_count": 17,
   "id": "ec9a8556-33bd-4728-8206-07a843a515b2",
   "metadata": {},
   "outputs": [],
   "source": [
    "attn1, = out1.attentions\n",
    "attn2, = out2.attentions\n",
    "attn3, = out3.attentions"
   ]
  },
  {
   "cell_type": "code",
   "execution_count": 18,
   "id": "faec27fc-f432-4193-9fce-4d1faaf81212",
   "metadata": {},
   "outputs": [
    {
     "data": {
      "text/plain": [
       "torch.Size([3, 1, 35, 35])"
      ]
     },
     "execution_count": 18,
     "metadata": {},
     "output_type": "execute_result"
    }
   ],
   "source": [
    "attn1.shape"
   ]
  },
  {
   "cell_type": "code",
   "execution_count": 19,
   "id": "347d63f4-653c-4515-958c-3c63b8fa180d",
   "metadata": {},
   "outputs": [
    {
     "data": {
      "text/plain": [
       "<matplotlib.image.AxesImage at 0x7dc4200e7c40>"
      ]
     },
     "execution_count": 19,
     "metadata": {},
     "output_type": "execute_result"
    },
    {
     "data": {
      "text/plain": [
       "<Figure size 640x480 with 0 Axes>"
      ]
     },
     "metadata": {},
     "output_type": "display_data"
    },
    {
     "data": {
      "image/png": "[encoded data removed]",
      "text/plain": [
       "<Figure size 1200x600 with 3 Axes>"
      ]
     },
     "metadata": {},
     "output_type": "display_data"
    }
   ],
   "source": [
    "plt.clf()\n",
    "fig, ax = plt.subplots(1,3, figsize=(12,6))\n",
    "ax[0].imshow(attn1[0,0].numpy())\n",
    "ax[1].imshow(attn2[0,0].numpy())\n",
    "ax[2].imshow(attn3[0,0].numpy())"
   ]
  },
  {
   "cell_type": "code",
   "execution_count": 20,
   "id": "d8c4a5aa-2df9-4771-8ec6-f2fdb7e4ce68",
   "metadata": {},
   "outputs": [
    {
     "data": {
      "text/plain": [
       "tensor([[0.74, 0.85, 0.03, 0.57],\n",
       "        [0.44, 0.83, 0.25, 0.55],\n",
       "        [0.15, 0.28, 0.70, 0.19],\n",
       "        [0.68, 0.00, 0.08, 0.41],\n",
       "        [0.14, 0.62, 0.86, 0.65]])"
      ]
     },
     "execution_count": 20,
     "metadata": {},
     "output_type": "execute_result"
    }
   ],
   "source": [
    "x = torch.rand(5,4)\n",
    "x"
   ]
  },
  {
   "cell_type": "code",
   "execution_count": 21,
   "id": "580b2367-aa42-47b4-8e13-18ea4dc464e3",
   "metadata": {},
   "outputs": [
    {
     "data": {
      "text/plain": [
       "tensor([[0.44, 0.83, 0.25, 0.55],\n",
       "        [0.14, 0.62, 0.86, 0.65],\n",
       "        [0.68, 0.00, 0.08, 0.41],\n",
       "        [0.74, 0.85, 0.03, 0.57],\n",
       "        [0.15, 0.28, 0.70, 0.19]])"
      ]
     },
     "execution_count": 21,
     "metadata": {},
     "output_type": "execute_result"
    }
   ],
   "source": [
    "perm = torch.randperm(x.size(0))\n",
    "y = x[perm]\n",
    "y"
   ]
  },
  {
   "cell_type": "code",
   "execution_count": 22,
   "id": "25aaab00-4a3a-4830-999e-ec416de50c75",
   "metadata": {},
   "outputs": [
    {
     "data": {
      "text/plain": [
       "(tensor([1, 4, 3, 0, 2]), tensor([3, 0, 4, 2, 1]))"
      ]
     },
     "execution_count": 22,
     "metadata": {},
     "output_type": "execute_result"
    }
   ],
   "source": [
    "perm, perm.argsort()"
   ]
  },
  {
   "cell_type": "code",
   "execution_count": null,
   "id": "d1925387-d6b6-4026-8177-72483e88a047",
   "metadata": {},
   "outputs": [],
   "source": []
  },
  {
   "cell_type": "code",
   "execution_count": null,
   "id": "34b3aaae-8387-493e-bfa6-68aa995be036",
   "metadata": {},
   "outputs": [],
   "source": []
  },
  {
   "cell_type": "code",
   "execution_count": 23,
   "id": "077516e5-d0fb-4819-a921-10b928859343",
   "metadata": {},
   "outputs": [
    {
     "data": {
      "text/plain": [
       "tensor([[[[    1.00,     0.00,     0.00,  ...,     0.00,     0.00,     0.00],\n",
       "          [    0.50,     0.50,     0.00,  ...,     0.00,     0.00,     0.00],\n",
       "          [    0.33,     0.33,     0.33,  ...,     0.00,     0.00,     0.00],\n",
       "          ...,\n",
       "          [    0.07,     0.07,     0.07,  ...,     0.00,     0.00,     0.00],\n",
       "          [    0.10,     0.10,     0.10,  ...,     0.02,     0.00,     0.00],\n",
       "          [    0.09,     0.09,     0.09,  ...,     0.00,     0.00,     0.05]]],\n",
       "\n",
       "\n",
       "        [[[    1.00,     0.00,     0.00,  ...,     0.00,     0.00,     0.00],\n",
       "          [    0.50,     0.50,     0.00,  ...,     0.00,     0.00,     0.00],\n",
       "          [    0.33,     0.33,     0.33,  ...,     0.00,     0.00,     0.00],\n",
       "          ...,\n",
       "          [    0.05,     0.05,     0.05,  ...,     0.02,     0.00,     0.00],\n",
       "          [    0.07,     0.07,     0.07,  ...,     0.02,     0.01,     0.00],\n",
       "          [    0.09,     0.09,     0.09,  ...,     0.00,     0.00,     0.05]]],\n",
       "\n",
       "\n",
       "        [[[    1.00,     0.00,     0.00,  ...,     0.00,     0.00,     0.00],\n",
       "          [    0.50,     0.50,     0.00,  ...,     0.00,     0.00,     0.00],\n",
       "          [    0.33,     0.33,     0.33,  ...,     0.00,     0.00,     0.00],\n",
       "          ...,\n",
       "          [    0.13,     0.13,     0.13,  ...,     0.01,     0.00,     0.00],\n",
       "          [    0.09,     0.09,     0.09,  ...,     0.02,     0.01,     0.00],\n",
       "          [    0.08,     0.08,     0.08,  ...,     0.01,     0.05,     0.05]]]])"
      ]
     },
     "execution_count": 23,
     "metadata": {},
     "output_type": "execute_result"
    }
   ],
   "source": [
    "attn1"
   ]
  },
  {
   "cell_type": "code",
   "execution_count": null,
   "id": "ab76be42-3eb9-45f7-b078-a5f84539a7dd",
   "metadata": {},
   "outputs": [],
   "source": []
  },
  {
   "cell_type": "code",
   "execution_count": 24,
   "id": "96bf31ef-0b26-45b9-ab2e-015bc13eaf78",
   "metadata": {},
   "outputs": [
    {
     "ename": "SyntaxError",
     "evalue": "invalid syntax (4021670746.py, line 1)",
     "output_type": "error",
     "traceback": [
      "\u001b[0;36m  Cell \u001b[0;32mIn[24], line 1\u001b[0;36m\u001b[0m\n\u001b[0;31m    adv_pred =\u001b[0m\n\u001b[0m               ^\u001b[0m\n\u001b[0;31mSyntaxError\u001b[0m\u001b[0;31m:\u001b[0m invalid syntax\n"
     ]
    }
   ],
   "source": [
    "adv_pred = "
   ]
  },
  {
   "cell_type": "code",
   "execution_count": null,
   "id": "3ed3f81f-a22d-4c9c-b32f-a7de6a378a7f",
   "metadata": {},
   "outputs": [],
   "source": []
  },
  {
   "cell_type": "code",
   "execution_count": null,
   "id": "ee97ef17-d8a1-43d6-8ea1-d4d019fc9d65",
   "metadata": {},
   "outputs": [],
   "source": [
    "y = torch.randn(2,3,4)\n",
    "y"
   ]
  },
  {
   "cell_type": "code",
   "execution_count": null,
   "id": "c325a09f-820b-49b8-9cee-9a8dc8b9d0e5",
   "metadata": {},
   "outputs": [],
   "source": []
  },
  {
   "cell_type": "code",
   "execution_count": null,
   "id": "e360ffed-3afe-42f4-ba32-9446303f4054",
   "metadata": {},
   "outputs": [],
   "source": [
    "to_supp_ind = (tokens == to_supp_rule).all(dim=-1)\n",
    "to_supp_ind.shape, to_supp_ind"
   ]
  },
  {
   "cell_type": "code",
   "execution_count": null,
   "id": "f30785f7-f7b9-4569-bc87-5ad0e34c7346",
   "metadata": {},
   "outputs": [],
   "source": []
  },
  {
   "cell_type": "code",
   "execution_count": null,
   "id": "84939952-ee2c-4382-8c62-5e57496b114d",
   "metadata": {},
   "outputs": [],
   "source": []
  },
  {
   "cell_type": "code",
   "execution_count": null,
   "id": "6e318607-c99e-4f3f-9ed9-938ac818cc3a",
   "metadata": {},
   "outputs": [],
   "source": []
  },
  {
   "cell_type": "code",
   "execution_count": null,
   "id": "94a6cad4-dd0d-4dab-94b3-4d403d54a029",
   "metadata": {},
   "outputs": [],
   "source": []
  },
  {
   "cell_type": "code",
   "execution_count": null,
   "id": "91b466b2-5064-4ff2-87fd-a5cb730a7d8c",
   "metadata": {},
   "outputs": [],
   "source": [
    "to_supp_ind.all(dim=(1,2))"
   ]
  },
  {
   "cell_type": "code",
   "execution_count": null,
   "id": "14e89c79-6635-49bc-9391-f50c329aa497",
   "metadata": {},
   "outputs": [],
   "source": [
    "where = torch.where((tokens == to_supp_rule).float().mean(dim=-1) > 0.999, 1, 0)"
   ]
  },
  {
   "cell_type": "code",
   "execution_count": null,
   "id": "620d82ad-8d0f-4411-acd4-63b27c181867",
   "metadata": {},
   "outputs": [],
   "source": [
    "where.nonzero(as_tuple=True)"
   ]
  },
  {
   "cell_type": "code",
   "execution_count": null,
   "id": "ef897476-641f-4aa8-9294-3fdbcd8ab718",
   "metadata": {},
   "outputs": [],
   "source": [
    "where[where.nonzero()]"
   ]
  },
  {
   "cell_type": "code",
   "execution_count": null,
   "id": "91d2ae1f-f077-4c4c-a475-6b5bab557428",
   "metadata": {},
   "outputs": [],
   "source": [
    "z = torch.randn(3,4,5,6)"
   ]
  },
  {
   "cell_type": "code",
   "execution_count": null,
   "id": "a61fcbdd-d825-4493-9b47-9ebb0aa898ef",
   "metadata": {},
   "outputs": [],
   "source": [
    "z.nonzero().shape"
   ]
  },
  {
   "cell_type": "code",
   "execution_count": null,
   "id": "d05899dd-02f2-4ef5-a9f5-d360e237f737",
   "metadata": {},
   "outputs": [],
   "source": [
    "z.nonzero(as_tuple=True)"
   ]
  },
  {
   "cell_type": "code",
   "execution_count": null,
   "id": "dbb25c8c-56c3-41d9-9b1f-f96b835e4e41",
   "metadata": {},
   "outputs": [],
   "source": []
  },
  {
   "cell_type": "code",
   "execution_count": null,
   "id": "60acd598-83b2-47d0-8fc6-68996739cd5f",
   "metadata": {},
   "outputs": [],
   "source": [
    "to_supp_rule.shape"
   ]
  },
  {
   "cell_type": "code",
   "execution_count": null,
   "id": "344ff94a-5bad-441c-8c59-b6ccfb67f3a9",
   "metadata": {},
   "outputs": [],
   "source": [
    "(tokens == to_supp_rule).float().mean(dim=-1)"
   ]
  },
  {
   "cell_type": "code",
   "execution_count": null,
   "id": "c088a018-f20a-4ca3-a8b5-c61b8771a1c4",
   "metadata": {},
   "outputs": [],
   "source": [
    "rule1_ante"
   ]
  },
  {
   "cell_type": "code",
   "execution_count": null,
   "id": "00e19773-c8db-4923-b707-d62bb448ac49",
   "metadata": {},
   "outputs": [],
   "source": [
    "a, b"
   ]
  },
  {
   "cell_type": "code",
   "execution_count": null,
   "id": "c92ad958-a59b-40be-86a2-b5a7ce78de21",
   "metadata": {},
   "outputs": [],
   "source": [
    "rule1_ante.shape"
   ]
  },
  {
   "cell_type": "code",
   "execution_count": null,
   "id": "4de87f03-0ba6-4cef-bbaf-d7651b9a732c",
   "metadata": {},
   "outputs": [],
   "source": [
    "rule1_ante[:,a]"
   ]
  },
  {
   "cell_type": "code",
   "execution_count": null,
   "id": "6d11c875-ff97-4c7c-ae5e-d938b5a05a51",
   "metadata": {},
   "outputs": [],
   "source": [
    "rule1_conseq[:,b]"
   ]
  },
  {
   "cell_type": "code",
   "execution_count": null,
   "id": "c83cd247-87fa-47a5-a400-f9339667bb75",
   "metadata": {},
   "outputs": [],
   "source": [
    "atk_ante, atk_conseq = out.logits.chunk(2, dim=-1)"
   ]
  },
  {
   "cell_type": "code",
   "execution_count": null,
   "id": "34e85b7e-52ed-46f1-b7a0-b7762b30eaf5",
   "metadata": {},
   "outputs": [],
   "source": [
    "plt.clf()\n",
    "fig, ax = plt.subplots(1, 2, figsize=(12,6))\n",
    "ax[0].plot(atk_ante[0][0].numpy())\n",
    "ax[1].plot(atk_conseq[0][0].numpy())"
   ]
  },
  {
   "cell_type": "code",
   "execution_count": null,
   "id": "ae6e5d22-b151-4e98-b013-416d44175805",
   "metadata": {},
   "outputs": [],
   "source": [
    "atk_conseq"
   ]
  },
  {
   "cell_type": "code",
   "execution_count": null,
   "id": "af10f2d8-2718-4282-901d-aa2bfbd56d99",
   "metadata": {},
   "outputs": [],
   "source": [
    "rule1_ante, rule1_conseq = tokens"
   ]
  },
  {
   "cell_type": "code",
   "execution_count": null,
   "id": "7438511a-df72-4cb7-b63b-f5dd7415a33c",
   "metadata": {},
   "outputs": [],
   "source": []
  },
  {
   "cell_type": "code",
   "execution_count": null,
   "id": "b44297b2-83d0-457c-94b4-abe1996b76a0",
   "metadata": {},
   "outputs": [],
   "source": [
    "n = 48\n",
    "# res_model = TheoryAutoregKStepsModel(n, 3)\n",
    "# res_dataset = AutoregCustomTokensDataset(n, 32, 3.0, 1024)\n",
    "\n",
    "\n",
    "dataset = KnowledgeAmnesiaDataset(res_dataset, 1024)\n",
    "dataloader = DataLoader(dataset, batch_size=1)"
   ]
  },
  {
   "cell_type": "code",
   "execution_count": null,
   "id": "591eb2da-8807-4c15-bceb-58a29d9882ff",
   "metadata": {},
   "outputs": [],
   "source": [
    "for batch in dataloader:\n",
    "    tokens = batch[\"tokens\"]\n",
    "    abcdefgh = batch[\"abcdefgh\"]\n",
    "    labels = batch[\"labels\"]\n",
    "    break"
   ]
  },
  {
   "cell_type": "code",
   "execution_count": null,
   "id": "cd82d325-5341-4e37-9e24-bdc109570267",
   "metadata": {},
   "outputs": [],
   "source": [
    "a, b, c, d, e, f, g, h = abcdefgh.chunk(8, dim=-1)\n",
    "atk_rule = torch.cat([F.one_hot(a,n), -1*F.one_hot(a,n)], dim=-1)\n",
    "atk_rules = atk_rule.view(-1,1,2*n).repeat(1,10,1)\n",
    "adv_tokens = torch.cat([atk_rules, tokens], dim=1)"
   ]
  },
  {
   "cell_type": "code",
   "execution_count": null,
   "id": "42f4bb08-a8bb-4c0d-b5d5-88785b36f032",
   "metadata": {},
   "outputs": [],
   "source": [
    "res_out = res_model(tokens=adv_tokens)\n",
    "adv_pred = (res_out.logits > 0).long()\n",
    "adv_pred"
   ]
  },
  {
   "cell_type": "code",
   "execution_count": null,
   "id": "95c87968-7874-4746-88e4-986c8adb1770",
   "metadata": {},
   "outputs": [],
   "source": [
    "labels"
   ]
  },
  {
   "cell_type": "code",
   "execution_count": null,
   "id": "096d9deb-28d8-4037-873c-b35b96057c13",
   "metadata": {},
   "outputs": [],
   "source": [
    "adv_pred == labels"
   ]
  },
  {
   "cell_type": "code",
   "execution_count": null,
   "id": "4dfdf910-ec1c-4690-a85e-0188082da0d0",
   "metadata": {},
   "outputs": [],
   "source": [
    "((adv_pred == labels) == 0).nonzero()"
   ]
  },
  {
   "cell_type": "code",
   "execution_count": null,
   "id": "3ecce9fe-832d-4e85-985b-a383846d7728",
   "metadata": {},
   "outputs": [],
   "source": [
    "a,"
   ]
  },
  {
   "cell_type": "code",
   "execution_count": null,
   "id": "1b8be075-4286-4e48-aa01-1450e6c96c9a",
   "metadata": {},
   "outputs": [],
   "source": []
  },
  {
   "cell_type": "code",
   "execution_count": null,
   "id": "709da271-9513-4ae2-a8a7-4d7cb0e91ac8",
   "metadata": {},
   "outputs": [],
   "source": [
    "dataset = AutoregDiamondTokensDataset(8, 32, 4.0, 10000)\n",
    "dataloader = DataLoader(dataset, batch_size=4)"
   ]
  },
  {
   "cell_type": "code",
   "execution_count": null,
   "id": "68ef2482-13c7-4e24-a81e-c8618b1015de",
   "metadata": {},
   "outputs": [],
   "source": [
    "num_dones, num_hits = 0, 0\n",
    "pbar = tqdm(dataloader)\n",
    "for batch in pbar:\n",
    "    tokens, labels = batch[\"tokens\"], batch[\"labels\"]\n",
    "    out = model(tokens=tokens, labels=labels)\n",
    "    pred = (out.logits > 0).long()\n",
    "    num_dones += tokens.size(0)\n",
    "    num_hits += (labels == pred).float().mean(dim=(1,2)).sum()\n",
    "    acc = num_hits / num_dones\n",
    "    desc = f\"acc {acc:.3f}\"\n",
    "    pbar.set_description(desc)"
   ]
  },
  {
   "cell_type": "code",
   "execution_count": null,
   "id": "7bfff762-fc27-4943-8283-88fda7baced6",
   "metadata": {},
   "outputs": [],
   "source": []
  },
  {
   "cell_type": "code",
   "execution_count": null,
   "id": "78a92e88-7316-4c5c-aa06-9f9f829d7d97",
   "metadata": {},
   "outputs": [],
   "source": [
    "batch[\"abcdefgh\"]"
   ]
  },
  {
   "cell_type": "code",
   "execution_count": null,
   "id": "a62d66ab-82ad-4bde-aa2e-51792de3effa",
   "metadata": {},
   "outputs": [],
   "source": [
    "(tokens[0][:,7] == 1).sum()"
   ]
  },
  {
   "cell_type": "code",
   "execution_count": null,
   "id": "c897788d-f6d1-44c1-8121-3d87691a45df",
   "metadata": {},
   "outputs": [],
   "source": [
    "n = 16\n",
    "_, res_dataset = load_model_and_dataset_from_big_grid(2*n, n)\n",
    "model = TheoryAutoregKStepsModel(num_vars=n, num_steps=3)"
   ]
  },
  {
   "cell_type": "code",
   "execution_count": null,
   "id": "bba90c60-143c-4cfa-942e-39c94080e166",
   "metadata": {},
   "outputs": [],
   "source": [
    "atk_dataset = KnowledgeAmnesiaDataset(res_dataset, dataset_len = 1024)\n",
    "dataloader = DataLoader(atk_dataset, batch_size=3)"
   ]
  },
  {
   "cell_type": "code",
   "execution_count": null,
   "id": "299e3706-a8eb-4cdd-9122-4c28faa1f2c1",
   "metadata": {},
   "outputs": [],
   "source": [
    "for batch in dataloader:\n",
    "    tokens = batch[\"tokens\"]\n",
    "    abcde = batch[\"abcde\"]\n",
    "    adv_labels = batch[\"labels\"]\n",
    "    break"
   ]
  },
  {
   "cell_type": "code",
   "execution_count": null,
   "id": "ebc73f31-458d-47c4-8d50-9d89659519b1",
   "metadata": {},
   "outputs": [],
   "source": [
    "a, b, c, d, e = abcde.chunk(5, dim=-1)"
   ]
  },
  {
   "cell_type": "code",
   "execution_count": null,
   "id": "6321c5cc-acc8-47b3-af1a-db09a7e27792",
   "metadata": {},
   "outputs": [],
   "source": [
    "atk_rule = torch.cat([F.one_hot(a,n), -1000*F.one_hot(a,n)], dim=-1).view(-1,1,2*n)"
   ]
  },
  {
   "cell_type": "code",
   "execution_count": null,
   "id": "b068a291-673a-44b9-a777-d42f689ab92d",
   "metadata": {},
   "outputs": [],
   "source": [
    "adv_tokens = torch.cat([atk_rule, tokens], dim=1)"
   ]
  },
  {
   "cell_type": "code",
   "execution_count": null,
   "id": "5d96e305-3fd6-4ec6-aecc-7f928008fb8f",
   "metadata": {},
   "outputs": [],
   "source": [
    "adv_out = model(tokens=adv_tokens)"
   ]
  },
  {
   "cell_type": "code",
   "execution_count": null,
   "id": "7ba5fa65-ab8c-4ef3-9ed9-883af97c4a34",
   "metadata": {},
   "outputs": [],
   "source": [
    "adv_pred = (adv_out.logits > 0).long()"
   ]
  },
  {
   "cell_type": "code",
   "execution_count": null,
   "id": "df7109ce-fe84-4138-9759-3c6c4baf0b84",
   "metadata": {},
   "outputs": [],
   "source": [
    "adv_pred"
   ]
  },
  {
   "cell_type": "code",
   "execution_count": null,
   "id": "e83d5174-ba72-4827-b175-715df05300ca",
   "metadata": {},
   "outputs": [],
   "source": []
  },
  {
   "cell_type": "code",
   "execution_count": null,
   "id": "0cb39579-5a07-44d8-9639-7e8006e21315",
   "metadata": {},
   "outputs": [],
   "source": []
  },
  {
   "cell_type": "code",
   "execution_count": null,
   "id": "4ea55c4e-7a9a-4d89-b4d3-e41f225a85f4",
   "metadata": {},
   "outputs": [],
   "source": [
    "adv_labels = batch[\"labels\"]"
   ]
  },
  {
   "cell_type": "code",
   "execution_count": null,
   "id": "ba72381d-29ff-4675-9628-ba14c2484d73",
   "metadata": {},
   "outputs": [],
   "source": [
    "atk_rule = "
   ]
  },
  {
   "cell_type": "code",
   "execution_count": null,
   "id": "e5930a44-bc80-4e45-9d21-a8b7adc354cc",
   "metadata": {},
   "outputs": [],
   "source": []
  },
  {
   "cell_type": "code",
   "execution_count": null,
   "id": "cf4529fe-f654-4a6a-a1ce-02b78af7bc23",
   "metadata": {},
   "outputs": [],
   "source": []
  }
 ],
 "metadata": {
  "kernelspec": {
   "display_name": "Python 3 (ipykernel)",
   "language": "python",
   "name": "python3"
  },
  "language_info": {
   "codemirror_mode": {
    "name": "ipython",
    "version": 3
   },
   "file_extension": ".py",
   "mimetype": "text/x-python",
   "name": "python",
   "nbconvert_exporter": "python",
   "pygments_lexer": "ipython3",
   "version": "3.10.13"
  }
 },
 "nbformat": 4,
 "nbformat_minor": 5
}
