{
 "cells": [
  {
   "cell_type": "code",
   "execution_count": 1,
   "id": "58866ef0-1872-439e-85e8-fdf72c3f88f0",
   "metadata": {},
   "outputs": [],
   "source": [
    "import os\n",
    "import sys\n",
    "sys.path.insert(0, \"..\")\n",
    "import inspect\n",
    "import torch\n",
    "import torch.optim as optim\n",
    "from torch.utils.data import DataLoader\n",
    "\n",
    "import wandb\n",
    "from safetensors import safe_open\n",
    "from tqdm import tqdm\n",
    "\n",
    "import matplotlib.pyplot as plt\n",
    "# from notebook_utils import *\n",
    "\n",
    "from models import *\n",
    "from my_datasets import *\n",
    "from experiments import *\n",
    "from experiments.utils.model_loader_utils import *"
   ]
  },
  {
   "cell_type": "code",
   "execution_count": 24,
   "id": "c897788d-f6d1-44c1-8121-3d87691a45df",
   "metadata": {},
   "outputs": [
    {
     "name": "stdout",
     "output_type": "stream",
     "text": [
      "Querying id: model-SynSAR_gpt2_d32_L1_H1__DAS_nv16_ns3_nr16-32_exph4.000_cl3-5__ntr524288_ntt65536_bsz512_steps16384_lr0.00050_seed571:v0\n",
      "Downloading: <Artifact QXJ0aWZhY3Q6ODA4NjAwNDM3>\n"
     ]
    },
    {
     "name": "stderr",
     "output_type": "stream",
     "text": [
      "\u001b[34m\u001b[1mwandb\u001b[0m:   2 of 2 files downloaded.  \n"
     ]
    }
   ],
   "source": [
    "n = 16\n",
    "_, res_dataset = load_model_and_dataset_from_big_grid(2*n, n)\n",
    "model = TheoryAutoregKStepsModel(num_vars=n, num_steps=3)"
   ]
  },
  {
   "cell_type": "code",
   "execution_count": 25,
   "id": "bba90c60-143c-4cfa-942e-39c94080e166",
   "metadata": {},
   "outputs": [],
   "source": [
    "atk_dataset = KnowledgeAmnesiaDataset(res_dataset, dataset_len = 1024)\n",
    "dataloader = DataLoader(atk_dataset, batch_size=3)"
   ]
  },
  {
   "cell_type": "code",
   "execution_count": 26,
   "id": "299e3706-a8eb-4cdd-9122-4c28faa1f2c1",
   "metadata": {},
   "outputs": [],
   "source": [
    "for batch in dataloader:\n",
    "    tokens = batch[\"tokens\"]\n",
    "    abcde = batch[\"abcde\"]\n",
    "    adv_labels = batch[\"labels\"]\n",
    "    break"
   ]
  },
  {
   "cell_type": "code",
   "execution_count": 27,
   "id": "ebc73f31-458d-47c4-8d50-9d89659519b1",
   "metadata": {},
   "outputs": [],
   "source": [
    "a, b, c, d, e = abcde.chunk(5, dim=-1)"
   ]
  },
  {
   "cell_type": "code",
   "execution_count": 35,
   "id": "6321c5cc-acc8-47b3-af1a-db09a7e27792",
   "metadata": {},
   "outputs": [],
   "source": [
    "atk_rule = torch.cat([F.one_hot(a,n), -1000*F.one_hot(a,n)], dim=-1).view(-1,1,2*n)"
   ]
  },
  {
   "cell_type": "code",
   "execution_count": 36,
   "id": "b068a291-673a-44b9-a777-d42f689ab92d",
   "metadata": {},
   "outputs": [],
   "source": [
    "adv_tokens = torch.cat([atk_rule, tokens], dim=1)"
   ]
  },
  {
   "cell_type": "code",
   "execution_count": 37,
   "id": "5d96e305-3fd6-4ec6-aecc-7f928008fb8f",
   "metadata": {},
   "outputs": [],
   "source": [
    "adv_out = model(tokens=adv_tokens)"
   ]
  },
  {
   "cell_type": "code",
   "execution_count": 38,
   "id": "7ba5fa65-ab8c-4ef3-9ed9-883af97c4a34",
   "metadata": {},
   "outputs": [],
   "source": [
    "adv_pred = (adv_out.logits > 0).long()"
   ]
  },
  {
   "cell_type": "code",
   "execution_count": 39,
   "id": "df7109ce-fe84-4138-9759-3c6c4baf0b84",
   "metadata": {},
   "outputs": [
    {
     "data": {
      "text/plain": [
       "tensor([[[0, 0, 0, 0, 0, 0, 0, 0, 0, 0, 1, 0, 0, 0, 0, 0],\n",
       "         [0, 0, 0, 0, 0, 0, 0, 1, 0, 0, 0, 1, 0, 0, 0, 0],\n",
       "         [0, 0, 0, 0, 0, 1, 0, 1, 0, 0, 1, 1, 0, 0, 0, 0]],\n",
       "\n",
       "        [[0, 0, 1, 0, 0, 0, 0, 0, 0, 0, 0, 0, 0, 0, 0, 0],\n",
       "         [0, 0, 0, 0, 0, 0, 0, 0, 0, 1, 1, 0, 0, 0, 0, 0],\n",
       "         [0, 0, 1, 0, 0, 1, 0, 0, 0, 1, 1, 0, 0, 0, 0, 0]],\n",
       "\n",
       "        [[0, 0, 0, 1, 0, 0, 0, 0, 0, 0, 0, 0, 0, 0, 0, 0],\n",
       "         [0, 0, 0, 0, 0, 0, 0, 0, 1, 0, 0, 0, 1, 0, 0, 0],\n",
       "         [0, 0, 0, 1, 0, 0, 0, 0, 1, 0, 0, 0, 1, 1, 0, 0]]])"
      ]
     },
     "execution_count": 39,
     "metadata": {},
     "output_type": "execute_result"
    }
   ],
   "source": [
    "adv_pred"
   ]
  },
  {
   "cell_type": "code",
   "execution_count": null,
   "id": "e83d5174-ba72-4827-b175-715df05300ca",
   "metadata": {},
   "outputs": [],
   "source": []
  },
  {
   "cell_type": "code",
   "execution_count": null,
   "id": "0cb39579-5a07-44d8-9639-7e8006e21315",
   "metadata": {},
   "outputs": [],
   "source": []
  },
  {
   "cell_type": "code",
   "execution_count": null,
   "id": "4ea55c4e-7a9a-4d89-b4d3-e41f225a85f4",
   "metadata": {},
   "outputs": [],
   "source": [
    "adv_labels = batch[\"labels\"]"
   ]
  },
  {
   "cell_type": "code",
   "execution_count": 12,
   "id": "ba72381d-29ff-4675-9628-ba14c2484d73",
   "metadata": {},
   "outputs": [
    {
     "data": {
      "text/plain": [
       "{'tokens': tensor([[[1., 1., 0.,  ..., 1., 0., 0.],\n",
       "          [1., 1., 0.,  ..., 0., 0., 0.],\n",
       "          [0., 1., 0.,  ..., 0., 1., 0.],\n",
       "          ...,\n",
       "          [0., 1., 0.,  ..., 0., 0., 1.],\n",
       "          [0., 1., 1.,  ..., 0., 1., 0.],\n",
       "          [0., 0., 0.,  ..., 0., 0., 0.]],\n",
       " \n",
       "         [[1., 1., 0.,  ..., 1., 0., 1.],\n",
       "          [1., 1., 0.,  ..., 0., 1., 0.],\n",
       "          [0., 0., 0.,  ..., 1., 0., 0.],\n",
       "          ...,\n",
       "          [1., 0., 0.,  ..., 0., 0., 0.],\n",
       "          [1., 0., 0.,  ..., 0., 0., 0.],\n",
       "          [0., 0., 0.,  ..., 0., 0., 0.]],\n",
       " \n",
       "         [[0., 0., 1.,  ..., 0., 0., 0.],\n",
       "          [0., 0., 1.,  ..., 0., 1., 0.],\n",
       "          [0., 0., 0.,  ..., 0., 1., 0.],\n",
       "          ...,\n",
       "          [0., 0., 1.,  ..., 0., 0., 1.],\n",
       "          [0., 0., 0.,  ..., 0., 0., 0.],\n",
       "          [0., 0., 0.,  ..., 0., 0., 0.]]]),\n",
       " 'labels': tensor([[[0, 0, 0, 0, 0, 1, 0, 0, 0, 0, 0, 0, 0, 0, 0, 0],\n",
       "          [0, 0, 0, 0, 0, 0, 0, 0, 0, 0, 0, 0, 1, 0, 0, 1],\n",
       "          [0, 0, 0, 0, 0, 0, 0, 0, 0, 0, 1, 0, 1, 0, 0, 1]],\n",
       " \n",
       "         [[0, 0, 0, 0, 0, 0, 0, 0, 0, 0, 0, 0, 0, 1, 0, 0],\n",
       "          [0, 0, 0, 1, 0, 0, 0, 0, 0, 0, 0, 0, 1, 0, 0, 0],\n",
       "          [0, 0, 0, 1, 0, 1, 0, 0, 0, 0, 0, 0, 1, 0, 0, 0]],\n",
       " \n",
       "         [[0, 0, 0, 0, 0, 0, 0, 0, 0, 0, 0, 0, 0, 0, 1, 0],\n",
       "          [0, 0, 0, 0, 0, 0, 0, 0, 1, 0, 1, 0, 0, 0, 0, 0],\n",
       "          [1, 0, 0, 0, 0, 0, 0, 0, 1, 0, 1, 0, 0, 0, 0, 0]]]),\n",
       " 'abcde': tensor([[ 5, 15, 12, 10,  1],\n",
       "         [13, 12,  3,  5, 11],\n",
       "         [14,  8, 10,  0,  2]])}"
      ]
     },
     "execution_count": 12,
     "metadata": {},
     "output_type": "execute_result"
    }
   ],
   "source": [
    "atk_rule = "
   ]
  },
  {
   "cell_type": "code",
   "execution_count": null,
   "id": "e5930a44-bc80-4e45-9d21-a8b7adc354cc",
   "metadata": {},
   "outputs": [],
   "source": []
  },
  {
   "cell_type": "code",
   "execution_count": null,
   "id": "cf4529fe-f654-4a6a-a1ce-02b78af7bc23",
   "metadata": {},
   "outputs": [],
   "source": []
  }
 ],
 "metadata": {
  "kernelspec": {
   "display_name": "Python 3 (ipykernel)",
   "language": "python",
   "name": "python3"
  },
  "language_info": {
   "codemirror_mode": {
    "name": "ipython",
    "version": 3
   },
   "file_extension": ".py",
   "mimetype": "text/x-python",
   "name": "python",
   "nbconvert_exporter": "python",
   "pygments_lexer": "ipython3",
   "version": "3.10.13"
  }
 },
 "nbformat": 4,
 "nbformat_minor": 5
}
