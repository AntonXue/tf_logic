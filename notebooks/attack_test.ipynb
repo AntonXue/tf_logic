{
 "cells": [
  {
   "cell_type": "code",
   "execution_count": 1,
   "id": "58866ef0-1872-439e-85e8-fdf72c3f88f0",
   "metadata": {},
   "outputs": [],
   "source": [
    "import os\n",
    "import sys\n",
    "sys.path.insert(0, \"..\")\n",
    "import inspect\n",
    "import torch\n",
    "import torch.optim as optim\n",
    "from torch.utils.data import DataLoader\n",
    "\n",
    "import wandb\n",
    "from safetensors import safe_open\n",
    "from tqdm import tqdm\n",
    "\n",
    "import matplotlib.pyplot as plt\n",
    "\n",
    "from notebook_utils import *\n",
    "\n",
    "from models import *\n",
    "from my_datasets import *\n",
    "from experiments import *"
   ]
  },
  {
   "cell_type": "code",
   "execution_count": null,
   "id": "c897788d-f6d1-44c1-8121-3d87691a45df",
   "metadata": {},
   "outputs": [],
   "source": []
  },
  {
   "cell_type": "code",
   "execution_count": 2,
   "id": "4423b758-ffe8-4576-b62d-1b6cb2d526e0",
   "metadata": {},
   "outputs": [],
   "source": [
    "torch.manual_seed(1234)\n",
    "ns_model, ns_dataset = quickload_next_state_model_and_dataset()\n",
    "atk_wrapper = ForceOutputWithAppendedAttackTokensWrapper(ns_model, 3)\n",
    "train_atk_dataset = ForceOutputWithAppendedAttackTokensDataset(\n",
    "    num_vars = ns_model.num_labels,\n",
    "    num_rules_range = (16,64),\n",
    "    num_states_range = (8,32),\n",
    "    ante_prob_range = (0.2, 0.5),\n",
    "    conseq_prob_range = (0.2, 0.5),\n",
    "    state_prob_range = (0.4, 0.5),\n",
    "    dataset_len = 32768\n",
    ")\n",
    "\n",
    "num_vars = ns_model.num_labels"
   ]
  },
  {
   "cell_type": "code",
   "execution_count": null,
   "id": "d97ce8bd-d72e-4199-8e51-2e39ca4627c3",
   "metadata": {},
   "outputs": [],
   "source": []
  },
  {
   "cell_type": "code",
   "execution_count": 3,
   "id": "c51a8569-956b-4916-8550-db934b615a6d",
   "metadata": {},
   "outputs": [],
   "source": [
    "device = \"cuda\"\n",
    "atk_wrapper.to(device).train()\n",
    "optimizer = optim.Adam(atk_wrapper.parameters(), lr=5e-5)\n",
    "train_dataloader = DataLoader(train_atk_dataset, batch_size=16)\n",
    "num_epochs = 10"
   ]
  },
  {
   "cell_type": "code",
   "execution_count": null,
   "id": "06cce80b-53ac-44b9-adaa-a83efddcc755",
   "metadata": {},
   "outputs": [
    {
     "name": "stderr",
     "output_type": "stream",
     "text": [
      "  0%|          | 0/2048 [00:00<?, ?it/s]"
     ]
    },
    {
     "name": "stdout",
     "output_type": "stream",
     "text": [
      "Epoch 1/11\n"
     ]
    },
    {
     "name": "stderr",
     "output_type": "stream",
     "text": [
      "loss 124.071 (11.519, 112.552), acc 0.491, tones 0.543, pones 0.584:   9%|▉         | 180/2048 [00:17<02:46, 11.19it/s]"
     ]
    }
   ],
   "source": [
    "for e in range(1, num_epochs+1):\n",
    "    num_dones, running_hits = 0, 0.0\n",
    "    running_loss, running_norm_loss, running_pred_loss = 0.0, 0.0, 0.0\n",
    "    running_target_ones, running_pred_ones = 0, 0\n",
    "    pbar = tqdm(train_dataloader)\n",
    "    print(f\"Epoch {e}/{num_epochs+1}\")\n",
    "    for batch in pbar:\n",
    "        tokens, target = batch[\"tokens\"].to(device), batch[\"target\"].to(device)\n",
    "        out = atk_wrapper(tokens=tokens, target=target)\n",
    "        pred = (out.pred > 0).long()\n",
    "        loss, norm_loss, pred_loss = out.loss, out.norm_loss, out.pred_loss\n",
    "        loss.backward()\n",
    "        optimizer.step()\n",
    "        optimizer.zero_grad()\n",
    "        \n",
    "        num_dones += tokens.size(0)\n",
    "        running_hits += (pred == target).sum()\n",
    "        running_loss += loss.cpu().detach().item()\n",
    "        running_norm_loss += norm_loss.cpu().detach().item()\n",
    "        running_pred_loss += pred_loss.cpu().detach().item()\n",
    "        running_target_ones += target.sum()\n",
    "        running_pred_ones += pred.sum()\n",
    "\n",
    "        avg_acc = running_hits / (num_dones * num_vars)\n",
    "        avg_loss = running_loss / num_dones\n",
    "        avg_norm_loss = running_norm_loss / num_dones\n",
    "        avg_pred_loss = running_pred_loss / num_dones\n",
    "\n",
    "        avg_tones = running_target_ones / (num_dones * num_vars)\n",
    "        avg_pones = running_pred_ones / (num_dones * num_vars)\n",
    "\n",
    "        desc = f\"loss {avg_loss:.3f} ({avg_norm_loss:.3f}, {avg_pred_loss:.3f}), \"\n",
    "        desc += f\"acc {avg_acc:.3f}, tones {avg_tones:.3f}, pones {avg_pones:.3f}\"\n",
    "        pbar.set_description(desc)"
   ]
  },
  {
   "cell_type": "code",
   "execution_count": null,
   "id": "c70812dd-322c-409a-8038-6865a4919c8c",
   "metadata": {},
   "outputs": [],
   "source": []
  },
  {
   "cell_type": "code",
   "execution_count": null,
   "id": "23bc09cb-ea83-44d6-a0f8-e2466855eecb",
   "metadata": {},
   "outputs": [],
   "source": []
  },
  {
   "cell_type": "code",
   "execution_count": null,
   "id": "a9853f40-993a-47ad-b459-881b2ce6d676",
   "metadata": {},
   "outputs": [],
   "source": []
  },
  {
   "cell_type": "code",
   "execution_count": null,
   "id": "7f7bb680-81ca-4e46-9cc1-6ddfe16296a1",
   "metadata": {},
   "outputs": [],
   "source": []
  },
  {
   "cell_type": "code",
   "execution_count": null,
   "id": "abeeb68b-d03a-4fd9-af4c-8c1b1811a6a6",
   "metadata": {},
   "outputs": [],
   "source": []
  }
 ],
 "metadata": {
  "kernelspec": {
   "display_name": "Python 3 (ipykernel)",
   "language": "python",
   "name": "python3"
  },
  "language_info": {
   "codemirror_mode": {
    "name": "ipython",
    "version": 3
   },
   "file_extension": ".py",
   "mimetype": "text/x-python",
   "name": "python",
   "nbconvert_exporter": "python",
   "pygments_lexer": "ipython3",
   "version": "3.10.13"
  }
 },
 "nbformat": 4,
 "nbformat_minor": 5
}
