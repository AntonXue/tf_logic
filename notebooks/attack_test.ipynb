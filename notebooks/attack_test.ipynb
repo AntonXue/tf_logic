{
 "cells": [
  {
   "cell_type": "code",
   "execution_count": 1,
   "id": "58866ef0-1872-439e-85e8-fdf72c3f88f0",
   "metadata": {},
   "outputs": [],
   "source": [
    "import os\n",
    "import sys\n",
    "sys.path.insert(0, \"..\")\n",
    "import inspect\n",
    "import torch\n",
    "import torch.optim as optim\n",
    "from torch.utils.data import DataLoader\n",
    "\n",
    "import wandb\n",
    "from safetensors import safe_open\n",
    "from tqdm import tqdm\n",
    "\n",
    "import matplotlib.pyplot as plt\n",
    "\n",
    "from notebook_utils import *\n",
    "\n",
    "from models import *\n",
    "from my_datasets import *\n",
    "from experiments import *"
   ]
  },
  {
   "cell_type": "code",
   "execution_count": null,
   "id": "c897788d-f6d1-44c1-8121-3d87691a45df",
   "metadata": {},
   "outputs": [],
   "source": []
  },
  {
   "cell_type": "code",
   "execution_count": 2,
   "id": "4423b758-ffe8-4576-b62d-1b6cb2d526e0",
   "metadata": {},
   "outputs": [],
   "source": [
    "torch.manual_seed(1234)\n",
    "num_atk_tokens = 5\n",
    "ns_model, ns_dataset = quickload_next_state_model_and_dataset()\n",
    "atk_wrapper = ForceOutputWithAppendedAttackTokensWrapper(ns_model, num_atk_tokens)\n",
    "train_atk_dataset = ForceOutputWithAppendedAttackTokensDataset(\n",
    "    num_vars = ns_model.num_labels,\n",
    "    num_rules_range = (16,64 - num_atk_tokens),\n",
    "    num_states_range = (8,32),\n",
    "    ante_prob_range = (0.2, 0.5),\n",
    "    conseq_prob_range = (0.2, 0.5),\n",
    "    state_prob_range = (0.4, 0.5),\n",
    "    dataset_len = 8192\n",
    ")\n",
    "\n",
    "num_vars = ns_model.num_labels"
   ]
  },
  {
   "cell_type": "code",
   "execution_count": null,
   "id": "d97ce8bd-d72e-4199-8e51-2e39ca4627c3",
   "metadata": {},
   "outputs": [],
   "source": []
  },
  {
   "cell_type": "code",
   "execution_count": 3,
   "id": "c51a8569-956b-4916-8550-db934b615a6d",
   "metadata": {},
   "outputs": [],
   "source": [
    "device = \"cuda\"\n",
    "atk_wrapper.to(device).train()\n",
    "optimizer = optim.Adam(atk_wrapper.parameters(), lr=5e-5)\n",
    "train_dataloader = DataLoader(train_atk_dataset, batch_size=128)\n",
    "num_epochs = 50"
   ]
  },
  {
   "cell_type": "code",
   "execution_count": 4,
   "id": "06cce80b-53ac-44b9-adaa-a83efddcc755",
   "metadata": {},
   "outputs": [
    {
     "name": "stderr",
     "output_type": "stream",
     "text": [
      "  0%|          | 0/64 [00:00<?, ?it/s]"
     ]
    },
    {
     "name": "stdout",
     "output_type": "stream",
     "text": [
      "Epoch 1/50\n"
     ]
    },
    {
     "name": "stderr",
     "output_type": "stream",
     "text": [
      "loss 146.232 (18.135, 128.097), acc 0.492, tones 0.544, pones 0.598: 100%|██████████| 64/64 [00:40<00:00,  1.57it/s]\n",
      "  0%|          | 0/64 [00:00<?, ?it/s]"
     ]
    },
    {
     "name": "stdout",
     "output_type": "stream",
     "text": [
      "Epoch 2/50\n"
     ]
    },
    {
     "name": "stderr",
     "output_type": "stream",
     "text": [
      "loss 108.697 (9.337, 99.360), acc 0.488, tones 0.544, pones 0.575: 100%|██████████| 64/64 [00:40<00:00,  1.59it/s]  \n",
      "  0%|          | 0/64 [00:00<?, ?it/s]"
     ]
    },
    {
     "name": "stdout",
     "output_type": "stream",
     "text": [
      "Epoch 3/50\n"
     ]
    },
    {
     "name": "stderr",
     "output_type": "stream",
     "text": [
      "loss 97.749 (5.571, 92.179), acc 0.504, tones 0.544, pones 0.637: 100%|██████████| 64/64 [00:39<00:00,  1.60it/s] \n",
      "  0%|          | 0/64 [00:00<?, ?it/s]"
     ]
    },
    {
     "name": "stdout",
     "output_type": "stream",
     "text": [
      "Epoch 4/50\n"
     ]
    },
    {
     "name": "stderr",
     "output_type": "stream",
     "text": [
      "loss 94.653 (3.918, 90.735), acc 0.514, tones 0.545, pones 0.687: 100%|██████████| 64/64 [00:40<00:00,  1.58it/s]\n",
      "  0%|          | 0/64 [00:00<?, ?it/s]"
     ]
    },
    {
     "name": "stdout",
     "output_type": "stream",
     "text": [
      "Epoch 5/50\n"
     ]
    },
    {
     "name": "stderr",
     "output_type": "stream",
     "text": [
      "loss 93.106 (3.059, 90.047), acc 0.517, tones 0.544, pones 0.707: 100%|██████████| 64/64 [00:40<00:00,  1.57it/s]\n",
      "  0%|          | 0/64 [00:00<?, ?it/s]"
     ]
    },
    {
     "name": "stdout",
     "output_type": "stream",
     "text": [
      "Epoch 6/50\n"
     ]
    },
    {
     "name": "stderr",
     "output_type": "stream",
     "text": [
      "loss 92.803 (2.805, 89.998), acc 0.516, tones 0.544, pones 0.710: 100%|██████████| 64/64 [00:41<00:00,  1.56it/s]\n",
      "  0%|          | 0/64 [00:00<?, ?it/s]"
     ]
    },
    {
     "name": "stdout",
     "output_type": "stream",
     "text": [
      "Epoch 7/50\n"
     ]
    },
    {
     "name": "stderr",
     "output_type": "stream",
     "text": [
      "loss 92.280 (2.499, 89.780), acc 0.517, tones 0.543, pones 0.726: 100%|██████████| 64/64 [00:40<00:00,  1.57it/s]\n",
      "  0%|          | 0/64 [00:00<?, ?it/s]"
     ]
    },
    {
     "name": "stdout",
     "output_type": "stream",
     "text": [
      "Epoch 8/50\n"
     ]
    },
    {
     "name": "stderr",
     "output_type": "stream",
     "text": [
      "loss 92.073 (2.391, 89.682), acc 0.519, tones 0.544, pones 0.730: 100%|██████████| 64/64 [00:41<00:00,  1.55it/s]\n",
      "  0%|          | 0/64 [00:00<?, ?it/s]"
     ]
    },
    {
     "name": "stdout",
     "output_type": "stream",
     "text": [
      "Epoch 9/50\n"
     ]
    },
    {
     "name": "stderr",
     "output_type": "stream",
     "text": [
      "loss 91.571 (2.138, 89.433), acc 0.522, tones 0.544, pones 0.743: 100%|██████████| 64/64 [00:41<00:00,  1.56it/s]\n",
      "  0%|          | 0/64 [00:00<?, ?it/s]"
     ]
    },
    {
     "name": "stdout",
     "output_type": "stream",
     "text": [
      "Epoch 10/50\n"
     ]
    },
    {
     "name": "stderr",
     "output_type": "stream",
     "text": [
      "loss 91.442 (1.967, 89.475), acc 0.521, tones 0.544, pones 0.747: 100%|██████████| 64/64 [00:40<00:00,  1.57it/s]\n",
      "  0%|          | 0/64 [00:00<?, ?it/s]"
     ]
    },
    {
     "name": "stdout",
     "output_type": "stream",
     "text": [
      "Epoch 11/50\n"
     ]
    },
    {
     "name": "stderr",
     "output_type": "stream",
     "text": [
      "loss 91.521 (2.015, 89.506), acc 0.521, tones 0.544, pones 0.749: 100%|██████████| 64/64 [00:42<00:00,  1.52it/s]\n",
      "  0%|          | 0/64 [00:00<?, ?it/s]"
     ]
    },
    {
     "name": "stdout",
     "output_type": "stream",
     "text": [
      "Epoch 12/50\n"
     ]
    },
    {
     "name": "stderr",
     "output_type": "stream",
     "text": [
      "loss 91.471 (2.015, 89.457), acc 0.520, tones 0.543, pones 0.746: 100%|██████████| 64/64 [00:40<00:00,  1.58it/s]\n",
      "  0%|          | 0/64 [00:00<?, ?it/s]"
     ]
    },
    {
     "name": "stdout",
     "output_type": "stream",
     "text": [
      "Epoch 13/50\n"
     ]
    },
    {
     "name": "stderr",
     "output_type": "stream",
     "text": [
      "loss 91.145 (1.797, 89.348), acc 0.523, tones 0.544, pones 0.760: 100%|██████████| 64/64 [00:41<00:00,  1.56it/s]\n",
      "  0%|          | 0/64 [00:00<?, ?it/s]"
     ]
    },
    {
     "name": "stdout",
     "output_type": "stream",
     "text": [
      "Epoch 14/50\n"
     ]
    },
    {
     "name": "stderr",
     "output_type": "stream",
     "text": [
      "loss 91.659 (2.140, 89.518), acc 0.520, tones 0.543, pones 0.736: 100%|██████████| 64/64 [00:40<00:00,  1.57it/s]\n",
      "  0%|          | 0/64 [00:00<?, ?it/s]"
     ]
    },
    {
     "name": "stdout",
     "output_type": "stream",
     "text": [
      "Epoch 15/50\n"
     ]
    },
    {
     "name": "stderr",
     "output_type": "stream",
     "text": [
      "loss 91.060 (1.709, 89.351), acc 0.522, tones 0.544, pones 0.766: 100%|██████████| 64/64 [00:40<00:00,  1.58it/s]\n",
      "  0%|          | 0/64 [00:00<?, ?it/s]"
     ]
    },
    {
     "name": "stdout",
     "output_type": "stream",
     "text": [
      "Epoch 16/50\n"
     ]
    },
    {
     "name": "stderr",
     "output_type": "stream",
     "text": [
      "loss 91.273 (1.864, 89.409), acc 0.522, tones 0.544, pones 0.751: 100%|██████████| 64/64 [00:41<00:00,  1.55it/s]\n",
      "  0%|          | 0/64 [00:00<?, ?it/s]"
     ]
    },
    {
     "name": "stdout",
     "output_type": "stream",
     "text": [
      "Epoch 17/50\n"
     ]
    },
    {
     "name": "stderr",
     "output_type": "stream",
     "text": [
      "loss 90.681 (1.561, 89.120), acc 0.525, tones 0.545, pones 0.778: 100%|██████████| 64/64 [00:41<00:00,  1.54it/s]\n",
      "  0%|          | 0/64 [00:00<?, ?it/s]"
     ]
    },
    {
     "name": "stdout",
     "output_type": "stream",
     "text": [
      "Epoch 18/50\n"
     ]
    },
    {
     "name": "stderr",
     "output_type": "stream",
     "text": [
      "loss 90.686 (1.527, 89.160), acc 0.525, tones 0.544, pones 0.781: 100%|██████████| 64/64 [00:41<00:00,  1.56it/s]\n",
      "  0%|          | 0/64 [00:00<?, ?it/s]"
     ]
    },
    {
     "name": "stdout",
     "output_type": "stream",
     "text": [
      "Epoch 19/50\n"
     ]
    },
    {
     "name": "stderr",
     "output_type": "stream",
     "text": [
      "loss 90.605 (1.516, 89.088), acc 0.525, tones 0.545, pones 0.784: 100%|██████████| 64/64 [00:40<00:00,  1.59it/s]\n",
      "  0%|          | 0/64 [00:00<?, ?it/s]"
     ]
    },
    {
     "name": "stdout",
     "output_type": "stream",
     "text": [
      "Epoch 20/50\n"
     ]
    },
    {
     "name": "stderr",
     "output_type": "stream",
     "text": [
      "loss 90.543 (1.428, 89.115), acc 0.525, tones 0.544, pones 0.784: 100%|██████████| 64/64 [00:40<00:00,  1.58it/s]\n",
      "  0%|          | 0/64 [00:00<?, ?it/s]"
     ]
    },
    {
     "name": "stdout",
     "output_type": "stream",
     "text": [
      "Epoch 21/50\n"
     ]
    },
    {
     "name": "stderr",
     "output_type": "stream",
     "text": [
      "loss 90.573 (1.490, 89.082), acc 0.524, tones 0.544, pones 0.784: 100%|██████████| 64/64 [00:41<00:00,  1.55it/s]\n",
      "  0%|          | 0/64 [00:00<?, ?it/s]"
     ]
    },
    {
     "name": "stdout",
     "output_type": "stream",
     "text": [
      "Epoch 22/50\n"
     ]
    },
    {
     "name": "stderr",
     "output_type": "stream",
     "text": [
      "loss 90.742 (1.567, 89.175), acc 0.524, tones 0.544, pones 0.780: 100%|██████████| 64/64 [00:40<00:00,  1.57it/s]\n",
      "  0%|          | 0/64 [00:00<?, ?it/s]"
     ]
    },
    {
     "name": "stdout",
     "output_type": "stream",
     "text": [
      "Epoch 23/50\n"
     ]
    },
    {
     "name": "stderr",
     "output_type": "stream",
     "text": [
      "loss 90.575 (1.425, 89.150), acc 0.523, tones 0.544, pones 0.778: 100%|██████████| 64/64 [00:40<00:00,  1.58it/s]\n",
      "  0%|          | 0/64 [00:00<?, ?it/s]"
     ]
    },
    {
     "name": "stdout",
     "output_type": "stream",
     "text": [
      "Epoch 24/50\n"
     ]
    },
    {
     "name": "stderr",
     "output_type": "stream",
     "text": [
      "loss 90.454 (1.457, 88.998), acc 0.526, tones 0.544, pones 0.788: 100%|██████████| 64/64 [00:40<00:00,  1.56it/s]\n",
      "  0%|          | 0/64 [00:00<?, ?it/s]"
     ]
    },
    {
     "name": "stdout",
     "output_type": "stream",
     "text": [
      "Epoch 25/50\n"
     ]
    },
    {
     "name": "stderr",
     "output_type": "stream",
     "text": [
      "loss 90.430 (1.371, 89.060), acc 0.525, tones 0.544, pones 0.788: 100%|██████████| 64/64 [00:40<00:00,  1.57it/s]\n",
      "  0%|          | 0/64 [00:00<?, ?it/s]"
     ]
    },
    {
     "name": "stdout",
     "output_type": "stream",
     "text": [
      "Epoch 26/50\n"
     ]
    },
    {
     "name": "stderr",
     "output_type": "stream",
     "text": [
      "loss 90.565 (1.451, 89.114), acc 0.524, tones 0.544, pones 0.777: 100%|██████████| 64/64 [00:40<00:00,  1.57it/s]\n",
      "  0%|          | 0/64 [00:00<?, ?it/s]"
     ]
    },
    {
     "name": "stdout",
     "output_type": "stream",
     "text": [
      "Epoch 27/50\n"
     ]
    },
    {
     "name": "stderr",
     "output_type": "stream",
     "text": [
      "loss 90.296 (1.301, 88.995), acc 0.526, tones 0.544, pones 0.798: 100%|██████████| 64/64 [00:40<00:00,  1.59it/s]\n",
      "  0%|          | 0/64 [00:00<?, ?it/s]"
     ]
    },
    {
     "name": "stdout",
     "output_type": "stream",
     "text": [
      "Epoch 28/50\n"
     ]
    },
    {
     "name": "stderr",
     "output_type": "stream",
     "text": [
      "loss 90.804 (1.599, 89.206), acc 0.524, tones 0.544, pones 0.778: 100%|██████████| 64/64 [00:40<00:00,  1.58it/s]\n",
      "  0%|          | 0/64 [00:00<?, ?it/s]"
     ]
    },
    {
     "name": "stdout",
     "output_type": "stream",
     "text": [
      "Epoch 29/50\n"
     ]
    },
    {
     "name": "stderr",
     "output_type": "stream",
     "text": [
      "loss 90.802 (1.533, 89.269), acc 0.523, tones 0.544, pones 0.764: 100%|██████████| 64/64 [00:40<00:00,  1.56it/s]\n",
      "  0%|          | 0/64 [00:00<?, ?it/s]"
     ]
    },
    {
     "name": "stdout",
     "output_type": "stream",
     "text": [
      "Epoch 30/50\n"
     ]
    },
    {
     "name": "stderr",
     "output_type": "stream",
     "text": [
      "loss 90.225 (1.271, 88.954), acc 0.526, tones 0.544, pones 0.798: 100%|██████████| 64/64 [00:39<00:00,  1.61it/s]\n",
      "  0%|          | 0/64 [00:00<?, ?it/s]"
     ]
    },
    {
     "name": "stdout",
     "output_type": "stream",
     "text": [
      "Epoch 31/50\n"
     ]
    },
    {
     "name": "stderr",
     "output_type": "stream",
     "text": [
      "loss 90.619 (1.464, 89.155), acc 0.525, tones 0.543, pones 0.787: 100%|██████████| 64/64 [00:41<00:00,  1.55it/s]\n",
      "  0%|          | 0/64 [00:00<?, ?it/s]"
     ]
    },
    {
     "name": "stdout",
     "output_type": "stream",
     "text": [
      "Epoch 32/50\n"
     ]
    },
    {
     "name": "stderr",
     "output_type": "stream",
     "text": [
      "loss 90.784 (1.558, 89.226), acc 0.523, tones 0.544, pones 0.772: 100%|██████████| 64/64 [00:41<00:00,  1.55it/s]\n",
      "  0%|          | 0/64 [00:00<?, ?it/s]"
     ]
    },
    {
     "name": "stdout",
     "output_type": "stream",
     "text": [
      "Epoch 33/50\n"
     ]
    },
    {
     "name": "stderr",
     "output_type": "stream",
     "text": [
      "loss 90.647 (1.449, 89.198), acc 0.525, tones 0.545, pones 0.777: 100%|██████████| 64/64 [00:41<00:00,  1.55it/s]\n",
      "  0%|          | 0/64 [00:00<?, ?it/s]"
     ]
    },
    {
     "name": "stdout",
     "output_type": "stream",
     "text": [
      "Epoch 34/50\n"
     ]
    },
    {
     "name": "stderr",
     "output_type": "stream",
     "text": [
      "loss 90.440 (1.413, 89.027), acc 0.525, tones 0.543, pones 0.795: 100%|██████████| 64/64 [00:41<00:00,  1.56it/s]\n",
      "  0%|          | 0/64 [00:00<?, ?it/s]"
     ]
    },
    {
     "name": "stdout",
     "output_type": "stream",
     "text": [
      "Epoch 35/50\n"
     ]
    },
    {
     "name": "stderr",
     "output_type": "stream",
     "text": [
      "loss 90.311 (1.195, 89.116), acc 0.524, tones 0.544, pones 0.785:  44%|████▍     | 28/64 [00:18<00:23,  1.54it/s]\n"
     ]
    },
    {
     "ename": "KeyboardInterrupt",
     "evalue": "",
     "output_type": "error",
     "traceback": [
      "\u001b[0;31m---------------------------------------------------------------------------\u001b[0m",
      "\u001b[0;31mKeyboardInterrupt\u001b[0m                         Traceback (most recent call last)",
      "Cell \u001b[0;32mIn[4], line 12\u001b[0m\n\u001b[1;32m     10\u001b[0m pred \u001b[38;5;241m=\u001b[39m (out\u001b[38;5;241m.\u001b[39mpred \u001b[38;5;241m>\u001b[39m \u001b[38;5;241m0\u001b[39m)\u001b[38;5;241m.\u001b[39mlong()\n\u001b[1;32m     11\u001b[0m loss, norm_loss, pred_loss \u001b[38;5;241m=\u001b[39m out\u001b[38;5;241m.\u001b[39mloss, out\u001b[38;5;241m.\u001b[39mnorm_loss, out\u001b[38;5;241m.\u001b[39mpred_loss\n\u001b[0;32m---> 12\u001b[0m \u001b[43mloss\u001b[49m\u001b[38;5;241;43m.\u001b[39;49m\u001b[43mbackward\u001b[49m\u001b[43m(\u001b[49m\u001b[43m)\u001b[49m\n\u001b[1;32m     13\u001b[0m optimizer\u001b[38;5;241m.\u001b[39mstep()\n\u001b[1;32m     14\u001b[0m optimizer\u001b[38;5;241m.\u001b[39mzero_grad()\n",
      "File \u001b[0;32m~/lib/miniconda3/envs/tfl/lib/python3.10/site-packages/torch/_tensor.py:428\u001b[0m, in \u001b[0;36mTensor.backward\u001b[0;34m(self, gradient, retain_graph, create_graph, inputs)\u001b[0m\n\u001b[1;32m    425\u001b[0m     \u001b[38;5;66;03m# All strings are unicode in Python 3.\u001b[39;00m\n\u001b[1;32m    426\u001b[0m     \u001b[38;5;28;01mreturn\u001b[39;00m torch\u001b[38;5;241m.\u001b[39m_tensor_str\u001b[38;5;241m.\u001b[39m_str(\u001b[38;5;28mself\u001b[39m, tensor_contents\u001b[38;5;241m=\u001b[39mtensor_contents)\n\u001b[0;32m--> 428\u001b[0m \u001b[38;5;28;01mdef\u001b[39;00m \u001b[38;5;21mbackward\u001b[39m(\n\u001b[1;32m    429\u001b[0m     \u001b[38;5;28mself\u001b[39m, gradient\u001b[38;5;241m=\u001b[39m\u001b[38;5;28;01mNone\u001b[39;00m, retain_graph\u001b[38;5;241m=\u001b[39m\u001b[38;5;28;01mNone\u001b[39;00m, create_graph\u001b[38;5;241m=\u001b[39m\u001b[38;5;28;01mFalse\u001b[39;00m, inputs\u001b[38;5;241m=\u001b[39m\u001b[38;5;28;01mNone\u001b[39;00m\n\u001b[1;32m    430\u001b[0m ):\n\u001b[1;32m    431\u001b[0m \u001b[38;5;250m    \u001b[39m\u001b[38;5;124mr\u001b[39m\u001b[38;5;124;03m\"\"\"Computes the gradient of current tensor w.r.t. graph leaves.\u001b[39;00m\n\u001b[1;32m    432\u001b[0m \n\u001b[1;32m    433\u001b[0m \u001b[38;5;124;03m    The graph is differentiated using the chain rule. If the tensor is\u001b[39;00m\n\u001b[0;32m   (...)\u001b[0m\n\u001b[1;32m    475\u001b[0m \u001b[38;5;124;03m            used to compute the attr::tensors.\u001b[39;00m\n\u001b[1;32m    476\u001b[0m \u001b[38;5;124;03m    \"\"\"\u001b[39;00m\n\u001b[1;32m    477\u001b[0m     \u001b[38;5;28;01mif\u001b[39;00m has_torch_function_unary(\u001b[38;5;28mself\u001b[39m):\n",
      "\u001b[0;31mKeyboardInterrupt\u001b[0m: "
     ]
    }
   ],
   "source": [
    "for e in range(1, num_epochs+1):\n",
    "    num_dones, running_hits = 0, 0.0\n",
    "    running_loss, running_norm_loss, running_pred_loss = 0.0, 0.0, 0.0\n",
    "    running_target_ones, running_pred_ones = 0, 0\n",
    "    pbar = tqdm(train_dataloader)\n",
    "    print(f\"Epoch {e}/{num_epochs}\")\n",
    "    for batch in pbar:\n",
    "        tokens, target = batch[\"tokens\"].to(device), batch[\"target\"].to(device)\n",
    "        out = atk_wrapper(tokens=tokens, target=target)\n",
    "        pred = (out.pred > 0).long()\n",
    "        loss, norm_loss, pred_loss = out.loss, out.norm_loss, out.pred_loss\n",
    "        loss.backward()\n",
    "        optimizer.step()\n",
    "        optimizer.zero_grad()\n",
    "        \n",
    "        num_dones += tokens.size(0)\n",
    "        running_hits += (pred == target).sum()\n",
    "        running_loss += loss.cpu().detach().item()\n",
    "        running_norm_loss += norm_loss.cpu().detach().item()\n",
    "        running_pred_loss += pred_loss.cpu().detach().item()\n",
    "        running_target_ones += target.sum()\n",
    "        running_pred_ones += pred.sum()\n",
    "\n",
    "        avg_acc = running_hits / (num_dones * num_vars)\n",
    "        avg_loss = running_loss / num_dones\n",
    "        avg_norm_loss = running_norm_loss / num_dones\n",
    "        avg_pred_loss = running_pred_loss / num_dones\n",
    "\n",
    "        avg_tones = running_target_ones / (num_dones * num_vars)\n",
    "        avg_pones = running_pred_ones / (num_dones * num_vars)\n",
    "\n",
    "        desc = f\"loss {avg_loss:.3f} ({avg_norm_loss:.3f}, {avg_pred_loss:.3f}), \"\n",
    "        desc += f\"acc {avg_acc:.3f}, tones {avg_tones:.3f}, pones {avg_pones:.3f}\"\n",
    "        pbar.set_description(desc)"
   ]
  },
  {
   "cell_type": "code",
   "execution_count": null,
   "id": "c70812dd-322c-409a-8038-6865a4919c8c",
   "metadata": {},
   "outputs": [],
   "source": []
  },
  {
   "cell_type": "code",
   "execution_count": null,
   "id": "23bc09cb-ea83-44d6-a0f8-e2466855eecb",
   "metadata": {},
   "outputs": [],
   "source": []
  },
  {
   "cell_type": "code",
   "execution_count": null,
   "id": "a9853f40-993a-47ad-b459-881b2ce6d676",
   "metadata": {},
   "outputs": [],
   "source": []
  },
  {
   "cell_type": "code",
   "execution_count": null,
   "id": "7f7bb680-81ca-4e46-9cc1-6ddfe16296a1",
   "metadata": {},
   "outputs": [],
   "source": []
  },
  {
   "cell_type": "code",
   "execution_count": null,
   "id": "abeeb68b-d03a-4fd9-af4c-8c1b1811a6a6",
   "metadata": {},
   "outputs": [],
   "source": []
  }
 ],
 "metadata": {
  "kernelspec": {
   "display_name": "Python 3 (ipykernel)",
   "language": "python",
   "name": "python3"
  },
  "language_info": {
   "codemirror_mode": {
    "name": "ipython",
    "version": 3
   },
   "file_extension": ".py",
   "mimetype": "text/x-python",
   "name": "python",
   "nbconvert_exporter": "python",
   "pygments_lexer": "ipython3",
   "version": "3.10.13"
  }
 },
 "nbformat": 4,
 "nbformat_minor": 5
}
