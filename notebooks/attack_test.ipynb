{
 "cells": [
  {
   "cell_type": "code",
   "execution_count": 1,
   "id": "58866ef0-1872-439e-85e8-fdf72c3f88f0",
   "metadata": {},
   "outputs": [],
   "source": [
    "import os\n",
    "import sys\n",
    "sys.path.insert(0, \"..\")\n",
    "import inspect\n",
    "import torch\n",
    "import torch.nn as nn\n",
    "import torch.nn.functional as F\n",
    "from torch.utils.data import DataLoader\n",
    "\n",
    "from tqdm import tqdm\n",
    "\n",
    "import matplotlib.pyplot as plt\n",
    "\n",
    "from models import *\n",
    "from my_datasets import *\n",
    "from experiments import *\n",
    "from experiments.utils.model_loader_utils import *\n",
    "\n",
    "torch.set_printoptions(sci_mode=False, precision=2, linewidth=120)"
   ]
  },
  {
   "cell_type": "code",
   "execution_count": null,
   "id": "faf9e063-2cc8-42fc-8995-8dae5dd3226a",
   "metadata": {},
   "outputs": [],
   "source": []
  },
  {
   "cell_type": "code",
   "execution_count": 3,
   "id": "07759f40-4d92-4ab5-b9e0-7e061e1e7c36",
   "metadata": {},
   "outputs": [],
   "source": [
    "n, d, k = 48, 96, 3\n",
    "path = f\"/home/antonxue/foo/tf_logic/_dump/learned_attacks/suppress_rules_learned_n{n}_d{d}_k{k}_repeat_best.pt\"\n",
    "state_dict = torch.load(path)[\"model_state_dict\"]"
   ]
  },
  {
   "cell_type": "code",
   "execution_count": 4,
   "id": "2ba5864d-c315-4c6b-8a47-e3121b5adf08",
   "metadata": {},
   "outputs": [
    {
     "name": "stdout",
     "output_type": "stream",
     "text": [
      "Querying id: model-SynSAR_gpt2_d96_L1_H1__DMY_nv48_nr32_exph3.000__ntr262144_ntt65536_bsz512_steps8192_lr0.00050_seed601:v0\n",
      "Downloading: <Artifact QXJ0aWZhY3Q6ODI4ODExOTMz>\n"
     ]
    },
    {
     "name": "stderr",
     "output_type": "stream",
     "text": [
      "\u001b[34m\u001b[1mwandb\u001b[0m:   2 of 2 files downloaded.  \n"
     ]
    },
    {
     "data": {
      "text/plain": [
       "<All keys matched successfully>"
      ]
     },
     "execution_count": 4,
     "metadata": {},
     "output_type": "execute_result"
    }
   ],
   "source": [
    "res_model, res_dataset = load_model_and_dataset_from_big_grid(embed_dim=d, num_vars=n, seed=601)\n",
    "atk_model = SuppressRuleWrapperModel(res_model, num_attack_tokens=k)\n",
    "atk_model.load_state_dict(state_dict)"
   ]
  },
  {
   "cell_type": "code",
   "execution_count": 5,
   "id": "d8f91e10-6d99-4c91-bf81-bbb5685f9854",
   "metadata": {},
   "outputs": [],
   "source": [
    "supp_dataset = SuppressRuleDataset(res_dataset, 1024)\n",
    "dataloader = DataLoader(supp_dataset, batch_size=3)\n",
    "for batch in dataloader:\n",
    "    tokens = batch[\"tokens\"]\n",
    "    labels = batch[\"labels\"]\n",
    "    infos = batch[\"infos\"]\n",
    "    supp_idx = batch[\"supp_idx\"]\n",
    "    a, b = infos[:,0], infos[:,1]\n",
    "\n",
    "    to_supp_rule = torch.cat([F.one_hot(a,n), F.one_hot(b,n)], dim=-1)    \n",
    "    to_supp_ind = (tokens == to_supp_rule.view(-1,1,2*n)).all(dim=-1)\n",
    "    break\n",
    "\n",
    "with torch.no_grad():\n",
    "    atk_out = atk_model(tokens=tokens, infos=infos, labels=labels)\n",
    "    atk_rules = atk_out.logits\n",
    "    adv_tokens = torch.cat([atk_rules, tokens], dim=1)\n",
    "    adv_out = atk_model.reasoner_model(tokens=adv_tokens, output_attentions=True)\n",
    "    adv_pred = adv_out.logits > 0"
   ]
  },
  {
   "cell_type": "code",
   "execution_count": 6,
   "id": "d24afd5a-25f9-418a-b180-ea017f2e0d79",
   "metadata": {},
   "outputs": [
    {
     "data": {
      "text/plain": [
       "tensor([15,  9, 13])"
      ]
     },
     "execution_count": 6,
     "metadata": {},
     "output_type": "execute_result"
    }
   ],
   "source": [
    "supp_idx"
   ]
  },
  {
   "cell_type": "code",
   "execution_count": 7,
   "id": "8ea38684-0cd9-480e-9b7c-fa381bad1e26",
   "metadata": {},
   "outputs": [
    {
     "data": {
      "text/plain": [
       "torch.Size([3, 3, 48])"
      ]
     },
     "execution_count": 7,
     "metadata": {},
     "output_type": "execute_result"
    }
   ],
   "source": [
    "adv_out.logits.shape"
   ]
  },
  {
   "cell_type": "code",
   "execution_count": 8,
   "id": "b5fbd10b-fcb5-4819-b901-2e1a4c2f4990",
   "metadata": {},
   "outputs": [],
   "source": [
    "out1, out2, out3 = adv_out.all_seqcls_outputs"
   ]
  },
  {
   "cell_type": "code",
   "execution_count": 9,
   "id": "ec9a8556-33bd-4728-8206-07a843a515b2",
   "metadata": {},
   "outputs": [],
   "source": [
    "attn1 = out1.attentions[0][:,0]\n",
    "attn2 = out2.attentions[0][:,0]\n",
    "attn3 = out3.attentions[0][:,0]"
   ]
  },
  {
   "cell_type": "code",
   "execution_count": 10,
   "id": "faec27fc-f432-4193-9fce-4d1faaf81212",
   "metadata": {},
   "outputs": [
    {
     "data": {
      "text/plain": [
       "torch.Size([3, 35, 35])"
      ]
     },
     "execution_count": 10,
     "metadata": {},
     "output_type": "execute_result"
    }
   ],
   "source": [
    "attn1.shape"
   ]
  },
  {
   "cell_type": "code",
   "execution_count": 11,
   "id": "347d63f4-653c-4515-958c-3c63b8fa180d",
   "metadata": {},
   "outputs": [
    {
     "data": {
      "text/plain": [
       "<matplotlib.image.AxesImage at 0x78031afb5810>"
      ]
     },
     "execution_count": 11,
     "metadata": {},
     "output_type": "execute_result"
    },
    {
     "data": {
      "text/plain": [
       "<Figure size 640x480 with 0 Axes>"
      ]
     },
     "metadata": {},
     "output_type": "display_data"
    },
    {
     "data": {
      "image/png": "[encoded data removed]",
      "text/plain": [
       "<Figure size 1200x600 with 3 Axes>"
      ]
     },
     "metadata": {},
     "output_type": "display_data"
    }
   ],
   "source": [
    "plt.clf()\n",
    "fig, ax = plt.subplots(1,3, figsize=(12,6))\n",
    "ax[0].imshow(attn1[0].numpy())\n",
    "ax[1].imshow(attn2[0].numpy())\n",
    "ax[2].imshow(attn3[0].numpy())"
   ]
  },
  {
   "cell_type": "code",
   "execution_count": 12,
   "id": "647e67b4-016e-41b0-bb8a-582160daaaef",
   "metadata": {},
   "outputs": [
    {
     "data": {
      "text/plain": [
       "(torch.Size([3, 35, 35]),\n",
       " tensor([[0.10, 0.10, 0.10, 0.00, 0.00, 0.00, 0.19, 0.05, 0.00, 0.00, 0.00, 0.00, 0.00, 0.00, 0.00, 0.01, 0.01, 0.00,\n",
       "          0.17, 0.00, 0.00, 0.00, 0.00, 0.00, 0.00, 0.00, 0.00, 0.00, 0.02, 0.00, 0.16, 0.00, 0.00, 0.00, 0.04],\n",
       "         [0.09, 0.09, 0.09, 0.00, 0.00, 0.00, 0.00, 0.00, 0.00, 0.00, 0.00, 0.00, 0.19, 0.00, 0.00, 0.02, 0.00, 0.00,\n",
       "          0.00, 0.00, 0.00, 0.20, 0.00, 0.00, 0.00, 0.00, 0.21, 0.00, 0.01, 0.00, 0.00, 0.00, 0.00, 0.01, 0.04],\n",
       "         [0.09, 0.09, 0.09, 0.00, 0.22, 0.19, 0.00, 0.00, 0.00, 0.00, 0.00, 0.00, 0.00, 0.00, 0.00, 0.00, 0.19, 0.00,\n",
       "          0.00, 0.00, 0.01, 0.00, 0.00, 0.02, 0.00, 0.00, 0.00, 0.00, 0.00, 0.00, 0.00, 0.00, 0.00, 0.01, 0.05]]))"
      ]
     },
     "execution_count": 12,
     "metadata": {},
     "output_type": "execute_result"
    }
   ],
   "source": [
    "attn1.shape, attn1[:,-1]"
   ]
  },
  {
   "cell_type": "code",
   "execution_count": 13,
   "id": "70830b08-8fc3-4999-a2ae-8457947d2ec2",
   "metadata": {},
   "outputs": [
    {
     "data": {
      "text/plain": [
       "tensor([0.29, 0.27, 0.26])"
      ]
     },
     "execution_count": 13,
     "metadata": {},
     "output_type": "execute_result"
    }
   ],
   "source": [
    "atk_wts = attn1[:,-1,:k].sum(dim=-1)\n",
    "atk_wts"
   ]
  },
  {
   "cell_type": "code",
   "execution_count": 18,
   "id": "951053c7-40e7-45d3-986c-bb5a9657b9cf",
   "metadata": {},
   "outputs": [
    {
     "data": {
      "text/plain": [
       "tensor([0.17, 0.19, 0.19])"
      ]
     },
     "execution_count": 18,
     "metadata": {},
     "output_type": "execute_result"
    }
   ],
   "source": [
    "suppd_wts = attn1[:,-1].gather(1, k+supp_idx.view(-1,1)).view(-1)\n",
    "suppd_wts"
   ]
  },
  {
   "cell_type": "code",
   "execution_count": 20,
   "id": "05233d14-b71b-4807-83da-9762dac9a030",
   "metadata": {},
   "outputs": [
    {
     "data": {
      "text/plain": [
       "tensor([1.76, 1.42, 1.37])"
      ]
     },
     "execution_count": 20,
     "metadata": {},
     "output_type": "execute_result"
    }
   ],
   "source": [
    "atk_wts / suppd_wts"
   ]
  },
  {
   "cell_type": "code",
   "execution_count": null,
   "id": "c43667d0-12c2-46c4-91fd-fc0f3a6821d6",
   "metadata": {},
   "outputs": [],
   "source": []
  },
  {
   "cell_type": "code",
   "execution_count": null,
   "id": "e8355ad5-f5ef-4b79-bd0f-592cdbdc080f",
   "metadata": {},
   "outputs": [],
   "source": []
  },
  {
   "cell_type": "code",
   "execution_count": null,
   "id": "1c51b8d7-ebd8-4488-884b-fe7704162876",
   "metadata": {},
   "outputs": [],
   "source": [
    "plt.clf()\n",
    "fig, ax = plt.subplots(1, 3, figsize=(12,3))\n",
    "ax[0].plot(attn1[0,-1].numpy())\n",
    "ax[1].plot(attn2[0,-1].numpy())\n",
    "ax[2].plot(attn3[0,-1].numpy())"
   ]
  },
  {
   "cell_type": "code",
   "execution_count": null,
   "id": "8ce1c213-4f07-40e1-b523-1896a04207a4",
   "metadata": {},
   "outputs": [],
   "source": []
  },
  {
   "cell_type": "code",
   "execution_count": null,
   "id": "ab76be42-3eb9-45f7-b078-a5f84539a7dd",
   "metadata": {},
   "outputs": [],
   "source": []
  },
  {
   "cell_type": "code",
   "execution_count": null,
   "id": "3ed3f81f-a22d-4c9c-b32f-a7de6a378a7f",
   "metadata": {},
   "outputs": [],
   "source": []
  },
  {
   "cell_type": "code",
   "execution_count": null,
   "id": "ee97ef17-d8a1-43d6-8ea1-d4d019fc9d65",
   "metadata": {},
   "outputs": [],
   "source": [
    "y = torch.randn(2,3,4)\n",
    "y"
   ]
  },
  {
   "cell_type": "code",
   "execution_count": null,
   "id": "c325a09f-820b-49b8-9cee-9a8dc8b9d0e5",
   "metadata": {},
   "outputs": [],
   "source": []
  },
  {
   "cell_type": "code",
   "execution_count": null,
   "id": "e360ffed-3afe-42f4-ba32-9446303f4054",
   "metadata": {},
   "outputs": [],
   "source": [
    "to_supp_ind = (tokens == to_supp_rule).all(dim=-1)\n",
    "to_supp_ind.shape, to_supp_ind"
   ]
  },
  {
   "cell_type": "code",
   "execution_count": null,
   "id": "f30785f7-f7b9-4569-bc87-5ad0e34c7346",
   "metadata": {},
   "outputs": [],
   "source": []
  },
  {
   "cell_type": "code",
   "execution_count": null,
   "id": "84939952-ee2c-4382-8c62-5e57496b114d",
   "metadata": {},
   "outputs": [],
   "source": []
  },
  {
   "cell_type": "code",
   "execution_count": null,
   "id": "6e318607-c99e-4f3f-9ed9-938ac818cc3a",
   "metadata": {},
   "outputs": [],
   "source": [
    "x = [torch.rand(()).item() for _ in range(10)]\n",
    "x"
   ]
  },
  {
   "cell_type": "code",
   "execution_count": null,
   "id": "94a6cad4-dd0d-4dab-94b3-4d403d54a029",
   "metadata": {},
   "outputs": [],
   "source": [
    "torch.tensor(x).mean()"
   ]
  },
  {
   "cell_type": "code",
   "execution_count": null,
   "id": "e5930a44-bc80-4e45-9d21-a8b7adc354cc",
   "metadata": {},
   "outputs": [],
   "source": [
    "x[-12:]"
   ]
  },
  {
   "cell_type": "code",
   "execution_count": null,
   "id": "cf4529fe-f654-4a6a-a1ce-02b78af7bc23",
   "metadata": {},
   "outputs": [],
   "source": []
  }
 ],
 "metadata": {
  "kernelspec": {
   "display_name": "Python 3 (ipykernel)",
   "language": "python",
   "name": "python3"
  },
  "language_info": {
   "codemirror_mode": {
    "name": "ipython",
    "version": 3
   },
   "file_extension": ".py",
   "mimetype": "text/x-python",
   "name": "python",
   "nbconvert_exporter": "python",
   "pygments_lexer": "ipython3",
   "version": "3.10.13"
  }
 },
 "nbformat": 4,
 "nbformat_minor": 5
}
