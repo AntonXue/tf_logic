{
 "cells": [
  {
   "cell_type": "code",
   "execution_count": 1,
   "id": "58866ef0-1872-439e-85e8-fdf72c3f88f0",
   "metadata": {},
   "outputs": [],
   "source": [
    "import os\n",
    "import sys\n",
    "sys.path.insert(0, \"..\")\n",
    "import inspect\n",
    "import torch\n",
    "import torch.optim as optim\n",
    "from torch.utils.data import DataLoader\n",
    "\n",
    "import wandb\n",
    "from safetensors import safe_open\n",
    "from tqdm import tqdm\n",
    "\n",
    "import matplotlib.pyplot as plt\n",
    "# from notebook_utils import *\n",
    "\n",
    "from models import *\n",
    "from my_datasets import *\n",
    "from experiments import *\n",
    "from experiments.utils.model_loader_utils import *"
   ]
  },
  {
   "cell_type": "code",
   "execution_count": 2,
   "id": "c897788d-f6d1-44c1-8121-3d87691a45df",
   "metadata": {},
   "outputs": [
    {
     "name": "stdout",
     "output_type": "stream",
     "text": [
      "Querying id: model-SynSAR_gpt2_d32_L1_H1__DAS_nv16_ns3_nr16-32_exph4.000_cl3-5__ntr524288_ntt65536_bsz512_steps16384_lr0.00050_seed571:v0\n",
      "Downloading: <Artifact QXJ0aWZhY3Q6ODA4NjAwNDM3>\n"
     ]
    },
    {
     "name": "stderr",
     "output_type": "stream",
     "text": [
      "\u001b[34m\u001b[1mwandb\u001b[0m:   2 of 2 files downloaded.  \n"
     ]
    }
   ],
   "source": [
    "model, dataset = load_model_and_dataset_from_big_grid(32, 16)"
   ]
  },
  {
   "cell_type": "code",
   "execution_count": null,
   "id": "bba90c60-143c-4cfa-942e-39c94080e166",
   "metadata": {},
   "outputs": [],
   "source": []
  },
  {
   "cell_type": "code",
   "execution_count": 4,
   "id": "299e3706-a8eb-4cdd-9122-4c28faa1f2c1",
   "metadata": {},
   "outputs": [],
   "source": [
    "for batch in dataset:\n",
    "    break"
   ]
  },
  {
   "cell_type": "code",
   "execution_count": 6,
   "id": "23bc09cb-ea83-44d6-a0f8-e2466855eecb",
   "metadata": {},
   "outputs": [],
   "source": [
    "tokens, labels = batch[\"tokens\"], batch[\"labels\"]"
   ]
  },
  {
   "cell_type": "code",
   "execution_count": 11,
   "id": "a9853f40-993a-47ad-b459-881b2ce6d676",
   "metadata": {},
   "outputs": [
    {
     "data": {
      "text/plain": [
       "(tensor([0., 0., 0., 0., 0., 0., 0., 0., 0., 0., 0., 0., 0., 0., 0., 0., 1., 1.,\n",
       "         1., 1., 0., 0., 0., 0., 0., 0., 1., 0., 0., 0., 0., 0., 1., 0., 0.]),\n",
       " tensor(6.))"
      ]
     },
     "execution_count": 11,
     "metadata": {},
     "output_type": "execute_result"
    }
   ],
   "source": [
    "tokens[:,-1], tokens[:,-1].sum()"
   ]
  },
  {
   "cell_type": "code",
   "execution_count": null,
   "id": "7f7bb680-81ca-4e46-9cc1-6ddfe16296a1",
   "metadata": {},
   "outputs": [],
   "source": []
  },
  {
   "cell_type": "code",
   "execution_count": 10,
   "id": "abeeb68b-d03a-4fd9-af4c-8c1b1811a6a6",
   "metadata": {},
   "outputs": [
    {
     "data": {
      "text/plain": [
       "tensor([ 8,  9, 11])"
      ]
     },
     "execution_count": 10,
     "metadata": {},
     "output_type": "execute_result"
    }
   ],
   "source": [
    "labels.sum(dim=-1)"
   ]
  },
  {
   "cell_type": "code",
   "execution_count": null,
   "id": "cf4529fe-f654-4a6a-a1ce-02b78af7bc23",
   "metadata": {},
   "outputs": [],
   "source": []
  }
 ],
 "metadata": {
  "kernelspec": {
   "display_name": "Python 3 (ipykernel)",
   "language": "python",
   "name": "python3"
  },
  "language_info": {
   "codemirror_mode": {
    "name": "ipython",
    "version": 3
   },
   "file_extension": ".py",
   "mimetype": "text/x-python",
   "name": "python",
   "nbconvert_exporter": "python",
   "pygments_lexer": "ipython3",
   "version": "3.10.13"
  }
 },
 "nbformat": 4,
 "nbformat_minor": 5
}
