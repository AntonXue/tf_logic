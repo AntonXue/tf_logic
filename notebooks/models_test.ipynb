{
 "cells": [
  {
   "cell_type": "code",
   "execution_count": 1,
   "id": "93b0a1a5-9103-4fd2-8ec2-41291e710332",
   "metadata": {},
   "outputs": [
    {
     "name": "stderr",
     "output_type": "stream",
     "text": [
      "/home/antonxue/lib/miniconda3/envs/tfl/lib/python3.10/site-packages/tqdm/auto.py:21: TqdmWarning: IProgress not found. Please update jupyter and ipywidgets. See https://ipywidgets.readthedocs.io/en/stable/user_install.html\n",
      "  from .autonotebook import tqdm as notebook_tqdm\n"
     ]
    }
   ],
   "source": [
    "import sys\n",
    "import os\n",
    "import copy\n",
    "import torch\n",
    "import torch.nn as nn\n",
    "import torch.nn.functional as F\n",
    "\n",
    "import transformers\n",
    "from transformers import AutoConfig, AutoModelForSequenceClassification\n",
    "\n",
    "sys.path.insert(0, \"..\")\n",
    "\n",
    "import models\n",
    "from models import *\n",
    "\n",
    "import logging\n",
    "logger = logging.getLogger('my_module_name')\n"
   ]
  },
  {
   "cell_type": "code",
   "execution_count": 2,
   "id": "0689a0f6-35a3-49bb-9c98-c54e5bb9f95c",
   "metadata": {},
   "outputs": [],
   "source": [
    "kwargs = {\n",
    "    \"embed_dim\": 512,\n",
    "    \"num_layers\": 8,\n",
    "    \"num_heads\": 4,\n",
    "    \"num_labels\": 5,\n",
    "    \"ffwd_dim\": 777,\n",
    "    \"problem_type\" : \"multi_label_classification\"\n",
    "}"
   ]
  },
  {
   "cell_type": "code",
   "execution_count": 3,
   "id": "64f161de-ff0f-42f5-a207-244e75591c0f",
   "metadata": {},
   "outputs": [],
   "source": [
    "mytf = AutoSeqClsModel.from_kwargs(\"mytf\", **kwargs)\n",
    "gpt2 = AutoSeqClsModel.from_kwargs(\"gpt2\", **kwargs)\n",
    "bert = AutoSeqClsModel.from_kwargs(\"bert\", **kwargs)\n",
    "roberta = AutoSeqClsModel.from_kwargs(\"roberta\", **kwargs)\n",
    "llama = AutoSeqClsModel.from_kwargs(\"code_llama\", **kwargs)"
   ]
  },
  {
   "cell_type": "code",
   "execution_count": 4,
   "id": "b19ab236-dd24-4cf3-9f74-b8399371c46e",
   "metadata": {},
   "outputs": [],
   "source": [
    "# mytf_pt = AutoSeqClsModel.from_pretrained(\"mytf\", **kwargs)\n",
    "# gpt2_pt = AutoSeqClsModel.from_pretrained(\"gpt2\", **kwargs)\n",
    "# roberta_pt = AutoSeqClsModel.from_pretrained(\"roberta\", **kwargs)\n",
    "# # bert_pt = AutoSeqClsModel.from_pretrained(\"bert\", **kwargs)"
   ]
  },
  {
   "cell_type": "code",
   "execution_count": null,
   "id": "7a534db7-21d0-4ae8-ba7a-e4d193e6f847",
   "metadata": {},
   "outputs": [],
   "source": []
  },
  {
   "cell_type": "code",
   "execution_count": 5,
   "id": "b54c3b54-3e91-48dc-af12-c8663b7d716a",
   "metadata": {},
   "outputs": [],
   "source": [
    "mytf_qed = AutoTFLModel.from_kwargs(\"one_shot\", model_name=\"mytf\", num_vars=5)\n",
    "mytf_succ = AutoTFLModel.from_kwargs(\"next_state\", model_name=\"mytf\", num_vars=5)\n",
    "mytf_ars = AutoTFLModel.from_kwargs(\"autoreg_ksteps\", model_name=\"mytf\", num_vars=5, num_steps=3)\n",
    "\n",
    "gpt2_qed = AutoTFLModel.from_kwargs(\"one_shot\", model_name=\"gpt2\", num_vars=5)\n",
    "gpt2_succ = AutoTFLModel.from_kwargs(\"next_state\", model_name=\"gpt2\", num_vars=5)\n",
    "gpt2_ars = AutoTFLModel.from_kwargs(\"autoreg_ksteps\", model_name=\"gpt2\", num_vars=5, num_steps=3)\n",
    "\n",
    "roberta_qed = AutoTFLModel.from_kwargs(\"one_shot\", model_name=\"roberta\", num_vars=5)\n",
    "roberta_succ = AutoTFLModel.from_kwargs(\"next_state\", model_name=\"roberta\", num_vars=5)\n",
    "roberta_ars = AutoTFLModel.from_kwargs(\"autoreg_ksteps\", model_name=\"roberta\", num_vars=5, num_steps=3)"
   ]
  },
  {
   "cell_type": "code",
   "execution_count": 6,
   "id": "7206ad68-637c-4a03-aeb4-fe611998dbd4",
   "metadata": {},
   "outputs": [
    {
     "name": "stderr",
     "output_type": "stream",
     "text": [
      "Downloading config.json: 100%|██████████| 665/665 [00:00<00:00, 2.20MB/s]\n",
      "Downloading model.safetensors: 100%|██████████| 548M/548M [00:07<00:00, 76.0MB/s] \n",
      "Downloading config.json: 100%|██████████| 481/481 [00:00<00:00, 5.34MB/s]\n",
      "Downloading model.safetensors: 100%|██████████| 499M/499M [00:10<00:00, 48.6MB/s] \n"
     ]
    }
   ],
   "source": [
    "mytf_qed_pt = AutoTFLModel.from_pretrained(\"one_shot\", model_name=\"mytf\", num_vars=5)\n",
    "mytf_succ_pt = AutoTFLModel.from_pretrained(\"next_state\", model_name=\"mytf\", num_vars=5)\n",
    "mytf_ars_pt = AutoTFLModel.from_pretrained(\"autoreg_ksteps\", model_name=\"mytf\", num_vars=5, num_steps=3)\n",
    "\n",
    "gpt2_qed_pt = AutoTFLModel.from_pretrained(\"one_shot\", model_name=\"gpt2\", num_vars=5)\n",
    "gpt2_succ_pt = AutoTFLModel.from_pretrained(\"next_state\", model_name=\"gpt2\", num_vars=5)\n",
    "gpt2_ars_pt = AutoTFLModel.from_pretrained(\"autoreg_ksteps\", model_name=\"gpt2\", num_vars=5, num_steps=3)\n",
    "\n",
    "roberta_qed_pt = AutoTFLModel.from_pretrained(\"one_shot\", model_name=\"roberta\", num_vars=5)\n",
    "roberta_succ_pt = AutoTFLModel.from_pretrained(\"next_state\", model_name=\"roberta\", num_vars=5)\n",
    "roberta_ars_pt = AutoTFLModel.from_pretrained(\"autoreg_ksteps\", model_name=\"roberta\", num_vars=5, num_steps=3)"
   ]
  },
  {
   "cell_type": "code",
   "execution_count": null,
   "id": "cb6e9711-779f-44e5-9d2e-1bc0bea46670",
   "metadata": {},
   "outputs": [],
   "source": []
  },
  {
   "cell_type": "code",
   "execution_count": 7,
   "id": "31a92fe5-08a2-457f-b611-bed70637e78b",
   "metadata": {},
   "outputs": [],
   "source": [
    "## String tests\n",
    "mytf_qed_str = AutoTFLModel.from_kwargs(\"one_shot_str\", model_name=\"mytf\", num_vars=5)\n",
    "gpt2_qed_str = AutoTFLModel.from_kwargs(\"one_shot_str\", model_name=\"gpt2\", num_vars=5)\n",
    "\n",
    "mytf_qed_pt_str = AutoTFLModel.from_pretrained(\"one_shot_str\", model_name=\"mytf\", num_vars=5)\n",
    "gpt2_qed_pt_str = AutoTFLModel.from_pretrained(\"one_shot_str\", model_name=\"gpt2\", num_vars=5)"
   ]
  },
  {
   "cell_type": "code",
   "execution_count": null,
   "id": "b3a0a1d4-ded3-43a0-989f-c96b28f77522",
   "metadata": {},
   "outputs": [],
   "source": []
  },
  {
   "cell_type": "code",
   "execution_count": null,
   "id": "85fa1046-9882-4c99-9a1f-c584ebee5a5e",
   "metadata": {},
   "outputs": [],
   "source": []
  },
  {
   "cell_type": "code",
   "execution_count": null,
   "id": "92358c62-4ca7-427f-8eae-c5b25f919ddb",
   "metadata": {},
   "outputs": [],
   "source": []
  },
  {
   "cell_type": "code",
   "execution_count": 8,
   "id": "bb0dd413-4398-4e4c-9d7f-ca3956816861",
   "metadata": {},
   "outputs": [
    {
     "data": {
      "text/plain": [
       "<models.hf_models.HFSeqClsConfig at 0x7f0fc777d060>"
      ]
     },
     "execution_count": 8,
     "metadata": {},
     "output_type": "execute_result"
    }
   ],
   "source": [
    "bert.config"
   ]
  },
  {
   "cell_type": "code",
   "execution_count": 9,
   "id": "2e428959-88d6-487f-948a-3e52e70d0191",
   "metadata": {},
   "outputs": [
    {
     "data": {
      "text/plain": [
       "(512, 'multi_label_classification', 5)"
      ]
     },
     "execution_count": 9,
     "metadata": {},
     "output_type": "execute_result"
    }
   ],
   "source": [
    "mytf.embed_dim, mytf.problem_type, mytf.num_labels"
   ]
  },
  {
   "cell_type": "code",
   "execution_count": 10,
   "id": "2862ff93-894d-4618-8e3d-78a134368379",
   "metadata": {},
   "outputs": [],
   "source": [
    "x = torch.randn(7,12,512)"
   ]
  },
  {
   "cell_type": "code",
   "execution_count": 11,
   "id": "8872e64d-080d-482a-a6ab-b58c41e73edc",
   "metadata": {},
   "outputs": [
    {
     "data": {
      "text/plain": [
       "(torch.Size([7, 5]), torch.Size([7, 12, 512]), 9, 8)"
      ]
     },
     "execution_count": 11,
     "metadata": {},
     "output_type": "execute_result"
    }
   ],
   "source": [
    "mytf_out = mytf(x, output_hidden_states=True, output_attentions=True)\n",
    "mytf_out.logits.shape, \\\n",
    "    mytf_out.last_hidden_state.shape, \\\n",
    "    len(mytf_out.hidden_states), \\\n",
    "    len(mytf_out.attentions)"
   ]
  },
  {
   "cell_type": "code",
   "execution_count": 12,
   "id": "43f8dfbb-5791-4c7a-899e-0294b40efe7d",
   "metadata": {},
   "outputs": [
    {
     "data": {
      "text/plain": [
       "(torch.Size([7, 5]), 9, 8)"
      ]
     },
     "execution_count": 12,
     "metadata": {},
     "output_type": "execute_result"
    }
   ],
   "source": [
    "gpt2_out = gpt2(x, output_hidden_states=True, output_attentions=True)\n",
    "gpt2_out.logits.shape, \\\n",
    "    len(gpt2_out.hidden_states), \\\n",
    "    len(gpt2_out.attentions)"
   ]
  },
  {
   "cell_type": "code",
   "execution_count": 13,
   "id": "6b9717a6-676f-4a28-8585-cf036e3ec1b1",
   "metadata": {},
   "outputs": [
    {
     "data": {
      "text/plain": [
       "(torch.Size([7, 5]), 9, 8)"
      ]
     },
     "execution_count": 13,
     "metadata": {},
     "output_type": "execute_result"
    }
   ],
   "source": [
    "bert_out = bert(x, output_hidden_states=True, output_attentions=True)\n",
    "bert_out.logits.shape, \\\n",
    "    len(bert_out.hidden_states), \\\n",
    "    len(bert_out.attentions)"
   ]
  },
  {
   "cell_type": "code",
   "execution_count": null,
   "id": "739f7f25-81db-4e1c-bada-0c1553829068",
   "metadata": {},
   "outputs": [],
   "source": []
  },
  {
   "cell_type": "code",
   "execution_count": 14,
   "id": "65f818d3-e997-4696-81be-14ab6b2c67c6",
   "metadata": {},
   "outputs": [
    {
     "data": {
      "text/plain": [
       "HFSeqClsModel(\n",
       "  (model): LlamaForSequenceClassification(\n",
       "    (model): LlamaModel(\n",
       "      (embed_tokens): Embedding(32000, 512)\n",
       "      (layers): ModuleList(\n",
       "        (0-7): 8 x LlamaDecoderLayer(\n",
       "          (self_attn): LlamaAttention(\n",
       "            (q_proj): Linear(in_features=512, out_features=512, bias=False)\n",
       "            (k_proj): Linear(in_features=512, out_features=512, bias=False)\n",
       "            (v_proj): Linear(in_features=512, out_features=512, bias=False)\n",
       "            (o_proj): Linear(in_features=512, out_features=512, bias=False)\n",
       "            (rotary_emb): LlamaRotaryEmbedding()\n",
       "          )\n",
       "          (mlp): LlamaMLP(\n",
       "            (gate_proj): Linear(in_features=512, out_features=777, bias=False)\n",
       "            (up_proj): Linear(in_features=512, out_features=777, bias=False)\n",
       "            (down_proj): Linear(in_features=777, out_features=512, bias=False)\n",
       "            (act_fn): SiLUActivation()\n",
       "          )\n",
       "          (input_layernorm): LlamaRMSNorm()\n",
       "          (post_attention_layernorm): LlamaRMSNorm()\n",
       "        )\n",
       "      )\n",
       "      (norm): LlamaRMSNorm()\n",
       "    )\n",
       "    (score): Linear(in_features=512, out_features=5, bias=False)\n",
       "  )\n",
       ")"
      ]
     },
     "execution_count": 14,
     "metadata": {},
     "output_type": "execute_result"
    }
   ],
   "source": [
    "llama"
   ]
  },
  {
   "cell_type": "code",
   "execution_count": 15,
   "id": "540e10b0-a5f4-430d-81fe-efc046ac6cc8",
   "metadata": {},
   "outputs": [],
   "source": [
    "gpt2 = AutoModelForSequenceClassification.from_pretrained(\"gpt2\", num_labels=4, problem_type=\"multi_label_classification\")"
   ]
  },
  {
   "cell_type": "code",
   "execution_count": null,
   "id": "f21e8c93-fb9c-46df-98bf-5f8486df392a",
   "metadata": {},
   "outputs": [],
   "source": [
    "gpt2"
   ]
  },
  {
   "cell_type": "code",
   "execution_count": null,
   "id": "b52b3987-7fea-40c0-b888-8a6890e4335a",
   "metadata": {},
   "outputs": [],
   "source": [
    "model = AutoModelForSequenceClassification.from_pretrained(\"code_llama\")"
   ]
  },
  {
   "cell_type": "code",
   "execution_count": null,
   "id": "3cb34866-f1b7-48a4-b3a2-14071aa8b2e6",
   "metadata": {},
   "outputs": [],
   "source": [
    "cfg"
   ]
  },
  {
   "cell_type": "code",
   "execution_count": null,
   "id": "85989f51-7aaa-47fc-9635-3ddaf88c86c9",
   "metadata": {},
   "outputs": [],
   "source": [
    "transformers.Llama"
   ]
  }
 ],
 "metadata": {
  "kernelspec": {
   "display_name": "Python 3 (ipykernel)",
   "language": "python",
   "name": "python3"
  },
  "language_info": {
   "codemirror_mode": {
    "name": "ipython",
    "version": 3
   },
   "file_extension": ".py",
   "mimetype": "text/x-python",
   "name": "python",
   "nbconvert_exporter": "python",
   "pygments_lexer": "ipython3",
   "version": "3.10.13"
  }
 },
 "nbformat": 4,
 "nbformat_minor": 5
}
