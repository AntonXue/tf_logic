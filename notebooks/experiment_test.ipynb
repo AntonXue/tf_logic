{
 "cells": [
  {
   "cell_type": "code",
   "execution_count": 1,
   "id": "d6bde632-40e2-4e48-aa93-f89af78af490",
   "metadata": {},
   "outputs": [
    {
     "name": "stderr",
     "output_type": "stream",
     "text": [
      "/home/antonxue/lib/miniconda3/envs/tfl/lib/python3.10/site-packages/tqdm/auto.py:21: TqdmWarning: IProgress not found. Please update jupyter and ipywidgets. See https://ipywidgets.readthedocs.io/en/stable/user_install.html\n",
      "  from .autonotebook import tqdm as notebook_tqdm\n"
     ]
    }
   ],
   "source": [
    "import os\n",
    "import sys\n",
    "\n",
    "import copy\n",
    "import torch\n",
    "import torch.nn as nn\n",
    "from torch.utils.data import *\n",
    "from transformers import Trainer, TrainingArguments\n",
    "import inspect\n",
    "sys.path.insert(0, \"..\")\n",
    "\n",
    "from models import *\n",
    "from logic import *\n",
    "from my_datasets import *\n",
    "from experiments import *\n",
    "\n",
    "from utils import *\n",
    "import numpy as np\n",
    "\n",
    "# import wandb"
   ]
  },
  {
   "cell_type": "code",
   "execution_count": null,
   "id": "b32d2704-c356-42c4-aecd-8ffcee1f4eac",
   "metadata": {},
   "outputs": [],
   "source": []
  },
  {
   "cell_type": "code",
   "execution_count": 2,
   "id": "2bdf5eec-ad62-4a41-b071-2b5f8e006c42",
   "metadata": {
    "scrolled": true
   },
   "outputs": [
    {
     "name": "stderr",
     "output_type": "stream",
     "text": [
      "\u001b[34m\u001b[1mwandb\u001b[0m: Currently logged in as: \u001b[33mantonxue\u001b[0m (\u001b[33mtransformer_friends\u001b[0m). Use \u001b[1m`wandb login --relogin`\u001b[0m to force relogin\n"
     ]
    },
    {
     "data": {
      "text/html": [
       "wandb version 0.16.0 is available!  To upgrade, please run:\n",
       " $ pip install wandb --upgrade"
      ],
      "text/plain": [
       "<IPython.core.display.HTML object>"
      ]
     },
     "metadata": {},
     "output_type": "display_data"
    },
    {
     "data": {
      "text/html": [
       "Tracking run with wandb version 0.15.12"
      ],
      "text/plain": [
       "<IPython.core.display.HTML object>"
      ]
     },
     "metadata": {},
     "output_type": "display_data"
    },
    {
     "data": {
      "text/html": [
       "Run data is saved locally in <code>/home/antonxue/foo/tf_logic/notebooks/wandb/run-20231114_133620-el70y4it</code>"
      ],
      "text/plain": [
       "<IPython.core.display.HTML object>"
      ]
     },
     "metadata": {},
     "output_type": "display_data"
    },
    {
     "data": {
      "text/html": [
       "Syncing run <strong><a href='https://wandb.ai/transformer_friends/transformer_friends/runs/el70y4it' target=\"_blank\">SynOneShot_nr8_nv5_gpt2_d1024_L12_H8_ap0.20_bp0.2_tp0.3_ntr200_ntt100</a></strong> to <a href='https://wandb.ai/transformer_friends/transformer_friends' target=\"_blank\">Weights & Biases</a> (<a href='https://wandb.me/run' target=\"_blank\">docs</a>)<br/>"
      ],
      "text/plain": [
       "<IPython.core.display.HTML object>"
      ]
     },
     "metadata": {},
     "output_type": "display_data"
    },
    {
     "data": {
      "text/html": [
       " View project at <a href='https://wandb.ai/transformer_friends/transformer_friends' target=\"_blank\">https://wandb.ai/transformer_friends/transformer_friends</a>"
      ],
      "text/plain": [
       "<IPython.core.display.HTML object>"
      ]
     },
     "metadata": {},
     "output_type": "display_data"
    },
    {
     "data": {
      "text/html": [
       " View run at <a href='https://wandb.ai/transformer_friends/transformer_friends/runs/el70y4it' target=\"_blank\">https://wandb.ai/transformer_friends/transformer_friends/runs/el70y4it</a>"
      ],
      "text/plain": [
       "<IPython.core.display.HTML object>"
      ]
     },
     "metadata": {},
     "output_type": "display_data"
    },
    {
     "name": "stderr",
     "output_type": "stream",
     "text": [
      "/home/antonxue/lib/miniconda3/envs/tfl/lib/python3.10/site-packages/torch/nn/parallel/_functions.py:68: UserWarning: Was asked to gather along dimension 0, but all input tensors were scalars; will instead unsqueeze and return a vector.\n",
      "  warnings.warn('Was asked to gather along dimension 0, but all '\n"
     ]
    },
    {
     "name": "stdout",
     "output_type": "stream",
     "text": [
      "{'loss': 2.113, 'learning_rate': 4.358974358974359e-05, 'epoch': 0.38}\n",
      "{'loss': 1.3705, 'learning_rate': 3.717948717948718e-05, 'epoch': 0.77}\n",
      "{'eval_loss': 0.8365097045898438, 'eval_Accuracy': 0.6, 'eval_AvgOnes': 1.0, 'eval_runtime': 1.1403, 'eval_samples_per_second': 87.696, 'eval_steps_per_second': 6.139, 'epoch': 1.0}\n",
      "{'loss': 0.8274, 'learning_rate': 3.0769230769230774e-05, 'epoch': 1.15}\n",
      "{'loss': 0.6879, 'learning_rate': 2.435897435897436e-05, 'epoch': 1.54}\n",
      "{'loss': 0.6216, 'learning_rate': 1.794871794871795e-05, 'epoch': 1.92}\n",
      "{'eval_loss': 0.8140811920166016, 'eval_Accuracy': 0.6, 'eval_AvgOnes': 1.0, 'eval_runtime': 1.1406, 'eval_samples_per_second': 87.676, 'eval_steps_per_second': 6.137, 'epoch': 2.0}\n",
      "{'loss': 0.5802, 'learning_rate': 1.153846153846154e-05, 'epoch': 2.31}\n",
      "{'loss': 0.6969, 'learning_rate': 5.128205128205128e-06, 'epoch': 2.69}\n",
      "{'eval_loss': 0.6334375143051147, 'eval_Accuracy': 0.6, 'eval_AvgOnes': 1.0, 'eval_runtime': 1.1244, 'eval_samples_per_second': 88.937, 'eval_steps_per_second': 6.226, 'epoch': 3.0}\n",
      "{'train_runtime': 24.7111, 'train_samples_per_second': 24.281, 'train_steps_per_second': 1.578, 'train_loss': 0.9411235711513422, 'epoch': 3.0}\n"
     ]
    },
    {
     "data": {
      "text/plain": [
       "TrainOutput(global_step=39, training_loss=0.9411235711513422, metrics={'train_runtime': 24.7111, 'train_samples_per_second': 24.281, 'train_steps_per_second': 1.578, 'train_loss': 0.9411235711513422, 'epoch': 3.0})"
      ]
     },
     "execution_count": 2,
     "metadata": {},
     "output_type": "execute_result"
    }
   ],
   "source": [
    "qed_args = SyntheticOneShotArguments(\n",
    "    num_rules = 8,\n",
    "    num_vars = 5,\n",
    "    model_name = \"gpt2\",\n",
    "    embed_dim = 1024,\n",
    "    num_layers = 12,\n",
    "    num_heads = 8,\n",
    "\n",
    "    train_len = 200,\n",
    "    test_len = 100,\n",
    "    ante_prob = 0.2,\n",
    "    conseq_prob = 0.2,\n",
    "    theorem_prob = 0.3,\n",
    "    num_epochs = 3,\n",
    ")\n",
    "\n",
    "qed_trainer = AutoTrainer.for_synthetic(qed_args)\n",
    "qed_trainer.train()"
   ]
  },
  {
   "cell_type": "code",
   "execution_count": null,
   "id": "44e04d1c-f045-41be-9882-d3f89cf563e2",
   "metadata": {},
   "outputs": [],
   "source": []
  },
  {
   "cell_type": "code",
   "execution_count": 3,
   "id": "61716178-0a48-4f83-a517-72f493eeade6",
   "metadata": {},
   "outputs": [
    {
     "name": "stdout",
     "output_type": "stream",
     "text": [
      "{'loss': 0.8221, 'learning_rate': 4.358974358974359e-05, 'epoch': 0.38}\n",
      "{'loss': 0.6806, 'learning_rate': 3.717948717948718e-05, 'epoch': 0.77}\n",
      "{'eval_loss': 0.536252498626709, 'eval_Accuracy': 0.766, 'eval_AvgOnes': 1.0, 'eval_runtime': 1.1429, 'eval_samples_per_second': 87.494, 'eval_steps_per_second': 6.125, 'epoch': 1.0}\n",
      "{'loss': 0.5766, 'learning_rate': 3.0769230769230774e-05, 'epoch': 1.15}\n",
      "{'loss': 0.5427, 'learning_rate': 2.435897435897436e-05, 'epoch': 1.54}\n",
      "{'loss': 0.5568, 'learning_rate': 1.794871794871795e-05, 'epoch': 1.92}\n",
      "{'eval_loss': 0.5275095105171204, 'eval_Accuracy': 0.766, 'eval_AvgOnes': 1.0, 'eval_runtime': 1.1077, 'eval_samples_per_second': 90.275, 'eval_steps_per_second': 6.319, 'epoch': 2.0}\n",
      "{'loss': 0.5336, 'learning_rate': 1.153846153846154e-05, 'epoch': 2.31}\n",
      "{'loss': 0.5138, 'learning_rate': 5.128205128205128e-06, 'epoch': 2.69}\n",
      "{'eval_loss': 0.5054101347923279, 'eval_Accuracy': 0.766, 'eval_AvgOnes': 1.0, 'eval_runtime': 1.0848, 'eval_samples_per_second': 92.18, 'eval_steps_per_second': 6.453, 'epoch': 3.0}\n",
      "{'train_runtime': 18.407, 'train_samples_per_second': 32.596, 'train_steps_per_second': 2.119, 'train_loss': 0.5964804184742463, 'epoch': 3.0}\n"
     ]
    },
    {
     "data": {
      "text/plain": [
       "TrainOutput(global_step=39, training_loss=0.5964804184742463, metrics={'train_runtime': 18.407, 'train_samples_per_second': 32.596, 'train_steps_per_second': 2.119, 'train_loss': 0.5964804184742463, 'epoch': 3.0})"
      ]
     },
     "execution_count": 3,
     "metadata": {},
     "output_type": "execute_result"
    }
   ],
   "source": [
    "next_args = SyntheticNextStateArguments(\n",
    "    num_rules = 8,\n",
    "    num_vars = 5,\n",
    "    model_name = \"gpt2\",\n",
    "    embed_dim = 1024,\n",
    "    num_layers = 12,\n",
    "    num_heads = 8,\n",
    "\n",
    "    train_len = 200,\n",
    "    test_len = 100,\n",
    "    ante_prob = 0.2,\n",
    "    conseq_prob = 0.2,\n",
    "    state_prob = 0.3,\n",
    "\n",
    "    num_epochs = 3,\n",
    ")\n",
    "\n",
    "next_trainer = AutoTrainer.for_synthetic(next_args)\n",
    "next_trainer.train()"
   ]
  },
  {
   "cell_type": "code",
   "execution_count": null,
   "id": "df9d45c9-deca-4741-8dbb-45f1fa1b73ed",
   "metadata": {},
   "outputs": [],
   "source": []
  },
  {
   "cell_type": "code",
   "execution_count": 4,
   "id": "10e5ec78-5bcc-426b-86a4-1626910db3e7",
   "metadata": {},
   "outputs": [
    {
     "name": "stdout",
     "output_type": "stream",
     "text": [
      "{'loss': 0.5186, 'learning_rate': 4.358974358974359e-05, 'epoch': 0.38}\n",
      "{'loss': 0.5466, 'learning_rate': 3.717948717948718e-05, 'epoch': 0.77}\n",
      "{'eval_loss': 0.5106473565101624, 'eval_Accuracy': 0.8026666666666666, 'eval_AvgOnes': 1.0, 'eval_runtime': 2.1845, 'eval_samples_per_second': 45.777, 'eval_steps_per_second': 3.204, 'epoch': 1.0}\n",
      "{'loss': 0.5191, 'learning_rate': 3.0769230769230774e-05, 'epoch': 1.15}\n",
      "{'loss': 0.5225, 'learning_rate': 2.435897435897436e-05, 'epoch': 1.54}\n",
      "{'loss': 0.5333, 'learning_rate': 1.794871794871795e-05, 'epoch': 1.92}\n",
      "{'eval_loss': 0.5106407403945923, 'eval_Accuracy': 0.8026666666666666, 'eval_AvgOnes': 1.0, 'eval_runtime': 2.1758, 'eval_samples_per_second': 45.961, 'eval_steps_per_second': 3.217, 'epoch': 2.0}\n",
      "{'loss': 0.5158, 'learning_rate': 1.153846153846154e-05, 'epoch': 2.31}\n",
      "{'loss': 0.525, 'learning_rate': 5.128205128205128e-06, 'epoch': 2.69}\n",
      "{'eval_loss': 0.510637640953064, 'eval_Accuracy': 0.8026666666666666, 'eval_AvgOnes': 1.0, 'eval_runtime': 2.1843, 'eval_samples_per_second': 45.781, 'eval_steps_per_second': 3.205, 'epoch': 3.0}\n",
      "{'train_runtime': 37.2634, 'train_samples_per_second': 16.102, 'train_steps_per_second': 1.047, 'train_loss': 0.5250916114220252, 'epoch': 3.0}\n"
     ]
    },
    {
     "data": {
      "text/plain": [
       "TrainOutput(global_step=39, training_loss=0.5250916114220252, metrics={'train_runtime': 37.2634, 'train_samples_per_second': 16.102, 'train_steps_per_second': 1.047, 'train_loss': 0.5250916114220252, 'epoch': 3.0})"
      ]
     },
     "execution_count": 4,
     "metadata": {},
     "output_type": "execute_result"
    }
   ],
   "source": [
    "ars_args = SyntheticAutoRegKStepsArguments(\n",
    "    num_rules = 8,\n",
    "    num_vars = 5,\n",
    "    num_steps = 3,\n",
    "    model_name = \"gpt2\",\n",
    "    embed_dim = 1024,\n",
    "    num_layers = 12,\n",
    "    num_heads = 8,\n",
    "\n",
    "    train_len = 200,\n",
    "    test_len = 100,\n",
    "    ante_prob = 0.2,\n",
    "    conseq_prob = 0.2,\n",
    "    state_prob = 0.3,\n",
    "    num_epochs = 3,\n",
    ")\n",
    "\n",
    "ars_trainer = AutoTrainer.for_synthetic(ars_args)\n",
    "ars_trainer.train()"
   ]
  },
  {
   "cell_type": "code",
   "execution_count": null,
   "id": "c0003173-f432-4515-a6d6-d2a4046ba35b",
   "metadata": {},
   "outputs": [],
   "source": []
  },
  {
   "cell_type": "code",
   "execution_count": null,
   "id": "213b442b-2b41-4ddd-b324-26b8b2f0dfca",
   "metadata": {},
   "outputs": [],
   "source": []
  },
  {
   "cell_type": "code",
   "execution_count": null,
   "id": "19d9443b-484f-47b8-8bc0-4c4c7003b79b",
   "metadata": {},
   "outputs": [],
   "source": []
  }
 ],
 "metadata": {
  "kernelspec": {
   "display_name": "Python 3 (ipykernel)",
   "language": "python",
   "name": "python3"
  },
  "language_info": {
   "codemirror_mode": {
    "name": "ipython",
    "version": 3
   },
   "file_extension": ".py",
   "mimetype": "text/x-python",
   "name": "python",
   "nbconvert_exporter": "python",
   "pygments_lexer": "ipython3",
   "version": "3.10.13"
  }
 },
 "nbformat": 4,
 "nbformat_minor": 5
}
