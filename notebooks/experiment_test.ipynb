{
 "cells": [
  {
   "cell_type": "code",
   "execution_count": 1,
   "id": "d6bde632-40e2-4e48-aa93-f89af78af490",
   "metadata": {},
   "outputs": [
    {
     "name": "stderr",
     "output_type": "stream",
     "text": [
      "/home/antonxue/lib/miniconda3/envs/tfl/lib/python3.10/site-packages/tqdm/auto.py:21: TqdmWarning: IProgress not found. Please update jupyter and ipywidgets. See https://ipywidgets.readthedocs.io/en/stable/user_install.html\n",
      "  from .autonotebook import tqdm as notebook_tqdm\n"
     ]
    }
   ],
   "source": [
    "import os\n",
    "import sys\n",
    "\n",
    "import copy\n",
    "import torch\n",
    "import torch.nn as nn\n",
    "from torch.utils.data import *\n",
    "from transformers import Trainer, TrainingArguments\n",
    "import inspect\n",
    "sys.path.insert(0, \"..\")\n",
    "\n",
    "from models import *\n",
    "from logic import *\n",
    "from my_datasets import *\n",
    "from experiments import *\n",
    "\n",
    "from utils import *\n",
    "import numpy as np\n",
    "\n",
    "import wandb"
   ]
  },
  {
   "cell_type": "code",
   "execution_count": null,
   "id": "b32d2704-c356-42c4-aecd-8ffcee1f4eac",
   "metadata": {},
   "outputs": [],
   "source": []
  },
  {
   "cell_type": "code",
   "execution_count": 2,
   "id": "2bdf5eec-ad62-4a41-b071-2b5f8e006c42",
   "metadata": {
    "scrolled": true
   },
   "outputs": [
    {
     "name": "stderr",
     "output_type": "stream",
     "text": [
      "\u001b[34m\u001b[1mwandb\u001b[0m: Currently logged in as: \u001b[33mantonxue\u001b[0m (\u001b[33mtransformer_friends\u001b[0m). Use \u001b[1m`wandb login --relogin`\u001b[0m to force relogin\n"
     ]
    },
    {
     "data": {
      "text/html": [
       "wandb version 0.16.0 is available!  To upgrade, please run:\n",
       " $ pip install wandb --upgrade"
      ],
      "text/plain": [
       "<IPython.core.display.HTML object>"
      ]
     },
     "metadata": {},
     "output_type": "display_data"
    },
    {
     "data": {
      "text/html": [
       "Tracking run with wandb version 0.15.12"
      ],
      "text/plain": [
       "<IPython.core.display.HTML object>"
      ]
     },
     "metadata": {},
     "output_type": "display_data"
    },
    {
     "data": {
      "text/html": [
       "Run data is saved locally in <code>/home/antonxue/foo/tf_logic/notebooks/wandb/run-20231114_145744-hhogvr3i</code>"
      ],
      "text/plain": [
       "<IPython.core.display.HTML object>"
      ]
     },
     "metadata": {},
     "output_type": "display_data"
    },
    {
     "data": {
      "text/html": [
       "Syncing run <strong><a href='https://wandb.ai/transformer_friends/transformer_friends/runs/hhogvr3i' target=\"_blank\">SynOneShot_nr8_nv5_gpt2_d1024_L12_H8_ap0.20_bp0.2_tp0.3_ntr100_ntt100</a></strong> to <a href='https://wandb.ai/transformer_friends/transformer_friends' target=\"_blank\">Weights & Biases</a> (<a href='https://wandb.me/run' target=\"_blank\">docs</a>)<br/>"
      ],
      "text/plain": [
       "<IPython.core.display.HTML object>"
      ]
     },
     "metadata": {},
     "output_type": "display_data"
    },
    {
     "data": {
      "text/html": [
       " View project at <a href='https://wandb.ai/transformer_friends/transformer_friends' target=\"_blank\">https://wandb.ai/transformer_friends/transformer_friends</a>"
      ],
      "text/plain": [
       "<IPython.core.display.HTML object>"
      ]
     },
     "metadata": {},
     "output_type": "display_data"
    },
    {
     "data": {
      "text/html": [
       " View run at <a href='https://wandb.ai/transformer_friends/transformer_friends/runs/hhogvr3i' target=\"_blank\">https://wandb.ai/transformer_friends/transformer_friends/runs/hhogvr3i</a>"
      ],
      "text/plain": [
       "<IPython.core.display.HTML object>"
      ]
     },
     "metadata": {},
     "output_type": "display_data"
    },
    {
     "name": "stderr",
     "output_type": "stream",
     "text": [
      "/home/antonxue/lib/miniconda3/envs/tfl/lib/python3.10/site-packages/torch/nn/parallel/_functions.py:68: UserWarning: Was asked to gather along dimension 0, but all input tensors were scalars; will instead unsqueeze and return a vector.\n",
      "  warnings.warn('Was asked to gather along dimension 0, but all '\n"
     ]
    },
    {
     "name": "stdout",
     "output_type": "stream",
     "text": [
      "{'loss': 4.8418, 'learning_rate': 3.2142857142857144e-05, 'epoch': 0.71}\n",
      "{'eval_loss': 1.306605577468872, 'eval_Accuracy': 0.6, 'eval_AvgOnes': 1.0, 'eval_runtime': 1.0957, 'eval_samples_per_second': 91.266, 'eval_steps_per_second': 6.389, 'epoch': 1.0}\n",
      "{'loss': 1.0091, 'learning_rate': 1.4285714285714285e-05, 'epoch': 1.43}\n",
      "{'eval_loss': 0.7231466770172119, 'eval_Accuracy': 0.6, 'eval_AvgOnes': 1.0, 'eval_runtime': 1.1022, 'eval_samples_per_second': 90.729, 'eval_steps_per_second': 6.351, 'epoch': 2.0}\n",
      "{'train_runtime': 13.2758, 'train_samples_per_second': 15.065, 'train_steps_per_second': 1.055, 'train_loss': 2.3639750480651855, 'epoch': 2.0}\n"
     ]
    },
    {
     "data": {
      "text/html": [
       "Waiting for W&B process to finish... <strong style=\"color:green\">(success).</strong>"
      ],
      "text/plain": [
       "<IPython.core.display.HTML object>"
      ]
     },
     "metadata": {},
     "output_type": "display_data"
    },
    {
     "data": {
      "text/html": [
       "<style>\n",
       "    table.wandb td:nth-child(1) { padding: 0 10px; text-align: left ; width: auto;} td:nth-child(2) {text-align: left ; width: 100%}\n",
       "    .wandb-row { display: flex; flex-direction: row; flex-wrap: wrap; justify-content: flex-start; width: 100% }\n",
       "    .wandb-col { display: flex; flex-direction: column; flex-basis: 100%; flex: 1; padding: 10px; }\n",
       "    </style>\n",
       "<div class=\"wandb-row\"><div class=\"wandb-col\"><h3>Run history:</h3><br/><table class=\"wandb\"><tr><td>eval/Accuracy</td><td>▁▁</td></tr><tr><td>eval/AvgOnes</td><td>▁▁</td></tr><tr><td>eval/loss</td><td>█▁</td></tr><tr><td>eval/runtime</td><td>▁█</td></tr><tr><td>eval/samples_per_second</td><td>█▁</td></tr><tr><td>eval/steps_per_second</td><td>█▁</td></tr><tr><td>train/epoch</td><td>▁▃▅██</td></tr><tr><td>train/global_step</td><td>▁▃▅██</td></tr><tr><td>train/learning_rate</td><td>█▁</td></tr><tr><td>train/loss</td><td>█▁</td></tr><tr><td>train/total_flos</td><td>▁</td></tr><tr><td>train/train_loss</td><td>▁</td></tr><tr><td>train/train_runtime</td><td>▁</td></tr><tr><td>train/train_samples_per_second</td><td>▁</td></tr><tr><td>train/train_steps_per_second</td><td>▁</td></tr></table><br/></div><div class=\"wandb-col\"><h3>Run summary:</h3><br/><table class=\"wandb\"><tr><td>eval/Accuracy</td><td>0.6</td></tr><tr><td>eval/AvgOnes</td><td>1.0</td></tr><tr><td>eval/loss</td><td>0.72315</td></tr><tr><td>eval/runtime</td><td>1.1022</td></tr><tr><td>eval/samples_per_second</td><td>90.729</td></tr><tr><td>eval/steps_per_second</td><td>6.351</td></tr><tr><td>train/epoch</td><td>2.0</td></tr><tr><td>train/global_step</td><td>14</td></tr><tr><td>train/learning_rate</td><td>1e-05</td></tr><tr><td>train/loss</td><td>1.0091</td></tr><tr><td>train/total_flos</td><td>0.0</td></tr><tr><td>train/train_loss</td><td>2.36398</td></tr><tr><td>train/train_runtime</td><td>13.2758</td></tr><tr><td>train/train_samples_per_second</td><td>15.065</td></tr><tr><td>train/train_steps_per_second</td><td>1.055</td></tr></table><br/></div></div>"
      ],
      "text/plain": [
       "<IPython.core.display.HTML object>"
      ]
     },
     "metadata": {},
     "output_type": "display_data"
    },
    {
     "data": {
      "text/html": [
       " View run <strong style=\"color:#cdcd00\">SynOneShot_nr8_nv5_gpt2_d1024_L12_H8_ap0.20_bp0.2_tp0.3_ntr100_ntt100</strong> at: <a href='https://wandb.ai/transformer_friends/transformer_friends/runs/hhogvr3i' target=\"_blank\">https://wandb.ai/transformer_friends/transformer_friends/runs/hhogvr3i</a><br/> View job at <a href='https://wandb.ai/transformer_friends/transformer_friends/jobs/QXJ0aWZhY3RDb2xsZWN0aW9uOjExNTQ0Mjk3Ng==/version_details/v6' target=\"_blank\">https://wandb.ai/transformer_friends/transformer_friends/jobs/QXJ0aWZhY3RDb2xsZWN0aW9uOjExNTQ0Mjk3Ng==/version_details/v6</a><br/>Synced 6 W&B file(s), 0 media file(s), 2 artifact file(s) and 0 other file(s)"
      ],
      "text/plain": [
       "<IPython.core.display.HTML object>"
      ]
     },
     "metadata": {},
     "output_type": "display_data"
    },
    {
     "data": {
      "text/html": [
       "Find logs at: <code>./wandb/run-20231114_145744-hhogvr3i/logs</code>"
      ],
      "text/plain": [
       "<IPython.core.display.HTML object>"
      ]
     },
     "metadata": {},
     "output_type": "display_data"
    }
   ],
   "source": [
    "qed_args = SyntheticOneShotArguments(\n",
    "    num_rules = 8,\n",
    "    num_vars = 5,\n",
    "    model_name = \"gpt2\",\n",
    "    embed_dim = 1024,\n",
    "    num_layers = 12,\n",
    "    num_heads = 8,\n",
    "\n",
    "    train_len = 100,\n",
    "    test_len = 100,\n",
    "    ante_prob = 0.2,\n",
    "    conseq_prob = 0.2,\n",
    "    theorem_prob = 0.3,\n",
    "    num_epochs = 2,\n",
    ")\n",
    "\n",
    "qed_trainer = AutoTrainer.for_synthetic(qed_args)\n",
    "qed_trainer.train()\n",
    "wandb.finish()"
   ]
  },
  {
   "cell_type": "code",
   "execution_count": null,
   "id": "44e04d1c-f045-41be-9882-d3f89cf563e2",
   "metadata": {},
   "outputs": [],
   "source": []
  },
  {
   "cell_type": "code",
   "execution_count": 3,
   "id": "61716178-0a48-4f83-a517-72f493eeade6",
   "metadata": {},
   "outputs": [
    {
     "data": {
      "text/html": [
       "wandb version 0.16.0 is available!  To upgrade, please run:\n",
       " $ pip install wandb --upgrade"
      ],
      "text/plain": [
       "<IPython.core.display.HTML object>"
      ]
     },
     "metadata": {},
     "output_type": "display_data"
    },
    {
     "data": {
      "text/html": [
       "Tracking run with wandb version 0.15.12"
      ],
      "text/plain": [
       "<IPython.core.display.HTML object>"
      ]
     },
     "metadata": {},
     "output_type": "display_data"
    },
    {
     "data": {
      "text/html": [
       "Run data is saved locally in <code>/home/antonxue/foo/tf_logic/notebooks/wandb/run-20231114_145823-89ftgoh4</code>"
      ],
      "text/plain": [
       "<IPython.core.display.HTML object>"
      ]
     },
     "metadata": {},
     "output_type": "display_data"
    },
    {
     "data": {
      "text/html": [
       "Syncing run <strong><a href='https://wandb.ai/transformer_friends/transformer_friends/runs/89ftgoh4' target=\"_blank\">SynNextState_nr8_nv5_gpt2_d1024_L12_H8_ap0.20_bp0.2_sp0.3_ntr100_ntt100</a></strong> to <a href='https://wandb.ai/transformer_friends/transformer_friends' target=\"_blank\">Weights & Biases</a> (<a href='https://wandb.me/run' target=\"_blank\">docs</a>)<br/>"
      ],
      "text/plain": [
       "<IPython.core.display.HTML object>"
      ]
     },
     "metadata": {},
     "output_type": "display_data"
    },
    {
     "data": {
      "text/html": [
       " View project at <a href='https://wandb.ai/transformer_friends/transformer_friends' target=\"_blank\">https://wandb.ai/transformer_friends/transformer_friends</a>"
      ],
      "text/plain": [
       "<IPython.core.display.HTML object>"
      ]
     },
     "metadata": {},
     "output_type": "display_data"
    },
    {
     "data": {
      "text/html": [
       " View run at <a href='https://wandb.ai/transformer_friends/transformer_friends/runs/89ftgoh4' target=\"_blank\">https://wandb.ai/transformer_friends/transformer_friends/runs/89ftgoh4</a>"
      ],
      "text/plain": [
       "<IPython.core.display.HTML object>"
      ]
     },
     "metadata": {},
     "output_type": "display_data"
    },
    {
     "name": "stderr",
     "output_type": "stream",
     "text": [
      "/home/antonxue/lib/miniconda3/envs/tfl/lib/python3.10/site-packages/torch/nn/parallel/_functions.py:68: UserWarning: Was asked to gather along dimension 0, but all input tensors were scalars; will instead unsqueeze and return a vector.\n",
      "  warnings.warn('Was asked to gather along dimension 0, but all '\n"
     ]
    },
    {
     "name": "stdout",
     "output_type": "stream",
     "text": [
      "{'loss': 0.8996, 'learning_rate': 3.2142857142857144e-05, 'epoch': 0.71}\n",
      "{'eval_loss': 0.5686335563659668, 'eval_Accuracy': 0.718, 'eval_AvgOnes': 0.844, 'eval_runtime': 1.084, 'eval_samples_per_second': 92.249, 'eval_steps_per_second': 6.457, 'epoch': 1.0}\n",
      "{'loss': 0.5251, 'learning_rate': 1.4285714285714285e-05, 'epoch': 1.43}\n",
      "{'eval_loss': 0.5597062110900879, 'eval_Accuracy': 0.778, 'eval_AvgOnes': 0.972, 'eval_runtime': 1.0854, 'eval_samples_per_second': 92.132, 'eval_steps_per_second': 6.449, 'epoch': 2.0}\n",
      "{'train_runtime': 9.814, 'train_samples_per_second': 20.379, 'train_steps_per_second': 1.427, 'train_loss': 0.6871390853609357, 'epoch': 2.0}\n"
     ]
    },
    {
     "data": {
      "text/html": [
       "Waiting for W&B process to finish... <strong style=\"color:green\">(success).</strong>"
      ],
      "text/plain": [
       "<IPython.core.display.HTML object>"
      ]
     },
     "metadata": {},
     "output_type": "display_data"
    },
    {
     "data": {
      "text/html": [
       "<style>\n",
       "    table.wandb td:nth-child(1) { padding: 0 10px; text-align: left ; width: auto;} td:nth-child(2) {text-align: left ; width: 100%}\n",
       "    .wandb-row { display: flex; flex-direction: row; flex-wrap: wrap; justify-content: flex-start; width: 100% }\n",
       "    .wandb-col { display: flex; flex-direction: column; flex-basis: 100%; flex: 1; padding: 10px; }\n",
       "    </style>\n",
       "<div class=\"wandb-row\"><div class=\"wandb-col\"><h3>Run history:</h3><br/><table class=\"wandb\"><tr><td>eval/Accuracy</td><td>▁█</td></tr><tr><td>eval/AvgOnes</td><td>▁█</td></tr><tr><td>eval/loss</td><td>█▁</td></tr><tr><td>eval/runtime</td><td>▁█</td></tr><tr><td>eval/samples_per_second</td><td>█▁</td></tr><tr><td>eval/steps_per_second</td><td>█▁</td></tr><tr><td>train/epoch</td><td>▁▃▅██</td></tr><tr><td>train/global_step</td><td>▁▃▅██</td></tr><tr><td>train/learning_rate</td><td>█▁</td></tr><tr><td>train/loss</td><td>█▁</td></tr><tr><td>train/total_flos</td><td>▁</td></tr><tr><td>train/train_loss</td><td>▁</td></tr><tr><td>train/train_runtime</td><td>▁</td></tr><tr><td>train/train_samples_per_second</td><td>▁</td></tr><tr><td>train/train_steps_per_second</td><td>▁</td></tr></table><br/></div><div class=\"wandb-col\"><h3>Run summary:</h3><br/><table class=\"wandb\"><tr><td>eval/Accuracy</td><td>0.778</td></tr><tr><td>eval/AvgOnes</td><td>0.972</td></tr><tr><td>eval/loss</td><td>0.55971</td></tr><tr><td>eval/runtime</td><td>1.0854</td></tr><tr><td>eval/samples_per_second</td><td>92.132</td></tr><tr><td>eval/steps_per_second</td><td>6.449</td></tr><tr><td>train/epoch</td><td>2.0</td></tr><tr><td>train/global_step</td><td>14</td></tr><tr><td>train/learning_rate</td><td>1e-05</td></tr><tr><td>train/loss</td><td>0.5251</td></tr><tr><td>train/total_flos</td><td>0.0</td></tr><tr><td>train/train_loss</td><td>0.68714</td></tr><tr><td>train/train_runtime</td><td>9.814</td></tr><tr><td>train/train_samples_per_second</td><td>20.379</td></tr><tr><td>train/train_steps_per_second</td><td>1.427</td></tr></table><br/></div></div>"
      ],
      "text/plain": [
       "<IPython.core.display.HTML object>"
      ]
     },
     "metadata": {},
     "output_type": "display_data"
    },
    {
     "data": {
      "text/html": [
       " View run <strong style=\"color:#cdcd00\">SynNextState_nr8_nv5_gpt2_d1024_L12_H8_ap0.20_bp0.2_sp0.3_ntr100_ntt100</strong> at: <a href='https://wandb.ai/transformer_friends/transformer_friends/runs/89ftgoh4' target=\"_blank\">https://wandb.ai/transformer_friends/transformer_friends/runs/89ftgoh4</a><br/> View job at <a href='https://wandb.ai/transformer_friends/transformer_friends/jobs/QXJ0aWZhY3RDb2xsZWN0aW9uOjExNTQ0Mjk3Ng==/version_details/v6' target=\"_blank\">https://wandb.ai/transformer_friends/transformer_friends/jobs/QXJ0aWZhY3RDb2xsZWN0aW9uOjExNTQ0Mjk3Ng==/version_details/v6</a><br/>Synced 6 W&B file(s), 0 media file(s), 2 artifact file(s) and 0 other file(s)"
      ],
      "text/plain": [
       "<IPython.core.display.HTML object>"
      ]
     },
     "metadata": {},
     "output_type": "display_data"
    },
    {
     "data": {
      "text/html": [
       "Find logs at: <code>./wandb/run-20231114_145823-89ftgoh4/logs</code>"
      ],
      "text/plain": [
       "<IPython.core.display.HTML object>"
      ]
     },
     "metadata": {},
     "output_type": "display_data"
    }
   ],
   "source": [
    "next_args = SyntheticNextStateArguments(\n",
    "    num_rules = 8,\n",
    "    num_vars = 5,\n",
    "    model_name = \"gpt2\",\n",
    "    embed_dim = 1024,\n",
    "    num_layers = 12,\n",
    "    num_heads = 8,\n",
    "\n",
    "    train_len = 100,\n",
    "    test_len = 100,\n",
    "    ante_prob = 0.2,\n",
    "    conseq_prob = 0.2,\n",
    "    state_prob = 0.3,\n",
    "\n",
    "    num_epochs = 2,\n",
    ")\n",
    "\n",
    "next_trainer = AutoTrainer.for_synthetic(next_args)\n",
    "next_trainer.train()\n",
    "wandb.finish()"
   ]
  },
  {
   "cell_type": "code",
   "execution_count": null,
   "id": "df9d45c9-deca-4741-8dbb-45f1fa1b73ed",
   "metadata": {},
   "outputs": [],
   "source": []
  },
  {
   "cell_type": "code",
   "execution_count": null,
   "id": "10e5ec78-5bcc-426b-86a4-1626910db3e7",
   "metadata": {},
   "outputs": [
    {
     "data": {
      "text/html": [
       "wandb version 0.16.0 is available!  To upgrade, please run:\n",
       " $ pip install wandb --upgrade"
      ],
      "text/plain": [
       "<IPython.core.display.HTML object>"
      ]
     },
     "metadata": {},
     "output_type": "display_data"
    },
    {
     "data": {
      "text/html": [
       "Tracking run with wandb version 0.15.12"
      ],
      "text/plain": [
       "<IPython.core.display.HTML object>"
      ]
     },
     "metadata": {},
     "output_type": "display_data"
    },
    {
     "data": {
      "text/html": [
       "Run data is saved locally in <code>/home/antonxue/foo/tf_logic/notebooks/wandb/run-20231114_145846-d3avvfsn</code>"
      ],
      "text/plain": [
       "<IPython.core.display.HTML object>"
      ]
     },
     "metadata": {},
     "output_type": "display_data"
    },
    {
     "data": {
      "text/html": [
       "Syncing run <strong><a href='https://wandb.ai/transformer_friends/transformer_friends/runs/d3avvfsn' target=\"_blank\">SynARKSteps_nr8_nv5_ns3_gpt2_d1024_L12_H8_ap0.20_bp0.2_sp0.3_ntr100_ntt100</a></strong> to <a href='https://wandb.ai/transformer_friends/transformer_friends' target=\"_blank\">Weights & Biases</a> (<a href='https://wandb.me/run' target=\"_blank\">docs</a>)<br/>"
      ],
      "text/plain": [
       "<IPython.core.display.HTML object>"
      ]
     },
     "metadata": {},
     "output_type": "display_data"
    },
    {
     "data": {
      "text/html": [
       " View project at <a href='https://wandb.ai/transformer_friends/transformer_friends' target=\"_blank\">https://wandb.ai/transformer_friends/transformer_friends</a>"
      ],
      "text/plain": [
       "<IPython.core.display.HTML object>"
      ]
     },
     "metadata": {},
     "output_type": "display_data"
    },
    {
     "data": {
      "text/html": [
       " View run at <a href='https://wandb.ai/transformer_friends/transformer_friends/runs/d3avvfsn' target=\"_blank\">https://wandb.ai/transformer_friends/transformer_friends/runs/d3avvfsn</a>"
      ],
      "text/plain": [
       "<IPython.core.display.HTML object>"
      ]
     },
     "metadata": {},
     "output_type": "display_data"
    },
    {
     "name": "stderr",
     "output_type": "stream",
     "text": [
      "/home/antonxue/lib/miniconda3/envs/tfl/lib/python3.10/site-packages/torch/nn/parallel/_functions.py:68: UserWarning: Was asked to gather along dimension 0, but all input tensors were scalars; will instead unsqueeze and return a vector.\n",
      "  warnings.warn('Was asked to gather along dimension 0, but all '\n"
     ]
    },
    {
     "name": "stdout",
     "output_type": "stream",
     "text": [
      "{'loss': 0.531, 'learning_rate': 3.2142857142857144e-05, 'epoch': 0.71}\n"
     ]
    }
   ],
   "source": [
    "ars_args = SyntheticAutoRegKStepsArguments(\n",
    "    num_rules = 8,\n",
    "    num_vars = 5,\n",
    "    num_steps = 3,\n",
    "    model_name = \"gpt2\",\n",
    "    embed_dim = 1024,\n",
    "    num_layers = 12,\n",
    "    num_heads = 8,\n",
    "\n",
    "    train_len = 100,\n",
    "    test_len = 100,\n",
    "    ante_prob = 0.2,\n",
    "    conseq_prob = 0.2,\n",
    "    state_prob = 0.3,\n",
    "    num_epochs = 2,\n",
    ")\n",
    "\n",
    "ars_trainer = AutoTrainer.for_synthetic(ars_args)\n",
    "ars_trainer.train()\n",
    "wandb.finish()"
   ]
  },
  {
   "cell_type": "code",
   "execution_count": null,
   "id": "c0003173-f432-4515-a6d6-d2a4046ba35b",
   "metadata": {},
   "outputs": [],
   "source": []
  },
  {
   "cell_type": "code",
   "execution_count": null,
   "id": "213b442b-2b41-4ddd-b324-26b8b2f0dfca",
   "metadata": {},
   "outputs": [],
   "source": []
  },
  {
   "cell_type": "code",
   "execution_count": null,
   "id": "19d9443b-484f-47b8-8bc0-4c4c7003b79b",
   "metadata": {},
   "outputs": [],
   "source": []
  }
 ],
 "metadata": {
  "kernelspec": {
   "display_name": "Python 3 (ipykernel)",
   "language": "python",
   "name": "python3"
  },
  "language_info": {
   "codemirror_mode": {
    "name": "ipython",
    "version": 3
   },
   "file_extension": ".py",
   "mimetype": "text/x-python",
   "name": "python",
   "nbconvert_exporter": "python",
   "pygments_lexer": "ipython3",
   "version": "3.10.13"
  }
 },
 "nbformat": 4,
 "nbformat_minor": 5
}
