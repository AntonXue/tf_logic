{
 "cells": [
  {
   "cell_type": "code",
   "execution_count": 5,
   "id": "d6bde632-40e2-4e48-aa93-f89af78af490",
   "metadata": {},
   "outputs": [],
   "source": [
    "import os\n",
    "import sys\n",
    "\n",
    "import copy\n",
    "import torch\n",
    "import torch.nn as nn\n",
    "from torch.utils.data import *\n",
    "from transformers import Trainer, TrainingArguments\n",
    "import inspect\n",
    "sys.path.insert(0, \"..\")\n",
    "\n",
    "from models import *\n",
    "from my_datasets import *\n",
    "from experiments import *\n",
    "\n",
    "from notebook_utils import *\n",
    "import numpy as np\n",
    "\n",
    "import wandb"
   ]
  },
  {
   "cell_type": "code",
   "execution_count": null,
   "id": "dfe71515-2795-43d8-86dc-65f0a30218c1",
   "metadata": {},
   "outputs": [],
   "source": []
  },
  {
   "cell_type": "code",
   "execution_count": 2,
   "id": "40d6c0cb-c294-433e-9c43-0b9e7fec7bf9",
   "metadata": {},
   "outputs": [
    {
     "name": "stderr",
     "output_type": "stream",
     "text": [
      "\u001b[34m\u001b[1mwandb\u001b[0m: Currently logged in as: \u001b[33mantonxue\u001b[0m (\u001b[33mtransformer_friends\u001b[0m). Use \u001b[1m`wandb login --relogin`\u001b[0m to force relogin\n"
     ]
    },
    {
     "data": {
      "text/html": [
       "wandb version 0.16.0 is available!  To upgrade, please run:\n",
       " $ pip install wandb --upgrade"
      ],
      "text/plain": [
       "<IPython.core.display.HTML object>"
      ]
     },
     "metadata": {},
     "output_type": "display_data"
    },
    {
     "data": {
      "text/html": [
       "Tracking run with wandb version 0.15.12"
      ],
      "text/plain": [
       "<IPython.core.display.HTML object>"
      ]
     },
     "metadata": {},
     "output_type": "display_data"
    },
    {
     "data": {
      "text/html": [
       "Run data is saved locally in <code>/home/antonxue/foo/tf_logic/notebooks/wandb/run-20231114_203803-qtnhavd1</code>"
      ],
      "text/plain": [
       "<IPython.core.display.HTML object>"
      ]
     },
     "metadata": {},
     "output_type": "display_data"
    },
    {
     "data": {
      "text/html": [
       "Syncing run <strong><a href='https://wandb.ai/transformer_friends/transformer_friends/runs/qtnhavd1' target=\"_blank\">SynOneShot_nr8_nv5_gpt2_dNone_LNone_HNone_ap0.20_bp0.2_tp0.3_ntr1000_ntt500</a></strong> to <a href='https://wandb.ai/transformer_friends/transformer_friends' target=\"_blank\">Weights & Biases</a> (<a href='https://wandb.me/run' target=\"_blank\">docs</a>)<br/>"
      ],
      "text/plain": [
       "<IPython.core.display.HTML object>"
      ]
     },
     "metadata": {},
     "output_type": "display_data"
    },
    {
     "data": {
      "text/html": [
       " View project at <a href='https://wandb.ai/transformer_friends/transformer_friends' target=\"_blank\">https://wandb.ai/transformer_friends/transformer_friends</a>"
      ],
      "text/plain": [
       "<IPython.core.display.HTML object>"
      ]
     },
     "metadata": {},
     "output_type": "display_data"
    },
    {
     "data": {
      "text/html": [
       " View run at <a href='https://wandb.ai/transformer_friends/transformer_friends/runs/qtnhavd1' target=\"_blank\">https://wandb.ai/transformer_friends/transformer_friends/runs/qtnhavd1</a>"
      ],
      "text/plain": [
       "<IPython.core.display.HTML object>"
      ]
     },
     "metadata": {},
     "output_type": "display_data"
    },
    {
     "name": "stderr",
     "output_type": "stream",
     "text": [
      "/home/antonxue/lib/miniconda3/envs/tfl/lib/python3.10/site-packages/torch/nn/parallel/_functions.py:68: UserWarning: Was asked to gather along dimension 0, but all input tensors were scalars; will instead unsqueeze and return a vector.\n",
      "  warnings.warn('Was asked to gather along dimension 0, but all '\n"
     ]
    },
    {
     "name": "stdout",
     "output_type": "stream",
     "text": [
      "{'loss': 1.4678, 'learning_rate': 4.8677248677248676e-05, 'epoch': 0.08}\n",
      "{'loss': 1.2756, 'learning_rate': 4.7354497354497356e-05, 'epoch': 0.16}\n",
      "{'loss': 0.6734, 'learning_rate': 4.603174603174603e-05, 'epoch': 0.24}\n",
      "{'loss': 0.6539, 'learning_rate': 4.470899470899471e-05, 'epoch': 0.32}\n",
      "{'loss': 0.6628, 'learning_rate': 4.3386243386243384e-05, 'epoch': 0.4}\n",
      "{'loss': 0.7135, 'learning_rate': 4.2063492063492065e-05, 'epoch': 0.48}\n",
      "{'loss': 0.6694, 'learning_rate': 4.074074074074074e-05, 'epoch': 0.56}\n",
      "{'loss': 0.6086, 'learning_rate': 3.941798941798942e-05, 'epoch': 0.63}\n",
      "{'loss': 0.5425, 'learning_rate': 3.809523809523809e-05, 'epoch': 0.71}\n",
      "{'loss': 0.5866, 'learning_rate': 3.677248677248677e-05, 'epoch': 0.79}\n",
      "{'loss': 0.6357, 'learning_rate': 3.5449735449735446e-05, 'epoch': 0.87}\n",
      "{'loss': 0.6836, 'learning_rate': 3.412698412698413e-05, 'epoch': 0.95}\n",
      "{'eval_loss': 0.5757982134819031, 'eval_Accuracy': 0.698, 'eval_AvgOnes': 0.652, 'eval_runtime': 4.4606, 'eval_samples_per_second': 112.094, 'eval_steps_per_second': 7.174, 'epoch': 1.0}\n",
      "{'loss': 0.5958, 'learning_rate': 3.280423280423281e-05, 'epoch': 1.03}\n",
      "{'loss': 0.622, 'learning_rate': 3.148148148148148e-05, 'epoch': 1.11}\n",
      "{'loss': 0.5395, 'learning_rate': 3.0158730158730158e-05, 'epoch': 1.19}\n",
      "{'loss': 0.588, 'learning_rate': 2.8835978835978838e-05, 'epoch': 1.27}\n",
      "{'loss': 0.6348, 'learning_rate': 2.7513227513227512e-05, 'epoch': 1.35}\n",
      "{'loss': 0.589, 'learning_rate': 2.6190476190476192e-05, 'epoch': 1.43}\n",
      "{'loss': 0.6709, 'learning_rate': 2.4867724867724866e-05, 'epoch': 1.51}\n",
      "{'loss': 0.514, 'learning_rate': 2.3544973544973546e-05, 'epoch': 1.59}\n",
      "{'loss': 0.5813, 'learning_rate': 2.2222222222222223e-05, 'epoch': 1.67}\n",
      "{'loss': 0.5714, 'learning_rate': 2.08994708994709e-05, 'epoch': 1.75}\n",
      "{'loss': 0.4686, 'learning_rate': 1.9576719576719577e-05, 'epoch': 1.83}\n",
      "{'loss': 0.4919, 'learning_rate': 1.8253968253968254e-05, 'epoch': 1.9}\n",
      "{'loss': 0.6181, 'learning_rate': 1.693121693121693e-05, 'epoch': 1.98}\n",
      "{'eval_loss': 0.5682770013809204, 'eval_Accuracy': 0.708, 'eval_AvgOnes': 0.526, 'eval_runtime': 4.4967, 'eval_samples_per_second': 111.193, 'eval_steps_per_second': 7.116, 'epoch': 2.0}\n",
      "{'loss': 0.5567, 'learning_rate': 1.560846560846561e-05, 'epoch': 2.06}\n",
      "{'loss': 0.4123, 'learning_rate': 1.4285714285714285e-05, 'epoch': 2.14}\n",
      "{'loss': 0.4848, 'learning_rate': 1.2962962962962962e-05, 'epoch': 2.22}\n",
      "{'loss': 0.5501, 'learning_rate': 1.164021164021164e-05, 'epoch': 2.3}\n",
      "{'loss': 0.4254, 'learning_rate': 1.0317460317460318e-05, 'epoch': 2.38}\n",
      "{'loss': 0.5136, 'learning_rate': 8.994708994708995e-06, 'epoch': 2.46}\n",
      "{'loss': 0.473, 'learning_rate': 7.671957671957672e-06, 'epoch': 2.54}\n",
      "{'loss': 0.3518, 'learning_rate': 6.349206349206349e-06, 'epoch': 2.62}\n",
      "{'loss': 0.4696, 'learning_rate': 5.026455026455026e-06, 'epoch': 2.7}\n",
      "{'loss': 0.4012, 'learning_rate': 3.7037037037037037e-06, 'epoch': 2.78}\n",
      "{'loss': 0.3584, 'learning_rate': 2.3809523809523808e-06, 'epoch': 2.86}\n",
      "{'loss': 0.4102, 'learning_rate': 1.0582010582010582e-06, 'epoch': 2.94}\n",
      "{'eval_loss': 0.4868893623352051, 'eval_Accuracy': 0.762, 'eval_AvgOnes': 0.712, 'eval_runtime': 4.4125, 'eval_samples_per_second': 113.315, 'eval_steps_per_second': 7.252, 'epoch': 3.0}\n",
      "{'train_runtime': 79.5569, 'train_samples_per_second': 37.709, 'train_steps_per_second': 2.376, 'train_loss': 0.59302946877858, 'epoch': 3.0}\n"
     ]
    },
    {
     "data": {
      "text/html": [
       "Waiting for W&B process to finish... <strong style=\"color:green\">(success).</strong>"
      ],
      "text/plain": [
       "<IPython.core.display.HTML object>"
      ]
     },
     "metadata": {},
     "output_type": "display_data"
    },
    {
     "data": {
      "text/html": [
       "<style>\n",
       "    table.wandb td:nth-child(1) { padding: 0 10px; text-align: left ; width: auto;} td:nth-child(2) {text-align: left ; width: 100%}\n",
       "    .wandb-row { display: flex; flex-direction: row; flex-wrap: wrap; justify-content: flex-start; width: 100% }\n",
       "    .wandb-col { display: flex; flex-direction: column; flex-basis: 100%; flex: 1; padding: 10px; }\n",
       "    </style>\n",
       "<div class=\"wandb-row\"><div class=\"wandb-col\"><h3>Run history:</h3><br/><table class=\"wandb\"><tr><td>eval/Accuracy</td><td>▁▂█</td></tr><tr><td>eval/AvgOnes</td><td>▆▁█</td></tr><tr><td>eval/loss</td><td>█▇▁</td></tr><tr><td>eval/runtime</td><td>▅█▁</td></tr><tr><td>eval/samples_per_second</td><td>▄▁█</td></tr><tr><td>eval/steps_per_second</td><td>▄▁█</td></tr><tr><td>train/epoch</td><td>▁▁▁▂▂▂▂▂▃▃▃▃▃▃▃▄▄▄▄▄▅▅▅▅▅▆▆▆▆▆▆▇▇▇▇▇▇███</td></tr><tr><td>train/global_step</td><td>▁▁▁▂▂▂▂▂▃▃▃▃▃▃▃▄▄▄▄▄▅▅▅▅▅▆▆▆▆▆▆▇▇▇▇▇▇███</td></tr><tr><td>train/learning_rate</td><td>███▇▇▇▇▇▆▆▆▆▆▅▅▅▅▅▄▄▄▄▄▄▃▃▃▃▃▂▂▂▂▂▁▁▁</td></tr><tr><td>train/loss</td><td>█▇▃▃▃▃▃▃▂▂▃▃▃▃▂▂▃▂▃▂▂▂▂▂▃▂▁▂▂▁▂▂▁▂▁▁▁</td></tr><tr><td>train/total_flos</td><td>▁</td></tr><tr><td>train/train_loss</td><td>▁</td></tr><tr><td>train/train_runtime</td><td>▁</td></tr><tr><td>train/train_samples_per_second</td><td>▁</td></tr><tr><td>train/train_steps_per_second</td><td>▁</td></tr></table><br/></div><div class=\"wandb-col\"><h3>Run summary:</h3><br/><table class=\"wandb\"><tr><td>eval/Accuracy</td><td>0.762</td></tr><tr><td>eval/AvgOnes</td><td>0.712</td></tr><tr><td>eval/loss</td><td>0.48689</td></tr><tr><td>eval/runtime</td><td>4.4125</td></tr><tr><td>eval/samples_per_second</td><td>113.315</td></tr><tr><td>eval/steps_per_second</td><td>7.252</td></tr><tr><td>train/epoch</td><td>3.0</td></tr><tr><td>train/global_step</td><td>189</td></tr><tr><td>train/learning_rate</td><td>0.0</td></tr><tr><td>train/loss</td><td>0.4102</td></tr><tr><td>train/total_flos</td><td>0.0</td></tr><tr><td>train/train_loss</td><td>0.59303</td></tr><tr><td>train/train_runtime</td><td>79.5569</td></tr><tr><td>train/train_samples_per_second</td><td>37.709</td></tr><tr><td>train/train_steps_per_second</td><td>2.376</td></tr></table><br/></div></div>"
      ],
      "text/plain": [
       "<IPython.core.display.HTML object>"
      ]
     },
     "metadata": {},
     "output_type": "display_data"
    },
    {
     "data": {
      "text/html": [
       " View run <strong style=\"color:#cdcd00\">SynOneShot_nr8_nv5_gpt2_dNone_LNone_HNone_ap0.20_bp0.2_tp0.3_ntr1000_ntt500</strong> at: <a href='https://wandb.ai/transformer_friends/transformer_friends/runs/qtnhavd1' target=\"_blank\">https://wandb.ai/transformer_friends/transformer_friends/runs/qtnhavd1</a><br/> View job at <a href='https://wandb.ai/transformer_friends/transformer_friends/jobs/QXJ0aWZhY3RDb2xsZWN0aW9uOjExNTQ0Mjk3Ng==/version_details/v10' target=\"_blank\">https://wandb.ai/transformer_friends/transformer_friends/jobs/QXJ0aWZhY3RDb2xsZWN0aW9uOjExNTQ0Mjk3Ng==/version_details/v10</a><br/>Synced 6 W&B file(s), 0 media file(s), 2 artifact file(s) and 0 other file(s)"
      ],
      "text/plain": [
       "<IPython.core.display.HTML object>"
      ]
     },
     "metadata": {},
     "output_type": "display_data"
    },
    {
     "data": {
      "text/html": [
       "Find logs at: <code>./wandb/run-20231114_203803-qtnhavd1/logs</code>"
      ],
      "text/plain": [
       "<IPython.core.display.HTML object>"
      ]
     },
     "metadata": {},
     "output_type": "display_data"
    }
   ],
   "source": [
    "qed_args = SyntheticExperimentArguments(\n",
    "    syn_exp_name = \"one_shot\",\n",
    "    model_name = \"gpt2\",\n",
    "\n",
    "    num_rules = 8,\n",
    "    num_vars = 5,\n",
    "    ante_prob = 0.2,\n",
    "    conseq_prob = 0.2,\n",
    "    theorem_prob = 0.3,\n",
    "\n",
    "    train_len = 1000,\n",
    "    eval_len = 500,\n",
    "    num_epochs = 3,\n",
    ")\n",
    "\n",
    "qed_trainer = AutoTrainer.from_synthetic_experiment_args(qed_args)\n",
    "qed_trainer.train()\n",
    "wandb.finish()"
   ]
  },
  {
   "cell_type": "code",
   "execution_count": null,
   "id": "776a4c29-6eea-4589-b906-aec14efe48a3",
   "metadata": {},
   "outputs": [],
   "source": []
  },
  {
   "cell_type": "code",
   "execution_count": 3,
   "id": "f6b1d21f-cb69-418d-8a3c-e045fbf19681",
   "metadata": {},
   "outputs": [
    {
     "data": {
      "text/html": [
       "wandb version 0.16.0 is available!  To upgrade, please run:\n",
       " $ pip install wandb --upgrade"
      ],
      "text/plain": [
       "<IPython.core.display.HTML object>"
      ]
     },
     "metadata": {},
     "output_type": "display_data"
    },
    {
     "data": {
      "text/html": [
       "Tracking run with wandb version 0.15.12"
      ],
      "text/plain": [
       "<IPython.core.display.HTML object>"
      ]
     },
     "metadata": {},
     "output_type": "display_data"
    },
    {
     "data": {
      "text/html": [
       "Run data is saved locally in <code>/home/antonxue/foo/tf_logic/notebooks/wandb/run-20231114_203938-r8l48wvx</code>"
      ],
      "text/plain": [
       "<IPython.core.display.HTML object>"
      ]
     },
     "metadata": {},
     "output_type": "display_data"
    },
    {
     "data": {
      "text/html": [
       "Syncing run <strong><a href='https://wandb.ai/transformer_friends/transformer_friends/runs/r8l48wvx' target=\"_blank\">SynNextState_nr8_nv5_gpt2_dNone_LNone_HNone_ap0.20_bp0.2_sp0.3_ntr1000_ntt500</a></strong> to <a href='https://wandb.ai/transformer_friends/transformer_friends' target=\"_blank\">Weights & Biases</a> (<a href='https://wandb.me/run' target=\"_blank\">docs</a>)<br/>"
      ],
      "text/plain": [
       "<IPython.core.display.HTML object>"
      ]
     },
     "metadata": {},
     "output_type": "display_data"
    },
    {
     "data": {
      "text/html": [
       " View project at <a href='https://wandb.ai/transformer_friends/transformer_friends' target=\"_blank\">https://wandb.ai/transformer_friends/transformer_friends</a>"
      ],
      "text/plain": [
       "<IPython.core.display.HTML object>"
      ]
     },
     "metadata": {},
     "output_type": "display_data"
    },
    {
     "data": {
      "text/html": [
       " View run at <a href='https://wandb.ai/transformer_friends/transformer_friends/runs/r8l48wvx' target=\"_blank\">https://wandb.ai/transformer_friends/transformer_friends/runs/r8l48wvx</a>"
      ],
      "text/plain": [
       "<IPython.core.display.HTML object>"
      ]
     },
     "metadata": {},
     "output_type": "display_data"
    },
    {
     "name": "stderr",
     "output_type": "stream",
     "text": [
      "/home/antonxue/lib/miniconda3/envs/tfl/lib/python3.10/site-packages/torch/nn/parallel/_functions.py:68: UserWarning: Was asked to gather along dimension 0, but all input tensors were scalars; will instead unsqueeze and return a vector.\n",
      "  warnings.warn('Was asked to gather along dimension 0, but all '\n"
     ]
    },
    {
     "name": "stdout",
     "output_type": "stream",
     "text": [
      "{'loss': 0.7269, 'learning_rate': 4.8677248677248676e-05, 'epoch': 0.08}\n",
      "{'loss': 0.6394, 'learning_rate': 4.7354497354497356e-05, 'epoch': 0.16}\n",
      "{'loss': 0.5762, 'learning_rate': 4.603174603174603e-05, 'epoch': 0.24}\n",
      "{'loss': 0.5801, 'learning_rate': 4.470899470899471e-05, 'epoch': 0.32}\n",
      "{'loss': 0.5721, 'learning_rate': 4.3386243386243384e-05, 'epoch': 0.4}\n",
      "{'loss': 0.5723, 'learning_rate': 4.2063492063492065e-05, 'epoch': 0.48}\n",
      "{'loss': 0.5745, 'learning_rate': 4.074074074074074e-05, 'epoch': 0.56}\n",
      "{'loss': 0.5642, 'learning_rate': 3.941798941798942e-05, 'epoch': 0.63}\n",
      "{'loss': 0.579, 'learning_rate': 3.809523809523809e-05, 'epoch': 0.71}\n",
      "{'loss': 0.5457, 'learning_rate': 3.677248677248677e-05, 'epoch': 0.79}\n",
      "{'loss': 0.4862, 'learning_rate': 3.5449735449735446e-05, 'epoch': 0.87}\n",
      "{'loss': 0.5342, 'learning_rate': 3.412698412698413e-05, 'epoch': 0.95}\n",
      "{'eval_loss': 0.5008813738822937, 'eval_Accuracy': 0.7396, 'eval_AvgOnes': 0.92, 'eval_runtime': 4.3756, 'eval_samples_per_second': 114.27, 'eval_steps_per_second': 7.313, 'epoch': 1.0}\n",
      "{'loss': 0.4853, 'learning_rate': 3.280423280423281e-05, 'epoch': 1.03}\n",
      "{'loss': 0.5151, 'learning_rate': 3.148148148148148e-05, 'epoch': 1.11}\n",
      "{'loss': 0.5019, 'learning_rate': 3.0158730158730158e-05, 'epoch': 1.19}\n",
      "{'loss': 0.4544, 'learning_rate': 2.8835978835978838e-05, 'epoch': 1.27}\n",
      "{'loss': 0.4986, 'learning_rate': 2.7513227513227512e-05, 'epoch': 1.35}\n",
      "{'loss': 0.4148, 'learning_rate': 2.6190476190476192e-05, 'epoch': 1.43}\n",
      "{'loss': 0.3878, 'learning_rate': 2.4867724867724866e-05, 'epoch': 1.51}\n",
      "{'loss': 0.419, 'learning_rate': 2.3544973544973546e-05, 'epoch': 1.59}\n",
      "{'loss': 0.3814, 'learning_rate': 2.2222222222222223e-05, 'epoch': 1.67}\n",
      "{'loss': 0.3736, 'learning_rate': 2.08994708994709e-05, 'epoch': 1.75}\n",
      "{'loss': 0.3667, 'learning_rate': 1.9576719576719577e-05, 'epoch': 1.83}\n",
      "{'loss': 0.387, 'learning_rate': 1.8253968253968254e-05, 'epoch': 1.9}\n",
      "{'loss': 0.3678, 'learning_rate': 1.693121693121693e-05, 'epoch': 1.98}\n",
      "{'eval_loss': 0.30706164240837097, 'eval_Accuracy': 0.8484, 'eval_AvgOnes': 0.7336, 'eval_runtime': 4.3035, 'eval_samples_per_second': 116.184, 'eval_steps_per_second': 7.436, 'epoch': 2.0}\n",
      "{'loss': 0.2946, 'learning_rate': 1.560846560846561e-05, 'epoch': 2.06}\n",
      "{'loss': 0.3327, 'learning_rate': 1.4285714285714285e-05, 'epoch': 2.14}\n",
      "{'loss': 0.2467, 'learning_rate': 1.2962962962962962e-05, 'epoch': 2.22}\n",
      "{'loss': 0.2885, 'learning_rate': 1.164021164021164e-05, 'epoch': 2.3}\n",
      "{'loss': 0.2762, 'learning_rate': 1.0317460317460318e-05, 'epoch': 2.38}\n",
      "{'loss': 0.2113, 'learning_rate': 8.994708994708995e-06, 'epoch': 2.46}\n",
      "{'loss': 0.2334, 'learning_rate': 7.671957671957672e-06, 'epoch': 2.54}\n",
      "{'loss': 0.2167, 'learning_rate': 6.349206349206349e-06, 'epoch': 2.62}\n",
      "{'loss': 0.2563, 'learning_rate': 5.026455026455026e-06, 'epoch': 2.7}\n",
      "{'loss': 0.1948, 'learning_rate': 3.7037037037037037e-06, 'epoch': 2.78}\n",
      "{'loss': 0.2717, 'learning_rate': 2.3809523809523808e-06, 'epoch': 2.86}\n",
      "{'loss': 0.2597, 'learning_rate': 1.0582010582010582e-06, 'epoch': 2.94}\n",
      "{'eval_loss': 0.22317178547382355, 'eval_Accuracy': 0.9036, 'eval_AvgOnes': 0.6992, 'eval_runtime': 4.3391, 'eval_samples_per_second': 115.232, 'eval_steps_per_second': 7.375, 'epoch': 3.0}\n",
      "{'train_runtime': 76.544, 'train_samples_per_second': 39.193, 'train_steps_per_second': 2.469, 'train_loss': 0.41657785196152947, 'epoch': 3.0}\n"
     ]
    },
    {
     "data": {
      "text/html": [
       "Waiting for W&B process to finish... <strong style=\"color:green\">(success).</strong>"
      ],
      "text/plain": [
       "<IPython.core.display.HTML object>"
      ]
     },
     "metadata": {},
     "output_type": "display_data"
    },
    {
     "data": {
      "text/html": [
       "<style>\n",
       "    table.wandb td:nth-child(1) { padding: 0 10px; text-align: left ; width: auto;} td:nth-child(2) {text-align: left ; width: 100%}\n",
       "    .wandb-row { display: flex; flex-direction: row; flex-wrap: wrap; justify-content: flex-start; width: 100% }\n",
       "    .wandb-col { display: flex; flex-direction: column; flex-basis: 100%; flex: 1; padding: 10px; }\n",
       "    </style>\n",
       "<div class=\"wandb-row\"><div class=\"wandb-col\"><h3>Run history:</h3><br/><table class=\"wandb\"><tr><td>eval/Accuracy</td><td>▁▆█</td></tr><tr><td>eval/AvgOnes</td><td>█▂▁</td></tr><tr><td>eval/loss</td><td>█▃▁</td></tr><tr><td>eval/runtime</td><td>█▁▄</td></tr><tr><td>eval/samples_per_second</td><td>▁█▅</td></tr><tr><td>eval/steps_per_second</td><td>▁█▅</td></tr><tr><td>train/epoch</td><td>▁▁▁▂▂▂▂▂▃▃▃▃▃▃▃▄▄▄▄▄▅▅▅▅▅▆▆▆▆▆▆▇▇▇▇▇▇███</td></tr><tr><td>train/global_step</td><td>▁▁▁▂▂▂▂▂▃▃▃▃▃▃▃▄▄▄▄▄▅▅▅▅▅▆▆▆▆▆▆▇▇▇▇▇▇███</td></tr><tr><td>train/learning_rate</td><td>███▇▇▇▇▇▆▆▆▆▆▅▅▅▅▅▄▄▄▄▄▄▃▃▃▃▃▂▂▂▂▂▁▁▁</td></tr><tr><td>train/loss</td><td>█▇▆▆▆▆▆▆▆▆▅▅▅▅▅▄▅▄▄▄▃▃▃▄▃▂▃▂▂▂▁▂▁▂▁▂▂</td></tr><tr><td>train/total_flos</td><td>▁</td></tr><tr><td>train/train_loss</td><td>▁</td></tr><tr><td>train/train_runtime</td><td>▁</td></tr><tr><td>train/train_samples_per_second</td><td>▁</td></tr><tr><td>train/train_steps_per_second</td><td>▁</td></tr></table><br/></div><div class=\"wandb-col\"><h3>Run summary:</h3><br/><table class=\"wandb\"><tr><td>eval/Accuracy</td><td>0.9036</td></tr><tr><td>eval/AvgOnes</td><td>0.6992</td></tr><tr><td>eval/loss</td><td>0.22317</td></tr><tr><td>eval/runtime</td><td>4.3391</td></tr><tr><td>eval/samples_per_second</td><td>115.232</td></tr><tr><td>eval/steps_per_second</td><td>7.375</td></tr><tr><td>train/epoch</td><td>3.0</td></tr><tr><td>train/global_step</td><td>189</td></tr><tr><td>train/learning_rate</td><td>0.0</td></tr><tr><td>train/loss</td><td>0.2597</td></tr><tr><td>train/total_flos</td><td>0.0</td></tr><tr><td>train/train_loss</td><td>0.41658</td></tr><tr><td>train/train_runtime</td><td>76.544</td></tr><tr><td>train/train_samples_per_second</td><td>39.193</td></tr><tr><td>train/train_steps_per_second</td><td>2.469</td></tr></table><br/></div></div>"
      ],
      "text/plain": [
       "<IPython.core.display.HTML object>"
      ]
     },
     "metadata": {},
     "output_type": "display_data"
    },
    {
     "data": {
      "text/html": [
       " View run <strong style=\"color:#cdcd00\">SynNextState_nr8_nv5_gpt2_dNone_LNone_HNone_ap0.20_bp0.2_sp0.3_ntr1000_ntt500</strong> at: <a href='https://wandb.ai/transformer_friends/transformer_friends/runs/r8l48wvx' target=\"_blank\">https://wandb.ai/transformer_friends/transformer_friends/runs/r8l48wvx</a><br/> View job at <a href='https://wandb.ai/transformer_friends/transformer_friends/jobs/QXJ0aWZhY3RDb2xsZWN0aW9uOjExNTQ0Mjk3Ng==/version_details/v10' target=\"_blank\">https://wandb.ai/transformer_friends/transformer_friends/jobs/QXJ0aWZhY3RDb2xsZWN0aW9uOjExNTQ0Mjk3Ng==/version_details/v10</a><br/>Synced 6 W&B file(s), 0 media file(s), 2 artifact file(s) and 0 other file(s)"
      ],
      "text/plain": [
       "<IPython.core.display.HTML object>"
      ]
     },
     "metadata": {},
     "output_type": "display_data"
    },
    {
     "data": {
      "text/html": [
       "Find logs at: <code>./wandb/run-20231114_203938-r8l48wvx/logs</code>"
      ],
      "text/plain": [
       "<IPython.core.display.HTML object>"
      ]
     },
     "metadata": {},
     "output_type": "display_data"
    }
   ],
   "source": [
    "next_args = SyntheticExperimentArguments(\n",
    "    syn_exp_name = \"next_state\",\n",
    "    model_name = \"gpt2\",\n",
    "\n",
    "    num_rules = 8,\n",
    "    num_vars = 5,\n",
    "    ante_prob = 0.2,\n",
    "    conseq_prob = 0.2,\n",
    "    state_prob = 0.3,\n",
    "\n",
    "    train_len = 1000,\n",
    "    eval_len = 500,\n",
    "    num_epochs = 3,\n",
    ")\n",
    "\n",
    "next_trainer = AutoTrainer.from_synthetic_experiment_args(next_args)\n",
    "next_trainer.train()\n",
    "wandb.finish()"
   ]
  },
  {
   "cell_type": "code",
   "execution_count": null,
   "id": "4161c1e1-424d-45d3-b7e0-fb49785b451e",
   "metadata": {},
   "outputs": [],
   "source": []
  },
  {
   "cell_type": "code",
   "execution_count": 4,
   "id": "b32d2704-c356-42c4-aecd-8ffcee1f4eac",
   "metadata": {},
   "outputs": [
    {
     "data": {
      "text/html": [
       "wandb version 0.16.0 is available!  To upgrade, please run:\n",
       " $ pip install wandb --upgrade"
      ],
      "text/plain": [
       "<IPython.core.display.HTML object>"
      ]
     },
     "metadata": {},
     "output_type": "display_data"
    },
    {
     "data": {
      "text/html": [
       "Tracking run with wandb version 0.15.12"
      ],
      "text/plain": [
       "<IPython.core.display.HTML object>"
      ]
     },
     "metadata": {},
     "output_type": "display_data"
    },
    {
     "data": {
      "text/html": [
       "Run data is saved locally in <code>/home/antonxue/foo/tf_logic/notebooks/wandb/run-20231114_204111-we84j1xq</code>"
      ],
      "text/plain": [
       "<IPython.core.display.HTML object>"
      ]
     },
     "metadata": {},
     "output_type": "display_data"
    },
    {
     "data": {
      "text/html": [
       "Syncing run <strong><a href='https://wandb.ai/transformer_friends/transformer_friends/runs/we84j1xq' target=\"_blank\">SynARKSteps_nr8_nv5_ns3_gpt2_dNone_LNone_HNone_ap0.20_bp0.2_sp0.3_ntr1000_ntt500</a></strong> to <a href='https://wandb.ai/transformer_friends/transformer_friends' target=\"_blank\">Weights & Biases</a> (<a href='https://wandb.me/run' target=\"_blank\">docs</a>)<br/>"
      ],
      "text/plain": [
       "<IPython.core.display.HTML object>"
      ]
     },
     "metadata": {},
     "output_type": "display_data"
    },
    {
     "data": {
      "text/html": [
       " View project at <a href='https://wandb.ai/transformer_friends/transformer_friends' target=\"_blank\">https://wandb.ai/transformer_friends/transformer_friends</a>"
      ],
      "text/plain": [
       "<IPython.core.display.HTML object>"
      ]
     },
     "metadata": {},
     "output_type": "display_data"
    },
    {
     "data": {
      "text/html": [
       " View run at <a href='https://wandb.ai/transformer_friends/transformer_friends/runs/we84j1xq' target=\"_blank\">https://wandb.ai/transformer_friends/transformer_friends/runs/we84j1xq</a>"
      ],
      "text/plain": [
       "<IPython.core.display.HTML object>"
      ]
     },
     "metadata": {},
     "output_type": "display_data"
    },
    {
     "name": "stderr",
     "output_type": "stream",
     "text": [
      "/home/antonxue/lib/miniconda3/envs/tfl/lib/python3.10/site-packages/torch/nn/parallel/_functions.py:68: UserWarning: Was asked to gather along dimension 0, but all input tensors were scalars; will instead unsqueeze and return a vector.\n",
      "  warnings.warn('Was asked to gather along dimension 0, but all '\n"
     ]
    },
    {
     "name": "stdout",
     "output_type": "stream",
     "text": [
      "{'loss': 0.5354, 'learning_rate': 4.8677248677248676e-05, 'epoch': 0.08}\n",
      "{'loss': 0.5559, 'learning_rate': 4.7354497354497356e-05, 'epoch': 0.16}\n",
      "{'loss': 0.5111, 'learning_rate': 4.603174603174603e-05, 'epoch': 0.24}\n",
      "{'loss': 0.5351, 'learning_rate': 4.470899470899471e-05, 'epoch': 0.32}\n",
      "{'loss': 0.5343, 'learning_rate': 4.3386243386243384e-05, 'epoch': 0.4}\n",
      "{'loss': 0.5268, 'learning_rate': 4.2063492063492065e-05, 'epoch': 0.48}\n",
      "{'loss': 0.5358, 'learning_rate': 4.074074074074074e-05, 'epoch': 0.56}\n",
      "{'loss': 0.5674, 'learning_rate': 3.941798941798942e-05, 'epoch': 0.63}\n",
      "{'loss': 0.5691, 'learning_rate': 3.809523809523809e-05, 'epoch': 0.71}\n",
      "{'loss': 0.5458, 'learning_rate': 3.677248677248677e-05, 'epoch': 0.79}\n",
      "{'loss': 0.5234, 'learning_rate': 3.5449735449735446e-05, 'epoch': 0.87}\n",
      "{'loss': 0.5392, 'learning_rate': 3.412698412698413e-05, 'epoch': 0.95}\n",
      "{'eval_loss': 0.5337439179420471, 'eval_Accuracy': 0.7796, 'eval_AvgOnes': 1.0, 'eval_runtime': 10.1546, 'eval_samples_per_second': 49.239, 'eval_steps_per_second': 3.151, 'epoch': 1.0}\n",
      "{'loss': 0.5242, 'learning_rate': 3.280423280423281e-05, 'epoch': 1.03}\n",
      "{'loss': 0.5234, 'learning_rate': 3.148148148148148e-05, 'epoch': 1.11}\n",
      "{'loss': 0.5334, 'learning_rate': 3.0158730158730158e-05, 'epoch': 1.19}\n",
      "{'loss': 0.5259, 'learning_rate': 2.8835978835978838e-05, 'epoch': 1.27}\n",
      "{'loss': 0.5674, 'learning_rate': 2.7513227513227512e-05, 'epoch': 1.35}\n",
      "{'loss': 0.5317, 'learning_rate': 2.6190476190476192e-05, 'epoch': 1.43}\n",
      "{'loss': 0.5475, 'learning_rate': 2.4867724867724866e-05, 'epoch': 1.51}\n",
      "{'loss': 0.5175, 'learning_rate': 2.3544973544973546e-05, 'epoch': 1.59}\n",
      "{'loss': 0.5192, 'learning_rate': 2.2222222222222223e-05, 'epoch': 1.67}\n",
      "{'loss': 0.5234, 'learning_rate': 2.08994708994709e-05, 'epoch': 1.75}\n",
      "{'loss': 0.5475, 'learning_rate': 1.9576719576719577e-05, 'epoch': 1.83}\n",
      "{'loss': 0.5791, 'learning_rate': 1.8253968253968254e-05, 'epoch': 1.9}\n",
      "{'loss': 0.5508, 'learning_rate': 1.693121693121693e-05, 'epoch': 1.98}\n",
      "{'eval_loss': 0.53372722864151, 'eval_Accuracy': 0.7796, 'eval_AvgOnes': 1.0, 'eval_runtime': 9.9012, 'eval_samples_per_second': 50.499, 'eval_steps_per_second': 3.232, 'epoch': 2.0}\n",
      "{'loss': 0.5325, 'learning_rate': 1.560846560846561e-05, 'epoch': 2.06}\n",
      "{'loss': 0.5159, 'learning_rate': 1.4285714285714285e-05, 'epoch': 2.14}\n",
      "{'loss': 0.51, 'learning_rate': 1.2962962962962962e-05, 'epoch': 2.22}\n",
      "{'loss': 0.5442, 'learning_rate': 1.164021164021164e-05, 'epoch': 2.3}\n",
      "{'loss': 0.5724, 'learning_rate': 1.0317460317460318e-05, 'epoch': 2.38}\n",
      "{'loss': 0.5483, 'learning_rate': 8.994708994708995e-06, 'epoch': 2.46}\n",
      "{'loss': 0.5175, 'learning_rate': 7.671957671957672e-06, 'epoch': 2.54}\n",
      "{'loss': 0.5059, 'learning_rate': 6.349206349206349e-06, 'epoch': 2.62}\n",
      "{'loss': 0.5358, 'learning_rate': 5.026455026455026e-06, 'epoch': 2.7}\n",
      "{'loss': 0.515, 'learning_rate': 3.7037037037037037e-06, 'epoch': 2.78}\n",
      "{'loss': 0.5741, 'learning_rate': 2.3809523809523808e-06, 'epoch': 2.86}\n",
      "{'loss': 0.5791, 'learning_rate': 1.0582010582010582e-06, 'epoch': 2.94}\n",
      "{'eval_loss': 0.5337235331535339, 'eval_Accuracy': 0.7796, 'eval_AvgOnes': 1.0, 'eval_runtime': 10.0794, 'eval_samples_per_second': 49.606, 'eval_steps_per_second': 3.175, 'epoch': 3.0}\n",
      "{'train_runtime': 175.3628, 'train_samples_per_second': 17.107, 'train_steps_per_second': 1.078, 'train_loss': 0.5379891370339368, 'epoch': 3.0}\n"
     ]
    },
    {
     "data": {
      "text/html": [
       "Waiting for W&B process to finish... <strong style=\"color:green\">(success).</strong>"
      ],
      "text/plain": [
       "<IPython.core.display.HTML object>"
      ]
     },
     "metadata": {},
     "output_type": "display_data"
    },
    {
     "data": {
      "text/html": [
       "<style>\n",
       "    table.wandb td:nth-child(1) { padding: 0 10px; text-align: left ; width: auto;} td:nth-child(2) {text-align: left ; width: 100%}\n",
       "    .wandb-row { display: flex; flex-direction: row; flex-wrap: wrap; justify-content: flex-start; width: 100% }\n",
       "    .wandb-col { display: flex; flex-direction: column; flex-basis: 100%; flex: 1; padding: 10px; }\n",
       "    </style>\n",
       "<div class=\"wandb-row\"><div class=\"wandb-col\"><h3>Run history:</h3><br/><table class=\"wandb\"><tr><td>eval/Accuracy</td><td>▁▁▁</td></tr><tr><td>eval/AvgOnes</td><td>▁▁▁</td></tr><tr><td>eval/loss</td><td>█▂▁</td></tr><tr><td>eval/runtime</td><td>█▁▆</td></tr><tr><td>eval/samples_per_second</td><td>▁█▃</td></tr><tr><td>eval/steps_per_second</td><td>▁█▃</td></tr><tr><td>train/epoch</td><td>▁▁▁▂▂▂▂▂▃▃▃▃▃▃▃▄▄▄▄▄▅▅▅▅▅▆▆▆▆▆▆▇▇▇▇▇▇███</td></tr><tr><td>train/global_step</td><td>▁▁▁▂▂▂▂▂▃▃▃▃▃▃▃▄▄▄▄▄▅▅▅▅▅▆▆▆▆▆▆▇▇▇▇▇▇███</td></tr><tr><td>train/learning_rate</td><td>███▇▇▇▇▇▆▆▆▆▆▅▅▅▅▅▄▄▄▄▄▄▃▃▃▃▃▂▂▂▂▂▁▁▁</td></tr><tr><td>train/loss</td><td>▄▆▁▄▄▃▄▇▇▅▃▄▃▃▄▃▇▃▅▂▂▃▅█▅▄▂▁▅▇▅▂▁▄▂██</td></tr><tr><td>train/total_flos</td><td>▁</td></tr><tr><td>train/train_loss</td><td>▁</td></tr><tr><td>train/train_runtime</td><td>▁</td></tr><tr><td>train/train_samples_per_second</td><td>▁</td></tr><tr><td>train/train_steps_per_second</td><td>▁</td></tr></table><br/></div><div class=\"wandb-col\"><h3>Run summary:</h3><br/><table class=\"wandb\"><tr><td>eval/Accuracy</td><td>0.7796</td></tr><tr><td>eval/AvgOnes</td><td>1.0</td></tr><tr><td>eval/loss</td><td>0.53372</td></tr><tr><td>eval/runtime</td><td>10.0794</td></tr><tr><td>eval/samples_per_second</td><td>49.606</td></tr><tr><td>eval/steps_per_second</td><td>3.175</td></tr><tr><td>train/epoch</td><td>3.0</td></tr><tr><td>train/global_step</td><td>189</td></tr><tr><td>train/learning_rate</td><td>0.0</td></tr><tr><td>train/loss</td><td>0.5791</td></tr><tr><td>train/total_flos</td><td>0.0</td></tr><tr><td>train/train_loss</td><td>0.53799</td></tr><tr><td>train/train_runtime</td><td>175.3628</td></tr><tr><td>train/train_samples_per_second</td><td>17.107</td></tr><tr><td>train/train_steps_per_second</td><td>1.078</td></tr></table><br/></div></div>"
      ],
      "text/plain": [
       "<IPython.core.display.HTML object>"
      ]
     },
     "metadata": {},
     "output_type": "display_data"
    },
    {
     "data": {
      "text/html": [
       " View run <strong style=\"color:#cdcd00\">SynARKSteps_nr8_nv5_ns3_gpt2_dNone_LNone_HNone_ap0.20_bp0.2_sp0.3_ntr1000_ntt500</strong> at: <a href='https://wandb.ai/transformer_friends/transformer_friends/runs/we84j1xq' target=\"_blank\">https://wandb.ai/transformer_friends/transformer_friends/runs/we84j1xq</a><br/> View job at <a href='https://wandb.ai/transformer_friends/transformer_friends/jobs/QXJ0aWZhY3RDb2xsZWN0aW9uOjExNTQ0Mjk3Ng==/version_details/v10' target=\"_blank\">https://wandb.ai/transformer_friends/transformer_friends/jobs/QXJ0aWZhY3RDb2xsZWN0aW9uOjExNTQ0Mjk3Ng==/version_details/v10</a><br/>Synced 6 W&B file(s), 0 media file(s), 2 artifact file(s) and 0 other file(s)"
      ],
      "text/plain": [
       "<IPython.core.display.HTML object>"
      ]
     },
     "metadata": {},
     "output_type": "display_data"
    },
    {
     "data": {
      "text/html": [
       "Find logs at: <code>./wandb/run-20231114_204111-we84j1xq/logs</code>"
      ],
      "text/plain": [
       "<IPython.core.display.HTML object>"
      ]
     },
     "metadata": {},
     "output_type": "display_data"
    }
   ],
   "source": [
    "ars_args = SyntheticExperimentArguments(\n",
    "    syn_exp_name = \"autoreg_ksteps\",\n",
    "    model_name = \"gpt2\",\n",
    "\n",
    "    num_rules = 8,\n",
    "    num_vars = 5,\n",
    "    num_steps = 3,\n",
    "    ante_prob = 0.2,\n",
    "    conseq_prob = 0.2,\n",
    "    state_prob = 0.3,\n",
    "\n",
    "    train_len = 1000,\n",
    "    eval_len = 500,\n",
    "    num_epochs = 3,\n",
    ")\n",
    "\n",
    "ars_trainer = AutoTrainer.from_synthetic_experiment_args(ars_args)\n",
    "ars_trainer.train()\n",
    "wandb.finish()"
   ]
  },
  {
   "cell_type": "code",
   "execution_count": null,
   "id": "83880de9-5785-40e7-8923-b9378e449dc5",
   "metadata": {},
   "outputs": [],
   "source": []
  },
  {
   "cell_type": "code",
   "execution_count": null,
   "id": "3ee8e276-f7c9-4023-9eca-c77e1de10ad7",
   "metadata": {},
   "outputs": [],
   "source": []
  },
  {
   "cell_type": "code",
   "execution_count": null,
   "id": "44e04d1c-f045-41be-9882-d3f89cf563e2",
   "metadata": {},
   "outputs": [],
   "source": []
  },
  {
   "cell_type": "code",
   "execution_count": null,
   "id": "c0003173-f432-4515-a6d6-d2a4046ba35b",
   "metadata": {},
   "outputs": [],
   "source": []
  },
  {
   "cell_type": "code",
   "execution_count": null,
   "id": "213b442b-2b41-4ddd-b324-26b8b2f0dfca",
   "metadata": {},
   "outputs": [],
   "source": []
  },
  {
   "cell_type": "code",
   "execution_count": null,
   "id": "19d9443b-484f-47b8-8bc0-4c4c7003b79b",
   "metadata": {},
   "outputs": [],
   "source": []
  }
 ],
 "metadata": {
  "kernelspec": {
   "display_name": "Python 3 (ipykernel)",
   "language": "python",
   "name": "python3"
  },
  "language_info": {
   "codemirror_mode": {
    "name": "ipython",
    "version": 3
   },
   "file_extension": ".py",
   "mimetype": "text/x-python",
   "name": "python",
   "nbconvert_exporter": "python",
   "pygments_lexer": "ipython3",
   "version": "3.10.13"
  }
 },
 "nbformat": 4,
 "nbformat_minor": 5
}
