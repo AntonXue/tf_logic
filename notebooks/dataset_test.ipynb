{
 "cells": [
  {
   "cell_type": "code",
   "execution_count": 1,
   "id": "5bced044-9367-4bbd-841b-37b0434bed61",
   "metadata": {},
   "outputs": [],
   "source": [
    "import os\n",
    "import sys\n",
    "sys.path.insert(0, \"..\")\n",
    "\n",
    "import torch\n",
    "\n",
    "from my_datasets import *"
   ]
  },
  {
   "cell_type": "code",
   "execution_count": null,
   "id": "3dcb3cc2-14d0-44d5-9ab6-dadd8bf339c1",
   "metadata": {},
   "outputs": [],
   "source": []
  },
  {
   "cell_type": "code",
   "execution_count": 6,
   "id": "f352ef21-bc0c-43c7-9fad-0ee3e18b6147",
   "metadata": {},
   "outputs": [],
   "source": [
    "r, n = 128, 64\n",
    "chain_len = 15\n",
    "sp = None\n",
    "rules_dict = random_rules_with_chain(\n",
    "    num_rules = r,\n",
    "    num_vars = n,\n",
    "    ante_prob = 0.5,\n",
    "    conseq_prob = 0.5,\n",
    "    state_prob = sp,\n",
    "    chain_len = chain_len,\n",
    "    return_dict = True\n",
    ")"
   ]
  },
  {
   "cell_type": "code",
   "execution_count": 7,
   "id": "9e9f7608-3fc0-4bc0-becc-841278fb2d9b",
   "metadata": {},
   "outputs": [],
   "source": [
    "init_state = rules_dict[\"init_state\"]\n",
    "rules = rules_dict[\"rules\"]"
   ]
  },
  {
   "cell_type": "code",
   "execution_count": null,
   "id": "f2fc58c1-7c3f-4a72-b59b-13dc90cd3add",
   "metadata": {},
   "outputs": [],
   "source": []
  },
  {
   "cell_type": "code",
   "execution_count": 8,
   "id": "c1110457-5e44-4253-a217-226277a4dcf7",
   "metadata": {},
   "outputs": [],
   "source": [
    "proof = prove_theorem(\n",
    "    rules[None,...],\n",
    "    init_state.view(1,n),\n",
    "    init_state = init_state.view(1,n))"
   ]
  },
  {
   "cell_type": "code",
   "execution_count": 9,
   "id": "77f0610c-6de7-41e3-b8e5-a6537bf445ec",
   "metadata": {},
   "outputs": [
    {
     "data": {
      "text/plain": [
       "{'rules': tensor([[[0, 0, 0,  ..., 1, 0, 0],\n",
       "          [0, 1, 1,  ..., 0, 0, 0],\n",
       "          [0, 1, 1,  ..., 0, 1, 1],\n",
       "          ...,\n",
       "          [1, 0, 1,  ..., 1, 1, 0],\n",
       "          [0, 0, 0,  ..., 0, 0, 0],\n",
       "          [1, 1, 1,  ..., 0, 1, 1]]]),\n",
       " 'theorem': tensor([[0, 0, 0, 0, 0, 0, 0, 0, 0, 0, 0, 0, 0, 0, 0, 0, 0, 0, 0, 0, 0, 0, 0, 0,\n",
       "          0, 0, 0, 0, 0, 0, 0, 0, 0, 0, 0, 0, 0, 0, 0, 0, 0, 0, 0, 0, 0, 0, 0, 0,\n",
       "          0, 0, 0, 0, 0, 0, 0, 0, 0, 0, 0, 0, 0, 0, 0, 0]]),\n",
       " 'qed': tensor([1]),\n",
       " 'states': tensor([[[1, 1, 1,  ..., 0, 1, 0],\n",
       "          [1, 1, 1,  ..., 0, 1, 0],\n",
       "          [1, 1, 1,  ..., 1, 1, 0],\n",
       "          ...,\n",
       "          [1, 1, 1,  ..., 1, 1, 1],\n",
       "          [1, 1, 1,  ..., 1, 1, 1],\n",
       "          [1, 1, 1,  ..., 1, 1, 1]]]),\n",
       " 'hits': tensor([[[0, 0, 0,  ..., 0, 0, 0],\n",
       "          [0, 0, 0,  ..., 0, 0, 0],\n",
       "          [0, 0, 0,  ..., 0, 0, 0],\n",
       "          ...,\n",
       "          [1, 0, 0,  ..., 0, 0, 0],\n",
       "          [1, 0, 0,  ..., 0, 0, 0],\n",
       "          [1, 0, 0,  ..., 0, 0, 0]]]),\n",
       " 'chain_len': tensor([15])}"
      ]
     },
     "execution_count": 9,
     "metadata": {},
     "output_type": "execute_result"
    }
   ],
   "source": [
    "proof"
   ]
  },
  {
   "cell_type": "code",
   "execution_count": null,
   "id": "e9f2da6b-0000-4fb7-a73f-7f5658960df0",
   "metadata": {},
   "outputs": [],
   "source": []
  },
  {
   "cell_type": "code",
   "execution_count": null,
   "id": "118768ad-5943-4909-b5ee-1f54637c1c62",
   "metadata": {},
   "outputs": [],
   "source": []
  },
  {
   "cell_type": "code",
   "execution_count": null,
   "id": "ecb3482b-55e7-43e2-aebb-fa7f359e819b",
   "metadata": {},
   "outputs": [],
   "source": []
  },
  {
   "cell_type": "code",
   "execution_count": null,
   "id": "9b89b8bd-5b2e-4d7f-801b-8ac00e9a13b8",
   "metadata": {},
   "outputs": [],
   "source": []
  }
 ],
 "metadata": {
  "kernelspec": {
   "display_name": "Python 3 (ipykernel)",
   "language": "python",
   "name": "python3"
  },
  "language_info": {
   "codemirror_mode": {
    "name": "ipython",
    "version": 3
   },
   "file_extension": ".py",
   "mimetype": "text/x-python",
   "name": "python",
   "nbconvert_exporter": "python",
   "pygments_lexer": "ipython3",
   "version": "3.10.13"
  }
 },
 "nbformat": 4,
 "nbformat_minor": 5
}
