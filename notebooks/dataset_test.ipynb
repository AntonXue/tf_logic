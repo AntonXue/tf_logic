{
 "cells": [
  {
   "cell_type": "code",
   "execution_count": 16,
   "id": "5bced044-9367-4bbd-841b-37b0434bed61",
   "metadata": {},
   "outputs": [],
   "source": [
    "import os\n",
    "import sys\n",
    "sys.path.insert(0, \"..\")\n",
    "\n",
    "from tqdm import tqdm\n",
    "\n",
    "import torch\n",
    "\n",
    "from my_datasets import *"
   ]
  },
  {
   "cell_type": "code",
   "execution_count": null,
   "id": "3dcb3cc2-14d0-44d5-9ab6-dadd8bf339c1",
   "metadata": {},
   "outputs": [],
   "source": []
  },
  {
   "cell_type": "code",
   "execution_count": 61,
   "id": "e9f2da6b-0000-4fb7-a73f-7f5658960df0",
   "metadata": {},
   "outputs": [],
   "source": [
    "dataset = AutoregKStepsTokensDataset(\n",
    "    num_vars = 64,\n",
    "    num_rules_range = (8, 64),\n",
    "    ante_prob_range = (0.2, 0.3),\n",
    "    conseq_prob_range = (0.2, 0.3),\n",
    "    chain_len_range = (2, 5),\n",
    "    dataset_len = 1000,\n",
    "    num_steps = 3\n",
    ")"
   ]
  },
  {
   "cell_type": "code",
   "execution_count": null,
   "id": "118768ad-5943-4909-b5ee-1f54637c1c62",
   "metadata": {},
   "outputs": [],
   "source": []
  },
  {
   "cell_type": "code",
   "execution_count": 62,
   "id": "ecb3482b-55e7-43e2-aebb-fa7f359e819b",
   "metadata": {},
   "outputs": [
    {
     "data": {
      "text/plain": [
       "(torch.Size([64, 129]), torch.Size([3, 64]))"
      ]
     },
     "execution_count": 62,
     "metadata": {},
     "output_type": "execute_result"
    }
   ],
   "source": [
    "item = dataset[0]\n",
    "tokens = item[\"tokens\"]\n",
    "labels = item[\"labels\"]\n",
    "tokens.shape, labels.shape"
   ]
  },
  {
   "cell_type": "code",
   "execution_count": 63,
   "id": "9b89b8bd-5b2e-4d7f-801b-8ac00e9a13b8",
   "metadata": {},
   "outputs": [
    {
     "name": "stderr",
     "output_type": "stream",
     "text": [
      "avghots: 0.650: 100%|██████████| 1000/1000 [00:01<00:00, 865.76it/s]\n"
     ]
    }
   ],
   "source": [
    "num_dones, cum_label_hots = 0, 0\n",
    "pbar = tqdm(range(len(dataset)))\n",
    "for i in pbar:\n",
    "    item = dataset[i]\n",
    "    num_dones += 1\n",
    "    cum_label_hots += item[\"labels\"].sum()\n",
    "    avg_hots = cum_label_hots / (num_dones * dataset.inner_dataset.num_vars * dataset.num_steps)\n",
    "    pbar.set_description(f\"avghots: {avg_hots:.3f}\")"
   ]
  },
  {
   "cell_type": "code",
   "execution_count": null,
   "id": "d6d7bb5b-8e75-4647-b601-a94421bde836",
   "metadata": {},
   "outputs": [],
   "source": []
  },
  {
   "cell_type": "code",
   "execution_count": null,
   "id": "030d30ef-63eb-4a7b-8d8f-71bec106c807",
   "metadata": {},
   "outputs": [],
   "source": []
  }
 ],
 "metadata": {
  "kernelspec": {
   "display_name": "Python 3 (ipykernel)",
   "language": "python",
   "name": "python3"
  },
  "language_info": {
   "codemirror_mode": {
    "name": "ipython",
    "version": 3
   },
   "file_extension": ".py",
   "mimetype": "text/x-python",
   "name": "python",
   "nbconvert_exporter": "python",
   "pygments_lexer": "ipython3",
   "version": "3.10.13"
  }
 },
 "nbformat": 4,
 "nbformat_minor": 5
}
