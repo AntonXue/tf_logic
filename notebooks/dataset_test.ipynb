{
 "cells": [
  {
   "cell_type": "code",
   "execution_count": 1,
   "id": "5bced044-9367-4bbd-841b-37b0434bed61",
   "metadata": {},
   "outputs": [],
   "source": [
    "import os\n",
    "import sys\n",
    "sys.path.insert(0, \"..\")\n",
    "\n",
    "from tqdm import tqdm\n",
    "\n",
    "import torch\n",
    "\n",
    "from my_datasets import *"
   ]
  },
  {
   "cell_type": "code",
   "execution_count": null,
   "id": "92b5c227-a912-406e-abcd-5759a85777bc",
   "metadata": {},
   "outputs": [],
   "source": []
  },
  {
   "cell_type": "code",
   "execution_count": 2,
   "id": "849ef6b0-ef20-454b-b7f0-9753bd80f63d",
   "metadata": {},
   "outputs": [
    {
     "name": "stderr",
     "output_type": "stream",
     "text": [
      "100%|██████████| 1000/1000 [00:01<00:00, 987.08it/s]\n"
     ]
    }
   ],
   "source": [
    "torch.manual_seed(101)\n",
    "n, r, ap, bp, c = 16, 64, 0.2, 0.2, 3\n",
    "for _ in tqdm(range(1000)):\n",
    "    rdict = random_rules_with_chain(n, r, ap, bp, c, return_dict=True)\n",
    "    rules, states = rdict[\"rules\"], rdict[\"states\"]\n",
    "    qed = prove_theorem(rules[None,...], torch.ones(1,n), init_state = states[0:1])\n",
    "    diff = (qed[\"states\"].squeeze() - states).abs().sum()\n",
    "    if diff > 0 or qed[\"chain_len\"] != c:\n",
    "        break"
   ]
  },
  {
   "cell_type": "code",
   "execution_count": null,
   "id": "896e7797-d826-4493-891d-96566e0876c6",
   "metadata": {},
   "outputs": [],
   "source": []
  },
  {
   "cell_type": "code",
   "execution_count": 3,
   "id": "e9f2da6b-0000-4fb7-a73f-7f5658960df0",
   "metadata": {},
   "outputs": [],
   "source": [
    "dataset = AutoregKStepsTokensDataset(\n",
    "    num_vars = n,\n",
    "    num_rules_range = (r, 2*r),\n",
    "    ante_prob_range = (0.2, 0.3),\n",
    "    conseq_prob_range = (0.2, 0.3),\n",
    "    chain_len_range = (c, 2*c),\n",
    "    num_prevs_range = (1, c),\n",
    "    num_steps = 3,\n",
    "    dataset_len = 1000,\n",
    ")"
   ]
  },
  {
   "cell_type": "code",
   "execution_count": 4,
   "id": "118768ad-5943-4909-b5ee-1f54637c1c62",
   "metadata": {},
   "outputs": [
    {
     "name": "stderr",
     "output_type": "stream",
     "text": [
      "100%|██████████| 1000/1000 [00:01<00:00, 802.70it/s]\n"
     ]
    }
   ],
   "source": [
    "for i in tqdm(range(1000)):\n",
    "    item = dataset[i]\n",
    "    tokens, labels = item[\"tokens\"], item[\"labels\"]\n",
    "    qed = prove_theorem(tokens[None,...], torch.ones(1,n), tokens[-1][n:][None,...])\n",
    "    states = qed[\"states\"].squeeze()\n",
    "    diff = (labels - states[1:dataset.num_steps+1]).abs().sum()\n",
    "    if diff > 0:\n",
    "        break"
   ]
  },
  {
   "cell_type": "code",
   "execution_count": null,
   "id": "13d51d60-99b2-4bfe-a0c6-f16e38e4d6b8",
   "metadata": {},
   "outputs": [],
   "source": []
  },
  {
   "cell_type": "code",
   "execution_count": 5,
   "id": "6f903587-8e69-4869-81de-f787f5f19578",
   "metadata": {},
   "outputs": [
    {
     "data": {
      "text/plain": [
       "tensor([[0., 0., 0., 0., 0., 0., 0., 0., 0., 0., 0., 0., 0., 0., 0., 0.],\n",
       "        [1., 0., 0., 1., 0., 0., 1., 0., 0., 0., 0., 0., 1., 0., 1., 1.],\n",
       "        [1., 0., 0., 1., 0., 0., 1., 0., 0., 0., 0., 0., 1., 1., 1., 1.],\n",
       "        [1., 1., 0., 1., 0., 0., 1., 0., 1., 0., 0., 1., 1., 1., 1., 1.],\n",
       "        [1., 1., 0., 1., 0., 0., 1., 1., 1., 0., 0., 1., 1., 1., 1., 1.],\n",
       "        [1., 1., 0., 1., 1., 0., 1., 1., 1., 0., 0., 1., 1., 1., 1., 1.],\n",
       "        [1., 1., 0., 1., 1., 0., 1., 1., 1., 1., 1., 1., 1., 1., 1., 1.],\n",
       "        [1., 1., 0., 1., 1., 0., 1., 1., 1., 1., 1., 1., 1., 1., 1., 1.],\n",
       "        [1., 1., 0., 1., 1., 0., 1., 1., 1., 1., 1., 1., 1., 1., 1., 1.],\n",
       "        [1., 1., 0., 1., 1., 0., 1., 1., 1., 1., 1., 1., 1., 1., 1., 1.],\n",
       "        [1., 1., 0., 1., 1., 0., 1., 1., 1., 1., 1., 1., 1., 1., 1., 1.],\n",
       "        [1., 1., 0., 1., 1., 0., 1., 1., 1., 1., 1., 1., 1., 1., 1., 1.],\n",
       "        [1., 1., 0., 1., 1., 0., 1., 1., 1., 1., 1., 1., 1., 1., 1., 1.],\n",
       "        [1., 1., 0., 1., 1., 0., 1., 1., 1., 1., 1., 1., 1., 1., 1., 1.],\n",
       "        [1., 1., 0., 1., 1., 0., 1., 1., 1., 1., 1., 1., 1., 1., 1., 1.],\n",
       "        [1., 1., 0., 1., 1., 0., 1., 1., 1., 1., 1., 1., 1., 1., 1., 1.],\n",
       "        [1., 1., 0., 1., 1., 0., 1., 1., 1., 1., 1., 1., 1., 1., 1., 1.]])"
      ]
     },
     "execution_count": 5,
     "metadata": {},
     "output_type": "execute_result"
    }
   ],
   "source": [
    "states"
   ]
  },
  {
   "cell_type": "code",
   "execution_count": 6,
   "id": "f06b4333-dfaa-407e-814c-693d3a84bc7e",
   "metadata": {},
   "outputs": [
    {
     "data": {
      "text/plain": [
       "tensor([[1, 0, 0, 1, 0, 0, 1, 0, 0, 0, 0, 0, 1, 0, 1, 1],\n",
       "        [1, 0, 0, 1, 0, 0, 1, 0, 0, 0, 0, 0, 1, 1, 1, 1],\n",
       "        [1, 1, 0, 1, 0, 0, 1, 0, 1, 0, 0, 1, 1, 1, 1, 1]])"
      ]
     },
     "execution_count": 6,
     "metadata": {},
     "output_type": "execute_result"
    }
   ],
   "source": [
    "labels"
   ]
  },
  {
   "cell_type": "code",
   "execution_count": null,
   "id": "683f1c99-a1ff-4512-845d-89eeee44950b",
   "metadata": {},
   "outputs": [],
   "source": []
  }
 ],
 "metadata": {
  "kernelspec": {
   "display_name": "Python 3 (ipykernel)",
   "language": "python",
   "name": "python3"
  },
  "language_info": {
   "codemirror_mode": {
    "name": "ipython",
    "version": 3
   },
   "file_extension": ".py",
   "mimetype": "text/x-python",
   "name": "python",
   "nbconvert_exporter": "python",
   "pygments_lexer": "ipython3",
   "version": "3.10.13"
  }
 },
 "nbformat": 4,
 "nbformat_minor": 5
}
