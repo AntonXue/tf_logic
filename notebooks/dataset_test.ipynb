{
 "cells": [
  {
   "cell_type": "code",
   "execution_count": 1,
   "id": "5bced044-9367-4bbd-841b-37b0434bed61",
   "metadata": {},
   "outputs": [],
   "source": [
    "import os\n",
    "import sys\n",
    "sys.path.insert(0, \"..\")\n",
    "import math\n",
    "\n",
    "from tqdm import tqdm\n",
    "\n",
    "import torch\n",
    "\n",
    "from my_datasets import *"
   ]
  },
  {
   "cell_type": "code",
   "execution_count": 2,
   "id": "92b5c227-a912-406e-abcd-5759a85777bc",
   "metadata": {},
   "outputs": [],
   "source": [
    "def test_rules(n, r, ap, bp):\n",
    "    running_hits = 0\n",
    "    running_state_mean = 0\n",
    "    running_succ_mean = 0\n",
    "    \n",
    "    pbar = tqdm(range(1,501))\n",
    "    for i in pbar:\n",
    "        a = (torch.rand(r, n) < ap).long()\n",
    "        b = (torch.rand(r, n) < bp).long()\n",
    "        rules = torch.cat([a, b], dim=1).long()\n",
    "        \n",
    "        state = (a * (torch.rand(r,1) < (1/r))).sum(dim=0).clamp(0,1)\n",
    "    \n",
    "        succ, hits = step_rules(rules.unsqueeze(0), state.unsqueeze(0))\n",
    "        \n",
    "        running_hits += hits.sum()\n",
    "        running_state_mean += state.float().mean()\n",
    "        running_succ_mean += succ.float().mean()\n",
    "    \n",
    "        avg_hits = running_hits / i\n",
    "        avg_state_mean = running_state_mean / i\n",
    "        avg_succ_mean = running_succ_mean / i\n",
    "        \n",
    "        pbar.set_description(f\"n {n}: hits {avg_hits:.3f}, \" \\\n",
    "                    + f\"state mean {avg_state_mean:.3f}, \" \\\n",
    "                    + f\"succ mean {avg_succ_mean:.3f}\"\n",
    "        )\n",
    "    return {\n",
    "        \"n\": n,\n",
    "        \"r\": r,\n",
    "        \"avg_hits\": avg_hits,\n",
    "        \"avg_state_mean\": avg_state_mean,\n",
    "        \"avg_succ_mean\": avg_succ_mean\n",
    "    }"
   ]
  },
  {
   "cell_type": "code",
   "execution_count": null,
   "id": "8435211c-f1ff-476f-8a5b-49c548dd72ca",
   "metadata": {},
   "outputs": [],
   "source": []
  },
  {
   "cell_type": "code",
   "execution_count": null,
   "id": "024274d2-27ae-4f25-96e6-d4a93583ed94",
   "metadata": {},
   "outputs": [],
   "source": []
  },
  {
   "cell_type": "code",
   "execution_count": 3,
   "id": "410fc3f5-569d-4495-9415-3fd48140b6ee",
   "metadata": {},
   "outputs": [
    {
     "name": "stderr",
     "output_type": "stream",
     "text": [
      "n 10: hits 3.260, state mean 0.423, succ mean 0.598: 100%|██████████| 500/500 [00:00<00:00, 2023.20it/s]\n",
      "n 100: hits 0.988, state mean 0.367, succ mean 0.504: 100%|██████████| 500/500 [00:00<00:00, 1572.12it/s]\n",
      "n 1000: hits 0.966, state mean 0.381, succ mean 0.513: 100%|██████████| 500/500 [00:21<00:00, 23.63it/s]\n"
     ]
    }
   ],
   "source": [
    "torch.manual_seed(101)\n",
    "\n",
    "for n in [10, 100, 1000]:\n",
    "    # r = int(n * math.sqrt(n))\n",
    "    r = 2 * n\n",
    "    ap, bp = 0.5, 0.5\n",
    "    # ap, bp = 1 / math.sqrt(n), 1 / math.sqrt(n)\n",
    "    test_rules(n, r, ap, bp)"
   ]
  },
  {
   "cell_type": "code",
   "execution_count": 4,
   "id": "510f4a6a-b2b2-4ef4-890c-f319e81fe5b1",
   "metadata": {},
   "outputs": [
    {
     "name": "stderr",
     "output_type": "stream",
     "text": [
      "n 10: hits 4.312, state mean 0.404, succ mean 0.588: 100%|██████████| 500/500 [00:00<00:00, 2017.27it/s]\n",
      "n 30: hits 4.072, state mean 0.403, succ mean 0.548: 100%|██████████| 500/500 [00:00<00:00, 1934.68it/s]\n",
      "n 50: hits 4.222, state mean 0.393, succ mean 0.529: 100%|██████████| 500/500 [00:00<00:00, 1581.21it/s]\n"
     ]
    }
   ],
   "source": [
    "torch.manual_seed(101)\n",
    "\n",
    "for n in [10, 30, 50]:\n",
    "    r = int(n * math.sqrt(n))\n",
    "    ap, bp = 0.5, 0.5\n",
    "    # ap, bp = 1 / math.sqrt(n), 1 / math.sqrt(n)\n",
    "    test_rules(n, r, ap, bp)"
   ]
  },
  {
   "cell_type": "code",
   "execution_count": 5,
   "id": "6b38719a-18f7-4e7c-afbc-0ebee5bc54f6",
   "metadata": {},
   "outputs": [
    {
     "name": "stderr",
     "output_type": "stream",
     "text": [
      "n 40: hits 2.236, state mean 0.144, succ mean 0.324: 100%|██████████| 500/500 [00:00<00:00, 1670.85it/s]\n"
     ]
    },
    {
     "data": {
      "text/plain": [
       "{'n': 40,\n",
       " 'r': 252,\n",
       " 'avg_hits': tensor(2.2360),\n",
       " 'avg_state_mean': tensor(0.1437),\n",
       " 'avg_succ_mean': tensor(0.3240)}"
      ]
     },
     "execution_count": 5,
     "metadata": {},
     "output_type": "execute_result"
    }
   ],
   "source": [
    "torch.manual_seed(102)\n",
    "\n",
    "n = 40\n",
    "r = int(n * math.sqrt(n))\n",
    "ap, bp = 1 / math.sqrt(n), 1 / math.sqrt(n)\n",
    "test_rules(n, r, ap, bp)"
   ]
  },
  {
   "cell_type": "code",
   "execution_count": null,
   "id": "b258e343-17da-423b-a371-3d8ccf4083d6",
   "metadata": {},
   "outputs": [],
   "source": []
  },
  {
   "cell_type": "code",
   "execution_count": null,
   "id": "25a4d5b7-fcd2-4fcf-a801-9591b46ba286",
   "metadata": {},
   "outputs": [],
   "source": []
  },
  {
   "cell_type": "code",
   "execution_count": null,
   "id": "0377fa93-9009-4aa2-86b2-d254bfa6fef3",
   "metadata": {},
   "outputs": [],
   "source": []
  },
  {
   "cell_type": "code",
   "execution_count": null,
   "id": "51109baa-cd46-4918-a4e4-13163f4ca098",
   "metadata": {},
   "outputs": [],
   "source": []
  },
  {
   "cell_type": "code",
   "execution_count": null,
   "id": "f8b1a58f-f7a7-4e94-a192-dac8ae8a7b3e",
   "metadata": {},
   "outputs": [],
   "source": []
  },
  {
   "cell_type": "code",
   "execution_count": null,
   "id": "9f228276-7a79-4151-bf22-1bcb1f80efbf",
   "metadata": {},
   "outputs": [],
   "source": []
  },
  {
   "cell_type": "code",
   "execution_count": 6,
   "id": "da33f0b1-f3f1-4d94-9b05-d879a005aa93",
   "metadata": {},
   "outputs": [
    {
     "ename": "NameError",
     "evalue": "name 's' is not defined",
     "output_type": "error",
     "traceback": [
      "\u001b[0;31m---------------------------------------------------------------------------\u001b[0m",
      "\u001b[0;31mNameError\u001b[0m                                 Traceback (most recent call last)",
      "Cell \u001b[0;32mIn[6], line 1\u001b[0m\n\u001b[0;32m----> 1\u001b[0m \u001b[43ms\u001b[49m\n",
      "\u001b[0;31mNameError\u001b[0m: name 's' is not defined"
     ]
    }
   ],
   "source": [
    "s"
   ]
  },
  {
   "cell_type": "code",
   "execution_count": null,
   "id": "68abfba2-ebb7-4b8b-adc2-8c142fcf2df4",
   "metadata": {},
   "outputs": [],
   "source": []
  },
  {
   "cell_type": "code",
   "execution_count": null,
   "id": "683f1c99-a1ff-4512-845d-89eeee44950b",
   "metadata": {},
   "outputs": [],
   "source": []
  }
 ],
 "metadata": {
  "kernelspec": {
   "display_name": "Python 3 (ipykernel)",
   "language": "python",
   "name": "python3"
  },
  "language_info": {
   "codemirror_mode": {
    "name": "ipython",
    "version": 3
   },
   "file_extension": ".py",
   "mimetype": "text/x-python",
   "name": "python",
   "nbconvert_exporter": "python",
   "pygments_lexer": "ipython3",
   "version": "3.10.13"
  }
 },
 "nbformat": 4,
 "nbformat_minor": 5
}
