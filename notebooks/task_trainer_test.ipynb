{
 "cells": [
  {
   "cell_type": "code",
   "execution_count": 1,
   "id": "5a10ed89-e454-4e4d-97d6-1a145e835ba9",
   "metadata": {},
   "outputs": [
    {
     "name": "stderr",
     "output_type": "stream",
     "text": [
      "/home/antonxue/lib/miniconda3/envs/tfl/lib/python3.10/site-packages/tqdm/auto.py:21: TqdmWarning: IProgress not found. Please update jupyter and ipywidgets. See https://ipywidgets.readthedocs.io/en/stable/user_install.html\n",
      "  from .autonotebook import tqdm as notebook_tqdm\n"
     ]
    }
   ],
   "source": [
    "import os\n",
    "import sys\n",
    "\n",
    "import copy\n",
    "import torch\n",
    "import torch.nn as nn\n",
    "from torch.utils.data import *\n",
    "from transformers import Trainer, TrainingArguments\n",
    "import inspect\n",
    "sys.path.insert(0, \"..\")\n",
    "\n",
    "from models import *\n",
    "from logic import *\n",
    "from my_datasets import *\n",
    "\n",
    "from utils import *\n",
    "import numpy as np\n",
    "\n",
    "# import wandb"
   ]
  },
  {
   "cell_type": "code",
   "execution_count": 2,
   "id": "3cf44118-d309-4569-9702-177f3d7ade7e",
   "metadata": {},
   "outputs": [],
   "source": [
    "# # set the wandb project where this run will be logged\n",
    "# os.environ[\"WANDB_PROJECT\"] = \"transformer_friends\"\n",
    "# os.environ[\"WANDB_LOG_MODEL\"] = \"checkpoint\" # log all model checkpoints\n",
    "\n",
    "# # save your trained model checkpoint to wandb\n",
    "# os.environ[\"WANDB_LOG_MODEL\"] = \"true\"\n",
    "\n",
    "# # turn off watch to log faster\n",
    "# os.environ[\"WANDB_WATCH\"] = \"false\""
   ]
  },
  {
   "cell_type": "code",
   "execution_count": 3,
   "id": "a2227ffe-cb8b-4514-965d-609766d87643",
   "metadata": {},
   "outputs": [],
   "source": [
    "n, r = 8, 20\n",
    "# ap, bp, tp, sp = 0.2, 0.2, 0.4, 0.1\n",
    "ap, bp, tp, sp = 0.2, 0.1, 0.2, 0.2\n",
    "\n",
    "nars = 3\n",
    "\n",
    "train_len = 100\n",
    "test_len = 100\n",
    "num_epochs = 2\n",
    "test_is_train = False"
   ]
  },
  {
   "cell_type": "code",
   "execution_count": 4,
   "id": "d8609892-bc02-4213-92f7-adb34bdfeb87",
   "metadata": {},
   "outputs": [],
   "source": [
    "qed_training_args = TrainingArguments(\n",
    "    \"test-trainer\",\n",
    "    evaluation_strategy = \"epoch\",\n",
    "    num_train_epochs = num_epochs,\n",
    "    per_device_train_batch_size = 64,\n",
    "    per_device_eval_batch_size = 64,\n",
    "    logging_steps = 5,\n",
    "    # report_to = \"all\",\n",
    "    report_to = \"none\"\n",
    ")\n",
    "\n",
    "succ_training_args = qed_training_args\n",
    "ars_training_args = qed_training_args"
   ]
  },
  {
   "cell_type": "code",
   "execution_count": null,
   "id": "9ff9a810-1f8f-4a19-87fb-1645c9cb3334",
   "metadata": {},
   "outputs": [],
   "source": []
  },
  {
   "cell_type": "code",
   "execution_count": 5,
   "id": "1aa48c6a-0be4-4978-a56e-4da8baca102c",
   "metadata": {},
   "outputs": [],
   "source": [
    "qed_mytf = AutoTaskModel.from_kwargs(\"one_shot_qed\", \"mytf\", num_vars=n, num_layers=8)\n",
    "succ_mytf = AutoTaskModel.from_kwargs(\"one_step_state\", \"mytf\", num_vars=n, num_layers=8)\n",
    "ars_mytf = AutoTaskModel.from_kwargs(\"autoreg_fixed_steps\", \"mytf\", num_vars=n, num_steps=3, num_layers=8)"
   ]
  },
  {
   "cell_type": "code",
   "execution_count": 6,
   "id": "c59b0ab1-5b05-450d-b827-77185ecf2cf5",
   "metadata": {},
   "outputs": [],
   "source": [
    "qed_gpt2 = AutoTaskModel.from_kwargs(\"one_shot_qed\", \"gpt2\", num_vars=n, num_layers=8, num_heads=8, embed_dim=1024)\n",
    "succ_gpt2 = AutoTaskModel.from_kwargs(\"one_step_state\", \"gpt2\", num_vars=n, num_layers=8, num_heads=8, embed_dim=1024)\n",
    "ars_gpt2 = AutoTaskModel.from_kwargs(\"autoreg_fixed_steps\", \"gpt2\", num_vars=n, num_steps=3, num_layers=8, num_heads=8, embed_dim=1024)"
   ]
  },
  {
   "cell_type": "code",
   "execution_count": 7,
   "id": "081982f4-cda7-4522-8307-d63b0d6a9834",
   "metadata": {},
   "outputs": [],
   "source": [
    "qed_bert = AutoTaskModel.from_kwargs(\"one_shot_qed\", \"bert\", num_vars=n, num_layers=8, num_heads=8, embed_dim=1024)\n",
    "succ_bert = AutoTaskModel.from_kwargs(\"one_step_state\", \"bert\", num_vars=n, num_layers=8, num_heads=8, embed_dim=1024)\n",
    "ars_bert = AutoTaskModel.from_kwargs(\"autoreg_fixed_steps\", \"bert\", num_vars=n, num_steps=3, num_layers=8, num_heads=8, embed_dim=1024)"
   ]
  },
  {
   "cell_type": "code",
   "execution_count": 8,
   "id": "fce266dc-0670-4547-8cb9-f157137815fd",
   "metadata": {},
   "outputs": [],
   "source": [
    "### Llama is quite big and blows up the RAM\n",
    "# qed_llama = get_task_model(task_name=\"oneshot_qed\", num_vars=n, model_name=\"code_llama\", num_layers=8)\n",
    "# succ_llama = get_task_model(task_name=\"predict_successor\", num_vars=n, model_name=\"code_llama\", num_layers=8)\n",
    "# ars_llama = get_task_model(task_name=\"autoreg_fixed_steps\", num_vars=n, num_steps=nars, model_name=\"code_llama\", num_layers=8)"
   ]
  },
  {
   "cell_type": "code",
   "execution_count": null,
   "id": "52f19a26-e02a-44a4-9560-309e5868e517",
   "metadata": {},
   "outputs": [],
   "source": []
  },
  {
   "cell_type": "code",
   "execution_count": null,
   "id": "e59959c6-a502-4b00-bb45-f10081164b3b",
   "metadata": {},
   "outputs": [],
   "source": []
  },
  {
   "cell_type": "code",
   "execution_count": 9,
   "id": "6e8bede5-d1ba-4b58-abdc-07393a9b89e9",
   "metadata": {},
   "outputs": [],
   "source": [
    "### Datasets\n",
    "qed_train_dataset = OneShotQedEmbedsDataset(r,n,ap,bp,tp,dataset_len=train_len,seed=1234)\n",
    "qed_test_dataset = OneShotQedEmbedsDataset(r,n,ap,bp,tp,dataset_len=test_len,seed=2345)\n",
    "\n",
    "succ_train_dataset = OneStepStateEmbedsDataset(r,n,ap,bp,tp,train_len,seed=1234)\n",
    "succ_test_dataset = OneStepStateEmbedsDataset(r,n,ap,bp,tp,test_len,seed=2345)\n",
    "\n",
    "ars_train_dataset = AutoRegFixedStepsEmbedsDataset(r,n,nars,ap,bp,sp,train_len,seed=1234)\n",
    "ars_test_dataset = AutoRegFixedStepsEmbedsDataset(r,n,nars,ap,bp,sp,test_len,seed=2345)"
   ]
  },
  {
   "cell_type": "code",
   "execution_count": null,
   "id": "91ac94d3-3a47-46e2-8b81-beac689abd95",
   "metadata": {},
   "outputs": [],
   "source": []
  },
  {
   "cell_type": "code",
   "execution_count": 10,
   "id": "f7a2dcf7-03cf-45e5-8899-9d24b43354a7",
   "metadata": {},
   "outputs": [
    {
     "name": "stderr",
     "output_type": "stream",
     "text": [
      "/home/antonxue/lib/miniconda3/envs/tfl/lib/python3.10/site-packages/torch/nn/parallel/_functions.py:68: UserWarning: Was asked to gather along dimension 0, but all input tensors were scalars; will instead unsqueeze and return a vector.\n",
      "  warnings.warn('Was asked to gather along dimension 0, but all '\n"
     ]
    },
    {
     "name": "stdout",
     "output_type": "stream",
     "text": [
      "{'eval_loss': 0.6984438300132751, 'eval_Accuracy': 0.56125, 'eval_Avg Ones': 0.75, 'eval_runtime': 0.0401, 'eval_samples_per_second': 2492.011, 'eval_steps_per_second': 24.92, 'epoch': 1.0}\n",
      "{'eval_loss': 0.6963896751403809, 'eval_Accuracy': 0.58375, 'eval_Avg Ones': 1.0, 'eval_runtime': 0.0461, 'eval_samples_per_second': 2167.386, 'eval_steps_per_second': 21.674, 'epoch': 2.0}\n",
      "{'train_runtime': 2.4164, 'train_samples_per_second': 82.768, 'train_steps_per_second': 0.828, 'train_loss': 0.7030345797538757, 'epoch': 2.0}\n"
     ]
    },
    {
     "data": {
      "text/plain": [
       "TrainOutput(global_step=2, training_loss=0.7030345797538757, metrics={'train_runtime': 2.4164, 'train_samples_per_second': 82.768, 'train_steps_per_second': 0.828, 'train_loss': 0.7030345797538757, 'epoch': 2.0})"
      ]
     },
     "execution_count": 10,
     "metadata": {},
     "output_type": "execute_result"
    }
   ],
   "source": [
    "### SUCC MyTF\n",
    "trainer_succ_mytf = Trainer(succ_mytf, succ_training_args,\n",
    "    train_dataset = succ_train_dataset,\n",
    "    eval_dataset = succ_train_dataset if test_is_train else succ_test_dataset,\n",
    "    compute_metrics = succ_compute_metrics)\n",
    "trainer_succ_mytf.train()"
   ]
  },
  {
   "cell_type": "code",
   "execution_count": 11,
   "id": "df1969a6-15fd-4941-9312-d60ebc8b9dbd",
   "metadata": {},
   "outputs": [
    {
     "name": "stdout",
     "output_type": "stream",
     "text": [
      "{'eval_loss': 1.0251109600067139, 'eval_Accuracy': 0.54625, 'eval_Avg Ones': 0.75, 'eval_runtime': 0.456, 'eval_samples_per_second': 219.286, 'eval_steps_per_second': 2.193, 'epoch': 1.0}\n",
      "{'eval_loss': 0.9728716015815735, 'eval_Accuracy': 0.57625, 'eval_Avg Ones': 0.8125, 'eval_runtime': 0.4594, 'eval_samples_per_second': 217.654, 'eval_steps_per_second': 2.177, 'epoch': 2.0}\n",
      "{'train_runtime': 3.0947, 'train_samples_per_second': 64.627, 'train_steps_per_second': 0.646, 'train_loss': 0.8405940532684326, 'epoch': 2.0}\n"
     ]
    },
    {
     "data": {
      "text/plain": [
       "TrainOutput(global_step=2, training_loss=0.8405940532684326, metrics={'train_runtime': 3.0947, 'train_samples_per_second': 64.627, 'train_steps_per_second': 0.646, 'train_loss': 0.8405940532684326, 'epoch': 2.0})"
      ]
     },
     "execution_count": 11,
     "metadata": {},
     "output_type": "execute_result"
    }
   ],
   "source": [
    "### SUCC GPT2\n",
    "trainer_succ_gpt2 = Trainer(succ_gpt2, succ_training_args,\n",
    "    train_dataset = succ_train_dataset,\n",
    "    eval_dataset = succ_train_dataset if test_is_train else succ_test_dataset,\n",
    "    compute_metrics = succ_compute_metrics)\n",
    "trainer_succ_gpt2.train()"
   ]
  },
  {
   "cell_type": "code",
   "execution_count": 12,
   "id": "91cc72fb-230f-4d7b-b8da-ef222ba02124",
   "metadata": {},
   "outputs": [
    {
     "name": "stdout",
     "output_type": "stream",
     "text": [
      "{'eval_loss': 0.8449962735176086, 'eval_Accuracy': 0.57625, 'eval_Avg Ones': 0.875, 'eval_runtime': 0.0688, 'eval_samples_per_second': 1453.237, 'eval_steps_per_second': 14.532, 'epoch': 1.0}\n",
      "{'eval_loss': 0.7907512187957764, 'eval_Accuracy': 0.57625, 'eval_Avg Ones': 0.875, 'eval_runtime': 0.074, 'eval_samples_per_second': 1351.166, 'eval_steps_per_second': 13.512, 'epoch': 2.0}\n",
      "{'train_runtime': 0.4287, 'train_samples_per_second': 466.554, 'train_steps_per_second': 4.666, 'train_loss': 0.7477405071258545, 'epoch': 2.0}\n"
     ]
    },
    {
     "data": {
      "text/plain": [
       "TrainOutput(global_step=2, training_loss=0.7477405071258545, metrics={'train_runtime': 0.4287, 'train_samples_per_second': 466.554, 'train_steps_per_second': 4.666, 'train_loss': 0.7477405071258545, 'epoch': 2.0})"
      ]
     },
     "execution_count": 12,
     "metadata": {},
     "output_type": "execute_result"
    }
   ],
   "source": [
    "### SUCC Bert\n",
    "trainer_succ_bert = Trainer(succ_bert, succ_training_args,\n",
    "    train_dataset = succ_train_dataset,\n",
    "    eval_dataset = succ_train_dataset if test_is_train else succ_test_dataset,\n",
    "    compute_metrics = succ_compute_metrics)\n",
    "trainer_succ_bert.train()"
   ]
  },
  {
   "cell_type": "code",
   "execution_count": null,
   "id": "2c22439a-e5bd-4454-bbf4-21989d0cc7eb",
   "metadata": {},
   "outputs": [],
   "source": []
  },
  {
   "cell_type": "code",
   "execution_count": 13,
   "id": "b557a8f4-179e-4018-85fd-e4952dab9980",
   "metadata": {},
   "outputs": [],
   "source": [
    "####################\n",
    "### AR Steps"
   ]
  },
  {
   "cell_type": "code",
   "execution_count": 14,
   "id": "9db79f52-9847-4e15-a7d9-936ac57ba44e",
   "metadata": {},
   "outputs": [
    {
     "name": "stdout",
     "output_type": "stream",
     "text": [
      "{'eval_loss': 0.6328577995300293, 'eval_Accuracy': 0.60625, 'eval_Avg Ones': 0.75, 'eval_runtime': 0.0699, 'eval_samples_per_second': 1429.883, 'eval_steps_per_second': 14.299, 'epoch': 1.0}\n",
      "{'eval_loss': 0.6325845122337341, 'eval_Accuracy': 0.60625, 'eval_Avg Ones': 0.75, 'eval_runtime': 0.0683, 'eval_samples_per_second': 1464.052, 'eval_steps_per_second': 14.641, 'epoch': 2.0}\n",
      "{'train_runtime': 0.4304, 'train_samples_per_second': 464.662, 'train_steps_per_second': 4.647, 'train_loss': 0.6299412846565247, 'epoch': 2.0}\n"
     ]
    },
    {
     "data": {
      "text/plain": [
       "TrainOutput(global_step=2, training_loss=0.6299412846565247, metrics={'train_runtime': 0.4304, 'train_samples_per_second': 464.662, 'train_steps_per_second': 4.647, 'train_loss': 0.6299412846565247, 'epoch': 2.0})"
      ]
     },
     "execution_count": 14,
     "metadata": {},
     "output_type": "execute_result"
    }
   ],
   "source": [
    "### AR Steps MyTF\n",
    "trainer_ars_mytf = Trainer(ars_mytf, ars_training_args,\n",
    "    train_dataset = ars_train_dataset,\n",
    "    eval_dataset = ars_train_dataset if test_is_train else ars_test_dataset,\n",
    "    compute_metrics = succ_compute_metrics)\n",
    "trainer_ars_mytf.train()"
   ]
  },
  {
   "cell_type": "code",
   "execution_count": 15,
   "id": "1f75d23a-3485-416a-99f7-bb1ff5c5a235",
   "metadata": {},
   "outputs": [
    {
     "name": "stdout",
     "output_type": "stream",
     "text": [
      "{'eval_loss': 0.626973569393158, 'eval_Accuracy': 0.6466666666666666, 'eval_Avg Ones': 0.81125, 'eval_runtime': 1.5751, 'eval_samples_per_second': 63.488, 'eval_steps_per_second': 0.635, 'epoch': 1.0}\n",
      "{'eval_loss': 0.626487672328949, 'eval_Accuracy': 0.6341666666666667, 'eval_Avg Ones': 0.7920833333333334, 'eval_runtime': 1.2255, 'eval_samples_per_second': 81.6, 'eval_steps_per_second': 0.816, 'epoch': 2.0}\n",
      "{'train_runtime': 9.5967, 'train_samples_per_second': 20.841, 'train_steps_per_second': 0.208, 'train_loss': 0.630977988243103, 'epoch': 2.0}\n"
     ]
    },
    {
     "data": {
      "text/plain": [
       "TrainOutput(global_step=2, training_loss=0.630977988243103, metrics={'train_runtime': 9.5967, 'train_samples_per_second': 20.841, 'train_steps_per_second': 0.208, 'train_loss': 0.630977988243103, 'epoch': 2.0})"
      ]
     },
     "execution_count": 15,
     "metadata": {},
     "output_type": "execute_result"
    }
   ],
   "source": [
    "### AR Steps GPT2\n",
    "trainer_ars_gpt2 = Trainer(ars_gpt2, ars_training_args,\n",
    "    train_dataset = ars_train_dataset,\n",
    "    eval_dataset = ars_train_dataset if test_is_train else ars_test_dataset,\n",
    "    compute_metrics = succ_compute_metrics)\n",
    "trainer_ars_gpt2.train()"
   ]
  },
  {
   "cell_type": "code",
   "execution_count": 16,
   "id": "89eeeddb-e33a-45d8-842a-f84a443f4e15",
   "metadata": {},
   "outputs": [
    {
     "name": "stdout",
     "output_type": "stream",
     "text": [
      "{'eval_loss': 0.6326218247413635, 'eval_Accuracy': 0.64375, 'eval_Avg Ones': 0.875, 'eval_runtime': 0.1091, 'eval_samples_per_second': 916.285, 'eval_steps_per_second': 9.163, 'epoch': 1.0}\n",
      "{'eval_loss': 0.6330364942550659, 'eval_Accuracy': 0.63875, 'eval_Avg Ones': 0.8033333333333333, 'eval_runtime': 0.1112, 'eval_samples_per_second': 899.322, 'eval_steps_per_second': 8.993, 'epoch': 2.0}\n",
      "{'train_runtime': 0.6885, 'train_samples_per_second': 290.488, 'train_steps_per_second': 2.905, 'train_loss': 0.6294896602630615, 'epoch': 2.0}\n"
     ]
    },
    {
     "data": {
      "text/plain": [
       "TrainOutput(global_step=2, training_loss=0.6294896602630615, metrics={'train_runtime': 0.6885, 'train_samples_per_second': 290.488, 'train_steps_per_second': 2.905, 'train_loss': 0.6294896602630615, 'epoch': 2.0})"
      ]
     },
     "execution_count": 16,
     "metadata": {},
     "output_type": "execute_result"
    }
   ],
   "source": [
    "### AR Steps Bert\n",
    "trainer_ars_bert = Trainer(ars_bert, ars_training_args,\n",
    "    train_dataset = ars_train_dataset,\n",
    "    eval_dataset = ars_train_dataset if test_is_train else ars_test_dataset,\n",
    "    compute_metrics = succ_compute_metrics)\n",
    "trainer_ars_bert.train()"
   ]
  },
  {
   "cell_type": "code",
   "execution_count": null,
   "id": "9b4eb0f9-a7c5-4b17-8f2c-09df8d4cf6a6",
   "metadata": {},
   "outputs": [],
   "source": []
  },
  {
   "cell_type": "code",
   "execution_count": 17,
   "id": "5c256f2d-1171-4daa-b9cf-cf398273b923",
   "metadata": {},
   "outputs": [],
   "source": [
    "####################\n",
    "### QED"
   ]
  },
  {
   "cell_type": "code",
   "execution_count": 18,
   "id": "d8093804-707d-42f4-86b1-d53422f4ba91",
   "metadata": {},
   "outputs": [
    {
     "name": "stdout",
     "output_type": "stream",
     "text": [
      "{'eval_loss': 1.586868166923523, 'eval_Accuracy': 0.51, 'eval_Avg Ones': 1.0, 'eval_runtime': 0.0759, 'eval_samples_per_second': 1318.006, 'eval_steps_per_second': 13.18, 'epoch': 1.0}\n",
      "{'eval_loss': 1.505886435508728, 'eval_Accuracy': 0.51, 'eval_Avg Ones': 1.0, 'eval_runtime': 0.0764, 'eval_samples_per_second': 1308.169, 'eval_steps_per_second': 13.082, 'epoch': 2.0}\n",
      "{'train_runtime': 0.3791, 'train_samples_per_second': 527.603, 'train_steps_per_second': 5.276, 'train_loss': 1.0853276252746582, 'epoch': 2.0}\n"
     ]
    },
    {
     "data": {
      "text/plain": [
       "TrainOutput(global_step=2, training_loss=1.0853276252746582, metrics={'train_runtime': 0.3791, 'train_samples_per_second': 527.603, 'train_steps_per_second': 5.276, 'train_loss': 1.0853276252746582, 'epoch': 2.0})"
      ]
     },
     "execution_count": 18,
     "metadata": {},
     "output_type": "execute_result"
    }
   ],
   "source": [
    "### QED MyTf\n",
    "trainer_qed_mytf = Trainer(qed_mytf, qed_training_args,\n",
    "    train_dataset = qed_train_dataset,\n",
    "    eval_dataset = qed_train_dataset if test_is_train else qed_test_dataset,\n",
    "    compute_metrics = qed_compute_metrics)\n",
    "trainer_qed_mytf.train()"
   ]
  },
  {
   "cell_type": "code",
   "execution_count": 19,
   "id": "993788f2-1e84-4f60-9438-c691fa892e87",
   "metadata": {
    "scrolled": true
   },
   "outputs": [
    {
     "name": "stdout",
     "output_type": "stream",
     "text": [
      "{'eval_loss': 5.059472560882568, 'eval_Accuracy': 0.49, 'eval_Avg Ones': 0.0, 'eval_runtime': 0.4848, 'eval_samples_per_second': 206.288, 'eval_steps_per_second': 2.063, 'epoch': 1.0}\n",
      "{'eval_loss': 4.66595458984375, 'eval_Accuracy': 0.49, 'eval_Avg Ones': 0.0, 'eval_runtime': 0.4906, 'eval_samples_per_second': 203.812, 'eval_steps_per_second': 2.038, 'epoch': 2.0}\n",
      "{'train_runtime': 3.1595, 'train_samples_per_second': 63.302, 'train_steps_per_second': 0.633, 'train_loss': 3.046811580657959, 'epoch': 2.0}\n"
     ]
    },
    {
     "data": {
      "text/plain": [
       "TrainOutput(global_step=2, training_loss=3.046811580657959, metrics={'train_runtime': 3.1595, 'train_samples_per_second': 63.302, 'train_steps_per_second': 0.633, 'train_loss': 3.046811580657959, 'epoch': 2.0})"
      ]
     },
     "execution_count": 19,
     "metadata": {},
     "output_type": "execute_result"
    }
   ],
   "source": [
    "### QED GPT2\n",
    "trainer_qed_gpt2 = Trainer(qed_gpt2, qed_training_args,\n",
    "    train_dataset = qed_train_dataset,\n",
    "    eval_dataset = qed_train_dataset if test_is_train else qed_test_dataset,\n",
    "    compute_metrics = qed_compute_metrics)\n",
    "trainer_qed_gpt2.train()"
   ]
  },
  {
   "cell_type": "code",
   "execution_count": 20,
   "id": "b37adc1e-dd7a-4b65-9846-9efdd57a9a7e",
   "metadata": {},
   "outputs": [
    {
     "name": "stdout",
     "output_type": "stream",
     "text": [
      "{'eval_loss': 3.074585199356079, 'eval_Accuracy': 0.49, 'eval_Avg Ones': 0.0, 'eval_runtime': 0.106, 'eval_samples_per_second': 943.286, 'eval_steps_per_second': 9.433, 'epoch': 1.0}\n",
      "{'eval_loss': 2.505542516708374, 'eval_Accuracy': 0.49, 'eval_Avg Ones': 0.0, 'eval_runtime': 0.1135, 'eval_samples_per_second': 881.253, 'eval_steps_per_second': 8.813, 'epoch': 2.0}\n",
      "{'train_runtime': 0.5792, 'train_samples_per_second': 345.331, 'train_steps_per_second': 3.453, 'train_loss': 1.950005292892456, 'epoch': 2.0}\n"
     ]
    },
    {
     "data": {
      "text/plain": [
       "TrainOutput(global_step=2, training_loss=1.950005292892456, metrics={'train_runtime': 0.5792, 'train_samples_per_second': 345.331, 'train_steps_per_second': 3.453, 'train_loss': 1.950005292892456, 'epoch': 2.0})"
      ]
     },
     "execution_count": 20,
     "metadata": {},
     "output_type": "execute_result"
    }
   ],
   "source": [
    "### QED Bert\n",
    "trainer_qed_bert = Trainer(qed_bert, qed_training_args,\n",
    "    train_dataset = qed_train_dataset,\n",
    "    eval_dataset = qed_train_dataset if test_is_train else qed_test_dataset,\n",
    "    compute_metrics = qed_compute_metrics)\n",
    "trainer_qed_bert.train()"
   ]
  },
  {
   "cell_type": "code",
   "execution_count": null,
   "id": "70d2d742-9d08-438d-8c26-1b46e5cdaad0",
   "metadata": {},
   "outputs": [],
   "source": []
  },
  {
   "cell_type": "code",
   "execution_count": null,
   "id": "3f960448-dc50-40ec-b9ad-8b1f8382148b",
   "metadata": {},
   "outputs": [],
   "source": []
  },
  {
   "cell_type": "code",
   "execution_count": null,
   "id": "c80f1037-8b4a-4108-a79e-e2aaf2b59394",
   "metadata": {},
   "outputs": [],
   "source": []
  },
  {
   "cell_type": "code",
   "execution_count": null,
   "id": "d6ed5f0b-f745-4785-9e94-fc10c457f350",
   "metadata": {},
   "outputs": [],
   "source": []
  },
  {
   "cell_type": "code",
   "execution_count": null,
   "id": "b19529cc-0132-4c77-8f88-5ea4ab5cfb0c",
   "metadata": {},
   "outputs": [],
   "source": []
  }
 ],
 "metadata": {
  "kernelspec": {
   "display_name": "Python 3 (ipykernel)",
   "language": "python",
   "name": "python3"
  },
  "language_info": {
   "codemirror_mode": {
    "name": "ipython",
    "version": 3
   },
   "file_extension": ".py",
   "mimetype": "text/x-python",
   "name": "python",
   "nbconvert_exporter": "python",
   "pygments_lexer": "ipython3",
   "version": "3.10.13"
  }
 },
 "nbformat": 4,
 "nbformat_minor": 5
}
