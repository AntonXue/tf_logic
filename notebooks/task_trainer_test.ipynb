{
 "cells": [
  {
   "cell_type": "code",
   "execution_count": 1,
   "id": "5a10ed89-e454-4e4d-97d6-1a145e835ba9",
   "metadata": {},
   "outputs": [
    {
     "name": "stderr",
     "output_type": "stream",
     "text": [
      "/home/antonxue/lib/miniconda3/envs/tfl/lib/python3.10/site-packages/tqdm/auto.py:21: TqdmWarning: IProgress not found. Please update jupyter and ipywidgets. See https://ipywidgets.readthedocs.io/en/stable/user_install.html\n",
      "  from .autonotebook import tqdm as notebook_tqdm\n"
     ]
    }
   ],
   "source": [
    "import sys\n",
    "\n",
    "import copy\n",
    "import torch\n",
    "import torch.nn as nn\n",
    "from torch.utils.data import *\n",
    "from transformers import Trainer, TrainingArguments\n",
    "import inspect\n",
    "sys.path.insert(0, \"..\")\n",
    "\n",
    "from models import *\n",
    "from logic import *\n",
    "from my_datasets import *\n",
    "\n",
    "from utils import *\n",
    "import numpy as np"
   ]
  },
  {
   "cell_type": "code",
   "execution_count": null,
   "id": "3cf44118-d309-4569-9702-177f3d7ade7e",
   "metadata": {},
   "outputs": [],
   "source": []
  },
  {
   "cell_type": "code",
   "execution_count": 2,
   "id": "a2227ffe-cb8b-4514-965d-609766d87643",
   "metadata": {},
   "outputs": [],
   "source": [
    "n, r = 8, 20\n",
    "# ap, bp, tp, sp = 0.2, 0.2, 0.4, 0.1\n",
    "ap, bp, tp, sp = 0.2, 0.1, 0.2, 0.2\n",
    "\n",
    "nars = 3\n",
    "\n",
    "train_len = 100\n",
    "test_len = 100\n",
    "num_epochs = 2\n",
    "test_is_train = False"
   ]
  },
  {
   "cell_type": "code",
   "execution_count": 3,
   "id": "d8609892-bc02-4213-92f7-adb34bdfeb87",
   "metadata": {},
   "outputs": [],
   "source": [
    "qed_training_args = TrainingArguments(\n",
    "    \"test-trainer\",\n",
    "    evaluation_strategy = \"epoch\",\n",
    "    num_train_epochs = num_epochs,\n",
    "    per_device_train_batch_size = 64,\n",
    "    per_device_eval_batch_size = 64,\n",
    "    logging_steps = 5,\n",
    "    report_to = \"none\",\n",
    ")\n",
    "\n",
    "succ_training_args = qed_training_args\n",
    "ars_training_args = qed_training_args"
   ]
  },
  {
   "cell_type": "code",
   "execution_count": null,
   "id": "9ff9a810-1f8f-4a19-87fb-1645c9cb3334",
   "metadata": {},
   "outputs": [],
   "source": []
  },
  {
   "cell_type": "code",
   "execution_count": 4,
   "id": "1aa48c6a-0be4-4978-a56e-4da8baca102c",
   "metadata": {},
   "outputs": [],
   "source": [
    "qed_mytf = get_task_model(task_name=\"oneshot_qed\", num_vars=n, model_name=\"mytf\")\n",
    "succ_mytf = get_task_model(task_name=\"predict_successor\", num_vars=n, model_name=\"mytf\")\n",
    "ars_mytf = get_task_model(task_name=\"autoreg_fixed_steps\", num_vars=n, num_steps=3, model_name=\"mytf\")"
   ]
  },
  {
   "cell_type": "code",
   "execution_count": 5,
   "id": "c59b0ab1-5b05-450d-b827-77185ecf2cf5",
   "metadata": {},
   "outputs": [],
   "source": [
    "qed_gpt2 = get_task_model(task_name=\"oneshot_qed\", num_vars=n, model_name=\"gpt2\")\n",
    "succ_gpt2 = get_task_model(task_name=\"predict_successor\", num_vars=n, model_name=\"gpt2\")\n",
    "ars_gpt2 = get_task_model(task_name=\"autoreg_fixed_steps\", num_vars=n, num_steps=nars, model_name=\"gpt2\")"
   ]
  },
  {
   "cell_type": "code",
   "execution_count": 6,
   "id": "081982f4-cda7-4522-8307-d63b0d6a9834",
   "metadata": {},
   "outputs": [],
   "source": [
    "qed_bert = get_task_model(task_name=\"oneshot_qed\", num_vars=n, model_name=\"bert\")\n",
    "succ_bert = get_task_model(task_name=\"predict_successor\", num_vars=n, model_name=\"bert\")\n",
    "ars_bert = get_task_model(task_name=\"autoreg_fixed_steps\", num_vars=n, num_steps=nars, model_name=\"bert\")"
   ]
  },
  {
   "cell_type": "code",
   "execution_count": 7,
   "id": "fce266dc-0670-4547-8cb9-f157137815fd",
   "metadata": {},
   "outputs": [],
   "source": [
    "### Llama is quite big and blows up the RAM\n",
    "# qed_llama = get_task_model(task_name=\"oneshot_qed\", num_vars=n, model_name=\"code_llama\", num_layers=8)\n",
    "# succ_llama = get_task_model(task_name=\"predict_successor\", num_vars=n, model_name=\"code_llama\", num_layers=8)\n",
    "# ars_llama = get_task_model(task_name=\"autoreg_fixed_steps\", num_vars=n, num_steps=nars, model_name=\"code_llama\", num_layers=8)"
   ]
  },
  {
   "cell_type": "code",
   "execution_count": null,
   "id": "52f19a26-e02a-44a4-9560-309e5868e517",
   "metadata": {},
   "outputs": [],
   "source": []
  },
  {
   "cell_type": "code",
   "execution_count": null,
   "id": "e59959c6-a502-4b00-bb45-f10081164b3b",
   "metadata": {},
   "outputs": [],
   "source": []
  },
  {
   "cell_type": "code",
   "execution_count": 8,
   "id": "6e8bede5-d1ba-4b58-abdc-07393a9b89e9",
   "metadata": {},
   "outputs": [],
   "source": [
    "### Datasets\n",
    "qed_train_dataset_config = OneShotQedDatasetConfig(r,n,ap,bp,tp,dataset_len=train_len,seed=1234)\n",
    "qed_test_dataset_config = OneShotQedDatasetConfig(r,n,ap,bp,tp,dataset_len=test_len,seed=2345)\n",
    "qed_train_dataset = OneShotQedEmbedsDataset(qed_train_dataset_config)\n",
    "qed_test_dataset = OneShotQedEmbedsDataset(qed_test_dataset_config)\n",
    "\n",
    "succ_train_dataset_config = OneStepStateDatasetConfig(r,n,ap,bp,tp,dataset_len=train_len,seed=1234)\n",
    "succ_test_dataset_config = OneStepStateDatasetConfig(r,n,ap,bp,tp,dataset_len=test_len,seed=2345)\n",
    "succ_train_dataset = OneStepStateEmbedsDataset(succ_train_dataset_config)\n",
    "succ_test_dataset = OneStepStateEmbedsDataset(succ_test_dataset_config)\n",
    "\n",
    "ars_train_dataset_config = AutoRegFixedStepsDatasetConfig(r,n,ap,bp,sp,nars,dataset_len=train_len,seed=1234)\n",
    "ars_test_dataset_config = AutoRegFixedStepsDatasetConfig(r,n,ap,bp,sp,nars,dataset_len=test_len,seed=2345)\n",
    "ars_train_dataset = AutoRegFixedStepsEmbedsDataset(ars_train_dataset_config)\n",
    "ars_test_dataset = AutoRegFixedStepsEmbedsDataset(ars_test_dataset_config)"
   ]
  },
  {
   "cell_type": "code",
   "execution_count": null,
   "id": "91ac94d3-3a47-46e2-8b81-beac689abd95",
   "metadata": {},
   "outputs": [],
   "source": []
  },
  {
   "cell_type": "code",
   "execution_count": 9,
   "id": "f7a2dcf7-03cf-45e5-8899-9d24b43354a7",
   "metadata": {},
   "outputs": [
    {
     "name": "stdout",
     "output_type": "stream",
     "text": [
      "{'eval_loss': 0.7189112901687622, 'eval_Accuracy': 0.57625, 'eval_Avg Ones': 0.875, 'eval_runtime': 5.0392, 'eval_samples_per_second': 19.844, 'eval_steps_per_second': 0.397, 'epoch': 1.0}\n",
      "{'eval_loss': 0.6944872140884399, 'eval_Accuracy': 0.57625, 'eval_Avg Ones': 0.875, 'eval_runtime': 4.7431, 'eval_samples_per_second': 21.083, 'eval_steps_per_second': 0.422, 'epoch': 2.0}\n",
      "{'train_runtime': 32.1865, 'train_samples_per_second': 6.214, 'train_steps_per_second': 0.124, 'train_loss': 0.7037481069564819, 'epoch': 2.0}\n"
     ]
    },
    {
     "data": {
      "text/plain": [
       "TrainOutput(global_step=4, training_loss=0.7037481069564819, metrics={'train_runtime': 32.1865, 'train_samples_per_second': 6.214, 'train_steps_per_second': 0.124, 'train_loss': 0.7037481069564819, 'epoch': 2.0})"
      ]
     },
     "execution_count": 9,
     "metadata": {},
     "output_type": "execute_result"
    }
   ],
   "source": [
    "### SUCC MyTF\n",
    "trainer_succ_mytf = Trainer(succ_mytf, succ_training_args,\n",
    "    train_dataset = succ_train_dataset,\n",
    "    eval_dataset = succ_train_dataset if test_is_train else succ_test_dataset,\n",
    "    compute_metrics = succ_compute_metrics)\n",
    "trainer_succ_mytf.train()"
   ]
  },
  {
   "cell_type": "code",
   "execution_count": null,
   "id": "df1969a6-15fd-4941-9312-d60ebc8b9dbd",
   "metadata": {},
   "outputs": [],
   "source": [
    "### SUCC GPT2\n",
    "trainer_succ_gpt2 = Trainer(succ_gpt2, succ_training_args,\n",
    "    train_dataset = succ_train_dataset,\n",
    "    eval_dataset = succ_train_dataset if test_is_train else succ_test_dataset,\n",
    "    compute_metrics = succ_compute_metrics)\n",
    "trainer_succ_gpt2.train()"
   ]
  },
  {
   "cell_type": "code",
   "execution_count": null,
   "id": "91cc72fb-230f-4d7b-b8da-ef222ba02124",
   "metadata": {},
   "outputs": [],
   "source": [
    "### SUCC Bert\n",
    "trainer_succ_bert = Trainer(succ_bert, succ_training_args,\n",
    "    train_dataset = succ_train_dataset,\n",
    "    eval_dataset = succ_train_dataset if test_is_train else succ_test_dataset,\n",
    "    compute_metrics = succ_compute_metrics)\n",
    "trainer_succ_bert.train()"
   ]
  },
  {
   "cell_type": "code",
   "execution_count": null,
   "id": "2c22439a-e5bd-4454-bbf4-21989d0cc7eb",
   "metadata": {},
   "outputs": [],
   "source": []
  },
  {
   "cell_type": "code",
   "execution_count": null,
   "id": "b557a8f4-179e-4018-85fd-e4952dab9980",
   "metadata": {},
   "outputs": [],
   "source": [
    "####################\n",
    "### AR Steps"
   ]
  },
  {
   "cell_type": "code",
   "execution_count": null,
   "id": "9db79f52-9847-4e15-a7d9-936ac57ba44e",
   "metadata": {},
   "outputs": [],
   "source": [
    "### AR Steps MyTF\n",
    "trainer_ars_mytf = Trainer(ars_mytf, ars_training_args,\n",
    "    train_dataset = ars_train_dataset,\n",
    "    eval_dataset = ars_train_dataset if test_is_train else ars_test_dataset,\n",
    "    compute_metrics = succ_compute_metrics)\n",
    "trainer_ars_mytf.train()"
   ]
  },
  {
   "cell_type": "code",
   "execution_count": null,
   "id": "1f75d23a-3485-416a-99f7-bb1ff5c5a235",
   "metadata": {},
   "outputs": [],
   "source": [
    "### AR Steps GPT2\n",
    "trainer_ars_gpt2 = Trainer(ars_gpt2, ars_training_args,\n",
    "    train_dataset = ars_train_dataset,\n",
    "    eval_dataset = ars_train_dataset if test_is_train else ars_test_dataset,\n",
    "    compute_metrics = succ_compute_metrics)\n",
    "trainer_ars_gpt2.train()"
   ]
  },
  {
   "cell_type": "code",
   "execution_count": null,
   "id": "89eeeddb-e33a-45d8-842a-f84a443f4e15",
   "metadata": {},
   "outputs": [],
   "source": [
    "### AR Steps Bert\n",
    "trainer_ars_bert = Trainer(ars_bert, ars_training_args,\n",
    "    train_dataset = ars_train_dataset,\n",
    "    eval_dataset = ars_train_dataset if test_is_train else ars_test_dataset,\n",
    "    compute_metrics = succ_compute_metrics)\n",
    "trainer_ars_bert.train()"
   ]
  },
  {
   "cell_type": "code",
   "execution_count": null,
   "id": "9b4eb0f9-a7c5-4b17-8f2c-09df8d4cf6a6",
   "metadata": {},
   "outputs": [],
   "source": []
  },
  {
   "cell_type": "code",
   "execution_count": null,
   "id": "5c256f2d-1171-4daa-b9cf-cf398273b923",
   "metadata": {},
   "outputs": [],
   "source": [
    "####################\n",
    "### QED"
   ]
  },
  {
   "cell_type": "code",
   "execution_count": null,
   "id": "d8093804-707d-42f4-86b1-d53422f4ba91",
   "metadata": {},
   "outputs": [],
   "source": [
    "### QED MyTf\n",
    "trainer_qed_mytf = Trainer(qed_mytf, qed_training_args,\n",
    "    train_dataset = qed_train_dataset,\n",
    "    eval_dataset = qed_train_dataset if test_is_train else qed_test_dataset,\n",
    "    compute_metrics = qed_compute_metrics)\n",
    "trainer_qed_mytf.train()"
   ]
  },
  {
   "cell_type": "code",
   "execution_count": null,
   "id": "993788f2-1e84-4f60-9438-c691fa892e87",
   "metadata": {
    "scrolled": true
   },
   "outputs": [],
   "source": [
    "### QED GPT2\n",
    "trainer_qed_gpt2 = Trainer(qed_gpt2, qed_training_args,\n",
    "    train_dataset = qed_train_dataset,\n",
    "    eval_dataset = qed_train_dataset if test_is_train else qed_test_dataset,\n",
    "    compute_metrics = qed_compute_metrics)\n",
    "trainer_qed_gpt2.train()"
   ]
  },
  {
   "cell_type": "code",
   "execution_count": null,
   "id": "b37adc1e-dd7a-4b65-9846-9efdd57a9a7e",
   "metadata": {},
   "outputs": [],
   "source": [
    "### QED Bert\n",
    "trainer_qed_bert = Trainer(qed_bert, qed_training_args,\n",
    "    train_dataset = qed_train_dataset,\n",
    "    eval_dataset = qed_train_dataset if test_is_train else qed_test_dataset,\n",
    "    compute_metrics = qed_compute_metrics)\n",
    "trainer_qed_bert.train()"
   ]
  },
  {
   "cell_type": "code",
   "execution_count": null,
   "id": "70d2d742-9d08-438d-8c26-1b46e5cdaad0",
   "metadata": {},
   "outputs": [],
   "source": []
  },
  {
   "cell_type": "code",
   "execution_count": null,
   "id": "3f960448-dc50-40ec-b9ad-8b1f8382148b",
   "metadata": {},
   "outputs": [],
   "source": []
  },
  {
   "cell_type": "code",
   "execution_count": null,
   "id": "c80f1037-8b4a-4108-a79e-e2aaf2b59394",
   "metadata": {},
   "outputs": [],
   "source": []
  },
  {
   "cell_type": "code",
   "execution_count": null,
   "id": "d6ed5f0b-f745-4785-9e94-fc10c457f350",
   "metadata": {},
   "outputs": [],
   "source": []
  }
 ],
 "metadata": {
  "kernelspec": {
   "display_name": "Python 3 (ipykernel)",
   "language": "python",
   "name": "python3"
  },
  "language_info": {
   "codemirror_mode": {
    "name": "ipython",
    "version": 3
   },
   "file_extension": ".py",
   "mimetype": "text/x-python",
   "name": "python",
   "nbconvert_exporter": "python",
   "pygments_lexer": "ipython3",
   "version": "3.10.13"
  }
 },
 "nbformat": 4,
 "nbformat_minor": 5
}
