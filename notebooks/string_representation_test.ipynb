{
 "cells": [
  {
   "cell_type": "code",
   "execution_count": 1,
   "metadata": {},
   "outputs": [
    {
     "name": "stderr",
     "output_type": "stream",
     "text": [
      "/home/akhare/miniconda3/envs/tfl/lib/python3.11/site-packages/tqdm/auto.py:21: TqdmWarning: IProgress not found. Please update jupyter and ipywidgets. See https://ipywidgets.readthedocs.io/en/stable/user_install.html\n",
      "  from .autonotebook import tqdm as notebook_tqdm\n",
      "/home/akhare/miniconda3/envs/tfl/lib/python3.11/site-packages/transformers/deepspeed.py:23: FutureWarning: transformers.deepspeed module is deprecated and will be removed in a future version. Please import deepspeed modules directly from transformers.integrations\n",
      "  warnings.warn(\n",
      "/home/akhare/miniconda3/envs/tfl/lib/python3.11/site-packages/transformers/generation_utils.py:24: FutureWarning: Importing `GenerationMixin` from `src/transformers/generation_utils.py` is deprecated and will be removed in Transformers v5. Import as `from transformers import GenerationMixin` instead.\n",
      "  warnings.warn(\n"
     ]
    }
   ],
   "source": [
    "from transformers import AutoTokenizer, AutoModelForSequenceClassification, TrainingArguments, Trainer\n",
    "\n",
    "import sys\n",
    "import logging\n",
    "logging.getLogger().setLevel(logging.ERROR)\n",
    "logging.disable(sys.maxsize)\n",
    "\n",
    "from torch.utils.data import *\n",
    "from transformers import *\n",
    "sys.path.insert(0, \"..\")\n",
    "\n",
    "from models import *\n",
    "from logic import *\n",
    "from my_datasets import *\n",
    "\n",
    "from utils import *\n",
    "import numpy as np\n",
    "from tqdm import tqdm\n",
    "import evaluate\n",
    "\n",
    "from datasets import Dataset\n",
    "import os\n",
    "\n",
    "import wandb\n"
   ]
  },
  {
   "cell_type": "code",
   "execution_count": 2,
   "metadata": {},
   "outputs": [],
   "source": [
    "# set the wandb project where this run will be logged\n",
    "os.environ[\"WANDB_PROJECT\"]=\"transformer_friends\"\n",
    "os.environ[\"WANDB_LOG_MODEL\"] = \"checkpoint\" # log all model checkpoints\n",
    "\n",
    "# save your trained model checkpoint to wandb\n",
    "os.environ[\"WANDB_LOG_MODEL\"]=\"true\"\n",
    "\n",
    "# turn off watch to log faster\n",
    "os.environ[\"WANDB_WATCH\"]=\"false\""
   ]
  },
  {
   "cell_type": "code",
   "execution_count": 3,
   "metadata": {},
   "outputs": [],
   "source": [
    "# n, r = 5, 8\n",
    "n, r = 20, 5\n",
    "ap, bp, tp, sp = 0.2, 0.2, 0.4, 0.1\n",
    "\n",
    "nars = 3\n",
    "\n",
    "train_len = 2500\n",
    "test_len = 500\n",
    "num_epochs = 10\n",
    "# test_is_train = True"
   ]
  },
  {
   "cell_type": "code",
   "execution_count": 4,
   "metadata": {},
   "outputs": [],
   "source": [
    "### Datasets\n",
    "qed_train_dataset_config = OneShotQedDatasetConfig(r,n,ap,bp,tp,dataset_len=train_len,seed=1234)\n",
    "qed_test_dataset_config = OneShotQedDatasetConfig(r,n,ap,bp,tp,dataset_len=test_len,seed=2345)\n",
    "qed_train_dataset = OneShotQedEmbedsDataset(qed_train_dataset_config)\n",
    "qed_test_dataset = OneShotQedEmbedsDataset(qed_test_dataset_config)\n",
    "\n",
    "succ_train_dataset_config = OneStepStateDatasetConfig(r,n,ap,bp,tp,dataset_len=train_len,seed=1234)\n",
    "succ_test_dataset_config = OneStepStateDatasetConfig(r,n,ap,bp,tp,dataset_len=test_len,seed=2345)\n",
    "succ_train_dataset = OneStepStateEmbedsDataset(succ_train_dataset_config)\n",
    "succ_test_dataset = OneStepStateEmbedsDataset(succ_test_dataset_config)\n",
    "\n",
    "ars_train_dataset_config = AutoRegFixedStepsDatasetConfig(r,n,ap,bp,sp,nars,dataset_len=train_len,seed=1234)\n",
    "ars_test_dataset_config = AutoRegFixedStepsDatasetConfig(r,n,ap,bp,sp,nars,dataset_len=test_len,seed=2345)\n",
    "ars_train_dataset = AutoRegFixedStepsEmbedsDataset(ars_train_dataset_config)\n",
    "ars_test_dataset = AutoRegFixedStepsEmbedsDataset(ars_test_dataset_config)"
   ]
  },
  {
   "cell_type": "code",
   "execution_count": 5,
   "metadata": {},
   "outputs": [],
   "source": [
    "def stringify_rule(rule, var_sep_token):\n",
    "    \"\"\"\n",
    "    Create a rule of the form xi , xj , ... -> xa\n",
    "    from a one-hot vector of [<ants>, <cons>]\n",
    "    \"\"\"\n",
    "\n",
    "    n_vars = len(rule) // 2\n",
    "    ants = [f\"x{i}\" for i in range(n_vars) if rule[i]]\n",
    "    cons = [f\"x{i}\" for i in range(n_vars) if rule[n_vars+i]]\n",
    "    if len(ants) < 1:\n",
    "        ants = [\"empty\"]\n",
    "    if len(cons) < 1:\n",
    "        cons = [\"empty\"]\n",
    "    rule = var_sep_token.join(ants) + \" -> \" + var_sep_token.join(cons)\n",
    "    return rule\n",
    "\n",
    "def get_string_rep(dataset_item):\n",
    "    \"\"\"\n",
    "    Returns a string of the form:\n",
    "    [RULES_START] [RULE_START] ... [RULE_END] ... [RULES_END]\n",
    "    [THEOREM_START] ... [THEOREM_END]\n",
    "    [QED]\n",
    "    \"\"\"\n",
    "\n",
    "    # Define the placeholder tokens\n",
    "    var_sep_token = \" , \"\n",
    "    rules_start = \"[RULES_START]\"\n",
    "    rules_end = \"[RULES_END]\"\n",
    "    rule_start = \"[RULE_START]\"\n",
    "    rule_end = \"[RULE_END]\"\n",
    "    theorem_start = \"[THEOREM_START]\"\n",
    "    theorem_end = \"[THEOREM_END]\"\n",
    "    qed = \"[QED]\"\n",
    "\n",
    "    rules = dataset_item[\"rules\"]\n",
    "    theorem = dataset_item[\"theorem\"]\n",
    "\n",
    "    n_vars = len(theorem)\n",
    "\n",
    "    rule_strs = [rule_start + \" \" + stringify_rule(rule, var_sep_token) + \" \" + rule_end for rule in rules]\n",
    "    theorem_str = var_sep_token.join([f\"x{i}\" for i in range(n_vars) if theorem[i]])\n",
    "    theorem_str = theorem_start + \" \" + theorem_str + \" \" + theorem_end\n",
    "    rules_str = rules_start + \" \" + \" \".join(rule_strs) + \" \" + rules_end\n",
    "    return rules_str + \" \" + theorem_str + \" \" + qed\n"
   ]
  },
  {
   "cell_type": "code",
   "execution_count": 6,
   "metadata": {},
   "outputs": [
    {
     "name": "stdout",
     "output_type": "stream",
     "text": [
      "{'rules': tensor([[0, 0, 0, 0, 0, 0, 0, 0, 0, 0, 0, 0, 0, 0, 0, 0, 0, 0, 0, 0, 0, 0, 0, 0,\n",
      "         0, 0, 0, 0, 1, 1, 0, 0, 0, 0, 0, 0, 0, 0, 0, 0],\n",
      "        [0, 0, 0, 0, 0, 0, 0, 0, 0, 0, 0, 0, 0, 0, 0, 0, 0, 0, 0, 0, 1, 0, 0, 1,\n",
      "         0, 0, 1, 1, 0, 0, 0, 0, 0, 1, 0, 0, 0, 0, 0, 0],\n",
      "        [0, 1, 0, 0, 0, 0, 0, 1, 0, 0, 0, 0, 0, 0, 0, 0, 1, 0, 0, 0, 1, 0, 0, 0,\n",
      "         0, 1, 0, 0, 0, 0, 0, 0, 0, 0, 1, 0, 0, 0, 0, 0],\n",
      "        [0, 0, 0, 1, 0, 0, 0, 0, 0, 0, 0, 0, 1, 0, 0, 0, 1, 0, 0, 1, 0, 0, 0, 0,\n",
      "         1, 1, 1, 1, 0, 0, 0, 1, 0, 0, 0, 0, 0, 0, 0, 0],\n",
      "        [0, 0, 1, 0, 1, 0, 0, 1, 0, 0, 0, 0, 1, 0, 0, 1, 0, 0, 0, 0, 1, 0, 0, 0,\n",
      "         0, 0, 0, 0, 0, 0, 0, 1, 0, 0, 0, 0, 0, 0, 0, 0]]), 'theorem': tensor([1, 0, 1, 0, 0, 0, 0, 0, 1, 0, 0, 1, 0, 0, 1, 1, 1, 0, 0, 0]), 'labels': tensor(0)}\n",
      "[RULES_START] [RULE_START] empty -> x8 , x9 [RULE_END] [RULE_START] empty -> x0 , x3 , x6 , x7 , x13 [RULE_END] [RULE_START] x1 , x7 , x16 -> x0 , x5 , x14 [RULE_END] [RULE_START] x3 , x12 , x16 , x19 -> x4 , x5 , x6 , x7 , x11 [RULE_END] [RULE_START] x2 , x4 , x7 , x12 , x15 -> x0 , x11 [RULE_END] [RULES_END] [THEOREM_START] x0 , x2 , x8 , x11 , x14 , x15 , x16 [THEOREM_END] [QED]\n"
     ]
    }
   ],
   "source": [
    "print(qed_train_dataset[0])\n",
    "print(get_string_rep(qed_train_dataset[0]))"
   ]
  },
  {
   "cell_type": "code",
   "execution_count": 7,
   "metadata": {},
   "outputs": [
    {
     "name": "stderr",
     "output_type": "stream",
     "text": [
      "100%|██████████| 2500/2500 [00:05<00:00, 478.58it/s]\n",
      "100%|██████████| 2500/2500 [00:03<00:00, 659.22it/s]\n"
     ]
    },
    {
     "name": "stdout",
     "output_type": "stream",
     "text": [
      "Creating train dataset\n"
     ]
    },
    {
     "name": "stderr",
     "output_type": "stream",
     "text": [
      "100%|██████████| 500/500 [00:01<00:00, 480.69it/s]\n",
      "100%|██████████| 500/500 [00:00<00:00, 665.75it/s]"
     ]
    },
    {
     "name": "stdout",
     "output_type": "stream",
     "text": [
      "Creating test dataset\n"
     ]
    },
    {
     "name": "stderr",
     "output_type": "stream",
     "text": [
      "\n"
     ]
    }
   ],
   "source": [
    "# Create HuggingFace datasets for the QED task\n",
    "\n",
    "train_data = [get_string_rep(qed_train_dataset[i]) for i in tqdm(range(len(qed_train_dataset)))]\n",
    "train_labels = [qed_train_dataset[i][\"labels\"].item() for i in tqdm(range(len(qed_train_dataset)))]\n",
    "\n",
    "print(\"Creating train dataset\")\n",
    "qed_train_hf_dataset = Dataset.from_dict({\n",
    "    \"data\": train_data,\n",
    "    \"label\": train_labels\n",
    "}).with_format(\"torch\")\n",
    "\n",
    "test_data = [get_string_rep(qed_test_dataset[i]) for i in tqdm(range(len(qed_test_dataset)))]\n",
    "test_labels = [qed_test_dataset[i][\"labels\"].item() for i in tqdm(range(len(qed_test_dataset)))]\n",
    "\n",
    "print(\"Creating test dataset\")\n",
    "qed_test_hf_dataset = Dataset.from_dict({\n",
    "    \"data\": test_data,\n",
    "    \"label\": test_labels\n",
    "}).with_format(\"torch\")"
   ]
  },
  {
   "cell_type": "code",
   "execution_count": 8,
   "metadata": {},
   "outputs": [],
   "source": [
    "# Get the GPT-2 tokenizer\n",
    "\n",
    "tokenizer = AutoTokenizer.from_pretrained(\"gpt2\")\n",
    "tokenizer.pad_token = tokenizer.eos_token"
   ]
  },
  {
   "cell_type": "code",
   "execution_count": 9,
   "metadata": {},
   "outputs": [
    {
     "name": "stderr",
     "output_type": "stream",
     "text": [
      "Map: 100%|██████████| 2500/2500 [00:00<00:00, 6438.25 examples/s]\n",
      "Map: 100%|██████████| 500/500 [00:00<00:00, 6614.27 examples/s]\n"
     ]
    }
   ],
   "source": [
    "def tokenize_function(item):\n",
    "    return tokenizer(item[\"data\"], truncation=True)\n",
    "\n",
    "qed_train_tokenized_dataset = qed_train_hf_dataset.map(tokenize_function, batched=True)\n",
    "qed_test_tokenized_dataset = qed_test_hf_dataset.map(tokenize_function, batched=True)\n",
    "data_collator = DataCollatorWithPadding(tokenizer=tokenizer)"
   ]
  },
  {
   "cell_type": "code",
   "execution_count": 10,
   "metadata": {},
   "outputs": [],
   "source": [
    "model = AutoModelForSequenceClassification.from_pretrained(\n",
    "    \"gpt2\", num_labels=2\n",
    ")\n",
    "model.config.pad_token_id = tokenizer.pad_token_id"
   ]
  },
  {
   "cell_type": "code",
   "execution_count": 11,
   "metadata": {},
   "outputs": [],
   "source": [
    "accuracy = evaluate.load(\"accuracy\")\n",
    "\n",
    "def compute_metrics(eval_pred):\n",
    "    predictions, labels = eval_pred\n",
    "    predictions = np.argmax(predictions, axis=1)\n",
    "    avg_ones = np.mean(predictions)\n",
    "    acc = accuracy.compute(predictions=predictions, references=labels)\n",
    "    return {\"Accuracy\" : acc[\"accuracy\"], \"Avg Ones\" : avg_ones}"
   ]
  },
  {
   "cell_type": "code",
   "execution_count": 12,
   "metadata": {},
   "outputs": [],
   "source": [
    "training_args = TrainingArguments(\n",
    "    output_dir=\"gpt2_string_results\",\n",
    "    learning_rate=2e-5,\n",
    "    per_device_train_batch_size=8,\n",
    "    per_device_eval_batch_size=8,\n",
    "    num_train_epochs=num_epochs,\n",
    "    weight_decay=0.01,\n",
    "    evaluation_strategy=\"epoch\",\n",
    "    save_strategy=\"epoch\",\n",
    "    load_best_model_at_end=True,\n",
    "    logging_steps=5,\n",
    "    report_to=\"wandb\",\n",
    "    # run_name=\"gpt2-qed-str-tokenizer_default-vars_5-rules_8-train_2500-test_500\",\n",
    "    # run_name=\"gpt2-qed-str-tokenizer_default-vars_20-rules_10-train_2500-test_500\",\n",
    "    run_name=\"gpt2-qed-str-tokenizer_default-vars_20-rules_5-train_2500-test_500\",\n",
    ")\n",
    "\n",
    "trainer = Trainer(\n",
    "    model=model,\n",
    "    args=training_args,\n",
    "    train_dataset=qed_train_tokenized_dataset,\n",
    "    eval_dataset=qed_test_tokenized_dataset,\n",
    "    tokenizer=tokenizer,\n",
    "    data_collator=data_collator,\n",
    "    compute_metrics=compute_metrics,\n",
    ")"
   ]
  },
  {
   "cell_type": "code",
   "execution_count": 13,
   "metadata": {},
   "outputs": [
    {
     "name": "stderr",
     "output_type": "stream",
     "text": [
      "\u001b[34m\u001b[1mwandb\u001b[0m: Currently logged in as: \u001b[33makhare\u001b[0m (\u001b[33mtransformer_friends\u001b[0m). Use \u001b[1m`wandb login --relogin`\u001b[0m to force relogin\n"
     ]
    },
    {
     "data": {
      "text/html": [
       "Tracking run with wandb version 0.16.0"
      ],
      "text/plain": [
       "<IPython.core.display.HTML object>"
      ]
     },
     "metadata": {},
     "output_type": "display_data"
    },
    {
     "data": {
      "text/html": [
       "Run data is saved locally in <code>/home/akhare/repos/tf_logic/notebooks/wandb/run-20231110_145804-dtiymexn</code>"
      ],
      "text/plain": [
       "<IPython.core.display.HTML object>"
      ]
     },
     "metadata": {},
     "output_type": "display_data"
    },
    {
     "data": {
      "text/html": [
       "Syncing run <strong><a href='https://wandb.ai/transformer_friends/transformer_friends/runs/dtiymexn' target=\"_blank\">gpt2-qed-str-tokenizer_default-vars_20-rules_5-train_2500-test_500</a></strong> to <a href='https://wandb.ai/transformer_friends/transformer_friends' target=\"_blank\">Weights & Biases</a> (<a href='https://wandb.me/run' target=\"_blank\">docs</a>)<br/>"
      ],
      "text/plain": [
       "<IPython.core.display.HTML object>"
      ]
     },
     "metadata": {},
     "output_type": "display_data"
    },
    {
     "data": {
      "text/html": [
       " View project at <a href='https://wandb.ai/transformer_friends/transformer_friends' target=\"_blank\">https://wandb.ai/transformer_friends/transformer_friends</a>"
      ],
      "text/plain": [
       "<IPython.core.display.HTML object>"
      ]
     },
     "metadata": {},
     "output_type": "display_data"
    },
    {
     "data": {
      "text/html": [
       " View run at <a href='https://wandb.ai/transformer_friends/transformer_friends/runs/dtiymexn' target=\"_blank\">https://wandb.ai/transformer_friends/transformer_friends/runs/dtiymexn</a>"
      ],
      "text/plain": [
       "<IPython.core.display.HTML object>"
      ]
     },
     "metadata": {},
     "output_type": "display_data"
    },
    {
     "name": "stderr",
     "output_type": "stream",
     "text": [
      "/home/akhare/miniconda3/envs/tfl/lib/python3.11/site-packages/torch/nn/parallel/_functions.py:68: UserWarning: Was asked to gather along dimension 0, but all input tensors were scalars; will instead unsqueeze and return a vector.\n",
      "  warnings.warn('Was asked to gather along dimension 0, but all '\n"
     ]
    },
    {
     "name": "stdout",
     "output_type": "stream",
     "text": [
      "{'loss': 2.3253, 'learning_rate': 1.9873417721518987e-05, 'epoch': 0.06}\n",
      "{'loss': 0.2685, 'learning_rate': 1.974683544303798e-05, 'epoch': 0.13}\n"
     ]
    }
   ],
   "source": [
    "trainer.train()"
   ]
  },
  {
   "cell_type": "code",
   "execution_count": 14,
   "metadata": {},
   "outputs": [
    {
     "name": "stderr",
     "output_type": "stream",
     "text": [
      "wandb: WARNING Source type is set to 'repo' but some required information is missing from the environment. A job will not be created from this run. See https://docs.wandb.ai/guides/launch/create-job\n"
     ]
    },
    {
     "data": {
      "text/html": [
       " View run <strong style=\"color:#cdcd00\">gpt2-qed-str-tokenizer_default-vars_20-rules_10-train_2500-test_500</strong> at: <a href='https://wandb.ai/transformer_friends/transformer_friends/runs/613nbv4q' target=\"_blank\">https://wandb.ai/transformer_friends/transformer_friends/runs/613nbv4q</a><br/>Synced 5 W&B file(s), 0 media file(s), 0 artifact file(s) and 0 other file(s)"
      ],
      "text/plain": [
       "<IPython.core.display.HTML object>"
      ]
     },
     "metadata": {},
     "output_type": "display_data"
    },
    {
     "data": {
      "text/html": [
       "Find logs at: <code>./wandb/run-20231110_145255-613nbv4q/logs</code>"
      ],
      "text/plain": [
       "<IPython.core.display.HTML object>"
      ]
     },
     "metadata": {},
     "output_type": "display_data"
    }
   ],
   "source": [
    "wandb.finish()"
   ]
  }
 ],
 "metadata": {
  "kernelspec": {
   "display_name": "tfl",
   "language": "python",
   "name": "python3"
  },
  "language_info": {
   "codemirror_mode": {
    "name": "ipython",
    "version": 3
   },
   "file_extension": ".py",
   "mimetype": "text/x-python",
   "name": "python",
   "nbconvert_exporter": "python",
   "pygments_lexer": "ipython3",
   "version": "3.11.6"
  },
  "orig_nbformat": 4
 },
 "nbformat": 4,
 "nbformat_minor": 2
}
