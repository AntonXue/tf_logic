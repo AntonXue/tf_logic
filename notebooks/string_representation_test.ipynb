{
 "cells": [
  {
   "cell_type": "code",
   "execution_count": 15,
   "metadata": {},
   "outputs": [],
   "source": [
    "from transformers import AutoTokenizer, AutoModelForSequenceClassification, TrainingArguments, Trainer\n",
    "\n",
    "import sys\n",
    "import logging\n",
    "logging.getLogger().setLevel(logging.ERROR)\n",
    "logging.disable(sys.maxsize)\n",
    "\n",
    "from torch.utils.data import *\n",
    "from transformers import *\n",
    "sys.path.insert(0, \"..\")\n",
    "\n",
    "from models import *\n",
    "from logic import *\n",
    "from my_datasets import *\n",
    "\n",
    "from utils import *\n",
    "import numpy as np\n",
    "from tqdm import tqdm\n",
    "import evaluate\n",
    "\n",
    "from datasets import Dataset\n",
    "import os\n",
    "\n",
    "import wandb\n"
   ]
  },
  {
   "cell_type": "code",
   "execution_count": 16,
   "metadata": {},
   "outputs": [],
   "source": [
    "# set the wandb project where this run will be logged\n",
    "os.environ[\"WANDB_PROJECT\"]=\"transformer_friends\"\n",
    "os.environ[\"WANDB_LOG_MODEL\"] = \"checkpoint\" # log all model checkpoints\n",
    "\n",
    "# save your trained model checkpoint to wandb\n",
    "os.environ[\"WANDB_LOG_MODEL\"]=\"true\"\n",
    "\n",
    "# turn off watch to log faster\n",
    "os.environ[\"WANDB_WATCH\"]=\"false\""
   ]
  },
  {
   "cell_type": "code",
   "execution_count": 17,
   "metadata": {},
   "outputs": [],
   "source": [
    "n, r = 5, 8\n",
    "ap, bp, tp, sp = 0.2, 0.2, 0.4, 0.1\n",
    "\n",
    "nars = 3\n",
    "\n",
    "train_len = 2500\n",
    "test_len = 500\n",
    "num_epochs = 10\n",
    "# test_is_train = True"
   ]
  },
  {
   "cell_type": "code",
   "execution_count": 18,
   "metadata": {},
   "outputs": [],
   "source": [
    "### Datasets\n",
    "qed_train_dataset_config = OneShotQedDatasetConfig(r,n,ap,bp,tp,dataset_len=train_len,seed=1234)\n",
    "qed_test_dataset_config = OneShotQedDatasetConfig(r,n,ap,bp,tp,dataset_len=test_len,seed=2345)\n",
    "qed_train_dataset = OneShotQedEmbedsDataset(qed_train_dataset_config)\n",
    "qed_test_dataset = OneShotQedEmbedsDataset(qed_test_dataset_config)\n",
    "\n",
    "succ_train_dataset_config = OneStepStateDatasetConfig(r,n,ap,bp,tp,dataset_len=train_len,seed=1234)\n",
    "succ_test_dataset_config = OneStepStateDatasetConfig(r,n,ap,bp,tp,dataset_len=test_len,seed=2345)\n",
    "succ_train_dataset = OneStepStateEmbedsDataset(succ_train_dataset_config)\n",
    "succ_test_dataset = OneStepStateEmbedsDataset(succ_test_dataset_config)\n",
    "\n",
    "ars_train_dataset_config = AutoRegFixedStepsDatasetConfig(r,n,ap,bp,sp,nars,dataset_len=train_len,seed=1234)\n",
    "ars_test_dataset_config = AutoRegFixedStepsDatasetConfig(r,n,ap,bp,sp,nars,dataset_len=test_len,seed=2345)\n",
    "ars_train_dataset = AutoRegFixedStepsEmbedsDataset(ars_train_dataset_config)\n",
    "ars_test_dataset = AutoRegFixedStepsEmbedsDataset(ars_test_dataset_config)"
   ]
  },
  {
   "cell_type": "code",
   "execution_count": 19,
   "metadata": {},
   "outputs": [],
   "source": [
    "def stringify_rule(rule, var_sep_token):\n",
    "    \"\"\"\n",
    "    Create a rule of the form xi , xj , ... -> xa\n",
    "    from a one-hot vector of [<ants>, <cons>]\n",
    "    \"\"\"\n",
    "\n",
    "    n_vars = len(rule) // 2\n",
    "    ants = [f\"x{i}\" for i in range(n_vars) if rule[i]]\n",
    "    cons = [f\"x{i}\" for i in range(n_vars) if rule[n_vars+i]]\n",
    "    if len(ants) < 1:\n",
    "        ants = [\"empty\"]\n",
    "    if len(cons) < 1:\n",
    "        cons = [\"empty\"]\n",
    "    rule = var_sep_token.join(ants) + \" -> \" + var_sep_token.join(cons)\n",
    "    return rule\n",
    "\n",
    "def get_string_rep(dataset_item):\n",
    "    \"\"\"\n",
    "    Returns a string of the form:\n",
    "    [RULES_START] [RULE_START] ... [RULE_END] ... [RULES_END]\n",
    "    [THEOREM_START] ... [THEOREM_END]\n",
    "    [QED]\n",
    "    \"\"\"\n",
    "\n",
    "    # Define the placeholder tokens\n",
    "    var_sep_token = \" , \"\n",
    "    rules_start = \"[RULES_START]\"\n",
    "    rules_end = \"[RULES_END]\"\n",
    "    rule_start = \"[RULE_START]\"\n",
    "    rule_end = \"[RULE_END]\"\n",
    "    theorem_start = \"[THEOREM_START]\"\n",
    "    theorem_end = \"[THEOREM_END]\"\n",
    "    qed = \"[QED]\"\n",
    "\n",
    "    rules = dataset_item[\"rules\"]\n",
    "    theorem = dataset_item[\"theorem\"]\n",
    "\n",
    "    n_vars = len(theorem)\n",
    "\n",
    "    rule_strs = [rule_start + \" \" + stringify_rule(rule, var_sep_token) + \" \" + rule_end for rule in rules]\n",
    "    theorem_str = var_sep_token.join([f\"x{i}\" for i in range(n_vars) if theorem[i]])\n",
    "    theorem_str = theorem_start + \" \" + theorem_str + \" \" + theorem_end\n",
    "    rules_str = rules_start + \" \" + \" \".join(rule_strs) + \" \" + rules_end\n",
    "    return rules_str + \" \" + theorem_str + \" \" + qed\n"
   ]
  },
  {
   "cell_type": "code",
   "execution_count": 20,
   "metadata": {},
   "outputs": [
    {
     "name": "stdout",
     "output_type": "stream",
     "text": [
      "{'rules': tensor([[0, 0, 0, 0, 0, 0, 1, 0, 0, 0],\n",
      "        [0, 0, 0, 0, 0, 0, 0, 1, 0, 0],\n",
      "        [0, 0, 0, 0, 0, 0, 0, 0, 0, 0],\n",
      "        [0, 0, 0, 0, 0, 0, 1, 0, 0, 0],\n",
      "        [0, 0, 0, 0, 0, 0, 0, 0, 1, 0],\n",
      "        [0, 0, 0, 0, 1, 0, 0, 0, 0, 0],\n",
      "        [0, 0, 0, 0, 0, 0, 0, 1, 0, 0],\n",
      "        [0, 0, 0, 0, 1, 0, 1, 0, 0, 1]]), 'theorem': tensor([1, 0, 1, 0, 1]), 'labels': tensor(0)}\n",
      "[RULES_START] [RULE_START] empty -> x1 [RULE_END] [RULE_START] empty -> x2 [RULE_END] [RULE_START] empty -> empty [RULE_END] [RULE_START] empty -> x1 [RULE_END] [RULE_START] empty -> x3 [RULE_END] [RULE_START] x4 -> empty [RULE_END] [RULE_START] empty -> x2 [RULE_END] [RULE_START] x4 -> x1 , x4 [RULE_END] [RULES_END] [THEOREM_START] x0 , x2 , x4 [THEOREM_END] [QED]\n"
     ]
    }
   ],
   "source": [
    "print(qed_train_dataset[0])\n",
    "print(get_string_rep(qed_train_dataset[0]))"
   ]
  },
  {
   "cell_type": "code",
   "execution_count": 21,
   "metadata": {},
   "outputs": [
    {
     "name": "stderr",
     "output_type": "stream",
     "text": [
      "100%|██████████| 2500/2500 [00:01<00:00, 1369.11it/s]\n",
      "100%|██████████| 2500/2500 [00:01<00:00, 2201.01it/s]\n"
     ]
    },
    {
     "name": "stdout",
     "output_type": "stream",
     "text": [
      "Creating train dataset\n"
     ]
    },
    {
     "name": "stderr",
     "output_type": "stream",
     "text": [
      "100%|██████████| 500/500 [00:00<00:00, 1294.82it/s]\n",
      "100%|██████████| 500/500 [00:00<00:00, 2049.83it/s]"
     ]
    },
    {
     "name": "stdout",
     "output_type": "stream",
     "text": [
      "Creating test dataset\n"
     ]
    },
    {
     "name": "stderr",
     "output_type": "stream",
     "text": [
      "\n"
     ]
    }
   ],
   "source": [
    "# Create HuggingFace datasets for the QED task\n",
    "\n",
    "train_data = [get_string_rep(qed_train_dataset[i]) for i in tqdm(range(len(qed_train_dataset)))]\n",
    "train_labels = [qed_train_dataset[i][\"labels\"].item() for i in tqdm(range(len(qed_train_dataset)))]\n",
    "\n",
    "print(\"Creating train dataset\")\n",
    "qed_train_hf_dataset = Dataset.from_dict({\n",
    "    \"data\": train_data,\n",
    "    \"label\": train_labels\n",
    "}).with_format(\"torch\")\n",
    "\n",
    "test_data = [get_string_rep(qed_test_dataset[i]) for i in tqdm(range(len(qed_test_dataset)))]\n",
    "test_labels = [qed_test_dataset[i][\"labels\"].item() for i in tqdm(range(len(qed_test_dataset)))]\n",
    "\n",
    "print(\"Creating test dataset\")\n",
    "qed_test_hf_dataset = Dataset.from_dict({\n",
    "    \"data\": test_data,\n",
    "    \"label\": test_labels\n",
    "}).with_format(\"torch\")"
   ]
  },
  {
   "cell_type": "code",
   "execution_count": 22,
   "metadata": {},
   "outputs": [],
   "source": [
    "# Get the GPT-2 tokenizer\n",
    "\n",
    "tokenizer = AutoTokenizer.from_pretrained(\"gpt2\")\n",
    "tokenizer.pad_token = tokenizer.eos_token"
   ]
  },
  {
   "cell_type": "code",
   "execution_count": 23,
   "metadata": {},
   "outputs": [
    {
     "name": "stderr",
     "output_type": "stream",
     "text": [
      "Map: 100%|██████████| 2500/2500 [00:00<00:00, 7810.69 examples/s]\n",
      "Map: 100%|██████████| 500/500 [00:00<00:00, 7827.94 examples/s]\n"
     ]
    }
   ],
   "source": [
    "def tokenize_function(item):\n",
    "    return tokenizer(item[\"data\"], truncation=True)\n",
    "\n",
    "qed_train_tokenized_dataset = qed_train_hf_dataset.map(tokenize_function, batched=True)\n",
    "qed_test_tokenized_dataset = qed_test_hf_dataset.map(tokenize_function, batched=True)\n",
    "data_collator = DataCollatorWithPadding(tokenizer=tokenizer)"
   ]
  },
  {
   "cell_type": "code",
   "execution_count": 29,
   "metadata": {},
   "outputs": [],
   "source": [
    "model = AutoModelForSequenceClassification.from_pretrained(\n",
    "    \"gpt2\", num_labels=2\n",
    ")\n",
    "model.config.pad_token_id = tokenizer.pad_token_id"
   ]
  },
  {
   "cell_type": "code",
   "execution_count": 30,
   "metadata": {},
   "outputs": [],
   "source": [
    "accuracy = evaluate.load(\"accuracy\")\n",
    "\n",
    "def compute_metrics(eval_pred):\n",
    "    predictions, labels = eval_pred\n",
    "    predictions = np.argmax(predictions, axis=1)\n",
    "    avg_ones = np.mean(predictions)\n",
    "    acc = accuracy.compute(predictions=predictions, references=labels)\n",
    "    return {\"Accuracy\" : acc[\"accuracy\"], \"Avg Ones\" : avg_ones}"
   ]
  },
  {
   "cell_type": "code",
   "execution_count": 31,
   "metadata": {},
   "outputs": [],
   "source": [
    "training_args = TrainingArguments(\n",
    "    output_dir=\"gpt2_string_results\",\n",
    "    learning_rate=2e-5,\n",
    "    per_device_train_batch_size=16,\n",
    "    per_device_eval_batch_size=8,\n",
    "    num_train_epochs=num_epochs,\n",
    "    weight_decay=0.01,\n",
    "    evaluation_strategy=\"epoch\",\n",
    "    save_strategy=\"epoch\",\n",
    "    load_best_model_at_end=True,\n",
    "    logging_steps=5,\n",
    "    report_to=\"wandb\",\n",
    "    run_name=\"gpt2-qed-str-tokenizer_default-vars_5-rules_8-train_2500-test_500\",\n",
    ")\n",
    "\n",
    "trainer = Trainer(\n",
    "    model=model,\n",
    "    args=training_args,\n",
    "    train_dataset=qed_train_tokenized_dataset,\n",
    "    eval_dataset=qed_test_tokenized_dataset,\n",
    "    tokenizer=tokenizer,\n",
    "    data_collator=data_collator,\n",
    "    compute_metrics=compute_metrics,\n",
    ")"
   ]
  },
  {
   "cell_type": "code",
   "execution_count": 32,
   "metadata": {},
   "outputs": [
    {
     "data": {
      "text/html": [
       "Tracking run with wandb version 0.16.0"
      ],
      "text/plain": [
       "<IPython.core.display.HTML object>"
      ]
     },
     "metadata": {},
     "output_type": "display_data"
    },
    {
     "data": {
      "text/html": [
       "Run data is saved locally in <code>/home/akhare/repos/tf_logic/notebooks/wandb/run-20231110_113911-vxykbrhi</code>"
      ],
      "text/plain": [
       "<IPython.core.display.HTML object>"
      ]
     },
     "metadata": {},
     "output_type": "display_data"
    },
    {
     "data": {
      "text/html": [
       "Syncing run <strong><a href='https://wandb.ai/transformer_friends/transformer_friends/runs/vxykbrhi' target=\"_blank\">gpt2-qed-str-tokenizer_default-vars_5-rules_8-train_2500-test_500</a></strong> to <a href='https://wandb.ai/transformer_friends/transformer_friends' target=\"_blank\">Weights & Biases</a> (<a href='https://wandb.me/run' target=\"_blank\">docs</a>)<br/>"
      ],
      "text/plain": [
       "<IPython.core.display.HTML object>"
      ]
     },
     "metadata": {},
     "output_type": "display_data"
    },
    {
     "data": {
      "text/html": [
       " View project at <a href='https://wandb.ai/transformer_friends/transformer_friends' target=\"_blank\">https://wandb.ai/transformer_friends/transformer_friends</a>"
      ],
      "text/plain": [
       "<IPython.core.display.HTML object>"
      ]
     },
     "metadata": {},
     "output_type": "display_data"
    },
    {
     "data": {
      "text/html": [
       " View run at <a href='https://wandb.ai/transformer_friends/transformer_friends/runs/vxykbrhi' target=\"_blank\">https://wandb.ai/transformer_friends/transformer_friends/runs/vxykbrhi</a>"
      ],
      "text/plain": [
       "<IPython.core.display.HTML object>"
      ]
     },
     "metadata": {},
     "output_type": "display_data"
    },
    {
     "name": "stderr",
     "output_type": "stream",
     "text": [
      "/home/akhare/miniconda3/envs/tfl/lib/python3.11/site-packages/torch/nn/parallel/_functions.py:68: UserWarning: Was asked to gather along dimension 0, but all input tensors were scalars; will instead unsqueeze and return a vector.\n",
      "  warnings.warn('Was asked to gather along dimension 0, but all '\n"
     ]
    },
    {
     "name": "stdout",
     "output_type": "stream",
     "text": [
      "{'loss': 0.7517, 'learning_rate': 1.9750000000000002e-05, 'epoch': 0.12}\n",
      "{'loss': 0.6764, 'learning_rate': 1.95e-05, 'epoch': 0.25}\n",
      "{'loss': 0.6787, 'learning_rate': 1.925e-05, 'epoch': 0.38}\n",
      "{'loss': 0.7224, 'learning_rate': 1.9e-05, 'epoch': 0.5}\n",
      "{'loss': 0.6209, 'learning_rate': 1.8750000000000002e-05, 'epoch': 0.62}\n",
      "{'loss': 0.7466, 'learning_rate': 1.8500000000000002e-05, 'epoch': 0.75}\n",
      "{'loss': 0.6165, 'learning_rate': 1.825e-05, 'epoch': 0.88}\n",
      "{'loss': 0.6657, 'learning_rate': 1.8e-05, 'epoch': 1.0}\n",
      "{'eval_loss': 0.6144739985466003, 'eval_Accuracy': 0.62, 'eval_Avg Ones': 0.94, 'eval_runtime': 2.5078, 'eval_samples_per_second': 199.381, 'eval_steps_per_second': 6.38, 'epoch': 1.0}\n"
     ]
    },
    {
     "name": "stderr",
     "output_type": "stream",
     "text": [
      "/home/akhare/miniconda3/envs/tfl/lib/python3.11/site-packages/torch/nn/parallel/_functions.py:68: UserWarning: Was asked to gather along dimension 0, but all input tensors were scalars; will instead unsqueeze and return a vector.\n",
      "  warnings.warn('Was asked to gather along dimension 0, but all '\n"
     ]
    },
    {
     "name": "stdout",
     "output_type": "stream",
     "text": [
      "{'loss': 0.6399, 'learning_rate': 1.775e-05, 'epoch': 1.12}\n",
      "{'loss': 0.6104, 'learning_rate': 1.7500000000000002e-05, 'epoch': 1.25}\n",
      "{'loss': 0.5674, 'learning_rate': 1.7250000000000003e-05, 'epoch': 1.38}\n",
      "{'loss': 0.5395, 'learning_rate': 1.7e-05, 'epoch': 1.5}\n",
      "{'loss': 0.5649, 'learning_rate': 1.675e-05, 'epoch': 1.62}\n",
      "{'loss': 0.5362, 'learning_rate': 1.65e-05, 'epoch': 1.75}\n",
      "{'loss': 0.5346, 'learning_rate': 1.6250000000000002e-05, 'epoch': 1.88}\n",
      "{'loss': 0.5032, 'learning_rate': 1.6000000000000003e-05, 'epoch': 2.0}\n",
      "{'eval_loss': 0.4911639392375946, 'eval_Accuracy': 0.744, 'eval_Avg Ones': 0.724, 'eval_runtime': 2.4525, 'eval_samples_per_second': 203.875, 'eval_steps_per_second': 6.524, 'epoch': 2.0}\n"
     ]
    },
    {
     "name": "stderr",
     "output_type": "stream",
     "text": [
      "/home/akhare/miniconda3/envs/tfl/lib/python3.11/site-packages/torch/nn/parallel/_functions.py:68: UserWarning: Was asked to gather along dimension 0, but all input tensors were scalars; will instead unsqueeze and return a vector.\n",
      "  warnings.warn('Was asked to gather along dimension 0, but all '\n"
     ]
    },
    {
     "name": "stdout",
     "output_type": "stream",
     "text": [
      "{'loss': 0.5351, 'learning_rate': 1.575e-05, 'epoch': 2.12}\n",
      "{'loss': 0.5954, 'learning_rate': 1.55e-05, 'epoch': 2.25}\n",
      "{'loss': 0.5552, 'learning_rate': 1.525e-05, 'epoch': 2.38}\n",
      "{'loss': 0.5286, 'learning_rate': 1.5000000000000002e-05, 'epoch': 2.5}\n",
      "{'loss': 0.5612, 'learning_rate': 1.4750000000000003e-05, 'epoch': 2.62}\n",
      "{'loss': 0.5188, 'learning_rate': 1.45e-05, 'epoch': 2.75}\n",
      "{'loss': 0.5434, 'learning_rate': 1.425e-05, 'epoch': 2.88}\n",
      "{'loss': 0.4316, 'learning_rate': 1.4e-05, 'epoch': 3.0}\n",
      "{'eval_loss': 0.4522511959075928, 'eval_Accuracy': 0.794, 'eval_Avg Ones': 0.518, 'eval_runtime': 2.5292, 'eval_samples_per_second': 197.69, 'eval_steps_per_second': 6.326, 'epoch': 3.0}\n"
     ]
    },
    {
     "name": "stderr",
     "output_type": "stream",
     "text": [
      "/home/akhare/miniconda3/envs/tfl/lib/python3.11/site-packages/torch/nn/parallel/_functions.py:68: UserWarning: Was asked to gather along dimension 0, but all input tensors were scalars; will instead unsqueeze and return a vector.\n",
      "  warnings.warn('Was asked to gather along dimension 0, but all '\n"
     ]
    },
    {
     "name": "stdout",
     "output_type": "stream",
     "text": [
      "{'loss': 0.5351, 'learning_rate': 1.375e-05, 'epoch': 3.12}\n",
      "{'loss': 0.4798, 'learning_rate': 1.3500000000000001e-05, 'epoch': 3.25}\n",
      "{'loss': 0.4397, 'learning_rate': 1.325e-05, 'epoch': 3.38}\n",
      "{'loss': 0.5019, 'learning_rate': 1.3000000000000001e-05, 'epoch': 3.5}\n",
      "{'loss': 0.4527, 'learning_rate': 1.275e-05, 'epoch': 3.62}\n",
      "{'loss': 0.446, 'learning_rate': 1.25e-05, 'epoch': 3.75}\n",
      "{'loss': 0.4241, 'learning_rate': 1.2250000000000001e-05, 'epoch': 3.88}\n",
      "{'loss': 0.3905, 'learning_rate': 1.2e-05, 'epoch': 4.0}\n",
      "{'eval_loss': 0.3241040110588074, 'eval_Accuracy': 0.87, 'eval_Avg Ones': 0.654, 'eval_runtime': 2.4627, 'eval_samples_per_second': 203.033, 'eval_steps_per_second': 6.497, 'epoch': 4.0}\n"
     ]
    },
    {
     "name": "stderr",
     "output_type": "stream",
     "text": [
      "/home/akhare/miniconda3/envs/tfl/lib/python3.11/site-packages/torch/nn/parallel/_functions.py:68: UserWarning: Was asked to gather along dimension 0, but all input tensors were scalars; will instead unsqueeze and return a vector.\n",
      "  warnings.warn('Was asked to gather along dimension 0, but all '\n"
     ]
    },
    {
     "name": "stdout",
     "output_type": "stream",
     "text": [
      "{'loss': 0.375, 'learning_rate': 1.1750000000000001e-05, 'epoch': 4.12}\n",
      "{'loss': 0.3475, 'learning_rate': 1.15e-05, 'epoch': 4.25}\n",
      "{'loss': 0.3198, 'learning_rate': 1.125e-05, 'epoch': 4.38}\n",
      "{'loss': 0.3854, 'learning_rate': 1.1000000000000001e-05, 'epoch': 4.5}\n",
      "{'loss': 0.2687, 'learning_rate': 1.075e-05, 'epoch': 4.62}\n",
      "{'loss': 0.3705, 'learning_rate': 1.0500000000000001e-05, 'epoch': 4.75}\n",
      "{'loss': 0.3466, 'learning_rate': 1.025e-05, 'epoch': 4.88}\n",
      "{'loss': 0.46, 'learning_rate': 1e-05, 'epoch': 5.0}\n",
      "{'eval_loss': 0.20899423956871033, 'eval_Accuracy': 0.91, 'eval_Avg Ones': 0.634, 'eval_runtime': 2.4832, 'eval_samples_per_second': 201.35, 'eval_steps_per_second': 6.443, 'epoch': 5.0}\n"
     ]
    },
    {
     "name": "stderr",
     "output_type": "stream",
     "text": [
      "/home/akhare/miniconda3/envs/tfl/lib/python3.11/site-packages/torch/nn/parallel/_functions.py:68: UserWarning: Was asked to gather along dimension 0, but all input tensors were scalars; will instead unsqueeze and return a vector.\n",
      "  warnings.warn('Was asked to gather along dimension 0, but all '\n"
     ]
    },
    {
     "name": "stdout",
     "output_type": "stream",
     "text": [
      "{'loss': 0.32, 'learning_rate': 9.75e-06, 'epoch': 5.12}\n",
      "{'loss': 0.2938, 'learning_rate': 9.5e-06, 'epoch': 5.25}\n",
      "{'loss': 0.3078, 'learning_rate': 9.250000000000001e-06, 'epoch': 5.38}\n",
      "{'loss': 0.2776, 'learning_rate': 9e-06, 'epoch': 5.5}\n",
      "{'loss': 0.3013, 'learning_rate': 8.750000000000001e-06, 'epoch': 5.62}\n",
      "{'loss': 0.2351, 'learning_rate': 8.5e-06, 'epoch': 5.75}\n",
      "{'loss': 0.2832, 'learning_rate': 8.25e-06, 'epoch': 5.88}\n",
      "{'loss': 0.319, 'learning_rate': 8.000000000000001e-06, 'epoch': 6.0}\n",
      "{'eval_loss': 0.16874447464942932, 'eval_Accuracy': 0.926, 'eval_Avg Ones': 0.614, 'eval_runtime': 2.5059, 'eval_samples_per_second': 199.529, 'eval_steps_per_second': 6.385, 'epoch': 6.0}\n"
     ]
    },
    {
     "name": "stderr",
     "output_type": "stream",
     "text": [
      "/home/akhare/miniconda3/envs/tfl/lib/python3.11/site-packages/torch/nn/parallel/_functions.py:68: UserWarning: Was asked to gather along dimension 0, but all input tensors were scalars; will instead unsqueeze and return a vector.\n",
      "  warnings.warn('Was asked to gather along dimension 0, but all '\n"
     ]
    },
    {
     "name": "stdout",
     "output_type": "stream",
     "text": [
      "{'loss': 0.227, 'learning_rate': 7.75e-06, 'epoch': 6.12}\n",
      "{'loss': 0.3358, 'learning_rate': 7.500000000000001e-06, 'epoch': 6.25}\n",
      "{'loss': 0.2558, 'learning_rate': 7.25e-06, 'epoch': 6.38}\n",
      "{'loss': 0.253, 'learning_rate': 7e-06, 'epoch': 6.5}\n",
      "{'loss': 0.2509, 'learning_rate': 6.750000000000001e-06, 'epoch': 6.62}\n",
      "{'loss': 0.2001, 'learning_rate': 6.5000000000000004e-06, 'epoch': 6.75}\n",
      "{'loss': 0.2432, 'learning_rate': 6.25e-06, 'epoch': 6.88}\n",
      "{'loss': 0.1981, 'learning_rate': 6e-06, 'epoch': 7.0}\n",
      "{'eval_loss': 0.15518324077129364, 'eval_Accuracy': 0.94, 'eval_Avg Ones': 0.512, 'eval_runtime': 2.4965, 'eval_samples_per_second': 200.284, 'eval_steps_per_second': 6.409, 'epoch': 7.0}\n"
     ]
    },
    {
     "name": "stderr",
     "output_type": "stream",
     "text": [
      "/home/akhare/miniconda3/envs/tfl/lib/python3.11/site-packages/torch/nn/parallel/_functions.py:68: UserWarning: Was asked to gather along dimension 0, but all input tensors were scalars; will instead unsqueeze and return a vector.\n",
      "  warnings.warn('Was asked to gather along dimension 0, but all '\n"
     ]
    },
    {
     "name": "stdout",
     "output_type": "stream",
     "text": [
      "{'loss': 0.3484, 'learning_rate': 5.75e-06, 'epoch': 7.12}\n",
      "{'loss': 0.2414, 'learning_rate': 5.500000000000001e-06, 'epoch': 7.25}\n",
      "{'loss': 0.2104, 'learning_rate': 5.2500000000000006e-06, 'epoch': 7.38}\n",
      "{'loss': 0.2714, 'learning_rate': 5e-06, 'epoch': 7.5}\n",
      "{'loss': 0.2225, 'learning_rate': 4.75e-06, 'epoch': 7.62}\n",
      "{'loss': 0.1825, 'learning_rate': 4.5e-06, 'epoch': 7.75}\n",
      "{'loss': 0.2659, 'learning_rate': 4.25e-06, 'epoch': 7.88}\n",
      "{'loss': 0.2807, 'learning_rate': 4.000000000000001e-06, 'epoch': 8.0}\n",
      "{'eval_loss': 0.11215635389089584, 'eval_Accuracy': 0.954, 'eval_Avg Ones': 0.562, 'eval_runtime': 2.5005, 'eval_samples_per_second': 199.96, 'eval_steps_per_second': 6.399, 'epoch': 8.0}\n"
     ]
    },
    {
     "name": "stderr",
     "output_type": "stream",
     "text": [
      "/home/akhare/miniconda3/envs/tfl/lib/python3.11/site-packages/torch/nn/parallel/_functions.py:68: UserWarning: Was asked to gather along dimension 0, but all input tensors were scalars; will instead unsqueeze and return a vector.\n",
      "  warnings.warn('Was asked to gather along dimension 0, but all '\n"
     ]
    },
    {
     "name": "stdout",
     "output_type": "stream",
     "text": [
      "{'loss': 0.2049, 'learning_rate': 3.7500000000000005e-06, 'epoch': 8.12}\n",
      "{'loss': 0.2116, 'learning_rate': 3.5e-06, 'epoch': 8.25}\n",
      "{'loss': 0.1886, 'learning_rate': 3.2500000000000002e-06, 'epoch': 8.38}\n",
      "{'loss': 0.1485, 'learning_rate': 3e-06, 'epoch': 8.5}\n",
      "{'loss': 0.2176, 'learning_rate': 2.7500000000000004e-06, 'epoch': 8.62}\n",
      "{'loss': 0.1789, 'learning_rate': 2.5e-06, 'epoch': 8.75}\n",
      "{'loss': 0.2103, 'learning_rate': 2.25e-06, 'epoch': 8.88}\n",
      "{'loss': 0.2271, 'learning_rate': 2.0000000000000003e-06, 'epoch': 9.0}\n",
      "{'eval_loss': 0.10437647253274918, 'eval_Accuracy': 0.956, 'eval_Avg Ones': 0.556, 'eval_runtime': 2.7383, 'eval_samples_per_second': 182.592, 'eval_steps_per_second': 5.843, 'epoch': 9.0}\n"
     ]
    },
    {
     "name": "stderr",
     "output_type": "stream",
     "text": [
      "/home/akhare/miniconda3/envs/tfl/lib/python3.11/site-packages/torch/nn/parallel/_functions.py:68: UserWarning: Was asked to gather along dimension 0, but all input tensors were scalars; will instead unsqueeze and return a vector.\n",
      "  warnings.warn('Was asked to gather along dimension 0, but all '\n"
     ]
    },
    {
     "name": "stdout",
     "output_type": "stream",
     "text": [
      "{'loss': 0.1843, 'learning_rate': 1.75e-06, 'epoch': 9.12}\n",
      "{'loss': 0.1853, 'learning_rate': 1.5e-06, 'epoch': 9.25}\n",
      "{'loss': 0.1865, 'learning_rate': 1.25e-06, 'epoch': 9.38}\n",
      "{'loss': 0.1931, 'learning_rate': 1.0000000000000002e-06, 'epoch': 9.5}\n",
      "{'loss': 0.168, 'learning_rate': 7.5e-07, 'epoch': 9.62}\n",
      "{'loss': 0.2334, 'learning_rate': 5.000000000000001e-07, 'epoch': 9.75}\n",
      "{'loss': 0.1948, 'learning_rate': 2.5000000000000004e-07, 'epoch': 9.88}\n",
      "{'loss': 0.132, 'learning_rate': 0.0, 'epoch': 10.0}\n",
      "{'eval_loss': 0.10013871639966965, 'eval_Accuracy': 0.95, 'eval_Avg Ones': 0.566, 'eval_runtime': 2.4614, 'eval_samples_per_second': 203.133, 'eval_steps_per_second': 6.5, 'epoch': 10.0}\n",
      "{'train_runtime': 347.3833, 'train_samples_per_second': 71.967, 'train_steps_per_second': 1.151, 'train_loss': 0.3772153198719025, 'epoch': 10.0}\n"
     ]
    },
    {
     "name": "stderr",
     "output_type": "stream",
     "text": [
      "wandb: WARNING Source type is set to 'repo' but some required information is missing from the environment. A job will not be created from this run. See https://docs.wandb.ai/guides/launch/create-job\n"
     ]
    },
    {
     "data": {
      "text/html": [
       "<style>\n",
       "    table.wandb td:nth-child(1) { padding: 0 10px; text-align: left ; width: auto;} td:nth-child(2) {text-align: left ; width: 100%}\n",
       "    .wandb-row { display: flex; flex-direction: row; flex-wrap: wrap; justify-content: flex-start; width: 100% }\n",
       "    .wandb-col { display: flex; flex-direction: column; flex-basis: 100%; flex: 1; padding: 10px; }\n",
       "    </style>\n",
       "<div class=\"wandb-row\"><div class=\"wandb-col\"><h3>Run history:</h3><br/><table class=\"wandb\"><tr><td>eval/Accuracy</td><td>▁▄▅▆▇▇████</td></tr><tr><td>eval/Avg Ones</td><td>█▄▁▃▃▃▁▂▂▂</td></tr><tr><td>eval/loss</td><td>█▆▆▄▂▂▂▁▁▁</td></tr><tr><td>eval/runtime</td><td>▂▁▃▁▂▂▂▂█▁</td></tr><tr><td>eval/samples_per_second</td><td>▇█▆█▇▇▇▇▁█</td></tr><tr><td>eval/steps_per_second</td><td>▇█▆█▇▇▇▇▁█</td></tr><tr><td>train/epoch</td><td>▁▁▁▂▂▂▂▂▂▃▃▃▃▃▄▄▄▄▄▄▅▅▅▅▅▆▆▆▆▆▆▇▇▇▇▇████</td></tr><tr><td>train/global_step</td><td>▁▁▁▂▂▂▂▂▂▃▃▃▃▃▄▄▄▄▄▄▅▅▅▅▅▆▆▆▆▆▆▇▇▇▇▇████</td></tr><tr><td>train/learning_rate</td><td>███▇▇▇▇▇▇▆▆▆▆▆▆▅▅▅▅▅▄▄▄▄▄▄▃▃▃▃▃▃▂▂▂▂▂▁▁▁</td></tr><tr><td>train/loss</td><td>█▇▇▆▇▆▆▆▆▆▆▆▆▄▅▄▄▃▃▃▃▃▃▃▂▂▂▂▃▂▂▃▂▂▂▂▂▂▁▁</td></tr><tr><td>train/total_flos</td><td>▁</td></tr><tr><td>train/train_loss</td><td>▁</td></tr><tr><td>train/train_runtime</td><td>▁</td></tr><tr><td>train/train_samples_per_second</td><td>▁</td></tr><tr><td>train/train_steps_per_second</td><td>▁</td></tr></table><br/></div><div class=\"wandb-col\"><h3>Run summary:</h3><br/><table class=\"wandb\"><tr><td>eval/Accuracy</td><td>0.95</td></tr><tr><td>eval/Avg Ones</td><td>0.566</td></tr><tr><td>eval/loss</td><td>0.10014</td></tr><tr><td>eval/runtime</td><td>2.4614</td></tr><tr><td>eval/samples_per_second</td><td>203.133</td></tr><tr><td>eval/steps_per_second</td><td>6.5</td></tr><tr><td>train/epoch</td><td>10.0</td></tr><tr><td>train/global_step</td><td>400</td></tr><tr><td>train/learning_rate</td><td>0.0</td></tr><tr><td>train/loss</td><td>0.132</td></tr><tr><td>train/total_flos</td><td>2698854523011072.0</td></tr><tr><td>train/train_loss</td><td>0.37722</td></tr><tr><td>train/train_runtime</td><td>347.3833</td></tr><tr><td>train/train_samples_per_second</td><td>71.967</td></tr><tr><td>train/train_steps_per_second</td><td>1.151</td></tr></table><br/></div></div>"
      ],
      "text/plain": [
       "<IPython.core.display.HTML object>"
      ]
     },
     "metadata": {},
     "output_type": "display_data"
    },
    {
     "data": {
      "text/html": [
       " View run <strong style=\"color:#cdcd00\">gpt2-qed-str-tokenizer_default-vars_5-rules_8-train_2500-test_500</strong> at: <a href='https://wandb.ai/transformer_friends/transformer_friends/runs/vxykbrhi' target=\"_blank\">https://wandb.ai/transformer_friends/transformer_friends/runs/vxykbrhi</a><br/>Synced 6 W&B file(s), 0 media file(s), 8 artifact file(s) and 0 other file(s)"
      ],
      "text/plain": [
       "<IPython.core.display.HTML object>"
      ]
     },
     "metadata": {},
     "output_type": "display_data"
    },
    {
     "data": {
      "text/html": [
       "Find logs at: <code>./wandb/run-20231110_113911-vxykbrhi/logs</code>"
      ],
      "text/plain": [
       "<IPython.core.display.HTML object>"
      ]
     },
     "metadata": {},
     "output_type": "display_data"
    }
   ],
   "source": [
    "trainer.train()\n",
    "wandb.finish()"
   ]
  }
 ],
 "metadata": {
  "kernelspec": {
   "display_name": "tfl",
   "language": "python",
   "name": "python3"
  },
  "language_info": {
   "codemirror_mode": {
    "name": "ipython",
    "version": 3
   },
   "file_extension": ".py",
   "mimetype": "text/x-python",
   "name": "python",
   "nbconvert_exporter": "python",
   "pygments_lexer": "ipython3",
   "version": "3.11.6"
  },
  "orig_nbformat": 4
 },
 "nbformat": 4,
 "nbformat_minor": 2
}
