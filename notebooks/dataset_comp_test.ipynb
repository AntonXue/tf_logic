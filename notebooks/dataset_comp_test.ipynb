{
 "cells": [
  {
   "cell_type": "code",
   "execution_count": 1,
   "id": "3ab3d7c4-9ee9-4fff-bc24-b67f212d1f26",
   "metadata": {},
   "outputs": [],
   "source": [
    "import sys\n",
    "sys.path.insert(0, \"..\")\n",
    "\n",
    "from tqdm import tqdm\n",
    "import torch\n",
    "from my_datasets import *"
   ]
  },
  {
   "cell_type": "code",
   "execution_count": 2,
   "id": "3fa6b56e-a0a8-424b-98eb-da439848a643",
   "metadata": {},
   "outputs": [],
   "source": [
    "n, r, ap, bp, cl = 8, 160, 0.5, 0.5, 4"
   ]
  },
  {
   "cell_type": "code",
   "execution_count": null,
   "id": "8af48c7e-965b-476c-9bbb-42ce18c577a6",
   "metadata": {},
   "outputs": [],
   "source": []
  },
  {
   "cell_type": "code",
   "execution_count": 3,
   "id": "9e6d7bf6-05a8-4897-aeb9-cb88fc0978dd",
   "metadata": {},
   "outputs": [],
   "source": [
    "# def compose(rules1, rules2):\n",
    "#     all_as, all_bs = [], []\n",
    "#     for r1 in rules1:\n",
    "#         a1, b1 = r1.chunk(2)\n",
    "#         for r2 in rules2:\n",
    "#             a2, b2 = r2.chunk(2)\n",
    "#             # new_a = (a1 + a2 - b1).clamp(0,1)\n",
    "#             new_a = (a1 + (a2 - b1).clamp(0,1)).clamp(0,1)\n",
    "#             new_b = (b1 + b2).clamp(0,1)\n",
    "#             all_as.append(new_a)\n",
    "#             all_bs.append(new_b)\n",
    "#     all_as = torch.stack(all_as)\n",
    "#     all_bs = torch.stack(all_bs)\n",
    "#     return torch.cat([all_as, all_bs], dim=1).long()\n",
    "\n",
    "def compose(rules1, rules2):\n",
    "    all_as, all_bs = [], []\n",
    "    for r1 in rules1:\n",
    "        a, b = r1.chunk(2)\n",
    "        z, _ = step_rules(rules1[None,...], a.view(1,-1))\n",
    "        new_b, _ = step_rules(rules2[None,...], z.view(1,-1))\n",
    "        all_as.append(a)\n",
    "        all_bs.append(new_b)\n",
    "    all_as = torch.stack(all_as)\n",
    "    all_bs = torch.cat(all_bs, dim=0)\n",
    "    return torch.cat([all_as, all_bs], dim=1).long()"
   ]
  },
  {
   "cell_type": "code",
   "execution_count": null,
   "id": "fefc6330-eadf-447e-966b-0472e486409b",
   "metadata": {},
   "outputs": [],
   "source": []
  },
  {
   "cell_type": "code",
   "execution_count": 4,
   "id": "42b32439-0b67-47f7-8b4c-33fc4e7ed5b1",
   "metadata": {},
   "outputs": [
    {
     "name": "stderr",
     "output_type": "stream",
     "text": [
      "100%|██████████| 100/100 [00:07<00:00, 13.34it/s]\n"
     ]
    }
   ],
   "source": [
    "torch.manual_seed(1234)\n",
    "pbar = tqdm(range(100))\n",
    "for i in pbar:\n",
    "    dictA = random_rules_with_chain(\n",
    "        num_rules = r,\n",
    "        num_vars = n,\n",
    "        ante_prob = ap,\n",
    "        conseq_prob = bp,\n",
    "        chain_len = cl,\n",
    "        return_dict = True)\n",
    "    rulesA = dictA[\"rules\"]\n",
    "\n",
    "    dictB = random_rules_with_chain(\n",
    "        num_rules = r,\n",
    "        num_vars = n,\n",
    "        ante_prob = ap,\n",
    "        conseq_prob = bp,\n",
    "        chain_len = cl,\n",
    "        return_dict = True)\n",
    "    rulesB = dictB[\"rules\"]\n",
    "\n",
    "    rulesB[:,0:n] = rulesA[:,0:n]\n",
    "\n",
    "    s0 = torch.zeros(1,n)\n",
    "    # s0 = torch.randint(0,2,(1,n))\n",
    "\n",
    "    rulesAA = compose(rulesA, rulesA)\n",
    "    rulesAAA1 = compose(rulesA, rulesAA)\n",
    "    rulesAAA2 = compose(rulesAA, rulesA)\n",
    "    rulesAAAA = compose(rulesAA, rulesAA)\n",
    "    rulesAB = compose(rulesA, rulesB)\n",
    "\n",
    "    sa, _ = step_rules(rulesA[None,...], s0)\n",
    "    saa, _ = step_rules(rulesA[None,...], sa)\n",
    "    sab, _ = step_rules(rulesB[None,...], sa)\n",
    "    saaa = kstep_rules(rulesA[None,...], s0, num_steps=3)\n",
    "    saaaa = kstep_rules(rulesA[None,...], s0, num_steps=4)\n",
    "                      \n",
    "    scaa, _ = step_rules(rulesAA[None,...], s0)\n",
    "    scab, _ = step_rules(rulesAB[None,...], s0)\n",
    "\n",
    "    scaaa1, _ = step_rules(rulesAAA1[None,...], s0)\n",
    "    scaaa2, _ = step_rules(rulesAAA2[None,...], s0)\n",
    "    scaaaa, _ = step_rules(rulesAAAA[None,...], s0)\n",
    "\n",
    "    aa_diff = (saa - scaa).abs().sum()\n",
    "    ab_diff = (sab - scab).abs().sum()\n",
    "\n",
    "    aaa1_diff = (saaa - scaaa1).abs().sum()\n",
    "    aaa2_diff = (saaa - scaaa2).abs().sum()\n",
    "    aaaa_diff = (saaaa - scaaaa).abs().sum()\n",
    "\n",
    "    if aa_diff > 0 or ab_diff > 0 or aaa1_diff > 0 or aaa2_diff > 0 or aaaa_diff > 0:\n",
    "        break"
   ]
  },
  {
   "cell_type": "code",
   "execution_count": null,
   "id": "aa227c80-5009-4012-9448-551ec7fa1827",
   "metadata": {},
   "outputs": [],
   "source": []
  },
  {
   "cell_type": "code",
   "execution_count": 5,
   "id": "6e39b3a5-2972-4ad2-939e-472aa576c732",
   "metadata": {},
   "outputs": [
    {
     "data": {
      "text/plain": [
       "tensor([[0., 0., 0., 0., 0., 0., 0., 0.]])"
      ]
     },
     "execution_count": 5,
     "metadata": {},
     "output_type": "execute_result"
    }
   ],
   "source": [
    "s0"
   ]
  },
  {
   "cell_type": "code",
   "execution_count": 6,
   "id": "a67d3b16-4d9e-4a2a-9c7e-0daef7701adb",
   "metadata": {},
   "outputs": [
    {
     "data": {
      "text/plain": [
       "tensor([[1, 1, 0, 0, 0, 1, 1, 1]])"
      ]
     },
     "execution_count": 6,
     "metadata": {},
     "output_type": "execute_result"
    }
   ],
   "source": [
    "scaa"
   ]
  },
  {
   "cell_type": "code",
   "execution_count": 7,
   "id": "26dc0d81-289b-4cfa-a77f-fd82828938cd",
   "metadata": {},
   "outputs": [
    {
     "data": {
      "text/plain": [
       "tensor([[1, 1, 0, 0, 0, 1, 1, 1]])"
      ]
     },
     "execution_count": 7,
     "metadata": {},
     "output_type": "execute_result"
    }
   ],
   "source": [
    "saa"
   ]
  },
  {
   "cell_type": "code",
   "execution_count": 8,
   "id": "87fb84c8-5fd3-4011-a97d-5caca5322891",
   "metadata": {},
   "outputs": [
    {
     "data": {
      "text/plain": [
       "{'rules': tensor([[[0, 0, 0,  ..., 0, 1, 1],\n",
       "          [0, 0, 0,  ..., 1, 0, 1],\n",
       "          [0, 1, 0,  ..., 1, 0, 1],\n",
       "          ...,\n",
       "          [0, 1, 0,  ..., 0, 1, 0],\n",
       "          [1, 1, 0,  ..., 0, 0, 0],\n",
       "          [1, 1, 0,  ..., 0, 0, 0]]]),\n",
       " 'theorem': tensor([[1., 1., 1., 1., 1., 1., 1., 1.]]),\n",
       " 'qed': tensor([0]),\n",
       " 'states': tensor([[[1, 0, 0, 0, 0, 1, 1, 1],\n",
       "          [1, 1, 0, 0, 0, 1, 1, 1],\n",
       "          [1, 1, 1, 0, 0, 1, 1, 1],\n",
       "          [1, 1, 1, 0, 1, 1, 1, 1],\n",
       "          [1, 1, 1, 0, 1, 1, 1, 1],\n",
       "          [1, 1, 1, 0, 1, 1, 1, 1],\n",
       "          [1, 1, 1, 0, 1, 1, 1, 1],\n",
       "          [1, 1, 1, 0, 1, 1, 1, 1]]]),\n",
       " 'hits': tensor([[[1, 0, 0,  ..., 0, 0, 0],\n",
       "          [1, 1, 0,  ..., 0, 0, 0],\n",
       "          [1, 1, 1,  ..., 0, 0, 0],\n",
       "          ...,\n",
       "          [1, 1, 1,  ..., 0, 0, 0],\n",
       "          [1, 1, 1,  ..., 0, 0, 0],\n",
       "          [1, 1, 1,  ..., 0, 0, 0]]]),\n",
       " 'chain_len': tensor([4])}"
      ]
     },
     "execution_count": 8,
     "metadata": {},
     "output_type": "execute_result"
    }
   ],
   "source": [
    "qed = prove_theorem(rulesA[None,...], torch.ones(1,n))\n",
    "qed"
   ]
  },
  {
   "cell_type": "code",
   "execution_count": 9,
   "id": "21567617-81d3-4ad5-8dd5-cf14413a53dc",
   "metadata": {},
   "outputs": [
    {
     "data": {
      "text/plain": [
       "{'rules': tensor([[0, 0, 0,  ..., 0, 1, 1],\n",
       "         [0, 0, 0,  ..., 1, 0, 1],\n",
       "         [0, 1, 0,  ..., 1, 0, 1],\n",
       "         ...,\n",
       "         [0, 1, 0,  ..., 0, 1, 0],\n",
       "         [1, 1, 0,  ..., 0, 0, 0],\n",
       "         [1, 1, 0,  ..., 0, 0, 0]]),\n",
       " 'init_state': tensor([0., 0., 0., 0., 0., 0., 0., 0.]),\n",
       " 'chain_bits': tensor([6, 1, 2, 4]),\n",
       " 'other_bits': tensor([7, 5, 0]),\n",
       " 'bad_bit': tensor(3)}"
      ]
     },
     "execution_count": 9,
     "metadata": {},
     "output_type": "execute_result"
    }
   ],
   "source": [
    "dictA"
   ]
  },
  {
   "cell_type": "code",
   "execution_count": 10,
   "id": "1cec969b-1955-4ee5-bfb6-ea767daf23de",
   "metadata": {},
   "outputs": [
    {
     "data": {
      "text/plain": [
       "tensor([[0, 0, 0,  ..., 0, 1, 1],\n",
       "        [0, 0, 0,  ..., 1, 0, 1],\n",
       "        [0, 1, 0,  ..., 1, 0, 1],\n",
       "        ...,\n",
       "        [0, 1, 0,  ..., 0, 1, 0],\n",
       "        [1, 1, 0,  ..., 0, 0, 0],\n",
       "        [1, 1, 0,  ..., 0, 0, 0]])"
      ]
     },
     "execution_count": 10,
     "metadata": {},
     "output_type": "execute_result"
    }
   ],
   "source": [
    "rulesA"
   ]
  },
  {
   "cell_type": "code",
   "execution_count": null,
   "id": "11b6959f-94b3-4e39-80f7-97da2aba9030",
   "metadata": {},
   "outputs": [],
   "source": []
  },
  {
   "cell_type": "code",
   "execution_count": null,
   "id": "3f339ef0-42dd-4325-8088-f94b97ded3e6",
   "metadata": {},
   "outputs": [],
   "source": []
  }
 ],
 "metadata": {
  "kernelspec": {
   "display_name": "Python 3 (ipykernel)",
   "language": "python",
   "name": "python3"
  },
  "language_info": {
   "codemirror_mode": {
    "name": "ipython",
    "version": 3
   },
   "file_extension": ".py",
   "mimetype": "text/x-python",
   "name": "python",
   "nbconvert_exporter": "python",
   "pygments_lexer": "ipython3",
   "version": "3.10.13"
  }
 },
 "nbformat": 4,
 "nbformat_minor": 5
}
