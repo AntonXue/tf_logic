{
 "cells": [
  {
   "cell_type": "code",
   "execution_count": 3,
   "id": "3ab3d7c4-9ee9-4fff-bc24-b67f212d1f26",
   "metadata": {},
   "outputs": [],
   "source": [
    "import sys\n",
    "sys.path.insert(0, \"..\")\n",
    "\n",
    "from tqdm import tqdm\n",
    "import torch\n",
    "from my_datasets import *"
   ]
  },
  {
   "cell_type": "code",
   "execution_count": 4,
   "id": "3fa6b56e-a0a8-424b-98eb-da439848a643",
   "metadata": {},
   "outputs": [],
   "source": [
    "n, r, ap, bp, cl = 8, 8, 0.2, 0.2, 4"
   ]
  },
  {
   "cell_type": "code",
   "execution_count": null,
   "id": "8af48c7e-965b-476c-9bbb-42ce18c577a6",
   "metadata": {},
   "outputs": [],
   "source": []
  },
  {
   "cell_type": "code",
   "execution_count": 20,
   "id": "9e6d7bf6-05a8-4897-aeb9-cb88fc0978dd",
   "metadata": {},
   "outputs": [],
   "source": [
    "def old_compose(rules1, rules2):\n",
    "    all_as, all_bs = [], []\n",
    "    for r1 in rules1:\n",
    "        a, b = r1.chunk(2)\n",
    "        z, _ = step_rules(rules1[None,...], a.view(1,-1))\n",
    "        new_b, _ = step_rules(rules2[None,...], z.view(1,-1))\n",
    "        all_as.append(a)\n",
    "        all_bs.append(new_b)\n",
    "    all_as = torch.stack(all_as)\n",
    "    all_bs = torch.cat(all_bs, dim=0)\n",
    "    return torch.cat([all_as, all_bs], dim=1).long()\n",
    "\n",
    "def compose(rules1, rules2):\n",
    "    all_as, all_bs = [], []\n",
    "    for r1 in rules1:\n",
    "        a, b = r1.chunk(2)\n",
    "        z, _ = step_rules(rules1[None,...], a.view(1,-1))\n",
    "        # new_b, _ = step_rules(rules2[None,...], z.view(1,-1))\n",
    "        new_b = z\n",
    "\n",
    "        # all_as.append(a)\n",
    "        \n",
    "        y, _ = step_rules(rules1[None,...], torch.zeros(1,n))\n",
    "        all_as.append((a - y.squeeze()).clamp(0,1))\n",
    "        all_bs.append(new_b)\n",
    "    all_as = torch.stack(all_as)\n",
    "    all_bs = torch.cat(all_bs, dim=0)\n",
    "    return torch.cat([all_as, all_bs], dim=1).long()\n",
    "\n",
    "# def compose(rules1, rules2):\n",
    "#     all_as, all_bs = [], []\n",
    "#     for r1 in rules1:\n",
    "#         a, b = r1.chunk(2)\n",
    "#         z, _ = step_rules(rules1[None,...], a.view(1,-1))\n",
    "#         new_b, _ = step_rules(rules2[None,...], z.view(1,-1))\n",
    "#         all_as.append(a)\n",
    "#         all_bs.append(new_b)\n",
    "\n",
    "#     for r1 in rules1:\n",
    "#         a1, b1 = r1.chunk(2)\n",
    "#         for r2 in rules2:\n",
    "#             a2, b2 = r2.chunk(2)\n",
    "#             all_as.append((a1 + (a2 - b1).clamp(0,1)).clamp(0,1))\n",
    "#             all_bs.append((b1 + b2).clamp(0,1).view(1,-1))\n",
    "            \n",
    "#             all_as.append((a2 + (a1 - b2).clamp(0,1)).clamp(0,1))\n",
    "#             all_bs.append((b1 + b2).clamp(0,1).view(1,-1))\n",
    "#     all_as = torch.stack(all_as)\n",
    "#     all_bs = torch.cat(all_bs, dim=0)\n",
    "#     return torch.cat([all_as, all_bs], dim=1).long()\n"
   ]
  },
  {
   "cell_type": "code",
   "execution_count": null,
   "id": "fefc6330-eadf-447e-966b-0472e486409b",
   "metadata": {},
   "outputs": [],
   "source": []
  },
  {
   "cell_type": "code",
   "execution_count": 21,
   "id": "42b32439-0b67-47f7-8b4c-33fc4e7ed5b1",
   "metadata": {},
   "outputs": [
    {
     "name": "stderr",
     "output_type": "stream",
     "text": [
      "  0%|          | 0/100 [00:00<?, ?it/s]\n"
     ]
    }
   ],
   "source": [
    "torch.manual_seed(1234)\n",
    "pbar = tqdm(range(100))\n",
    "for i in pbar:\n",
    "    dictA = random_rules_with_chain(\n",
    "        num_rules = r,\n",
    "        num_vars = n,\n",
    "        ante_prob = ap,\n",
    "        conseq_prob = bp,\n",
    "        chain_len = cl,\n",
    "        return_dict = True)\n",
    "    rulesA = dictA[\"rules\"]\n",
    "\n",
    "    dictB = random_rules_with_chain(\n",
    "        num_rules = r,\n",
    "        num_vars = n, \n",
    "        ante_prob = ap,\n",
    "        conseq_prob = bp,\n",
    "        chain_len = cl,\n",
    "        return_dict = True)\n",
    "    rulesB = dictB[\"rules\"]\n",
    "\n",
    "    rulesB[:,0:n] = rulesA[:,0:n]\n",
    "\n",
    "    s0 = torch.zeros(1,n)\n",
    "    # s0 = torch.randint(0,2,(1,n))\n",
    "\n",
    "    rulesAA = compose(rulesA, rulesA)\n",
    "    rulesAAA1 = compose(rulesA, rulesAA)\n",
    "    rulesAAA2 = compose(rulesAA, rulesA)\n",
    "    rulesAAAA = compose(rulesAA, rulesAA)\n",
    "    rulesAB = compose(rulesA, rulesB)\n",
    "\n",
    "    sa, _ = step_rules(rulesA[None,...], s0)\n",
    "    saa, _ = step_rules(rulesA[None,...], sa)\n",
    "    sab, _ = step_rules(rulesB[None,...], sa)\n",
    "    saaa = kstep_rules(rulesA[None,...], s0, num_steps=3)\n",
    "    saaaa = kstep_rules(rulesA[None,...], s0, num_steps=4)\n",
    "                      \n",
    "    scaa, _ = step_rules(rulesAA[None,...], s0)\n",
    "    scab, _ = step_rules(rulesAB[None,...], s0)\n",
    "\n",
    "    scaaa1, _ = step_rules(rulesAAA1[None,...], s0)\n",
    "    scaaa2, _ = step_rules(rulesAAA2[None,...], s0)\n",
    "    scaaaa, _ = step_rules(rulesAAAA[None,...], s0)\n",
    "\n",
    "    aa_diff = (saa - scaa).abs().sum()\n",
    "    ab_diff = (sab - scab).abs().sum()\n",
    "\n",
    "    aaa1_diff = (saaa - scaaa1).abs().sum()\n",
    "    aaa2_diff = (saaa - scaaa2).abs().sum()\n",
    "    aaaa_diff = (saaaa - scaaaa).abs().sum()\n",
    "\n",
    "    if aa_diff > 0 or ab_diff > 0 or aaa1_diff > 0 or aaa2_diff > 0 or aaaa_diff > 0:\n",
    "        break"
   ]
  },
  {
   "cell_type": "code",
   "execution_count": null,
   "id": "a7193800-a228-4846-8166-09f23ae377d5",
   "metadata": {},
   "outputs": [],
   "source": []
  },
  {
   "cell_type": "code",
   "execution_count": 22,
   "id": "7b89f583-310d-46ba-bfd9-13da4c088024",
   "metadata": {},
   "outputs": [
    {
     "data": {
      "text/plain": [
       "tensor(0)"
      ]
     },
     "execution_count": 22,
     "metadata": {},
     "output_type": "execute_result"
    }
   ],
   "source": [
    "aa_diff"
   ]
  },
  {
   "cell_type": "code",
   "execution_count": 23,
   "id": "aa227c80-5009-4012-9448-551ec7fa1827",
   "metadata": {},
   "outputs": [
    {
     "data": {
      "text/plain": [
       "(tensor([[0, 1, 0, 0, 1, 1, 1, 1, 0, 1]]),\n",
       " tensor([[0, 1, 0, 0, 1, 1, 1, 1, 0, 1]]))"
      ]
     },
     "execution_count": 23,
     "metadata": {},
     "output_type": "execute_result"
    }
   ],
   "source": [
    "saa, scaa"
   ]
  },
  {
   "cell_type": "code",
   "execution_count": 24,
   "id": "87fb84c8-5fd3-4011-a97d-5caca5322891",
   "metadata": {},
   "outputs": [
    {
     "data": {
      "text/plain": [
       "{'rules': tensor([[[0, 0, 0, 0, 0, 0, 0, 0, 0, 0, 0, 0, 0, 0, 0, 1, 0, 0, 0, 0],\n",
       "          [0, 0, 0, 0, 1, 0, 0, 0, 0, 0, 1, 0, 0, 0, 0, 0, 0, 0, 1, 0],\n",
       "          [0, 0, 0, 0, 0, 1, 0, 0, 0, 0, 0, 0, 0, 0, 1, 0, 0, 1, 0, 0],\n",
       "          [0, 0, 1, 1, 0, 0, 0, 0, 0, 0, 0, 0, 0, 0, 0, 0, 0, 0, 0, 0],\n",
       "          [0, 0, 0, 0, 0, 0, 0, 0, 1, 0, 0, 0, 1, 0, 0, 0, 1, 0, 0, 0],\n",
       "          [0, 0, 0, 0, 0, 0, 0, 0, 0, 0, 0, 0, 0, 0, 0, 0, 0, 0, 0, 0],\n",
       "          [0, 0, 0, 1, 0, 1, 1, 1, 1, 0, 0, 0, 1, 0, 0, 0, 0, 0, 0, 0],\n",
       "          [0, 0, 0, 0, 0, 0, 0, 0, 0, 0, 0, 0, 0, 0, 0, 0, 0, 0, 0, 1],\n",
       "          [0, 0, 0, 1, 0, 1, 0, 0, 0, 0, 0, 1, 0, 0, 0, 0, 0, 0, 0, 0],\n",
       "          [0, 0, 0, 0, 0, 0, 0, 0, 0, 0, 0, 1, 0, 0, 0, 0, 1, 0, 0, 0]]]),\n",
       " 'theorem': tensor([[1., 1., 1., 1., 1., 1., 1., 1., 1., 1.]]),\n",
       " 'qed': tensor([0]),\n",
       " 'states': tensor([[[0, 1, 0, 0, 0, 1, 1, 0, 0, 1],\n",
       "          [0, 1, 0, 0, 1, 1, 1, 1, 0, 1],\n",
       "          [1, 1, 0, 0, 1, 1, 1, 1, 1, 1],\n",
       "          [1, 1, 1, 0, 1, 1, 1, 1, 1, 1],\n",
       "          [1, 1, 1, 0, 1, 1, 1, 1, 1, 1],\n",
       "          [1, 1, 1, 0, 1, 1, 1, 1, 1, 1],\n",
       "          [1, 1, 1, 0, 1, 1, 1, 1, 1, 1],\n",
       "          [1, 1, 1, 0, 1, 1, 1, 1, 1, 1],\n",
       "          [1, 1, 1, 0, 1, 1, 1, 1, 1, 1],\n",
       "          [1, 1, 1, 0, 1, 1, 1, 1, 1, 1]]]),\n",
       " 'hits': tensor([[[1, 0, 0, 0, 0, 1, 0, 1, 0, 1],\n",
       "          [1, 0, 1, 0, 0, 1, 0, 1, 0, 1],\n",
       "          [1, 1, 1, 0, 0, 1, 0, 1, 0, 1],\n",
       "          [1, 1, 1, 0, 1, 1, 0, 1, 0, 1],\n",
       "          [1, 1, 1, 0, 1, 1, 0, 1, 0, 1],\n",
       "          [1, 1, 1, 0, 1, 1, 0, 1, 0, 1],\n",
       "          [1, 1, 1, 0, 1, 1, 0, 1, 0, 1],\n",
       "          [1, 1, 1, 0, 1, 1, 0, 1, 0, 1],\n",
       "          [1, 1, 1, 0, 1, 1, 0, 1, 0, 1],\n",
       "          [1, 1, 1, 0, 1, 1, 0, 1, 0, 1]]]),\n",
       " 'chain_len': tensor([4])}"
      ]
     },
     "execution_count": 24,
     "metadata": {},
     "output_type": "execute_result"
    }
   ],
   "source": [
    "qed = prove_theorem(rulesA[None,...], torch.ones(1,n))\n",
    "qed"
   ]
  },
  {
   "cell_type": "code",
   "execution_count": 25,
   "id": "11b6959f-94b3-4e39-80f7-97da2aba9030",
   "metadata": {},
   "outputs": [],
   "source": [
    "n, r, ap, bp, cl = 10, 10, 0.2, 0.2, 4"
   ]
  },
  {
   "cell_type": "code",
   "execution_count": 26,
   "id": "3f339ef0-42dd-4325-8088-f94b97ded3e6",
   "metadata": {},
   "outputs": [
    {
     "name": "stderr",
     "output_type": "stream",
     "text": [
      "  2%|▏         | 248/10000 [00:01<00:58, 166.68it/s]\n"
     ]
    }
   ],
   "source": [
    "torch.manual_seed(1234)\n",
    "pbar = tqdm(range(10000))\n",
    "for i in pbar:\n",
    "    # dictA = random_rules_with_chain(\n",
    "    #     num_rules = r,\n",
    "    #     num_vars = n,\n",
    "    #     ante_prob = ap,\n",
    "    #     conseq_prob = bp,\n",
    "    #     chain_len = cl,\n",
    "    #     num_fillers = 0,\n",
    "    #     return_dict = True)\n",
    "    # rulesA = dictA[\"rules\"]\n",
    "\n",
    "    rulesA = (torch.rand(r,2*n) < 0.4).long()\n",
    "\n",
    "    # s0 = rulesA[0:1,0:n]\n",
    "    s0 = torch.zeros(1,n)\n",
    "    # s0 = torch.randint(0,2,(1,n))\n",
    "    rulesComp1 = compose(compose(rulesA, rulesA), compose(rulesA, rulesA))\n",
    "    rulesComp2 = compose(compose(compose(rulesA, rulesA), rulesA), rulesA)\n",
    "    \n",
    "    sc1, _ = step_rules(rulesComp1[None,...], s0)\n",
    "    sc2, _ = step_rules(rulesComp2[None,...], s0)\n",
    "    sa4 = kstep_rules(rulesA[None,...], s0, num_steps=4)\n",
    "    \n",
    "    sc_diff = (sc1 - sc2).abs().sum()\n",
    "    # if sc_diff > 0:\n",
    "    #     break\n",
    "\n",
    "    sa_diff = (sc1 - sa4).abs().sum()\n",
    "    if sa_diff > 0:\n",
    "        break\n",
    "\n",
    "    # rc_diff = (rulesComp1 - rulesComp2).abs().sum()\n",
    "    # if rc_diff > 0:\n",
    "        # break"
   ]
  },
  {
   "cell_type": "code",
   "execution_count": null,
   "id": "a6b87bd8-59c2-4b5d-b561-97375672a236",
   "metadata": {},
   "outputs": [],
   "source": []
  },
  {
   "cell_type": "code",
   "execution_count": null,
   "id": "b582fec9-5aea-4663-a8d4-33ed2c0c4fce",
   "metadata": {},
   "outputs": [],
   "source": [
    "rulesA"
   ]
  },
  {
   "cell_type": "code",
   "execution_count": null,
   "id": "97eb9c02-068d-4cfd-83bd-302c7c0242af",
   "metadata": {},
   "outputs": [],
   "source": [
    "compose(rulesA, rulesA)"
   ]
  },
  {
   "cell_type": "code",
   "execution_count": null,
   "id": "0afba25e-fb97-457c-9a56-7759d65cda51",
   "metadata": {},
   "outputs": [],
   "source": [
    "step_rules(rulesA[None,...], torch.tensor([[0,0,0,1,1]]))"
   ]
  },
  {
   "cell_type": "code",
   "execution_count": null,
   "id": "ac4b8384-bce2-4257-a218-c7519cfd518b",
   "metadata": {},
   "outputs": [],
   "source": [
    "rulesComp1"
   ]
  },
  {
   "cell_type": "code",
   "execution_count": null,
   "id": "2d27d444-4d29-4503-8488-2f535a09faa6",
   "metadata": {},
   "outputs": [],
   "source": [
    "sc1, sa4"
   ]
  },
  {
   "cell_type": "code",
   "execution_count": null,
   "id": "17c9c098-fc82-45bd-b3b2-53efabac4f1b",
   "metadata": {},
   "outputs": [],
   "source": []
  },
  {
   "cell_type": "code",
   "execution_count": null,
   "id": "e176cd42-eae4-4c9c-8409-41899fb153ff",
   "metadata": {},
   "outputs": [],
   "source": []
  },
  {
   "cell_type": "code",
   "execution_count": null,
   "id": "30f8a97f-31dd-486f-a2df-80da0ecbde65",
   "metadata": {},
   "outputs": [],
   "source": []
  },
  {
   "cell_type": "code",
   "execution_count": null,
   "id": "b64d3080-b227-4cb2-a500-976c048a1b8f",
   "metadata": {},
   "outputs": [],
   "source": [
    "qed = prove_theorem(rulesA[None,...], torch.ones(1,n))\n",
    "qed"
   ]
  },
  {
   "cell_type": "code",
   "execution_count": null,
   "id": "43741895-bfa8-44e5-be40-be06e047b97f",
   "metadata": {},
   "outputs": [],
   "source": [
    "# rulesT = torch.tensor([\n",
    "#     [1,0,0,0,0, 0,0,0,1,0],\n",
    "#     [0,1,0,0,0, 1,0,1,0,0],\n",
    "#     [0,0,0,0,0, 0,1,0,0,0],\n",
    "#     [0,0,1,1,0, 0,0,0,0,1]\n",
    "# ])\n",
    "\n",
    "rulesT = torch.tensor([\n",
    "    [0,0,0,0,0, 1,0,0,0,0],\n",
    "    [1,0,0,0,0, 0,1,1,0,0],\n",
    "    [0,1,0,0,0, 0,0,0,1,0],\n",
    "    [0,0,1,1,0, 0,0,0,0,1]\n",
    "])"
   ]
  },
  {
   "cell_type": "code",
   "execution_count": null,
   "id": "da79dc9f-f6eb-4f02-abba-1b156227d3be",
   "metadata": {},
   "outputs": [],
   "source": [
    "rulesTC = compose(compose(rulesT, rulesT), compose(rulesT, rulesT))\n",
    "stc, _ = step_rules(rulesTC[None,...], torch.zeros(1,5))\n",
    "st4 = kstep_rules(rulesTC[None,...], torch.zeros(1,5), num_steps=4)"
   ]
  },
  {
   "cell_type": "code",
   "execution_count": null,
   "id": "f942edb8-00d4-4ed3-be89-6637f78bddc3",
   "metadata": {},
   "outputs": [],
   "source": [
    "stc, st4"
   ]
  },
  {
   "cell_type": "code",
   "execution_count": null,
   "id": "eff14dcd-afd4-43ad-a26d-311137aa9ac7",
   "metadata": {},
   "outputs": [],
   "source": []
  },
  {
   "cell_type": "code",
   "execution_count": null,
   "id": "faa14b57-7fb0-492d-826a-f7bcbd25d7c4",
   "metadata": {},
   "outputs": [],
   "source": [
    "stc"
   ]
  },
  {
   "cell_type": "code",
   "execution_count": null,
   "id": "059d9f60-81a9-44d6-82ab-b1fd3da9d64e",
   "metadata": {},
   "outputs": [],
   "source": []
  }
 ],
 "metadata": {
  "kernelspec": {
   "display_name": "Python 3 (ipykernel)",
   "language": "python",
   "name": "python3"
  },
  "language_info": {
   "codemirror_mode": {
    "name": "ipython",
    "version": 3
   },
   "file_extension": ".py",
   "mimetype": "text/x-python",
   "name": "python",
   "nbconvert_exporter": "python",
   "pygments_lexer": "ipython3",
   "version": "3.10.13"
  }
 },
 "nbformat": 4,
 "nbformat_minor": 5
}
